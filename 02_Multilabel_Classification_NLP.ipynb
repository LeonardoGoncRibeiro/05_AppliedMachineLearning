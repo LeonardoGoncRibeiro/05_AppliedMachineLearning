{
  "nbformat": 4,
  "nbformat_minor": 0,
  "metadata": {
    "colab": {
      "name": "02_Multilabel_Classification_NLP.ipynb",
      "provenance": [],
      "collapsed_sections": [],
      "toc_visible": true,
      "authorship_tag": "ABX9TyOro99NkAp2UUtfywU5qU3O",
      "include_colab_link": true
    },
    "kernelspec": {
      "name": "python3",
      "display_name": "Python 3"
    },
    "language_info": {
      "name": "python"
    }
  },
  "cells": [
    {
      "cell_type": "markdown",
      "metadata": {
        "id": "view-in-github",
        "colab_type": "text"
      },
      "source": [
        "<a href=\"https://colab.research.google.com/github/LeonardoGoncRibeiro/05_AppliedMachineLearning/blob/main/02_Multilabel_Classification_NLP.ipynb\" target=\"_parent\"><img src=\"https://colab.research.google.com/assets/colab-badge.svg\" alt=\"Open In Colab\"/></a>"
      ]
    },
    {
      "cell_type": "markdown",
      "source": [
        "# Text multilabel classification: Multiple contexts in NLP\n",
        "\n",
        "In this course, we will understand what is multilabel classification, and understand the difference from a multiclass classification. Then, we will apply multilabel classification to classify tags from posts on Stack Overflow. Also, we will see how to evaluate our classification."
      ],
      "metadata": {
        "id": "G1inS5cIziq5"
      }
    },
    {
      "cell_type": "markdown",
      "source": [
        "*In this course, we will use a different version of sci-kit learn. This is necessary to run the MLkNN algorithm:*"
      ],
      "metadata": {
        "id": "NGd1-cYCokJL"
      }
    },
    {
      "cell_type": "code",
      "source": [
        "!pip uninstall scikit-learn -y\n",
        "!pip install scikit-learn==0.24.1"
      ],
      "metadata": {
        "colab": {
          "base_uri": "https://localhost:8080/"
        },
        "id": "whkoluTkormU",
        "outputId": "dee414db-f6ae-4094-a318-96715f459c95"
      },
      "execution_count": 1,
      "outputs": [
        {
          "output_type": "stream",
          "name": "stdout",
          "text": [
            "Found existing installation: scikit-learn 0.24.1\n",
            "Uninstalling scikit-learn-0.24.1:\n",
            "  Successfully uninstalled scikit-learn-0.24.1\n",
            "Looking in indexes: https://pypi.org/simple, https://us-python.pkg.dev/colab-wheels/public/simple/\n",
            "Collecting scikit-learn==0.24.1\n",
            "  Using cached scikit_learn-0.24.1-cp37-cp37m-manylinux2010_x86_64.whl (22.3 MB)\n",
            "Requirement already satisfied: joblib>=0.11 in /usr/local/lib/python3.7/dist-packages (from scikit-learn==0.24.1) (1.1.0)\n",
            "Requirement already satisfied: threadpoolctl>=2.0.0 in /usr/local/lib/python3.7/dist-packages (from scikit-learn==0.24.1) (3.1.0)\n",
            "Requirement already satisfied: numpy>=1.13.3 in /usr/local/lib/python3.7/dist-packages (from scikit-learn==0.24.1) (1.21.6)\n",
            "Requirement already satisfied: scipy>=0.19.1 in /usr/local/lib/python3.7/dist-packages (from scikit-learn==0.24.1) (1.4.1)\n",
            "Installing collected packages: scikit-learn\n",
            "\u001b[31mERROR: pip's dependency resolver does not currently take into account all the packages that are installed. This behaviour is the source of the following dependency conflicts.\n",
            "yellowbrick 1.4 requires scikit-learn>=1.0.0, but you have scikit-learn 0.24.1 which is incompatible.\u001b[0m\n",
            "Successfully installed scikit-learn-0.24.1\n"
          ]
        }
      ]
    },
    {
      "cell_type": "markdown",
      "source": [
        "## Types of classification\n",
        "\n",
        "*   Binary: When we want to classify if something is (1) or is not (0) something. For instance, if we have a movie, we want to classify if it is a comedy (1) or not (0).\n",
        "*   Multiclass: When we have multiple classes. For instance, if we have a movie, we want to classify if it is a Drama, Comedy, Action...\n",
        "*   Multilabel: When our entry can have multiple classes at the same time. For instance, we can classify Star Wars as Action and Adventure.\n",
        "\n",
        "In this course, we will learn more about multilabel classification. To that end, we will work with multilabel classification of posts from Stack Overflow. Basically, depending on the post contents, we will classify our post (javascript, html, jquery, angular, python, and others). \n",
        "\n"
      ],
      "metadata": {
        "id": "l7mBvKFQ0CN7"
      }
    },
    {
      "cell_type": "markdown",
      "source": [
        "## Understanding and manipulating our dataset\n",
        "\n",
        "So, our dataset will be made of different posts, each with their own tags."
      ],
      "metadata": {
        "id": "QMtyVQLCC6gU"
      }
    },
    {
      "cell_type": "code",
      "execution_count": 2,
      "metadata": {
        "id": "tPsJhtn7zcVA"
      },
      "outputs": [],
      "source": [
        "import pandas as pd\n",
        "\n",
        "dataset = pd.read_csv('https://raw.githubusercontent.com/alura-cursos/alura_classificacao_multilabel/master/dataset/stackoverflow_perguntas.csv')"
      ]
    },
    {
      "cell_type": "code",
      "source": [
        "dataset"
      ],
      "metadata": {
        "colab": {
          "base_uri": "https://localhost:8080/",
          "height": 424
        },
        "id": "tJTFCOAI1jWo",
        "outputId": "e7e8cf32-9c0b-4e93-ba6f-e54d81e99aa9"
      },
      "execution_count": 3,
      "outputs": [
        {
          "output_type": "execute_result",
          "data": {
            "text/plain": [
              "                                              Perguntas           Tags\n",
              "0     Possuo um projeto Node.js porém preciso criar ...        node.js\n",
              "1     Gostaria de fazer testes unitários no Node.js,...        node.js\n",
              "2     Como inverter a ordem com que o jQuery itera u...         jquery\n",
              "3     Eu tenho uma página onde pretendo utilizar um ...           html\n",
              "4     Como exibir os dados retornados do FireStore e...  html angular \n",
              "...                                                 ...            ...\n",
              "5403  Queria saber como pegar o total de cores de um...   jquery html \n",
              "5404  Boa noite, estou usando phonegap para fazer um...          html \n",
              "5405  Estou construindo um mini fórum, e nele, os us...    jquery html\n",
              "5406  Boa tarde,  Estou para desenvolver um site na ...           html\n",
              "5407  Estou fazendo um hotsite, ele é one page, e é ...    jquery html\n",
              "\n",
              "[5408 rows x 2 columns]"
            ],
            "text/html": [
              "\n",
              "  <div id=\"df-fe7fb32a-2fcb-451d-bdbf-f2e4db7a652d\">\n",
              "    <div class=\"colab-df-container\">\n",
              "      <div>\n",
              "<style scoped>\n",
              "    .dataframe tbody tr th:only-of-type {\n",
              "        vertical-align: middle;\n",
              "    }\n",
              "\n",
              "    .dataframe tbody tr th {\n",
              "        vertical-align: top;\n",
              "    }\n",
              "\n",
              "    .dataframe thead th {\n",
              "        text-align: right;\n",
              "    }\n",
              "</style>\n",
              "<table border=\"1\" class=\"dataframe\">\n",
              "  <thead>\n",
              "    <tr style=\"text-align: right;\">\n",
              "      <th></th>\n",
              "      <th>Perguntas</th>\n",
              "      <th>Tags</th>\n",
              "    </tr>\n",
              "  </thead>\n",
              "  <tbody>\n",
              "    <tr>\n",
              "      <th>0</th>\n",
              "      <td>Possuo um projeto Node.js porém preciso criar ...</td>\n",
              "      <td>node.js</td>\n",
              "    </tr>\n",
              "    <tr>\n",
              "      <th>1</th>\n",
              "      <td>Gostaria de fazer testes unitários no Node.js,...</td>\n",
              "      <td>node.js</td>\n",
              "    </tr>\n",
              "    <tr>\n",
              "      <th>2</th>\n",
              "      <td>Como inverter a ordem com que o jQuery itera u...</td>\n",
              "      <td>jquery</td>\n",
              "    </tr>\n",
              "    <tr>\n",
              "      <th>3</th>\n",
              "      <td>Eu tenho uma página onde pretendo utilizar um ...</td>\n",
              "      <td>html</td>\n",
              "    </tr>\n",
              "    <tr>\n",
              "      <th>4</th>\n",
              "      <td>Como exibir os dados retornados do FireStore e...</td>\n",
              "      <td>html angular</td>\n",
              "    </tr>\n",
              "    <tr>\n",
              "      <th>...</th>\n",
              "      <td>...</td>\n",
              "      <td>...</td>\n",
              "    </tr>\n",
              "    <tr>\n",
              "      <th>5403</th>\n",
              "      <td>Queria saber como pegar o total de cores de um...</td>\n",
              "      <td>jquery html</td>\n",
              "    </tr>\n",
              "    <tr>\n",
              "      <th>5404</th>\n",
              "      <td>Boa noite, estou usando phonegap para fazer um...</td>\n",
              "      <td>html</td>\n",
              "    </tr>\n",
              "    <tr>\n",
              "      <th>5405</th>\n",
              "      <td>Estou construindo um mini fórum, e nele, os us...</td>\n",
              "      <td>jquery html</td>\n",
              "    </tr>\n",
              "    <tr>\n",
              "      <th>5406</th>\n",
              "      <td>Boa tarde,  Estou para desenvolver um site na ...</td>\n",
              "      <td>html</td>\n",
              "    </tr>\n",
              "    <tr>\n",
              "      <th>5407</th>\n",
              "      <td>Estou fazendo um hotsite, ele é one page, e é ...</td>\n",
              "      <td>jquery html</td>\n",
              "    </tr>\n",
              "  </tbody>\n",
              "</table>\n",
              "<p>5408 rows × 2 columns</p>\n",
              "</div>\n",
              "      <button class=\"colab-df-convert\" onclick=\"convertToInteractive('df-fe7fb32a-2fcb-451d-bdbf-f2e4db7a652d')\"\n",
              "              title=\"Convert this dataframe to an interactive table.\"\n",
              "              style=\"display:none;\">\n",
              "        \n",
              "  <svg xmlns=\"http://www.w3.org/2000/svg\" height=\"24px\"viewBox=\"0 0 24 24\"\n",
              "       width=\"24px\">\n",
              "    <path d=\"M0 0h24v24H0V0z\" fill=\"none\"/>\n",
              "    <path d=\"M18.56 5.44l.94 2.06.94-2.06 2.06-.94-2.06-.94-.94-2.06-.94 2.06-2.06.94zm-11 1L8.5 8.5l.94-2.06 2.06-.94-2.06-.94L8.5 2.5l-.94 2.06-2.06.94zm10 10l.94 2.06.94-2.06 2.06-.94-2.06-.94-.94-2.06-.94 2.06-2.06.94z\"/><path d=\"M17.41 7.96l-1.37-1.37c-.4-.4-.92-.59-1.43-.59-.52 0-1.04.2-1.43.59L10.3 9.45l-7.72 7.72c-.78.78-.78 2.05 0 2.83L4 21.41c.39.39.9.59 1.41.59.51 0 1.02-.2 1.41-.59l7.78-7.78 2.81-2.81c.8-.78.8-2.07 0-2.86zM5.41 20L4 18.59l7.72-7.72 1.47 1.35L5.41 20z\"/>\n",
              "  </svg>\n",
              "      </button>\n",
              "      \n",
              "  <style>\n",
              "    .colab-df-container {\n",
              "      display:flex;\n",
              "      flex-wrap:wrap;\n",
              "      gap: 12px;\n",
              "    }\n",
              "\n",
              "    .colab-df-convert {\n",
              "      background-color: #E8F0FE;\n",
              "      border: none;\n",
              "      border-radius: 50%;\n",
              "      cursor: pointer;\n",
              "      display: none;\n",
              "      fill: #1967D2;\n",
              "      height: 32px;\n",
              "      padding: 0 0 0 0;\n",
              "      width: 32px;\n",
              "    }\n",
              "\n",
              "    .colab-df-convert:hover {\n",
              "      background-color: #E2EBFA;\n",
              "      box-shadow: 0px 1px 2px rgba(60, 64, 67, 0.3), 0px 1px 3px 1px rgba(60, 64, 67, 0.15);\n",
              "      fill: #174EA6;\n",
              "    }\n",
              "\n",
              "    [theme=dark] .colab-df-convert {\n",
              "      background-color: #3B4455;\n",
              "      fill: #D2E3FC;\n",
              "    }\n",
              "\n",
              "    [theme=dark] .colab-df-convert:hover {\n",
              "      background-color: #434B5C;\n",
              "      box-shadow: 0px 1px 3px 1px rgba(0, 0, 0, 0.15);\n",
              "      filter: drop-shadow(0px 1px 2px rgba(0, 0, 0, 0.3));\n",
              "      fill: #FFFFFF;\n",
              "    }\n",
              "  </style>\n",
              "\n",
              "      <script>\n",
              "        const buttonEl =\n",
              "          document.querySelector('#df-fe7fb32a-2fcb-451d-bdbf-f2e4db7a652d button.colab-df-convert');\n",
              "        buttonEl.style.display =\n",
              "          google.colab.kernel.accessAllowed ? 'block' : 'none';\n",
              "\n",
              "        async function convertToInteractive(key) {\n",
              "          const element = document.querySelector('#df-fe7fb32a-2fcb-451d-bdbf-f2e4db7a652d');\n",
              "          const dataTable =\n",
              "            await google.colab.kernel.invokeFunction('convertToInteractive',\n",
              "                                                     [key], {});\n",
              "          if (!dataTable) return;\n",
              "\n",
              "          const docLinkHtml = 'Like what you see? Visit the ' +\n",
              "            '<a target=\"_blank\" href=https://colab.research.google.com/notebooks/data_table.ipynb>data table notebook</a>'\n",
              "            + ' to learn more about interactive tables.';\n",
              "          element.innerHTML = '';\n",
              "          dataTable['output_type'] = 'display_data';\n",
              "          await google.colab.output.renderOutput(dataTable, element);\n",
              "          const docLink = document.createElement('div');\n",
              "          docLink.innerHTML = docLinkHtml;\n",
              "          element.appendChild(docLink);\n",
              "        }\n",
              "      </script>\n",
              "    </div>\n",
              "  </div>\n",
              "  "
            ]
          },
          "metadata": {},
          "execution_count": 3
        }
      ]
    },
    {
      "cell_type": "markdown",
      "source": [
        "Nice! Our dataset has 5407 entries, with the post title and the tags used in each post. "
      ],
      "metadata": {
        "id": "LH8iaQ8f2K7I"
      }
    },
    {
      "cell_type": "code",
      "source": [
        "dataset.info( )"
      ],
      "metadata": {
        "colab": {
          "base_uri": "https://localhost:8080/"
        },
        "id": "TIHY1hi_1p5Z",
        "outputId": "33b72c7d-78a8-467b-a6cb-eff64b669eba"
      },
      "execution_count": 4,
      "outputs": [
        {
          "output_type": "stream",
          "name": "stdout",
          "text": [
            "<class 'pandas.core.frame.DataFrame'>\n",
            "RangeIndex: 5408 entries, 0 to 5407\n",
            "Data columns (total 2 columns):\n",
            " #   Column     Non-Null Count  Dtype \n",
            "---  ------     --------------  ----- \n",
            " 0   Perguntas  5408 non-null   object\n",
            " 1   Tags       5408 non-null   object\n",
            "dtypes: object(2)\n",
            "memory usage: 84.6+ KB\n"
          ]
        }
      ]
    },
    {
      "cell_type": "markdown",
      "source": [
        "Also, note that we have no missing value in our entire dataset. \n",
        "\n",
        "Some entries have two tags (or even three tags). For instance:"
      ],
      "metadata": {
        "id": "UIxvkaol2gAB"
      }
    },
    {
      "cell_type": "code",
      "source": [
        "dataset.loc[4]"
      ],
      "metadata": {
        "colab": {
          "base_uri": "https://localhost:8080/"
        },
        "id": "Ngqm54IM2UVH",
        "outputId": "524c27ef-2a83-4e85-9f49-466b74cfe2a5"
      },
      "execution_count": 5,
      "outputs": [
        {
          "output_type": "execute_result",
          "data": {
            "text/plain": [
              "Perguntas    Como exibir os dados retornados do FireStore e...\n",
              "Tags                                             html angular \n",
              "Name: 4, dtype: object"
            ]
          },
          "metadata": {},
          "execution_count": 5
        }
      ]
    },
    {
      "cell_type": "markdown",
      "source": [
        "This entry has tags html and angular. So, in our multilabel algorithm, we want to find multiple labels that can fit a given post. Let's see the unique tag combinations from our dataframe:"
      ],
      "metadata": {
        "id": "ykQFL28423WH"
      }
    },
    {
      "cell_type": "code",
      "source": [
        "dataset.Tags.unique( )"
      ],
      "metadata": {
        "colab": {
          "base_uri": "https://localhost:8080/"
        },
        "id": "P9wT21tI22Fi",
        "outputId": "5595b0e7-ba43-40f6-a172-d16a58783281"
      },
      "execution_count": 6,
      "outputs": [
        {
          "output_type": "execute_result",
          "data": {
            "text/plain": [
              "array(['node.js', 'jquery', 'html', 'html angular ', 'html ', 'angular',\n",
              "       'angular ', 'jquery html  ', 'jquery ', 'jquery html',\n",
              "       'jquery html ', 'html angular', 'angular node.js ', 'html  ',\n",
              "       'jquery html angular', 'node.js ', 'html jquery', 'html jquery ',\n",
              "       'jquery angular  ', 'html node.js', 'jquery  ', 'angular node.js',\n",
              "       'jquery angular', 'html node.js ', 'jquery node.js ', 'angular  ',\n",
              "       'jquery angular ', 'jquery html angular ', 'node.js html ',\n",
              "       ' node.js', 'node.js html', 'html angular  ', 'jquery node.js',\n",
              "       'angular html', 'html angular  node.js', 'jquery html node.js',\n",
              "       'html angular node.js'], dtype=object)"
            ]
          },
          "metadata": {},
          "execution_count": 6
        }
      ]
    },
    {
      "cell_type": "code",
      "source": [
        "len(dataset.Tags.unique( ))"
      ],
      "metadata": {
        "colab": {
          "base_uri": "https://localhost:8080/"
        },
        "id": "cUxcUlff7sCV",
        "outputId": "ff4e9e31-8c28-47dc-959c-47b9684913e1"
      },
      "execution_count": 7,
      "outputs": [
        {
          "output_type": "execute_result",
          "data": {
            "text/plain": [
              "37"
            ]
          },
          "metadata": {},
          "execution_count": 7
        }
      ]
    },
    {
      "cell_type": "markdown",
      "source": [
        "So, we have 37 unique tag combinations. \n",
        "\n",
        "Note that some of our tags look strange. Note that we have the tag 'html' and the tag 'html ' as different tags, due to a simple space in the end. That also occurs in other tags in our dataset. Also, we have the 'html angular' tag, which is taken as different from the 'angular html' tag. "
      ],
      "metadata": {
        "id": "kxPrwTYZ745L"
      }
    },
    {
      "cell_type": "markdown",
      "source": [
        "To get the unique tag combinations, we can use a better solution. Since we have a multilabel system, we can use a binary classification: our column tags will be split into multiple other columns, one for each single tag possible. Then, if the tag is present in the post, it receives 1, and, if not, it receives 0.\n",
        "\n",
        "For instance, if a post has the tag 'html', it will receive a 1 in column 'html', and 0 in all others. If it has the tags jquery and node.js, it will receive a 1 in columns jquery and node.js, and 0 in the others.\n",
        "\n",
        "So, we can try to make this feature transformation. Then, it becomes much easier to determine the tags present in each entry.\n",
        "\n",
        "First, let's get the single labels in our dataset:"
      ],
      "metadata": {
        "id": "ncx0Cemr8rdV"
      }
    },
    {
      "cell_type": "code",
      "source": [
        "single_labels = []\n",
        "\n",
        "for tags in dataset.Tags.unique( ):\n",
        "  for tag in tags.split( ):\n",
        "    if tag not in single_labels:\n",
        "      single_labels.append(tag)\n",
        "\n",
        "single_labels"
      ],
      "metadata": {
        "colab": {
          "base_uri": "https://localhost:8080/"
        },
        "id": "N4GpQx9V70t4",
        "outputId": "9251892b-8d51-46cf-a138-ae6cd792de54"
      },
      "execution_count": 8,
      "outputs": [
        {
          "output_type": "execute_result",
          "data": {
            "text/plain": [
              "['node.js', 'jquery', 'html', 'angular']"
            ]
          },
          "metadata": {},
          "execution_count": 8
        }
      ]
    },
    {
      "cell_type": "markdown",
      "source": [
        "Nice! So, in fact, we only have four different single labels. Now, let's update our initial dataframe with the new features:"
      ],
      "metadata": {
        "id": "L_1nGRP--uPi"
      }
    },
    {
      "cell_type": "code",
      "source": [
        "for label in single_labels:\n",
        "  dataset[label] = dataset.Tags.apply(lambda x : 1 if (label in x.split( )) else 0)"
      ],
      "metadata": {
        "id": "RgavFaM6_6du"
      },
      "execution_count": 9,
      "outputs": []
    },
    {
      "cell_type": "code",
      "source": [
        "dataset"
      ],
      "metadata": {
        "colab": {
          "base_uri": "https://localhost:8080/",
          "height": 424
        },
        "id": "WPZFzC6UAQJS",
        "outputId": "9db7f3f6-7680-4be4-ae31-782f22754a35"
      },
      "execution_count": 10,
      "outputs": [
        {
          "output_type": "execute_result",
          "data": {
            "text/plain": [
              "                                              Perguntas           Tags  \\\n",
              "0     Possuo um projeto Node.js porém preciso criar ...        node.js   \n",
              "1     Gostaria de fazer testes unitários no Node.js,...        node.js   \n",
              "2     Como inverter a ordem com que o jQuery itera u...         jquery   \n",
              "3     Eu tenho uma página onde pretendo utilizar um ...           html   \n",
              "4     Como exibir os dados retornados do FireStore e...  html angular    \n",
              "...                                                 ...            ...   \n",
              "5403  Queria saber como pegar o total de cores de um...   jquery html    \n",
              "5404  Boa noite, estou usando phonegap para fazer um...          html    \n",
              "5405  Estou construindo um mini fórum, e nele, os us...    jquery html   \n",
              "5406  Boa tarde,  Estou para desenvolver um site na ...           html   \n",
              "5407  Estou fazendo um hotsite, ele é one page, e é ...    jquery html   \n",
              "\n",
              "      node.js  jquery  html  angular  \n",
              "0           1       0     0        0  \n",
              "1           1       0     0        0  \n",
              "2           0       1     0        0  \n",
              "3           0       0     1        0  \n",
              "4           0       0     1        1  \n",
              "...       ...     ...   ...      ...  \n",
              "5403        0       1     1        0  \n",
              "5404        0       0     1        0  \n",
              "5405        0       1     1        0  \n",
              "5406        0       0     1        0  \n",
              "5407        0       1     1        0  \n",
              "\n",
              "[5408 rows x 6 columns]"
            ],
            "text/html": [
              "\n",
              "  <div id=\"df-ea6ad11b-c179-4dc4-9060-0b7b1244b1be\">\n",
              "    <div class=\"colab-df-container\">\n",
              "      <div>\n",
              "<style scoped>\n",
              "    .dataframe tbody tr th:only-of-type {\n",
              "        vertical-align: middle;\n",
              "    }\n",
              "\n",
              "    .dataframe tbody tr th {\n",
              "        vertical-align: top;\n",
              "    }\n",
              "\n",
              "    .dataframe thead th {\n",
              "        text-align: right;\n",
              "    }\n",
              "</style>\n",
              "<table border=\"1\" class=\"dataframe\">\n",
              "  <thead>\n",
              "    <tr style=\"text-align: right;\">\n",
              "      <th></th>\n",
              "      <th>Perguntas</th>\n",
              "      <th>Tags</th>\n",
              "      <th>node.js</th>\n",
              "      <th>jquery</th>\n",
              "      <th>html</th>\n",
              "      <th>angular</th>\n",
              "    </tr>\n",
              "  </thead>\n",
              "  <tbody>\n",
              "    <tr>\n",
              "      <th>0</th>\n",
              "      <td>Possuo um projeto Node.js porém preciso criar ...</td>\n",
              "      <td>node.js</td>\n",
              "      <td>1</td>\n",
              "      <td>0</td>\n",
              "      <td>0</td>\n",
              "      <td>0</td>\n",
              "    </tr>\n",
              "    <tr>\n",
              "      <th>1</th>\n",
              "      <td>Gostaria de fazer testes unitários no Node.js,...</td>\n",
              "      <td>node.js</td>\n",
              "      <td>1</td>\n",
              "      <td>0</td>\n",
              "      <td>0</td>\n",
              "      <td>0</td>\n",
              "    </tr>\n",
              "    <tr>\n",
              "      <th>2</th>\n",
              "      <td>Como inverter a ordem com que o jQuery itera u...</td>\n",
              "      <td>jquery</td>\n",
              "      <td>0</td>\n",
              "      <td>1</td>\n",
              "      <td>0</td>\n",
              "      <td>0</td>\n",
              "    </tr>\n",
              "    <tr>\n",
              "      <th>3</th>\n",
              "      <td>Eu tenho uma página onde pretendo utilizar um ...</td>\n",
              "      <td>html</td>\n",
              "      <td>0</td>\n",
              "      <td>0</td>\n",
              "      <td>1</td>\n",
              "      <td>0</td>\n",
              "    </tr>\n",
              "    <tr>\n",
              "      <th>4</th>\n",
              "      <td>Como exibir os dados retornados do FireStore e...</td>\n",
              "      <td>html angular</td>\n",
              "      <td>0</td>\n",
              "      <td>0</td>\n",
              "      <td>1</td>\n",
              "      <td>1</td>\n",
              "    </tr>\n",
              "    <tr>\n",
              "      <th>...</th>\n",
              "      <td>...</td>\n",
              "      <td>...</td>\n",
              "      <td>...</td>\n",
              "      <td>...</td>\n",
              "      <td>...</td>\n",
              "      <td>...</td>\n",
              "    </tr>\n",
              "    <tr>\n",
              "      <th>5403</th>\n",
              "      <td>Queria saber como pegar o total de cores de um...</td>\n",
              "      <td>jquery html</td>\n",
              "      <td>0</td>\n",
              "      <td>1</td>\n",
              "      <td>1</td>\n",
              "      <td>0</td>\n",
              "    </tr>\n",
              "    <tr>\n",
              "      <th>5404</th>\n",
              "      <td>Boa noite, estou usando phonegap para fazer um...</td>\n",
              "      <td>html</td>\n",
              "      <td>0</td>\n",
              "      <td>0</td>\n",
              "      <td>1</td>\n",
              "      <td>0</td>\n",
              "    </tr>\n",
              "    <tr>\n",
              "      <th>5405</th>\n",
              "      <td>Estou construindo um mini fórum, e nele, os us...</td>\n",
              "      <td>jquery html</td>\n",
              "      <td>0</td>\n",
              "      <td>1</td>\n",
              "      <td>1</td>\n",
              "      <td>0</td>\n",
              "    </tr>\n",
              "    <tr>\n",
              "      <th>5406</th>\n",
              "      <td>Boa tarde,  Estou para desenvolver um site na ...</td>\n",
              "      <td>html</td>\n",
              "      <td>0</td>\n",
              "      <td>0</td>\n",
              "      <td>1</td>\n",
              "      <td>0</td>\n",
              "    </tr>\n",
              "    <tr>\n",
              "      <th>5407</th>\n",
              "      <td>Estou fazendo um hotsite, ele é one page, e é ...</td>\n",
              "      <td>jquery html</td>\n",
              "      <td>0</td>\n",
              "      <td>1</td>\n",
              "      <td>1</td>\n",
              "      <td>0</td>\n",
              "    </tr>\n",
              "  </tbody>\n",
              "</table>\n",
              "<p>5408 rows × 6 columns</p>\n",
              "</div>\n",
              "      <button class=\"colab-df-convert\" onclick=\"convertToInteractive('df-ea6ad11b-c179-4dc4-9060-0b7b1244b1be')\"\n",
              "              title=\"Convert this dataframe to an interactive table.\"\n",
              "              style=\"display:none;\">\n",
              "        \n",
              "  <svg xmlns=\"http://www.w3.org/2000/svg\" height=\"24px\"viewBox=\"0 0 24 24\"\n",
              "       width=\"24px\">\n",
              "    <path d=\"M0 0h24v24H0V0z\" fill=\"none\"/>\n",
              "    <path d=\"M18.56 5.44l.94 2.06.94-2.06 2.06-.94-2.06-.94-.94-2.06-.94 2.06-2.06.94zm-11 1L8.5 8.5l.94-2.06 2.06-.94-2.06-.94L8.5 2.5l-.94 2.06-2.06.94zm10 10l.94 2.06.94-2.06 2.06-.94-2.06-.94-.94-2.06-.94 2.06-2.06.94z\"/><path d=\"M17.41 7.96l-1.37-1.37c-.4-.4-.92-.59-1.43-.59-.52 0-1.04.2-1.43.59L10.3 9.45l-7.72 7.72c-.78.78-.78 2.05 0 2.83L4 21.41c.39.39.9.59 1.41.59.51 0 1.02-.2 1.41-.59l7.78-7.78 2.81-2.81c.8-.78.8-2.07 0-2.86zM5.41 20L4 18.59l7.72-7.72 1.47 1.35L5.41 20z\"/>\n",
              "  </svg>\n",
              "      </button>\n",
              "      \n",
              "  <style>\n",
              "    .colab-df-container {\n",
              "      display:flex;\n",
              "      flex-wrap:wrap;\n",
              "      gap: 12px;\n",
              "    }\n",
              "\n",
              "    .colab-df-convert {\n",
              "      background-color: #E8F0FE;\n",
              "      border: none;\n",
              "      border-radius: 50%;\n",
              "      cursor: pointer;\n",
              "      display: none;\n",
              "      fill: #1967D2;\n",
              "      height: 32px;\n",
              "      padding: 0 0 0 0;\n",
              "      width: 32px;\n",
              "    }\n",
              "\n",
              "    .colab-df-convert:hover {\n",
              "      background-color: #E2EBFA;\n",
              "      box-shadow: 0px 1px 2px rgba(60, 64, 67, 0.3), 0px 1px 3px 1px rgba(60, 64, 67, 0.15);\n",
              "      fill: #174EA6;\n",
              "    }\n",
              "\n",
              "    [theme=dark] .colab-df-convert {\n",
              "      background-color: #3B4455;\n",
              "      fill: #D2E3FC;\n",
              "    }\n",
              "\n",
              "    [theme=dark] .colab-df-convert:hover {\n",
              "      background-color: #434B5C;\n",
              "      box-shadow: 0px 1px 3px 1px rgba(0, 0, 0, 0.15);\n",
              "      filter: drop-shadow(0px 1px 2px rgba(0, 0, 0, 0.3));\n",
              "      fill: #FFFFFF;\n",
              "    }\n",
              "  </style>\n",
              "\n",
              "      <script>\n",
              "        const buttonEl =\n",
              "          document.querySelector('#df-ea6ad11b-c179-4dc4-9060-0b7b1244b1be button.colab-df-convert');\n",
              "        buttonEl.style.display =\n",
              "          google.colab.kernel.accessAllowed ? 'block' : 'none';\n",
              "\n",
              "        async function convertToInteractive(key) {\n",
              "          const element = document.querySelector('#df-ea6ad11b-c179-4dc4-9060-0b7b1244b1be');\n",
              "          const dataTable =\n",
              "            await google.colab.kernel.invokeFunction('convertToInteractive',\n",
              "                                                     [key], {});\n",
              "          if (!dataTable) return;\n",
              "\n",
              "          const docLinkHtml = 'Like what you see? Visit the ' +\n",
              "            '<a target=\"_blank\" href=https://colab.research.google.com/notebooks/data_table.ipynb>data table notebook</a>'\n",
              "            + ' to learn more about interactive tables.';\n",
              "          element.innerHTML = '';\n",
              "          dataTable['output_type'] = 'display_data';\n",
              "          await google.colab.output.renderOutput(dataTable, element);\n",
              "          const docLink = document.createElement('div');\n",
              "          docLink.innerHTML = docLinkHtml;\n",
              "          element.appendChild(docLink);\n",
              "        }\n",
              "      </script>\n",
              "    </div>\n",
              "  </div>\n",
              "  "
            ]
          },
          "metadata": {},
          "execution_count": 10
        }
      ]
    },
    {
      "cell_type": "markdown",
      "source": [
        "Nice! Everything seems to be working out. Also, we can make a simple visual check in our dataset and see that them columns were defined correctly.\n",
        "\n"
      ],
      "metadata": {
        "id": "zjT_aYGaAp7y"
      }
    },
    {
      "cell_type": "markdown",
      "source": [
        "Let's get a sum of these columns, just to understand how many entries have each label:"
      ],
      "metadata": {
        "id": "8fq_4q-ZHOBb"
      }
    },
    {
      "cell_type": "code",
      "source": [
        "dataset[single_labels].sum( )"
      ],
      "metadata": {
        "colab": {
          "base_uri": "https://localhost:8080/"
        },
        "id": "V-uJ4uwzHT6y",
        "outputId": "f913791a-1ba0-4c2c-b385-c98e68cead85"
      },
      "execution_count": 11,
      "outputs": [
        {
          "output_type": "execute_result",
          "data": {
            "text/plain": [
              "node.js     641\n",
              "jquery     2444\n",
              "html       2345\n",
              "angular     929\n",
              "dtype: int64"
            ]
          },
          "metadata": {},
          "execution_count": 11
        }
      ]
    },
    {
      "cell_type": "markdown",
      "source": [
        "So, let's try to understando a little more about our problem. We will receive the post, in column 'Perguntas', and we have to assign some labels for it. Thus, we have multiple possible targets for our post. Thus, our model should be able to define more than one target. "
      ],
      "metadata": {
        "id": "9UWza5_JHNX7"
      }
    },
    {
      "cell_type": "markdown",
      "source": [
        "# Train-test splits\n",
        "\n",
        "To create our train-test splits, we have to define:\n",
        "\n",
        "* Train dataset, which will be used to train our model.\n",
        "* Test dataset, which will be used to evaluate (test) our model\n",
        "\n",
        "Also, we have to keep in mind that we need to separate our features in:\n",
        "\n",
        "* Independent features ($X$)\n",
        "* Dependent features, or targets ($Y$)\n",
        "\n",
        "We can perform our split using the train_test_split function:\n"
      ],
      "metadata": {
        "id": "ff8vzorWC-Ne"
      }
    },
    {
      "cell_type": "code",
      "source": [
        "from sklearn.model_selection import train_test_split\n",
        "\n",
        "X = dataset.Perguntas\n",
        "Y = dataset[single_labels]\n",
        "\n",
        "X_train, X_test, Y_train, Y_test = train_test_split( X, Y )"
      ],
      "metadata": {
        "id": "ZuTJoIJfAlN5"
      },
      "execution_count": 12,
      "outputs": []
    },
    {
      "cell_type": "markdown",
      "source": [
        "Note that, here, we considered that the independent features are the posts, and the dependent features are the columns related to the tags binary classification:"
      ],
      "metadata": {
        "id": "57aWogCzG6nD"
      }
    },
    {
      "cell_type": "code",
      "source": [
        "X"
      ],
      "metadata": {
        "colab": {
          "base_uri": "https://localhost:8080/"
        },
        "id": "YbrxqAsAG3Y7",
        "outputId": "18af3b41-fe34-4fab-ffda-6fded6ef73a1"
      },
      "execution_count": 13,
      "outputs": [
        {
          "output_type": "execute_result",
          "data": {
            "text/plain": [
              "0       Possuo um projeto Node.js porém preciso criar ...\n",
              "1       Gostaria de fazer testes unitários no Node.js,...\n",
              "2       Como inverter a ordem com que o jQuery itera u...\n",
              "3       Eu tenho uma página onde pretendo utilizar um ...\n",
              "4       Como exibir os dados retornados do FireStore e...\n",
              "                              ...                        \n",
              "5403    Queria saber como pegar o total de cores de um...\n",
              "5404    Boa noite, estou usando phonegap para fazer um...\n",
              "5405    Estou construindo um mini fórum, e nele, os us...\n",
              "5406    Boa tarde,  Estou para desenvolver um site na ...\n",
              "5407    Estou fazendo um hotsite, ele é one page, e é ...\n",
              "Name: Perguntas, Length: 5408, dtype: object"
            ]
          },
          "metadata": {},
          "execution_count": 13
        }
      ]
    },
    {
      "cell_type": "code",
      "source": [
        "Y"
      ],
      "metadata": {
        "colab": {
          "base_uri": "https://localhost:8080/",
          "height": 424
        },
        "id": "kwjBEgMjHDPh",
        "outputId": "da823bf9-27f9-43a7-bd7b-774c351db5f9"
      },
      "execution_count": 14,
      "outputs": [
        {
          "output_type": "execute_result",
          "data": {
            "text/plain": [
              "      node.js  jquery  html  angular\n",
              "0           1       0     0        0\n",
              "1           1       0     0        0\n",
              "2           0       1     0        0\n",
              "3           0       0     1        0\n",
              "4           0       0     1        1\n",
              "...       ...     ...   ...      ...\n",
              "5403        0       1     1        0\n",
              "5404        0       0     1        0\n",
              "5405        0       1     1        0\n",
              "5406        0       0     1        0\n",
              "5407        0       1     1        0\n",
              "\n",
              "[5408 rows x 4 columns]"
            ],
            "text/html": [
              "\n",
              "  <div id=\"df-518c2557-663b-4c94-a697-253993d6d6eb\">\n",
              "    <div class=\"colab-df-container\">\n",
              "      <div>\n",
              "<style scoped>\n",
              "    .dataframe tbody tr th:only-of-type {\n",
              "        vertical-align: middle;\n",
              "    }\n",
              "\n",
              "    .dataframe tbody tr th {\n",
              "        vertical-align: top;\n",
              "    }\n",
              "\n",
              "    .dataframe thead th {\n",
              "        text-align: right;\n",
              "    }\n",
              "</style>\n",
              "<table border=\"1\" class=\"dataframe\">\n",
              "  <thead>\n",
              "    <tr style=\"text-align: right;\">\n",
              "      <th></th>\n",
              "      <th>node.js</th>\n",
              "      <th>jquery</th>\n",
              "      <th>html</th>\n",
              "      <th>angular</th>\n",
              "    </tr>\n",
              "  </thead>\n",
              "  <tbody>\n",
              "    <tr>\n",
              "      <th>0</th>\n",
              "      <td>1</td>\n",
              "      <td>0</td>\n",
              "      <td>0</td>\n",
              "      <td>0</td>\n",
              "    </tr>\n",
              "    <tr>\n",
              "      <th>1</th>\n",
              "      <td>1</td>\n",
              "      <td>0</td>\n",
              "      <td>0</td>\n",
              "      <td>0</td>\n",
              "    </tr>\n",
              "    <tr>\n",
              "      <th>2</th>\n",
              "      <td>0</td>\n",
              "      <td>1</td>\n",
              "      <td>0</td>\n",
              "      <td>0</td>\n",
              "    </tr>\n",
              "    <tr>\n",
              "      <th>3</th>\n",
              "      <td>0</td>\n",
              "      <td>0</td>\n",
              "      <td>1</td>\n",
              "      <td>0</td>\n",
              "    </tr>\n",
              "    <tr>\n",
              "      <th>4</th>\n",
              "      <td>0</td>\n",
              "      <td>0</td>\n",
              "      <td>1</td>\n",
              "      <td>1</td>\n",
              "    </tr>\n",
              "    <tr>\n",
              "      <th>...</th>\n",
              "      <td>...</td>\n",
              "      <td>...</td>\n",
              "      <td>...</td>\n",
              "      <td>...</td>\n",
              "    </tr>\n",
              "    <tr>\n",
              "      <th>5403</th>\n",
              "      <td>0</td>\n",
              "      <td>1</td>\n",
              "      <td>1</td>\n",
              "      <td>0</td>\n",
              "    </tr>\n",
              "    <tr>\n",
              "      <th>5404</th>\n",
              "      <td>0</td>\n",
              "      <td>0</td>\n",
              "      <td>1</td>\n",
              "      <td>0</td>\n",
              "    </tr>\n",
              "    <tr>\n",
              "      <th>5405</th>\n",
              "      <td>0</td>\n",
              "      <td>1</td>\n",
              "      <td>1</td>\n",
              "      <td>0</td>\n",
              "    </tr>\n",
              "    <tr>\n",
              "      <th>5406</th>\n",
              "      <td>0</td>\n",
              "      <td>0</td>\n",
              "      <td>1</td>\n",
              "      <td>0</td>\n",
              "    </tr>\n",
              "    <tr>\n",
              "      <th>5407</th>\n",
              "      <td>0</td>\n",
              "      <td>1</td>\n",
              "      <td>1</td>\n",
              "      <td>0</td>\n",
              "    </tr>\n",
              "  </tbody>\n",
              "</table>\n",
              "<p>5408 rows × 4 columns</p>\n",
              "</div>\n",
              "      <button class=\"colab-df-convert\" onclick=\"convertToInteractive('df-518c2557-663b-4c94-a697-253993d6d6eb')\"\n",
              "              title=\"Convert this dataframe to an interactive table.\"\n",
              "              style=\"display:none;\">\n",
              "        \n",
              "  <svg xmlns=\"http://www.w3.org/2000/svg\" height=\"24px\"viewBox=\"0 0 24 24\"\n",
              "       width=\"24px\">\n",
              "    <path d=\"M0 0h24v24H0V0z\" fill=\"none\"/>\n",
              "    <path d=\"M18.56 5.44l.94 2.06.94-2.06 2.06-.94-2.06-.94-.94-2.06-.94 2.06-2.06.94zm-11 1L8.5 8.5l.94-2.06 2.06-.94-2.06-.94L8.5 2.5l-.94 2.06-2.06.94zm10 10l.94 2.06.94-2.06 2.06-.94-2.06-.94-.94-2.06-.94 2.06-2.06.94z\"/><path d=\"M17.41 7.96l-1.37-1.37c-.4-.4-.92-.59-1.43-.59-.52 0-1.04.2-1.43.59L10.3 9.45l-7.72 7.72c-.78.78-.78 2.05 0 2.83L4 21.41c.39.39.9.59 1.41.59.51 0 1.02-.2 1.41-.59l7.78-7.78 2.81-2.81c.8-.78.8-2.07 0-2.86zM5.41 20L4 18.59l7.72-7.72 1.47 1.35L5.41 20z\"/>\n",
              "  </svg>\n",
              "      </button>\n",
              "      \n",
              "  <style>\n",
              "    .colab-df-container {\n",
              "      display:flex;\n",
              "      flex-wrap:wrap;\n",
              "      gap: 12px;\n",
              "    }\n",
              "\n",
              "    .colab-df-convert {\n",
              "      background-color: #E8F0FE;\n",
              "      border: none;\n",
              "      border-radius: 50%;\n",
              "      cursor: pointer;\n",
              "      display: none;\n",
              "      fill: #1967D2;\n",
              "      height: 32px;\n",
              "      padding: 0 0 0 0;\n",
              "      width: 32px;\n",
              "    }\n",
              "\n",
              "    .colab-df-convert:hover {\n",
              "      background-color: #E2EBFA;\n",
              "      box-shadow: 0px 1px 2px rgba(60, 64, 67, 0.3), 0px 1px 3px 1px rgba(60, 64, 67, 0.15);\n",
              "      fill: #174EA6;\n",
              "    }\n",
              "\n",
              "    [theme=dark] .colab-df-convert {\n",
              "      background-color: #3B4455;\n",
              "      fill: #D2E3FC;\n",
              "    }\n",
              "\n",
              "    [theme=dark] .colab-df-convert:hover {\n",
              "      background-color: #434B5C;\n",
              "      box-shadow: 0px 1px 3px 1px rgba(0, 0, 0, 0.15);\n",
              "      filter: drop-shadow(0px 1px 2px rgba(0, 0, 0, 0.3));\n",
              "      fill: #FFFFFF;\n",
              "    }\n",
              "  </style>\n",
              "\n",
              "      <script>\n",
              "        const buttonEl =\n",
              "          document.querySelector('#df-518c2557-663b-4c94-a697-253993d6d6eb button.colab-df-convert');\n",
              "        buttonEl.style.display =\n",
              "          google.colab.kernel.accessAllowed ? 'block' : 'none';\n",
              "\n",
              "        async function convertToInteractive(key) {\n",
              "          const element = document.querySelector('#df-518c2557-663b-4c94-a697-253993d6d6eb');\n",
              "          const dataTable =\n",
              "            await google.colab.kernel.invokeFunction('convertToInteractive',\n",
              "                                                     [key], {});\n",
              "          if (!dataTable) return;\n",
              "\n",
              "          const docLinkHtml = 'Like what you see? Visit the ' +\n",
              "            '<a target=\"_blank\" href=https://colab.research.google.com/notebooks/data_table.ipynb>data table notebook</a>'\n",
              "            + ' to learn more about interactive tables.';\n",
              "          element.innerHTML = '';\n",
              "          dataTable['output_type'] = 'display_data';\n",
              "          await google.colab.output.renderOutput(dataTable, element);\n",
              "          const docLink = document.createElement('div');\n",
              "          docLink.innerHTML = docLinkHtml;\n",
              "          element.appendChild(docLink);\n",
              "        }\n",
              "      </script>\n",
              "    </div>\n",
              "  </div>\n",
              "  "
            ]
          },
          "metadata": {},
          "execution_count": 14
        }
      ]
    },
    {
      "cell_type": "markdown",
      "source": [
        "## Aggregating target features\n",
        "\n",
        "Note that, when we do a train-test split, our dataset gets splitted randomly. Also, usually, the target is given by a single column. Let's try to fix this:"
      ],
      "metadata": {
        "id": "YsiQIuOiHdxI"
      }
    },
    {
      "cell_type": "code",
      "source": [
        "dataset['Agg_Target'] = list(zip(dataset['node.js'], dataset['jquery'], dataset['html'], dataset['angular']))"
      ],
      "metadata": {
        "id": "G0a4358gHEfc"
      },
      "execution_count": 15,
      "outputs": []
    },
    {
      "cell_type": "code",
      "source": [
        "dataset"
      ],
      "metadata": {
        "colab": {
          "base_uri": "https://localhost:8080/",
          "height": 424
        },
        "id": "HdCaKRRmIrIB",
        "outputId": "b11d38bb-9044-451e-b1cb-575fc6745006"
      },
      "execution_count": 16,
      "outputs": [
        {
          "output_type": "execute_result",
          "data": {
            "text/plain": [
              "                                              Perguntas           Tags  \\\n",
              "0     Possuo um projeto Node.js porém preciso criar ...        node.js   \n",
              "1     Gostaria de fazer testes unitários no Node.js,...        node.js   \n",
              "2     Como inverter a ordem com que o jQuery itera u...         jquery   \n",
              "3     Eu tenho uma página onde pretendo utilizar um ...           html   \n",
              "4     Como exibir os dados retornados do FireStore e...  html angular    \n",
              "...                                                 ...            ...   \n",
              "5403  Queria saber como pegar o total de cores de um...   jquery html    \n",
              "5404  Boa noite, estou usando phonegap para fazer um...          html    \n",
              "5405  Estou construindo um mini fórum, e nele, os us...    jquery html   \n",
              "5406  Boa tarde,  Estou para desenvolver um site na ...           html   \n",
              "5407  Estou fazendo um hotsite, ele é one page, e é ...    jquery html   \n",
              "\n",
              "      node.js  jquery  html  angular    Agg_Target  \n",
              "0           1       0     0        0  (1, 0, 0, 0)  \n",
              "1           1       0     0        0  (1, 0, 0, 0)  \n",
              "2           0       1     0        0  (0, 1, 0, 0)  \n",
              "3           0       0     1        0  (0, 0, 1, 0)  \n",
              "4           0       0     1        1  (0, 0, 1, 1)  \n",
              "...       ...     ...   ...      ...           ...  \n",
              "5403        0       1     1        0  (0, 1, 1, 0)  \n",
              "5404        0       0     1        0  (0, 0, 1, 0)  \n",
              "5405        0       1     1        0  (0, 1, 1, 0)  \n",
              "5406        0       0     1        0  (0, 0, 1, 0)  \n",
              "5407        0       1     1        0  (0, 1, 1, 0)  \n",
              "\n",
              "[5408 rows x 7 columns]"
            ],
            "text/html": [
              "\n",
              "  <div id=\"df-140fd442-879b-4bdd-ae62-8cb96103e9a3\">\n",
              "    <div class=\"colab-df-container\">\n",
              "      <div>\n",
              "<style scoped>\n",
              "    .dataframe tbody tr th:only-of-type {\n",
              "        vertical-align: middle;\n",
              "    }\n",
              "\n",
              "    .dataframe tbody tr th {\n",
              "        vertical-align: top;\n",
              "    }\n",
              "\n",
              "    .dataframe thead th {\n",
              "        text-align: right;\n",
              "    }\n",
              "</style>\n",
              "<table border=\"1\" class=\"dataframe\">\n",
              "  <thead>\n",
              "    <tr style=\"text-align: right;\">\n",
              "      <th></th>\n",
              "      <th>Perguntas</th>\n",
              "      <th>Tags</th>\n",
              "      <th>node.js</th>\n",
              "      <th>jquery</th>\n",
              "      <th>html</th>\n",
              "      <th>angular</th>\n",
              "      <th>Agg_Target</th>\n",
              "    </tr>\n",
              "  </thead>\n",
              "  <tbody>\n",
              "    <tr>\n",
              "      <th>0</th>\n",
              "      <td>Possuo um projeto Node.js porém preciso criar ...</td>\n",
              "      <td>node.js</td>\n",
              "      <td>1</td>\n",
              "      <td>0</td>\n",
              "      <td>0</td>\n",
              "      <td>0</td>\n",
              "      <td>(1, 0, 0, 0)</td>\n",
              "    </tr>\n",
              "    <tr>\n",
              "      <th>1</th>\n",
              "      <td>Gostaria de fazer testes unitários no Node.js,...</td>\n",
              "      <td>node.js</td>\n",
              "      <td>1</td>\n",
              "      <td>0</td>\n",
              "      <td>0</td>\n",
              "      <td>0</td>\n",
              "      <td>(1, 0, 0, 0)</td>\n",
              "    </tr>\n",
              "    <tr>\n",
              "      <th>2</th>\n",
              "      <td>Como inverter a ordem com que o jQuery itera u...</td>\n",
              "      <td>jquery</td>\n",
              "      <td>0</td>\n",
              "      <td>1</td>\n",
              "      <td>0</td>\n",
              "      <td>0</td>\n",
              "      <td>(0, 1, 0, 0)</td>\n",
              "    </tr>\n",
              "    <tr>\n",
              "      <th>3</th>\n",
              "      <td>Eu tenho uma página onde pretendo utilizar um ...</td>\n",
              "      <td>html</td>\n",
              "      <td>0</td>\n",
              "      <td>0</td>\n",
              "      <td>1</td>\n",
              "      <td>0</td>\n",
              "      <td>(0, 0, 1, 0)</td>\n",
              "    </tr>\n",
              "    <tr>\n",
              "      <th>4</th>\n",
              "      <td>Como exibir os dados retornados do FireStore e...</td>\n",
              "      <td>html angular</td>\n",
              "      <td>0</td>\n",
              "      <td>0</td>\n",
              "      <td>1</td>\n",
              "      <td>1</td>\n",
              "      <td>(0, 0, 1, 1)</td>\n",
              "    </tr>\n",
              "    <tr>\n",
              "      <th>...</th>\n",
              "      <td>...</td>\n",
              "      <td>...</td>\n",
              "      <td>...</td>\n",
              "      <td>...</td>\n",
              "      <td>...</td>\n",
              "      <td>...</td>\n",
              "      <td>...</td>\n",
              "    </tr>\n",
              "    <tr>\n",
              "      <th>5403</th>\n",
              "      <td>Queria saber como pegar o total de cores de um...</td>\n",
              "      <td>jquery html</td>\n",
              "      <td>0</td>\n",
              "      <td>1</td>\n",
              "      <td>1</td>\n",
              "      <td>0</td>\n",
              "      <td>(0, 1, 1, 0)</td>\n",
              "    </tr>\n",
              "    <tr>\n",
              "      <th>5404</th>\n",
              "      <td>Boa noite, estou usando phonegap para fazer um...</td>\n",
              "      <td>html</td>\n",
              "      <td>0</td>\n",
              "      <td>0</td>\n",
              "      <td>1</td>\n",
              "      <td>0</td>\n",
              "      <td>(0, 0, 1, 0)</td>\n",
              "    </tr>\n",
              "    <tr>\n",
              "      <th>5405</th>\n",
              "      <td>Estou construindo um mini fórum, e nele, os us...</td>\n",
              "      <td>jquery html</td>\n",
              "      <td>0</td>\n",
              "      <td>1</td>\n",
              "      <td>1</td>\n",
              "      <td>0</td>\n",
              "      <td>(0, 1, 1, 0)</td>\n",
              "    </tr>\n",
              "    <tr>\n",
              "      <th>5406</th>\n",
              "      <td>Boa tarde,  Estou para desenvolver um site na ...</td>\n",
              "      <td>html</td>\n",
              "      <td>0</td>\n",
              "      <td>0</td>\n",
              "      <td>1</td>\n",
              "      <td>0</td>\n",
              "      <td>(0, 0, 1, 0)</td>\n",
              "    </tr>\n",
              "    <tr>\n",
              "      <th>5407</th>\n",
              "      <td>Estou fazendo um hotsite, ele é one page, e é ...</td>\n",
              "      <td>jquery html</td>\n",
              "      <td>0</td>\n",
              "      <td>1</td>\n",
              "      <td>1</td>\n",
              "      <td>0</td>\n",
              "      <td>(0, 1, 1, 0)</td>\n",
              "    </tr>\n",
              "  </tbody>\n",
              "</table>\n",
              "<p>5408 rows × 7 columns</p>\n",
              "</div>\n",
              "      <button class=\"colab-df-convert\" onclick=\"convertToInteractive('df-140fd442-879b-4bdd-ae62-8cb96103e9a3')\"\n",
              "              title=\"Convert this dataframe to an interactive table.\"\n",
              "              style=\"display:none;\">\n",
              "        \n",
              "  <svg xmlns=\"http://www.w3.org/2000/svg\" height=\"24px\"viewBox=\"0 0 24 24\"\n",
              "       width=\"24px\">\n",
              "    <path d=\"M0 0h24v24H0V0z\" fill=\"none\"/>\n",
              "    <path d=\"M18.56 5.44l.94 2.06.94-2.06 2.06-.94-2.06-.94-.94-2.06-.94 2.06-2.06.94zm-11 1L8.5 8.5l.94-2.06 2.06-.94-2.06-.94L8.5 2.5l-.94 2.06-2.06.94zm10 10l.94 2.06.94-2.06 2.06-.94-2.06-.94-.94-2.06-.94 2.06-2.06.94z\"/><path d=\"M17.41 7.96l-1.37-1.37c-.4-.4-.92-.59-1.43-.59-.52 0-1.04.2-1.43.59L10.3 9.45l-7.72 7.72c-.78.78-.78 2.05 0 2.83L4 21.41c.39.39.9.59 1.41.59.51 0 1.02-.2 1.41-.59l7.78-7.78 2.81-2.81c.8-.78.8-2.07 0-2.86zM5.41 20L4 18.59l7.72-7.72 1.47 1.35L5.41 20z\"/>\n",
              "  </svg>\n",
              "      </button>\n",
              "      \n",
              "  <style>\n",
              "    .colab-df-container {\n",
              "      display:flex;\n",
              "      flex-wrap:wrap;\n",
              "      gap: 12px;\n",
              "    }\n",
              "\n",
              "    .colab-df-convert {\n",
              "      background-color: #E8F0FE;\n",
              "      border: none;\n",
              "      border-radius: 50%;\n",
              "      cursor: pointer;\n",
              "      display: none;\n",
              "      fill: #1967D2;\n",
              "      height: 32px;\n",
              "      padding: 0 0 0 0;\n",
              "      width: 32px;\n",
              "    }\n",
              "\n",
              "    .colab-df-convert:hover {\n",
              "      background-color: #E2EBFA;\n",
              "      box-shadow: 0px 1px 2px rgba(60, 64, 67, 0.3), 0px 1px 3px 1px rgba(60, 64, 67, 0.15);\n",
              "      fill: #174EA6;\n",
              "    }\n",
              "\n",
              "    [theme=dark] .colab-df-convert {\n",
              "      background-color: #3B4455;\n",
              "      fill: #D2E3FC;\n",
              "    }\n",
              "\n",
              "    [theme=dark] .colab-df-convert:hover {\n",
              "      background-color: #434B5C;\n",
              "      box-shadow: 0px 1px 3px 1px rgba(0, 0, 0, 0.15);\n",
              "      filter: drop-shadow(0px 1px 2px rgba(0, 0, 0, 0.3));\n",
              "      fill: #FFFFFF;\n",
              "    }\n",
              "  </style>\n",
              "\n",
              "      <script>\n",
              "        const buttonEl =\n",
              "          document.querySelector('#df-140fd442-879b-4bdd-ae62-8cb96103e9a3 button.colab-df-convert');\n",
              "        buttonEl.style.display =\n",
              "          google.colab.kernel.accessAllowed ? 'block' : 'none';\n",
              "\n",
              "        async function convertToInteractive(key) {\n",
              "          const element = document.querySelector('#df-140fd442-879b-4bdd-ae62-8cb96103e9a3');\n",
              "          const dataTable =\n",
              "            await google.colab.kernel.invokeFunction('convertToInteractive',\n",
              "                                                     [key], {});\n",
              "          if (!dataTable) return;\n",
              "\n",
              "          const docLinkHtml = 'Like what you see? Visit the ' +\n",
              "            '<a target=\"_blank\" href=https://colab.research.google.com/notebooks/data_table.ipynb>data table notebook</a>'\n",
              "            + ' to learn more about interactive tables.';\n",
              "          element.innerHTML = '';\n",
              "          dataTable['output_type'] = 'display_data';\n",
              "          await google.colab.output.renderOutput(dataTable, element);\n",
              "          const docLink = document.createElement('div');\n",
              "          docLink.innerHTML = docLinkHtml;\n",
              "          element.appendChild(docLink);\n",
              "        }\n",
              "      </script>\n",
              "    </div>\n",
              "  </div>\n",
              "  "
            ]
          },
          "metadata": {},
          "execution_count": 16
        }
      ]
    },
    {
      "cell_type": "markdown",
      "source": [
        "Nice! Now, we can use the Agg_Target column as our target!\n",
        "\n",
        "Now, let's try to perform our train test split:"
      ],
      "metadata": {
        "id": "DkOtobEOIxSL"
      }
    },
    {
      "cell_type": "code",
      "source": [
        "from sklearn.model_selection import train_test_split\n",
        "\n",
        "X = dataset.Perguntas\n",
        "Y = dataset['Agg_Target']\n",
        "\n",
        "X_train, X_test, Y_train, Y_test = train_test_split( X, Y, test_size = 0.2, random_state = 123 )"
      ],
      "metadata": {
        "id": "d01nwgK4IvI6"
      },
      "execution_count": 17,
      "outputs": []
    },
    {
      "cell_type": "markdown",
      "source": [
        "Nice! Now, let's look to our training set:"
      ],
      "metadata": {
        "id": "0GTEjOuxJ_lL"
      }
    },
    {
      "cell_type": "code",
      "source": [
        "X_train"
      ],
      "metadata": {
        "colab": {
          "base_uri": "https://localhost:8080/"
        },
        "id": "EAl-dvS6J1xm",
        "outputId": "621c7f02-3dd5-473c-d1fe-fb830496e747"
      },
      "execution_count": 18,
      "outputs": [
        {
          "output_type": "execute_result",
          "data": {
            "text/plain": [
              "1577       array1 = [1,2,3];   array2 = [\"um\",\"dois\",\"...\n",
              "1927    Não sei se fui claro no título, mas quem é da ...\n",
              "3409    Alguém sabe me dizer qual a melhor forma de re...\n",
              "4606    Estou com problemas ao tentar validar campos d...\n",
              "5237    Preciso copiar um valor de dentro de um CODE  ...\n",
              "                              ...                        \n",
              "5218    Tenho um sisteminha, para mudar o layout da pá...\n",
              "4060    Como fazer alto scoll ao carregar a página?  E...\n",
              "1346    Explicação:  Tenho uma CODE  pai que contém du...\n",
              "3454    Estou querendo fazer um sistema onde eu iria t...\n",
              "3582    Galera eu to com um problemão, ja pesquisei ba...\n",
              "Name: Perguntas, Length: 4326, dtype: object"
            ]
          },
          "metadata": {},
          "execution_count": 18
        }
      ]
    },
    {
      "cell_type": "markdown",
      "source": [
        "Note that our training set is defined by a column of text data. How can the ML algorithm understand and make predictions based on a text? First, we should try to manipulate this data so that it becomes easier for the algorithm to make predictions using the training and test sets.\n",
        "\n"
      ],
      "metadata": {
        "id": "yQB4rtaIKEtS"
      }
    },
    {
      "cell_type": "markdown",
      "source": [
        "## Vectorization\n",
        "\n",
        "To that end, we will **vectorize** our text. Basically, we will try to translate our text into a vector of numbers which represent our text. This number is related to how frequent the word is in the rest of the corpus. We can do this using TF-IDF:"
      ],
      "metadata": {
        "id": "zumtHNy5MyeE"
      }
    },
    {
      "cell_type": "code",
      "source": [
        "from sklearn.feature_extraction.text import TfidfVectorizer"
      ],
      "metadata": {
        "id": "Q-0aGpNJKDRJ"
      },
      "execution_count": 19,
      "outputs": []
    },
    {
      "cell_type": "code",
      "source": [
        "# Defining our vectorizer. We will have, at maximum, 5000 features, \n",
        "# and we will exclude words which appear in 85% of the corpus.\n",
        "\n",
        "vectorize = TfidfVectorizer(max_features = 5000, max_df = 0.85)  \n",
        "vectorize"
      ],
      "metadata": {
        "colab": {
          "base_uri": "https://localhost:8080/"
        },
        "id": "dbT3EetQLND9",
        "outputId": "8dbe8a75-1dec-4147-c9fb-ea280bf70b76"
      },
      "execution_count": 20,
      "outputs": [
        {
          "output_type": "execute_result",
          "data": {
            "text/plain": [
              "TfidfVectorizer(max_df=0.85, max_features=5000)"
            ]
          },
          "metadata": {},
          "execution_count": 20
        }
      ]
    },
    {
      "cell_type": "code",
      "source": [
        "# Fitting our vectorizer\n",
        "\n",
        "vectorize.fit(dataset.Perguntas)"
      ],
      "metadata": {
        "colab": {
          "base_uri": "https://localhost:8080/"
        },
        "id": "ND6-futnLQTY",
        "outputId": "506dedb4-6e9c-4da7-8b32-06f7f06c576e"
      },
      "execution_count": 21,
      "outputs": [
        {
          "output_type": "execute_result",
          "data": {
            "text/plain": [
              "TfidfVectorizer(max_df=0.85, max_features=5000)"
            ]
          },
          "metadata": {},
          "execution_count": 21
        }
      ]
    },
    {
      "cell_type": "code",
      "source": [
        "# Vectorizing our train and test sets\n",
        "\n",
        "X_train_v = vectorize.transform(X_train)\n",
        "X_test_v  = vectorize.transform(X_test)"
      ],
      "metadata": {
        "id": "W1Q-ihffL0_3"
      },
      "execution_count": 22,
      "outputs": []
    },
    {
      "cell_type": "markdown",
      "source": [
        "Let's check the shape of our data:"
      ],
      "metadata": {
        "id": "TZxROO_fMX3s"
      }
    },
    {
      "cell_type": "code",
      "source": [
        "X_train_v.shape"
      ],
      "metadata": {
        "colab": {
          "base_uri": "https://localhost:8080/"
        },
        "id": "CNyL0VpiMFCz",
        "outputId": "33c6ab7c-90bd-4d2e-e948-59a3ad11c7b0"
      },
      "execution_count": 23,
      "outputs": [
        {
          "output_type": "execute_result",
          "data": {
            "text/plain": [
              "(4326, 5000)"
            ]
          },
          "metadata": {},
          "execution_count": 23
        }
      ]
    },
    {
      "cell_type": "code",
      "source": [
        "X_test_v.shape"
      ],
      "metadata": {
        "colab": {
          "base_uri": "https://localhost:8080/"
        },
        "id": "1_MO8r7LMbE9",
        "outputId": "8c63cf69-c346-48f4-fde7-30e2972fc392"
      },
      "execution_count": 24,
      "outputs": [
        {
          "output_type": "execute_result",
          "data": {
            "text/plain": [
              "(1082, 5000)"
            ]
          },
          "metadata": {},
          "execution_count": 24
        }
      ]
    },
    {
      "cell_type": "markdown",
      "source": [
        "Note that, now, we have 5000 columns (or features) in each data set, which correspond to the vectorize form of our Stack Overflow posts."
      ],
      "metadata": {
        "id": "jDvyNzYZMcnt"
      }
    },
    {
      "cell_type": "markdown",
      "source": [
        "Nice! Now, our sets are in a good format to be applied to our ML algorithm."
      ],
      "metadata": {
        "id": "01YpYEmGMo5g"
      }
    },
    {
      "cell_type": "markdown",
      "source": [
        "# Creating our first multilabel model\n",
        "\n",
        "So, how will we create our multilabel model? A very simple way of solving this issue is to use a binary relevance algorithm, which will create an algorithm for each tag column, and a binary classification algorithm is trained multiple times.\n",
        "\n",
        "Let's try to implement this classifier. In sklearn, the binary relevance algorithm is denominated OneVsRest:"
      ],
      "metadata": {
        "id": "eW7DrAsHM_mA"
      }
    },
    {
      "cell_type": "code",
      "source": [
        "from sklearn.multiclass import OneVsRestClassifier\n",
        "from sklearn.linear_model import LogisticRegression\n",
        "\n",
        "log_reg = LogisticRegression( solver = 'lbfgs' )\n",
        "bin_rel = OneVsRestClassifier( estimator = log_reg )\n",
        "bin_rel"
      ],
      "metadata": {
        "colab": {
          "base_uri": "https://localhost:8080/"
        },
        "id": "R327UB8AMb-p",
        "outputId": "c8d4957f-c5df-4327-c210-c003fa16bc63"
      },
      "execution_count": 25,
      "outputs": [
        {
          "output_type": "execute_result",
          "data": {
            "text/plain": [
              "OneVsRestClassifier(estimator=LogisticRegression())"
            ]
          },
          "metadata": {},
          "execution_count": 25
        }
      ]
    },
    {
      "cell_type": "markdown",
      "source": [
        "Note that, here, each of our binary classification algorithms will be given by a Logistic Regression model. Now, let's fit the binary relevance algorithm. First, we just have to transform our Y_train in an array:"
      ],
      "metadata": {
        "id": "-etFrA1hOpwV"
      }
    },
    {
      "cell_type": "code",
      "source": [
        "import numpy as np\n",
        "\n",
        "Y_train_array = np.asarray(list(Y_train))\n",
        "Y_test_array  = np.asarray(list(Y_test))\n",
        "\n",
        "bin_rel.fit(X_train_v, Y_train_array)"
      ],
      "metadata": {
        "colab": {
          "base_uri": "https://localhost:8080/"
        },
        "id": "0VKJYlLrOnNj",
        "outputId": "ad350b27-1e6f-4efc-bb79-710408bb5e70"
      },
      "execution_count": 26,
      "outputs": [
        {
          "output_type": "execute_result",
          "data": {
            "text/plain": [
              "OneVsRestClassifier(estimator=LogisticRegression())"
            ]
          },
          "metadata": {},
          "execution_count": 26
        }
      ]
    },
    {
      "cell_type": "markdown",
      "source": [
        "Nice! Now, how good is our fitted model? We can see how well our trained model is predicting our training set using the score( ) method:"
      ],
      "metadata": {
        "id": "qe-cK6MeQBLd"
      }
    },
    {
      "cell_type": "code",
      "source": [
        "bin_rel.score(X_train_v, Y_train_array)"
      ],
      "metadata": {
        "colab": {
          "base_uri": "https://localhost:8080/"
        },
        "id": "OWnonmi8O-SI",
        "outputId": "323e9805-8685-4b9e-be49-ac058615452a"
      },
      "execution_count": 27,
      "outputs": [
        {
          "output_type": "execute_result",
          "data": {
            "text/plain": [
              "0.5917706888580675"
            ]
          },
          "metadata": {},
          "execution_count": 27
        }
      ]
    },
    {
      "cell_type": "markdown",
      "source": [
        "And how well our trained model predicts the test set?"
      ],
      "metadata": {
        "id": "n5Cg0Sl9QPUg"
      }
    },
    {
      "cell_type": "code",
      "source": [
        "bin_rel.score(X_test_v, Y_test_array)"
      ],
      "metadata": {
        "colab": {
          "base_uri": "https://localhost:8080/"
        },
        "id": "1wN-jFX_QLQq",
        "outputId": "2f8f18a8-efda-4eda-d3bc-7c22974fff94"
      },
      "execution_count": 28,
      "outputs": [
        {
          "output_type": "execute_result",
          "data": {
            "text/plain": [
              "0.4168207024029575"
            ]
          },
          "metadata": {},
          "execution_count": 28
        }
      ]
    },
    {
      "cell_type": "markdown",
      "source": [
        "Ok, so, on the test set, our model is hitting 41.68% of our classifications. But do all labels being classified have this accuracy? Let's understand what accuracy is telling us."
      ],
      "metadata": {
        "id": "m_xn6u7RQXZo"
      }
    },
    {
      "cell_type": "markdown",
      "source": [
        "## Testing our model\n",
        "\n",
        "So, we have evaluated the accuracy of our model. But how does accuracy works in a multilabel classification model? \n",
        "\n",
        "Accuracy will test if the prediction of our model is the same as the true value. In a multilabel classification, for instance, if our model predicts [0, 0, 1, 1] in an entry, we will have a good accuracy (100%) if the true value is [0, 0, 1, 1]. However, what if the true value is [0, 0, 1, 0]? In this case, the accuracy is 0%. However, note that we actually hitted 3 out of 4 classifications. \n",
        "\n",
        "Thus, accuracy is actually a very conservative metric for multilabel algorithms (exact match). In multilabel classification (or in binary classification in general) another very common metric is the Hamming loss."
      ],
      "metadata": {
        "id": "nU3vEjApQzGc"
      }
    },
    {
      "cell_type": "markdown",
      "source": [
        "### Hamming loss\n",
        "\n",
        "The Hamming distance will get the sum of the absolute differences between the prediction and the true value. For instance:\n",
        "\n",
        "* Hamming loss from [0, 0, 1, 1] and [0, 0, 1, 1] is 0.\n",
        "* Hamming loss from [0, 0, 1, 0] and [0, 0, 1, 1] is 1.\n",
        "\n",
        "If our prediction is farther from the true value, our Hamming loss is higher. \n",
        "\n",
        "The Hamming loss metric is given by the sum of the Hamming distance from all data points (prediction vs true) divided by the number of possible values. Thus, it given us the percentage of wrong classifications in our multilabel set. \n",
        "\n",
        "Let's evaluate the Hamming loss for our model:"
      ],
      "metadata": {
        "id": "xkn-IXHDVI-m"
      }
    },
    {
      "cell_type": "code",
      "source": [
        "from sklearn.metrics import hamming_loss\n",
        "\n",
        "pred_onevsrest = bin_rel.predict(X_test_v)\n",
        "hamming_loss_onevsrest = hamming_loss(Y_test_array, pred_onevsrest)"
      ],
      "metadata": {
        "id": "3qRJ_Oj7QURk"
      },
      "execution_count": 29,
      "outputs": []
    },
    {
      "cell_type": "code",
      "source": [
        "hamming_loss_onevsrest"
      ],
      "metadata": {
        "colab": {
          "base_uri": "https://localhost:8080/"
        },
        "id": "eg3PVXtLUcCB",
        "outputId": "0b8b5648-5c95-4c3a-b10e-beed7ee29955"
      },
      "execution_count": 30,
      "outputs": [
        {
          "output_type": "execute_result",
          "data": {
            "text/plain": [
              "0.1883086876155268"
            ]
          },
          "metadata": {},
          "execution_count": 30
        }
      ]
    },
    {
      "cell_type": "markdown",
      "source": [
        "Nice! So, we have only wrongfully classified 18.83% tags! "
      ],
      "metadata": {
        "id": "L9IZaBI4UqPN"
      }
    },
    {
      "cell_type": "markdown",
      "source": [
        "Note that, in our binary relevance model, we simply performed four different binary classification algorithms separetely. Here, each algorithm does not influence the other. \n",
        "\n",
        "However, is this really true? Shouldn't a specific tag influence the existence of another related tag? After all, these tags actually have some correlation:"
      ],
      "metadata": {
        "id": "sj9dkXnRVR2V"
      }
    },
    {
      "cell_type": "code",
      "source": [
        "dataset.corr( )"
      ],
      "metadata": {
        "colab": {
          "base_uri": "https://localhost:8080/",
          "height": 175
        },
        "id": "XADlz_sMUpK7",
        "outputId": "f5d1dc98-76b8-467d-ab62-5f63bfa63960"
      },
      "execution_count": 31,
      "outputs": [
        {
          "output_type": "execute_result",
          "data": {
            "text/plain": [
              "          node.js    jquery      html   angular\n",
              "node.js  1.000000 -0.321485 -0.273523 -0.101787\n",
              "jquery  -0.321485  1.000000 -0.253977 -0.366269\n",
              "html    -0.273523 -0.253977  1.000000 -0.286706\n",
              "angular -0.101787 -0.366269 -0.286706  1.000000"
            ],
            "text/html": [
              "\n",
              "  <div id=\"df-2e8dc5fb-eee7-4935-b642-8abb2249829c\">\n",
              "    <div class=\"colab-df-container\">\n",
              "      <div>\n",
              "<style scoped>\n",
              "    .dataframe tbody tr th:only-of-type {\n",
              "        vertical-align: middle;\n",
              "    }\n",
              "\n",
              "    .dataframe tbody tr th {\n",
              "        vertical-align: top;\n",
              "    }\n",
              "\n",
              "    .dataframe thead th {\n",
              "        text-align: right;\n",
              "    }\n",
              "</style>\n",
              "<table border=\"1\" class=\"dataframe\">\n",
              "  <thead>\n",
              "    <tr style=\"text-align: right;\">\n",
              "      <th></th>\n",
              "      <th>node.js</th>\n",
              "      <th>jquery</th>\n",
              "      <th>html</th>\n",
              "      <th>angular</th>\n",
              "    </tr>\n",
              "  </thead>\n",
              "  <tbody>\n",
              "    <tr>\n",
              "      <th>node.js</th>\n",
              "      <td>1.000000</td>\n",
              "      <td>-0.321485</td>\n",
              "      <td>-0.273523</td>\n",
              "      <td>-0.101787</td>\n",
              "    </tr>\n",
              "    <tr>\n",
              "      <th>jquery</th>\n",
              "      <td>-0.321485</td>\n",
              "      <td>1.000000</td>\n",
              "      <td>-0.253977</td>\n",
              "      <td>-0.366269</td>\n",
              "    </tr>\n",
              "    <tr>\n",
              "      <th>html</th>\n",
              "      <td>-0.273523</td>\n",
              "      <td>-0.253977</td>\n",
              "      <td>1.000000</td>\n",
              "      <td>-0.286706</td>\n",
              "    </tr>\n",
              "    <tr>\n",
              "      <th>angular</th>\n",
              "      <td>-0.101787</td>\n",
              "      <td>-0.366269</td>\n",
              "      <td>-0.286706</td>\n",
              "      <td>1.000000</td>\n",
              "    </tr>\n",
              "  </tbody>\n",
              "</table>\n",
              "</div>\n",
              "      <button class=\"colab-df-convert\" onclick=\"convertToInteractive('df-2e8dc5fb-eee7-4935-b642-8abb2249829c')\"\n",
              "              title=\"Convert this dataframe to an interactive table.\"\n",
              "              style=\"display:none;\">\n",
              "        \n",
              "  <svg xmlns=\"http://www.w3.org/2000/svg\" height=\"24px\"viewBox=\"0 0 24 24\"\n",
              "       width=\"24px\">\n",
              "    <path d=\"M0 0h24v24H0V0z\" fill=\"none\"/>\n",
              "    <path d=\"M18.56 5.44l.94 2.06.94-2.06 2.06-.94-2.06-.94-.94-2.06-.94 2.06-2.06.94zm-11 1L8.5 8.5l.94-2.06 2.06-.94-2.06-.94L8.5 2.5l-.94 2.06-2.06.94zm10 10l.94 2.06.94-2.06 2.06-.94-2.06-.94-.94-2.06-.94 2.06-2.06.94z\"/><path d=\"M17.41 7.96l-1.37-1.37c-.4-.4-.92-.59-1.43-.59-.52 0-1.04.2-1.43.59L10.3 9.45l-7.72 7.72c-.78.78-.78 2.05 0 2.83L4 21.41c.39.39.9.59 1.41.59.51 0 1.02-.2 1.41-.59l7.78-7.78 2.81-2.81c.8-.78.8-2.07 0-2.86zM5.41 20L4 18.59l7.72-7.72 1.47 1.35L5.41 20z\"/>\n",
              "  </svg>\n",
              "      </button>\n",
              "      \n",
              "  <style>\n",
              "    .colab-df-container {\n",
              "      display:flex;\n",
              "      flex-wrap:wrap;\n",
              "      gap: 12px;\n",
              "    }\n",
              "\n",
              "    .colab-df-convert {\n",
              "      background-color: #E8F0FE;\n",
              "      border: none;\n",
              "      border-radius: 50%;\n",
              "      cursor: pointer;\n",
              "      display: none;\n",
              "      fill: #1967D2;\n",
              "      height: 32px;\n",
              "      padding: 0 0 0 0;\n",
              "      width: 32px;\n",
              "    }\n",
              "\n",
              "    .colab-df-convert:hover {\n",
              "      background-color: #E2EBFA;\n",
              "      box-shadow: 0px 1px 2px rgba(60, 64, 67, 0.3), 0px 1px 3px 1px rgba(60, 64, 67, 0.15);\n",
              "      fill: #174EA6;\n",
              "    }\n",
              "\n",
              "    [theme=dark] .colab-df-convert {\n",
              "      background-color: #3B4455;\n",
              "      fill: #D2E3FC;\n",
              "    }\n",
              "\n",
              "    [theme=dark] .colab-df-convert:hover {\n",
              "      background-color: #434B5C;\n",
              "      box-shadow: 0px 1px 3px 1px rgba(0, 0, 0, 0.15);\n",
              "      filter: drop-shadow(0px 1px 2px rgba(0, 0, 0, 0.3));\n",
              "      fill: #FFFFFF;\n",
              "    }\n",
              "  </style>\n",
              "\n",
              "      <script>\n",
              "        const buttonEl =\n",
              "          document.querySelector('#df-2e8dc5fb-eee7-4935-b642-8abb2249829c button.colab-df-convert');\n",
              "        buttonEl.style.display =\n",
              "          google.colab.kernel.accessAllowed ? 'block' : 'none';\n",
              "\n",
              "        async function convertToInteractive(key) {\n",
              "          const element = document.querySelector('#df-2e8dc5fb-eee7-4935-b642-8abb2249829c');\n",
              "          const dataTable =\n",
              "            await google.colab.kernel.invokeFunction('convertToInteractive',\n",
              "                                                     [key], {});\n",
              "          if (!dataTable) return;\n",
              "\n",
              "          const docLinkHtml = 'Like what you see? Visit the ' +\n",
              "            '<a target=\"_blank\" href=https://colab.research.google.com/notebooks/data_table.ipynb>data table notebook</a>'\n",
              "            + ' to learn more about interactive tables.';\n",
              "          element.innerHTML = '';\n",
              "          dataTable['output_type'] = 'display_data';\n",
              "          await google.colab.output.renderOutput(dataTable, element);\n",
              "          const docLink = document.createElement('div');\n",
              "          docLink.innerHTML = docLinkHtml;\n",
              "          element.appendChild(docLink);\n",
              "        }\n",
              "      </script>\n",
              "    </div>\n",
              "  </div>\n",
              "  "
            ]
          },
          "metadata": {},
          "execution_count": 31
        }
      ]
    },
    {
      "cell_type": "markdown",
      "source": [
        "Note that we have a negative correlation, which means that, if it has a tag, it is less likely to have the other. How can we create a model that actually takes this in consideration when evaluating our multilabel classification?"
      ],
      "metadata": {
        "id": "6tT8ibDGV0QP"
      }
    },
    {
      "cell_type": "markdown",
      "source": [
        "# Capturing the correlation between the different labels in our model\n",
        "\n",
        "To capture this, we actually need to perform a **chain-classification**. Basically, we will still use four models, but now, each of our models will introduce the previous label as a target. "
      ],
      "metadata": {
        "id": "rw-jKKXBWQtN"
      }
    },
    {
      "cell_type": "markdown",
      "source": [
        "## Chain classification\n",
        "\n",
        "For instance, we will create a model for node.js, then a second for node.js+jquery, then a third for node.js+jquert+html, and finally one for node.js+jquery+html+angular. Thus, imputing the already classified column, we end up considering such labels in our final model.\n",
        "\n",
        "To implement these kinds of models, we will import scikit-multilearn:\n",
        "\n",
        "http://scikit.ml/api/skmultilearn.problem_transform.cc.html"
      ],
      "metadata": {
        "id": "IlroD-2AiSyh"
      }
    },
    {
      "cell_type": "code",
      "source": [
        "!pip install scikit-multilearn"
      ],
      "metadata": {
        "colab": {
          "base_uri": "https://localhost:8080/"
        },
        "id": "SzmpMV0rVwyD",
        "outputId": "1f0c2674-b987-4f97-cefa-29e84c868f2f"
      },
      "execution_count": 32,
      "outputs": [
        {
          "output_type": "stream",
          "name": "stdout",
          "text": [
            "Looking in indexes: https://pypi.org/simple, https://us-python.pkg.dev/colab-wheels/public/simple/\n",
            "Requirement already satisfied: scikit-multilearn in /usr/local/lib/python3.7/dist-packages (0.2.0)\n"
          ]
        }
      ]
    },
    {
      "cell_type": "code",
      "source": [
        "from skmultilearn.problem_transform import ClassifierChain"
      ],
      "metadata": {
        "id": "2W2cNZJpfP5P"
      },
      "execution_count": 33,
      "outputs": []
    },
    {
      "cell_type": "markdown",
      "source": [
        "Nice! Now, let's instance our object and fit it:"
      ],
      "metadata": {
        "id": "JdQAP1q5fwFP"
      }
    },
    {
      "cell_type": "code",
      "source": [
        "chain_class = ClassifierChain(log_reg)\n",
        "\n",
        "chain_class.fit(X_train_v, Y_train_array)"
      ],
      "metadata": {
        "colab": {
          "base_uri": "https://localhost:8080/"
        },
        "id": "t13C32fUfbWS",
        "outputId": "77eac58c-3f15-425f-f5f2-423ed056554a"
      },
      "execution_count": 34,
      "outputs": [
        {
          "output_type": "execute_result",
          "data": {
            "text/plain": [
              "ClassifierChain(classifier=LogisticRegression(), require_dense=[True, True])"
            ]
          },
          "metadata": {},
          "execution_count": 34
        }
      ]
    },
    {
      "cell_type": "markdown",
      "source": [
        "Ok! Now, let's evaluate the accuracy of our new model:"
      ],
      "metadata": {
        "id": "dZWAQfNogEIR"
      }
    },
    {
      "cell_type": "code",
      "source": [
        "chain_class.score(X_test_v, Y_test_array)"
      ],
      "metadata": {
        "colab": {
          "base_uri": "https://localhost:8080/"
        },
        "id": "Z6fXlrCggAFX",
        "outputId": "9c10ebe9-4fab-4277-be96-de6d45462d2e"
      },
      "execution_count": 35,
      "outputs": [
        {
          "output_type": "execute_result",
          "data": {
            "text/plain": [
              "0.49815157116451014"
            ]
          },
          "metadata": {},
          "execution_count": 35
        }
      ]
    },
    {
      "cell_type": "markdown",
      "source": [
        "Again, accuracy is not really a good metric in multi-label classification. Still, our accuracy was actually higher now. \n",
        "\n",
        "Now, let's evaluate the hamming loss:"
      ],
      "metadata": {
        "id": "HUbeyITwgMq3"
      }
    },
    {
      "cell_type": "code",
      "source": [
        "pred_chain = chain_class.predict(X_test_v)\n",
        "hamming_loss_chain = hamming_loss(Y_test_array, pred_chain)"
      ],
      "metadata": {
        "id": "a2ZNxOrWgLk4"
      },
      "execution_count": 36,
      "outputs": []
    },
    {
      "cell_type": "code",
      "source": [
        "hamming_loss_chain"
      ],
      "metadata": {
        "colab": {
          "base_uri": "https://localhost:8080/"
        },
        "id": "EBTG2hGEgbSD",
        "outputId": "7926388b-10f2-40a0-8cc5-c761841d22f4"
      },
      "execution_count": 37,
      "outputs": [
        {
          "output_type": "execute_result",
          "data": {
            "text/plain": [
              "0.21095194085027727"
            ]
          },
          "metadata": {},
          "execution_count": 37
        }
      ]
    },
    {
      "cell_type": "markdown",
      "source": [
        "So, actually, our hamming loss became worse, but our accuracy became higher. That means that our model is better at finding exact matches (which is expected, since we now consider the correlation between targets), but is a little worse at classifying our single columns."
      ],
      "metadata": {
        "id": "ypJyv_PEggo1"
      }
    },
    {
      "cell_type": "markdown",
      "source": [
        "## Binary relevance using scikit-multilearn\n",
        "\n",
        "Note that the binary relevance is also present in sci-kit multilearn. Let's try to apply this algorithm here:"
      ],
      "metadata": {
        "id": "oe5fQ57ogzcG"
      }
    },
    {
      "cell_type": "code",
      "source": [
        "from skmultilearn.problem_transform import BinaryRelevance\n",
        "\n",
        "bin_rel = BinaryRelevance(log_reg)\n",
        "\n",
        "bin_rel.fit(X_train_v, Y_train_array)"
      ],
      "metadata": {
        "colab": {
          "base_uri": "https://localhost:8080/"
        },
        "id": "DQs9vkZHgcJ8",
        "outputId": "746c5401-9842-4848-e3e8-65b800ff4810"
      },
      "execution_count": 38,
      "outputs": [
        {
          "output_type": "execute_result",
          "data": {
            "text/plain": [
              "BinaryRelevance(classifier=LogisticRegression(), require_dense=[True, True])"
            ]
          },
          "metadata": {},
          "execution_count": 38
        }
      ]
    },
    {
      "cell_type": "markdown",
      "source": [
        "Now, testing our model:"
      ],
      "metadata": {
        "id": "7YBrIooFi5PI"
      }
    },
    {
      "cell_type": "code",
      "source": [
        "bin_rel.score(X_test_v, Y_test_array)"
      ],
      "metadata": {
        "colab": {
          "base_uri": "https://localhost:8080/"
        },
        "id": "5rrzv_4eit6_",
        "outputId": "0048f76c-252f-4ec1-c8a6-3f8eb6a52372"
      },
      "execution_count": 39,
      "outputs": [
        {
          "output_type": "execute_result",
          "data": {
            "text/plain": [
              "0.4168207024029575"
            ]
          },
          "metadata": {},
          "execution_count": 39
        }
      ]
    },
    {
      "cell_type": "code",
      "source": [
        "pred_bin_rel = bin_rel.predict(X_test_v)\n",
        "hamming_loss_bin_rel = hamming_loss(Y_test_array, pred_bin_rel)"
      ],
      "metadata": {
        "id": "L629wliXi8W5"
      },
      "execution_count": 40,
      "outputs": []
    },
    {
      "cell_type": "code",
      "source": [
        "hamming_loss_bin_rel"
      ],
      "metadata": {
        "colab": {
          "base_uri": "https://localhost:8080/"
        },
        "id": "KbxH1GD9jC-n",
        "outputId": "b1ca334e-8e9f-45dc-e6ec-fb966621baa3"
      },
      "execution_count": 41,
      "outputs": [
        {
          "output_type": "execute_result",
          "data": {
            "text/plain": [
              "0.1883086876155268"
            ]
          },
          "metadata": {},
          "execution_count": 41
        }
      ]
    },
    {
      "cell_type": "markdown",
      "source": [
        "Note that the accuracy and the hamming loss are the same as we evaluated previously, using the sklearn binary relevance algorithm."
      ],
      "metadata": {
        "id": "9Pdv2HUpjE3n"
      }
    },
    {
      "cell_type": "markdown",
      "source": [
        "# Multi-label K-NN\n",
        "\n",
        "Finally, let's use a truly multi-label algorithm, which does not need to build multiple models and algorithms to handle one problem. This is the Multi-label $K$-Nearest Neighbors, or ML-KNN.\n",
        "\n",
        "In the KNN, we basically get the $K$-Nearest Neighbors and, then, we use a given predefined function to get a prediction based on the target of these neighbors.\n",
        "\n",
        "In the ML-KNN, we are able to define multiple classes to our predicted entry. If the model is not certain on which tag to use to the label, the model usually assigns more than one tag.\n",
        "\n"
      ],
      "metadata": {
        "id": "iipi1uQCjO3h"
      }
    },
    {
      "cell_type": "code",
      "source": [
        "from skmultilearn.adapt import MLkNN\n",
        "\n",
        "classifier_mlknn = MLkNN( )\n",
        "\n",
        "classifier_mlknn.fit(X_train_v, Y_train_array)"
      ],
      "metadata": {
        "colab": {
          "base_uri": "https://localhost:8080/"
        },
        "id": "qZlHIoDgjEMD",
        "outputId": "b7b67ac0-5233-49d8-9905-5be501865e1f"
      },
      "execution_count": 42,
      "outputs": [
        {
          "output_type": "stream",
          "name": "stderr",
          "text": [
            "/usr/local/lib/python3.7/dist-packages/sklearn/utils/validation.py:72: FutureWarning: Pass n_neighbors=10 as keyword args. From version 1.0 (renaming of 0.25) passing these as positional arguments will result in an error\n",
            "  \"will result in an error\", FutureWarning)\n"
          ]
        },
        {
          "output_type": "execute_result",
          "data": {
            "text/plain": [
              "MLkNN()"
            ]
          },
          "metadata": {},
          "execution_count": 42
        }
      ]
    },
    {
      "cell_type": "markdown",
      "source": [
        "Now, let's test our algorithm:"
      ],
      "metadata": {
        "id": "LwG06VgCpIlE"
      }
    },
    {
      "cell_type": "code",
      "source": [
        "classifier_mlknn.score(X_test_v, Y_test_array)"
      ],
      "metadata": {
        "colab": {
          "base_uri": "https://localhost:8080/"
        },
        "id": "ojnPPSd5pKdV",
        "outputId": "85dce30b-b473-4efc-a397-27e178a3a29a"
      },
      "execution_count": 43,
      "outputs": [
        {
          "output_type": "execute_result",
          "data": {
            "text/plain": [
              "0.32532347504621073"
            ]
          },
          "metadata": {},
          "execution_count": 43
        }
      ]
    },
    {
      "cell_type": "code",
      "source": [
        "pred_mlknn = classifier_mlknn.predict(X_test_v)\n",
        "hamming_loss_mlknn = hamming_loss(Y_test_array, pred_mlknn)"
      ],
      "metadata": {
        "id": "5aH2DlvSpL5p"
      },
      "execution_count": 44,
      "outputs": []
    },
    {
      "cell_type": "code",
      "source": [
        "hamming_loss_mlknn"
      ],
      "metadata": {
        "colab": {
          "base_uri": "https://localhost:8080/"
        },
        "id": "cLW522DFpNwz",
        "outputId": "872cde82-a8e4-4784-878b-310686ce2f85"
      },
      "execution_count": 45,
      "outputs": [
        {
          "output_type": "execute_result",
          "data": {
            "text/plain": [
              "0.25231053604436227"
            ]
          },
          "metadata": {},
          "execution_count": 45
        }
      ]
    },
    {
      "cell_type": "markdown",
      "source": [
        "So, actually, we found a lower accuracy and a higher hamming loss using the MLkNN algorithm! Note that using a more complex model does not always mean that our results will improve!"
      ],
      "metadata": {
        "id": "oSr-49ylpY8q"
      }
    },
    {
      "cell_type": "markdown",
      "source": [
        "## Trying to analyze the prediction of our algorithms"
      ],
      "metadata": {
        "id": "LK-nHx0FrN3H"
      }
    },
    {
      "cell_type": "markdown",
      "source": [
        "So, let's try to understand the prediction and the results from each of our algorithms. Let's create a DataFrame to store this:"
      ],
      "metadata": {
        "id": "Jv8xY1VGrS9q"
      }
    },
    {
      "cell_type": "code",
      "source": [
        "results_class = pd.DataFrame( )\n",
        "results_class['posts']   = X_test.values\n",
        "results_class['real']    = Y_test.values\n",
        "results_class['bin_rel'] = list(bin_rel.predict(X_test_v).toarray( ))\n",
        "results_class['chain_class'] = list(chain_class.predict(X_test_v).toarray( ))\n",
        "results_class['mlknn'] = list(classifier_mlknn.predict(X_test_v).toarray( ))"
      ],
      "metadata": {
        "id": "M15J4gBrplVq"
      },
      "execution_count": 60,
      "outputs": []
    },
    {
      "cell_type": "code",
      "source": [
        "results_class"
      ],
      "metadata": {
        "colab": {
          "base_uri": "https://localhost:8080/",
          "height": 424
        },
        "id": "_RHh3aXurwlF",
        "outputId": "85369424-8c4b-4dbf-c064-f05aff06908d"
      },
      "execution_count": 61,
      "outputs": [
        {
          "output_type": "execute_result",
          "data": {
            "text/plain": [
              "                                                  posts          real  \\\n",
              "0     estou com conflito entre o  CODE   e os  CODE ...  (0, 1, 0, 0)   \n",
              "1     Estou fazendo um site que eu sou obrigado a us...  (0, 0, 1, 0)   \n",
              "2     Recentemente fiz um refactor do meu código par...  (1, 0, 0, 0)   \n",
              "3     Eu tenho esse código em CODE  que passo valore...  (0, 1, 1, 0)   \n",
              "4     Olá, em minha função tem o evento CODE  que de...  (0, 1, 1, 0)   \n",
              "...                                                 ...           ...   \n",
              "1077  Estou a desenvolver um website em jQuery. E at...  (0, 1, 0, 0)   \n",
              "1078  Estou usando este plugin - jquery autocomplete...  (0, 1, 0, 0)   \n",
              "1079  Tenho o seguinte jQuery:  CODE   Nisto, quanti...  (0, 1, 0, 0)   \n",
              "1080  Estou usando o SimpleModal Contact Form de Eri...  (0, 1, 0, 0)   \n",
              "1081  Estou tento problemas com o webpack, gostaria ...  (0, 0, 0, 1)   \n",
              "\n",
              "           bin_rel           chain_class         mlknn  \n",
              "0     [0, 1, 0, 0]  [0.0, 1.0, 0.0, 0.0]  [0, 0, 0, 0]  \n",
              "1     [0, 0, 1, 0]  [0.0, 0.0, 1.0, 0.0]  [0, 1, 1, 0]  \n",
              "2     [1, 0, 0, 0]  [1.0, 0.0, 0.0, 0.0]  [1, 0, 0, 0]  \n",
              "3     [0, 1, 0, 0]  [0.0, 1.0, 0.0, 0.0]  [0, 1, 1, 0]  \n",
              "4     [0, 1, 0, 0]  [0.0, 1.0, 0.0, 0.0]  [0, 1, 1, 0]  \n",
              "...            ...                   ...           ...  \n",
              "1077  [0, 1, 1, 0]  [0.0, 1.0, 1.0, 0.0]  [0, 0, 1, 0]  \n",
              "1078  [0, 1, 0, 0]  [0.0, 1.0, 0.0, 0.0]  [0, 1, 0, 0]  \n",
              "1079  [0, 1, 0, 0]  [0.0, 1.0, 0.0, 0.0]  [0, 1, 0, 0]  \n",
              "1080  [0, 1, 0, 0]  [0.0, 1.0, 0.0, 0.0]  [0, 1, 0, 0]  \n",
              "1081  [0, 0, 0, 0]  [0.0, 0.0, 1.0, 0.0]  [0, 0, 1, 0]  \n",
              "\n",
              "[1082 rows x 5 columns]"
            ],
            "text/html": [
              "\n",
              "  <div id=\"df-5721af7f-35da-4646-91a3-9cb2ebe2f05e\">\n",
              "    <div class=\"colab-df-container\">\n",
              "      <div>\n",
              "<style scoped>\n",
              "    .dataframe tbody tr th:only-of-type {\n",
              "        vertical-align: middle;\n",
              "    }\n",
              "\n",
              "    .dataframe tbody tr th {\n",
              "        vertical-align: top;\n",
              "    }\n",
              "\n",
              "    .dataframe thead th {\n",
              "        text-align: right;\n",
              "    }\n",
              "</style>\n",
              "<table border=\"1\" class=\"dataframe\">\n",
              "  <thead>\n",
              "    <tr style=\"text-align: right;\">\n",
              "      <th></th>\n",
              "      <th>posts</th>\n",
              "      <th>real</th>\n",
              "      <th>bin_rel</th>\n",
              "      <th>chain_class</th>\n",
              "      <th>mlknn</th>\n",
              "    </tr>\n",
              "  </thead>\n",
              "  <tbody>\n",
              "    <tr>\n",
              "      <th>0</th>\n",
              "      <td>estou com conflito entre o  CODE   e os  CODE ...</td>\n",
              "      <td>(0, 1, 0, 0)</td>\n",
              "      <td>[0, 1, 0, 0]</td>\n",
              "      <td>[0.0, 1.0, 0.0, 0.0]</td>\n",
              "      <td>[0, 0, 0, 0]</td>\n",
              "    </tr>\n",
              "    <tr>\n",
              "      <th>1</th>\n",
              "      <td>Estou fazendo um site que eu sou obrigado a us...</td>\n",
              "      <td>(0, 0, 1, 0)</td>\n",
              "      <td>[0, 0, 1, 0]</td>\n",
              "      <td>[0.0, 0.0, 1.0, 0.0]</td>\n",
              "      <td>[0, 1, 1, 0]</td>\n",
              "    </tr>\n",
              "    <tr>\n",
              "      <th>2</th>\n",
              "      <td>Recentemente fiz um refactor do meu código par...</td>\n",
              "      <td>(1, 0, 0, 0)</td>\n",
              "      <td>[1, 0, 0, 0]</td>\n",
              "      <td>[1.0, 0.0, 0.0, 0.0]</td>\n",
              "      <td>[1, 0, 0, 0]</td>\n",
              "    </tr>\n",
              "    <tr>\n",
              "      <th>3</th>\n",
              "      <td>Eu tenho esse código em CODE  que passo valore...</td>\n",
              "      <td>(0, 1, 1, 0)</td>\n",
              "      <td>[0, 1, 0, 0]</td>\n",
              "      <td>[0.0, 1.0, 0.0, 0.0]</td>\n",
              "      <td>[0, 1, 1, 0]</td>\n",
              "    </tr>\n",
              "    <tr>\n",
              "      <th>4</th>\n",
              "      <td>Olá, em minha função tem o evento CODE  que de...</td>\n",
              "      <td>(0, 1, 1, 0)</td>\n",
              "      <td>[0, 1, 0, 0]</td>\n",
              "      <td>[0.0, 1.0, 0.0, 0.0]</td>\n",
              "      <td>[0, 1, 1, 0]</td>\n",
              "    </tr>\n",
              "    <tr>\n",
              "      <th>...</th>\n",
              "      <td>...</td>\n",
              "      <td>...</td>\n",
              "      <td>...</td>\n",
              "      <td>...</td>\n",
              "      <td>...</td>\n",
              "    </tr>\n",
              "    <tr>\n",
              "      <th>1077</th>\n",
              "      <td>Estou a desenvolver um website em jQuery. E at...</td>\n",
              "      <td>(0, 1, 0, 0)</td>\n",
              "      <td>[0, 1, 1, 0]</td>\n",
              "      <td>[0.0, 1.0, 1.0, 0.0]</td>\n",
              "      <td>[0, 0, 1, 0]</td>\n",
              "    </tr>\n",
              "    <tr>\n",
              "      <th>1078</th>\n",
              "      <td>Estou usando este plugin - jquery autocomplete...</td>\n",
              "      <td>(0, 1, 0, 0)</td>\n",
              "      <td>[0, 1, 0, 0]</td>\n",
              "      <td>[0.0, 1.0, 0.0, 0.0]</td>\n",
              "      <td>[0, 1, 0, 0]</td>\n",
              "    </tr>\n",
              "    <tr>\n",
              "      <th>1079</th>\n",
              "      <td>Tenho o seguinte jQuery:  CODE   Nisto, quanti...</td>\n",
              "      <td>(0, 1, 0, 0)</td>\n",
              "      <td>[0, 1, 0, 0]</td>\n",
              "      <td>[0.0, 1.0, 0.0, 0.0]</td>\n",
              "      <td>[0, 1, 0, 0]</td>\n",
              "    </tr>\n",
              "    <tr>\n",
              "      <th>1080</th>\n",
              "      <td>Estou usando o SimpleModal Contact Form de Eri...</td>\n",
              "      <td>(0, 1, 0, 0)</td>\n",
              "      <td>[0, 1, 0, 0]</td>\n",
              "      <td>[0.0, 1.0, 0.0, 0.0]</td>\n",
              "      <td>[0, 1, 0, 0]</td>\n",
              "    </tr>\n",
              "    <tr>\n",
              "      <th>1081</th>\n",
              "      <td>Estou tento problemas com o webpack, gostaria ...</td>\n",
              "      <td>(0, 0, 0, 1)</td>\n",
              "      <td>[0, 0, 0, 0]</td>\n",
              "      <td>[0.0, 0.0, 1.0, 0.0]</td>\n",
              "      <td>[0, 0, 1, 0]</td>\n",
              "    </tr>\n",
              "  </tbody>\n",
              "</table>\n",
              "<p>1082 rows × 5 columns</p>\n",
              "</div>\n",
              "      <button class=\"colab-df-convert\" onclick=\"convertToInteractive('df-5721af7f-35da-4646-91a3-9cb2ebe2f05e')\"\n",
              "              title=\"Convert this dataframe to an interactive table.\"\n",
              "              style=\"display:none;\">\n",
              "        \n",
              "  <svg xmlns=\"http://www.w3.org/2000/svg\" height=\"24px\"viewBox=\"0 0 24 24\"\n",
              "       width=\"24px\">\n",
              "    <path d=\"M0 0h24v24H0V0z\" fill=\"none\"/>\n",
              "    <path d=\"M18.56 5.44l.94 2.06.94-2.06 2.06-.94-2.06-.94-.94-2.06-.94 2.06-2.06.94zm-11 1L8.5 8.5l.94-2.06 2.06-.94-2.06-.94L8.5 2.5l-.94 2.06-2.06.94zm10 10l.94 2.06.94-2.06 2.06-.94-2.06-.94-.94-2.06-.94 2.06-2.06.94z\"/><path d=\"M17.41 7.96l-1.37-1.37c-.4-.4-.92-.59-1.43-.59-.52 0-1.04.2-1.43.59L10.3 9.45l-7.72 7.72c-.78.78-.78 2.05 0 2.83L4 21.41c.39.39.9.59 1.41.59.51 0 1.02-.2 1.41-.59l7.78-7.78 2.81-2.81c.8-.78.8-2.07 0-2.86zM5.41 20L4 18.59l7.72-7.72 1.47 1.35L5.41 20z\"/>\n",
              "  </svg>\n",
              "      </button>\n",
              "      \n",
              "  <style>\n",
              "    .colab-df-container {\n",
              "      display:flex;\n",
              "      flex-wrap:wrap;\n",
              "      gap: 12px;\n",
              "    }\n",
              "\n",
              "    .colab-df-convert {\n",
              "      background-color: #E8F0FE;\n",
              "      border: none;\n",
              "      border-radius: 50%;\n",
              "      cursor: pointer;\n",
              "      display: none;\n",
              "      fill: #1967D2;\n",
              "      height: 32px;\n",
              "      padding: 0 0 0 0;\n",
              "      width: 32px;\n",
              "    }\n",
              "\n",
              "    .colab-df-convert:hover {\n",
              "      background-color: #E2EBFA;\n",
              "      box-shadow: 0px 1px 2px rgba(60, 64, 67, 0.3), 0px 1px 3px 1px rgba(60, 64, 67, 0.15);\n",
              "      fill: #174EA6;\n",
              "    }\n",
              "\n",
              "    [theme=dark] .colab-df-convert {\n",
              "      background-color: #3B4455;\n",
              "      fill: #D2E3FC;\n",
              "    }\n",
              "\n",
              "    [theme=dark] .colab-df-convert:hover {\n",
              "      background-color: #434B5C;\n",
              "      box-shadow: 0px 1px 3px 1px rgba(0, 0, 0, 0.15);\n",
              "      filter: drop-shadow(0px 1px 2px rgba(0, 0, 0, 0.3));\n",
              "      fill: #FFFFFF;\n",
              "    }\n",
              "  </style>\n",
              "\n",
              "      <script>\n",
              "        const buttonEl =\n",
              "          document.querySelector('#df-5721af7f-35da-4646-91a3-9cb2ebe2f05e button.colab-df-convert');\n",
              "        buttonEl.style.display =\n",
              "          google.colab.kernel.accessAllowed ? 'block' : 'none';\n",
              "\n",
              "        async function convertToInteractive(key) {\n",
              "          const element = document.querySelector('#df-5721af7f-35da-4646-91a3-9cb2ebe2f05e');\n",
              "          const dataTable =\n",
              "            await google.colab.kernel.invokeFunction('convertToInteractive',\n",
              "                                                     [key], {});\n",
              "          if (!dataTable) return;\n",
              "\n",
              "          const docLinkHtml = 'Like what you see? Visit the ' +\n",
              "            '<a target=\"_blank\" href=https://colab.research.google.com/notebooks/data_table.ipynb>data table notebook</a>'\n",
              "            + ' to learn more about interactive tables.';\n",
              "          element.innerHTML = '';\n",
              "          dataTable['output_type'] = 'display_data';\n",
              "          await google.colab.output.renderOutput(dataTable, element);\n",
              "          const docLink = document.createElement('div');\n",
              "          docLink.innerHTML = docLinkHtml;\n",
              "          element.appendChild(docLink);\n",
              "        }\n",
              "      </script>\n",
              "    </div>\n",
              "  </div>\n",
              "  "
            ]
          },
          "metadata": {},
          "execution_count": 61
        }
      ]
    },
    {
      "cell_type": "markdown",
      "source": [
        "Nice! We can see, for instance, that the two first entries are right for the binary relevan and chain classification, but wrong for MLkNN. The third entry is correct for all algorithms. The fourth entry is correct only for MLkNN. And the list goes on."
      ],
      "metadata": {
        "id": "eBcWkSh1tCJv"
      }
    }
  ]
}