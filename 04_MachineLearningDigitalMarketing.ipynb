{
  "nbformat": 4,
  "nbformat_minor": 0,
  "metadata": {
    "colab": {
      "name": "04_MachineLearningDigitalMarketing.ipynb",
      "provenance": [],
      "collapsed_sections": [],
      "toc_visible": true,
      "authorship_tag": "ABX9TyP6pw3NNK7U0sSkmnH797bx",
      "include_colab_link": true
    },
    "kernelspec": {
      "name": "python3",
      "display_name": "Python 3"
    },
    "language_info": {
      "name": "python"
    }
  },
  "cells": [
    {
      "cell_type": "markdown",
      "metadata": {
        "id": "view-in-github",
        "colab_type": "text"
      },
      "source": [
        "<a href=\"https://colab.research.google.com/github/LeonardoGoncRibeiro/05_AppliedMachineLearning/blob/main/04_MachineLearningDigitalMarketing.ipynb\" target=\"_parent\"><img src=\"https://colab.research.google.com/assets/colab-badge.svg\" alt=\"Open In Colab\"/></a>"
      ]
    },
    {
      "cell_type": "markdown",
      "source": [
        "# Data Analytics: Machine Learning for Digital Marketing\n",
        "\n",
        "In this course, we will learn how to apply machine learning models for digital marketing. We will understand how to extract data for online behavior, then turn the data into JSON format. In the end, we will apply Gradient Boost to predict how much a given user will spend on our virtual store.\n",
        "\n",
        "For that end, we will use data from the Google Merchandise Store. So, let's import our dataset:"
      ],
      "metadata": {
        "id": "y-kkgwJIFyw2"
      }
    },
    {
      "cell_type": "code",
      "execution_count": 1,
      "metadata": {
        "id": "lzMdVM_jFvKZ"
      },
      "outputs": [],
      "source": [
        "import pandas as pd"
      ]
    },
    {
      "cell_type": "code",
      "source": [
        "df = pd.read_csv('https://raw.githubusercontent.com/alura-cursos/digital-marketing-ml/master/train.csv')"
      ],
      "metadata": {
        "id": "SnMxQ9JhHHNw"
      },
      "execution_count": 2,
      "outputs": []
    },
    {
      "cell_type": "code",
      "source": [
        "df.head(2)"
      ],
      "metadata": {
        "colab": {
          "base_uri": "https://localhost:8080/",
          "height": 280
        },
        "id": "NlLz1F10HRqk",
        "outputId": "edb795c4-be2d-43eb-ee0c-ca6ce5458d3a"
      },
      "execution_count": 3,
      "outputs": [
        {
          "output_type": "execute_result",
          "data": {
            "text/plain": [
              "  channelGrouping      date  \\\n",
              "0  Organic Search  20160902   \n",
              "1  Organic Search  20160902   \n",
              "\n",
              "                                              device        fullVisitorId  \\\n",
              "0  {\"browser\": \"Chrome\", \"browserVersion\": \"not a...  9674781571160116268   \n",
              "1  {\"browser\": \"Chrome\", \"browserVersion\": \"not a...  8590648239310839049   \n",
              "\n",
              "                                          geoNetwork  \\\n",
              "0  {\"continent\": \"Asia\", \"subContinent\": \"Southea...   \n",
              "1  {\"continent\": \"Europe\", \"subContinent\": \"Easte...   \n",
              "\n",
              "                        sessionId  socialEngagementType  \\\n",
              "0  9674781571160116268_1472804607  Not Socially Engaged   \n",
              "1  8590648239310839049_1472835928  Not Socially Engaged   \n",
              "\n",
              "                                              totals  \\\n",
              "0  {\"visits\": \"1\", \"hits\": \"1\", \"pageviews\": \"1\",...   \n",
              "1  {\"visits\": \"1\", \"hits\": \"1\", \"pageviews\": \"1\",...   \n",
              "\n",
              "                                       trafficSource     visitId  visitNumber  \\\n",
              "0  {\"campaign\": \"(not set)\", \"source\": \"google\", ...  1472804607            1   \n",
              "1  {\"campaign\": \"(not set)\", \"source\": \"google\", ...  1472835928            1   \n",
              "\n",
              "   visitStartTime  \n",
              "0      1472804607  \n",
              "1      1472835928  "
            ],
            "text/html": [
              "\n",
              "  <div id=\"df-f787843e-0c55-4a62-be4e-4ea31ce1c5f9\">\n",
              "    <div class=\"colab-df-container\">\n",
              "      <div>\n",
              "<style scoped>\n",
              "    .dataframe tbody tr th:only-of-type {\n",
              "        vertical-align: middle;\n",
              "    }\n",
              "\n",
              "    .dataframe tbody tr th {\n",
              "        vertical-align: top;\n",
              "    }\n",
              "\n",
              "    .dataframe thead th {\n",
              "        text-align: right;\n",
              "    }\n",
              "</style>\n",
              "<table border=\"1\" class=\"dataframe\">\n",
              "  <thead>\n",
              "    <tr style=\"text-align: right;\">\n",
              "      <th></th>\n",
              "      <th>channelGrouping</th>\n",
              "      <th>date</th>\n",
              "      <th>device</th>\n",
              "      <th>fullVisitorId</th>\n",
              "      <th>geoNetwork</th>\n",
              "      <th>sessionId</th>\n",
              "      <th>socialEngagementType</th>\n",
              "      <th>totals</th>\n",
              "      <th>trafficSource</th>\n",
              "      <th>visitId</th>\n",
              "      <th>visitNumber</th>\n",
              "      <th>visitStartTime</th>\n",
              "    </tr>\n",
              "  </thead>\n",
              "  <tbody>\n",
              "    <tr>\n",
              "      <th>0</th>\n",
              "      <td>Organic Search</td>\n",
              "      <td>20160902</td>\n",
              "      <td>{\"browser\": \"Chrome\", \"browserVersion\": \"not a...</td>\n",
              "      <td>9674781571160116268</td>\n",
              "      <td>{\"continent\": \"Asia\", \"subContinent\": \"Southea...</td>\n",
              "      <td>9674781571160116268_1472804607</td>\n",
              "      <td>Not Socially Engaged</td>\n",
              "      <td>{\"visits\": \"1\", \"hits\": \"1\", \"pageviews\": \"1\",...</td>\n",
              "      <td>{\"campaign\": \"(not set)\", \"source\": \"google\", ...</td>\n",
              "      <td>1472804607</td>\n",
              "      <td>1</td>\n",
              "      <td>1472804607</td>\n",
              "    </tr>\n",
              "    <tr>\n",
              "      <th>1</th>\n",
              "      <td>Organic Search</td>\n",
              "      <td>20160902</td>\n",
              "      <td>{\"browser\": \"Chrome\", \"browserVersion\": \"not a...</td>\n",
              "      <td>8590648239310839049</td>\n",
              "      <td>{\"continent\": \"Europe\", \"subContinent\": \"Easte...</td>\n",
              "      <td>8590648239310839049_1472835928</td>\n",
              "      <td>Not Socially Engaged</td>\n",
              "      <td>{\"visits\": \"1\", \"hits\": \"1\", \"pageviews\": \"1\",...</td>\n",
              "      <td>{\"campaign\": \"(not set)\", \"source\": \"google\", ...</td>\n",
              "      <td>1472835928</td>\n",
              "      <td>1</td>\n",
              "      <td>1472835928</td>\n",
              "    </tr>\n",
              "  </tbody>\n",
              "</table>\n",
              "</div>\n",
              "      <button class=\"colab-df-convert\" onclick=\"convertToInteractive('df-f787843e-0c55-4a62-be4e-4ea31ce1c5f9')\"\n",
              "              title=\"Convert this dataframe to an interactive table.\"\n",
              "              style=\"display:none;\">\n",
              "        \n",
              "  <svg xmlns=\"http://www.w3.org/2000/svg\" height=\"24px\"viewBox=\"0 0 24 24\"\n",
              "       width=\"24px\">\n",
              "    <path d=\"M0 0h24v24H0V0z\" fill=\"none\"/>\n",
              "    <path d=\"M18.56 5.44l.94 2.06.94-2.06 2.06-.94-2.06-.94-.94-2.06-.94 2.06-2.06.94zm-11 1L8.5 8.5l.94-2.06 2.06-.94-2.06-.94L8.5 2.5l-.94 2.06-2.06.94zm10 10l.94 2.06.94-2.06 2.06-.94-2.06-.94-.94-2.06-.94 2.06-2.06.94z\"/><path d=\"M17.41 7.96l-1.37-1.37c-.4-.4-.92-.59-1.43-.59-.52 0-1.04.2-1.43.59L10.3 9.45l-7.72 7.72c-.78.78-.78 2.05 0 2.83L4 21.41c.39.39.9.59 1.41.59.51 0 1.02-.2 1.41-.59l7.78-7.78 2.81-2.81c.8-.78.8-2.07 0-2.86zM5.41 20L4 18.59l7.72-7.72 1.47 1.35L5.41 20z\"/>\n",
              "  </svg>\n",
              "      </button>\n",
              "      \n",
              "  <style>\n",
              "    .colab-df-container {\n",
              "      display:flex;\n",
              "      flex-wrap:wrap;\n",
              "      gap: 12px;\n",
              "    }\n",
              "\n",
              "    .colab-df-convert {\n",
              "      background-color: #E8F0FE;\n",
              "      border: none;\n",
              "      border-radius: 50%;\n",
              "      cursor: pointer;\n",
              "      display: none;\n",
              "      fill: #1967D2;\n",
              "      height: 32px;\n",
              "      padding: 0 0 0 0;\n",
              "      width: 32px;\n",
              "    }\n",
              "\n",
              "    .colab-df-convert:hover {\n",
              "      background-color: #E2EBFA;\n",
              "      box-shadow: 0px 1px 2px rgba(60, 64, 67, 0.3), 0px 1px 3px 1px rgba(60, 64, 67, 0.15);\n",
              "      fill: #174EA6;\n",
              "    }\n",
              "\n",
              "    [theme=dark] .colab-df-convert {\n",
              "      background-color: #3B4455;\n",
              "      fill: #D2E3FC;\n",
              "    }\n",
              "\n",
              "    [theme=dark] .colab-df-convert:hover {\n",
              "      background-color: #434B5C;\n",
              "      box-shadow: 0px 1px 3px 1px rgba(0, 0, 0, 0.15);\n",
              "      filter: drop-shadow(0px 1px 2px rgba(0, 0, 0, 0.3));\n",
              "      fill: #FFFFFF;\n",
              "    }\n",
              "  </style>\n",
              "\n",
              "      <script>\n",
              "        const buttonEl =\n",
              "          document.querySelector('#df-f787843e-0c55-4a62-be4e-4ea31ce1c5f9 button.colab-df-convert');\n",
              "        buttonEl.style.display =\n",
              "          google.colab.kernel.accessAllowed ? 'block' : 'none';\n",
              "\n",
              "        async function convertToInteractive(key) {\n",
              "          const element = document.querySelector('#df-f787843e-0c55-4a62-be4e-4ea31ce1c5f9');\n",
              "          const dataTable =\n",
              "            await google.colab.kernel.invokeFunction('convertToInteractive',\n",
              "                                                     [key], {});\n",
              "          if (!dataTable) return;\n",
              "\n",
              "          const docLinkHtml = 'Like what you see? Visit the ' +\n",
              "            '<a target=\"_blank\" href=https://colab.research.google.com/notebooks/data_table.ipynb>data table notebook</a>'\n",
              "            + ' to learn more about interactive tables.';\n",
              "          element.innerHTML = '';\n",
              "          dataTable['output_type'] = 'display_data';\n",
              "          await google.colab.output.renderOutput(dataTable, element);\n",
              "          const docLink = document.createElement('div');\n",
              "          docLink.innerHTML = docLinkHtml;\n",
              "          element.appendChild(docLink);\n",
              "        }\n",
              "      </script>\n",
              "    </div>\n",
              "  </div>\n",
              "  "
            ]
          },
          "metadata": {},
          "execution_count": 3
        }
      ]
    },
    {
      "cell_type": "markdown",
      "source": [
        "## Understading our dataset"
      ],
      "metadata": {
        "id": "jNEvyCm3OmKN"
      }
    },
    {
      "cell_type": "markdown",
      "source": [
        "Nice! So, our dataset has some information about our visitors. Each entry is realted to a session."
      ],
      "metadata": {
        "id": "sKTrYDSPHVko"
      }
    },
    {
      "cell_type": "code",
      "source": [
        "df.shape"
      ],
      "metadata": {
        "colab": {
          "base_uri": "https://localhost:8080/"
        },
        "id": "QFh9Qq-WHSqp",
        "outputId": "0408b451-e7f9-4c99-e101-292b4633cd4a"
      },
      "execution_count": 4,
      "outputs": [
        {
          "output_type": "execute_result",
          "data": {
            "text/plain": [
              "(12283, 12)"
            ]
          },
          "metadata": {},
          "execution_count": 4
        }
      ]
    },
    {
      "cell_type": "markdown",
      "source": [
        "Our dataset has 12283 entries and 12 features. Since each entry is related to one session, we might have multiple entries for the same user. Let's see how many unique users we have in our dataset:"
      ],
      "metadata": {
        "id": "mwCeTshtHg8l"
      }
    },
    {
      "cell_type": "code",
      "source": [
        "len(df.fullVisitorId.unique( ))"
      ],
      "metadata": {
        "colab": {
          "base_uri": "https://localhost:8080/"
        },
        "id": "bPWecTqzHgiP",
        "outputId": "15287814-d14d-4e60-a356-2dcfb0670ae2"
      },
      "execution_count": 5,
      "outputs": [
        {
          "output_type": "execute_result",
          "data": {
            "text/plain": [
              "9996"
            ]
          },
          "metadata": {},
          "execution_count": 5
        }
      ]
    },
    {
      "cell_type": "markdown",
      "source": [
        "So, we have 9996 unique visitors. Now, let's understand the typing of our columns, as well as if there are any null values:"
      ],
      "metadata": {
        "id": "yRxbS98HH8uV"
      }
    },
    {
      "cell_type": "code",
      "source": [
        "df.info( )"
      ],
      "metadata": {
        "colab": {
          "base_uri": "https://localhost:8080/"
        },
        "id": "KzSw_3RkH7CX",
        "outputId": "6bc7e05d-e276-4183-9e71-22678f0b0272"
      },
      "execution_count": 6,
      "outputs": [
        {
          "output_type": "stream",
          "name": "stdout",
          "text": [
            "<class 'pandas.core.frame.DataFrame'>\n",
            "RangeIndex: 12283 entries, 0 to 12282\n",
            "Data columns (total 12 columns):\n",
            " #   Column                Non-Null Count  Dtype \n",
            "---  ------                --------------  ----- \n",
            " 0   channelGrouping       12283 non-null  object\n",
            " 1   date                  12283 non-null  int64 \n",
            " 2   device                12283 non-null  object\n",
            " 3   fullVisitorId         12283 non-null  uint64\n",
            " 4   geoNetwork            12283 non-null  object\n",
            " 5   sessionId             12283 non-null  object\n",
            " 6   socialEngagementType  12283 non-null  object\n",
            " 7   totals                12283 non-null  object\n",
            " 8   trafficSource         12283 non-null  object\n",
            " 9   visitId               12283 non-null  int64 \n",
            " 10  visitNumber           12283 non-null  int64 \n",
            " 11  visitStartTime        12283 non-null  int64 \n",
            "dtypes: int64(4), object(7), uint64(1)\n",
            "memory usage: 1.1+ MB\n"
          ]
        }
      ]
    },
    {
      "cell_type": "markdown",
      "source": [
        "Thus, we have no null values in our dataset. Note that data was identified as an integer. Let's change it so that it is identified as a datetime format:"
      ],
      "metadata": {
        "id": "IxppbOzwIJIc"
      }
    },
    {
      "cell_type": "code",
      "source": [
        "df.date = df.date.apply(lambda x : pd.to_datetime(str(df.date.iloc[0])[0:4] + '-' + str(df.date.iloc[0])[4:6] + '-' + str(df.date.iloc[0])[6:8]))"
      ],
      "metadata": {
        "id": "cyF1ete2IEwI"
      },
      "execution_count": 7,
      "outputs": []
    },
    {
      "cell_type": "code",
      "source": [
        "df.info( )"
      ],
      "metadata": {
        "colab": {
          "base_uri": "https://localhost:8080/"
        },
        "id": "c_yCJAbLJLqT",
        "outputId": "4498c323-c70a-41d0-cfc4-9f4202bf678d"
      },
      "execution_count": 8,
      "outputs": [
        {
          "output_type": "stream",
          "name": "stdout",
          "text": [
            "<class 'pandas.core.frame.DataFrame'>\n",
            "RangeIndex: 12283 entries, 0 to 12282\n",
            "Data columns (total 12 columns):\n",
            " #   Column                Non-Null Count  Dtype         \n",
            "---  ------                --------------  -----         \n",
            " 0   channelGrouping       12283 non-null  object        \n",
            " 1   date                  12283 non-null  datetime64[ns]\n",
            " 2   device                12283 non-null  object        \n",
            " 3   fullVisitorId         12283 non-null  uint64        \n",
            " 4   geoNetwork            12283 non-null  object        \n",
            " 5   sessionId             12283 non-null  object        \n",
            " 6   socialEngagementType  12283 non-null  object        \n",
            " 7   totals                12283 non-null  object        \n",
            " 8   trafficSource         12283 non-null  object        \n",
            " 9   visitId               12283 non-null  int64         \n",
            " 10  visitNumber           12283 non-null  int64         \n",
            " 11  visitStartTime        12283 non-null  int64         \n",
            "dtypes: datetime64[ns](1), int64(3), object(7), uint64(1)\n",
            "memory usage: 1.1+ MB\n"
          ]
        }
      ]
    },
    {
      "cell_type": "markdown",
      "source": [
        "Nice! Another important thing is that some Id features are also being interpreted as integers. However, it is important that these are interpreted as strings. So, let's do:"
      ],
      "metadata": {
        "id": "1KoifB-yJTqL"
      }
    },
    {
      "cell_type": "code",
      "source": [
        "df = df.astype({'fullVisitorId' : object, 'visitId' : object})"
      ],
      "metadata": {
        "id": "8WuoZkKmJNmC"
      },
      "execution_count": 9,
      "outputs": []
    },
    {
      "cell_type": "markdown",
      "source": [
        "Nice! Now let's discuss some of these labels. We have information about:\n",
        "\n",
        "* Who is visiting our site.\n",
        "* When is the visit occurring.\n",
        "* From which channel the visit is being made. \n",
        "* The number of visits already made by the user.\n",
        "\n",
        "This information come from Google Analytics, and we can measure the behavior of users in sites and apps. Note that some values are bounded by { }. These are actually JSONs. For instance, if we take a look at one information under device:\n"
      ],
      "metadata": {
        "id": "uImgWpBsKf1e"
      }
    },
    {
      "cell_type": "code",
      "source": [
        "df.device.iloc[0]"
      ],
      "metadata": {
        "colab": {
          "base_uri": "https://localhost:8080/",
          "height": 109
        },
        "id": "8S6lRF6tKBm_",
        "outputId": "0e8fa304-d814-45ef-c4d1-a944e3d05c53"
      },
      "execution_count": 10,
      "outputs": [
        {
          "output_type": "execute_result",
          "data": {
            "text/plain": [
              "'{\"browser\": \"Chrome\", \"browserVersion\": \"not available in demo dataset\", \"browserSize\": \"not available in demo dataset\", \"operatingSystem\": \"Windows\", \"operatingSystemVersion\": \"not available in demo dataset\", \"isMobile\": false, \"mobileDeviceBranding\": \"not available in demo dataset\", \"mobileDeviceModel\": \"not available in demo dataset\", \"mobileInputSelector\": \"not available in demo dataset\", \"mobileDeviceInfo\": \"not available in demo dataset\", \"mobileDeviceMarketingName\": \"not available in demo dataset\", \"flashVersion\": \"not available in demo dataset\", \"language\": \"not available in demo dataset\", \"screenColors\": \"not available in demo dataset\", \"screenResolution\": \"not available in demo dataset\", \"deviceCategory\": \"desktop\"}'"
            ],
            "application/vnd.google.colaboratory.intrinsic+json": {
              "type": "string"
            }
          },
          "metadata": {},
          "execution_count": 10
        }
      ]
    },
    {
      "cell_type": "markdown",
      "source": [
        "## Cleaning and treating our dataset"
      ],
      "metadata": {
        "id": "BouV4NKEOqru"
      }
    },
    {
      "cell_type": "markdown",
      "source": [
        "We have a lot of information. To use a model, it would be interesting to have these values in separated columns. Let's try to do this using the json library:"
      ],
      "metadata": {
        "id": "ZSkVMD3fMiHW"
      }
    },
    {
      "cell_type": "code",
      "source": [
        "import json\n",
        "\n",
        "json.loads(df.device.iloc[0])"
      ],
      "metadata": {
        "colab": {
          "base_uri": "https://localhost:8080/"
        },
        "id": "DnCbdWsFMhTc",
        "outputId": "f1699201-c821-444e-e3c4-efac5eac72c3"
      },
      "execution_count": 11,
      "outputs": [
        {
          "output_type": "execute_result",
          "data": {
            "text/plain": [
              "{'browser': 'Chrome',\n",
              " 'browserSize': 'not available in demo dataset',\n",
              " 'browserVersion': 'not available in demo dataset',\n",
              " 'deviceCategory': 'desktop',\n",
              " 'flashVersion': 'not available in demo dataset',\n",
              " 'isMobile': False,\n",
              " 'language': 'not available in demo dataset',\n",
              " 'mobileDeviceBranding': 'not available in demo dataset',\n",
              " 'mobileDeviceInfo': 'not available in demo dataset',\n",
              " 'mobileDeviceMarketingName': 'not available in demo dataset',\n",
              " 'mobileDeviceModel': 'not available in demo dataset',\n",
              " 'mobileInputSelector': 'not available in demo dataset',\n",
              " 'operatingSystem': 'Windows',\n",
              " 'operatingSystemVersion': 'not available in demo dataset',\n",
              " 'screenColors': 'not available in demo dataset',\n",
              " 'screenResolution': 'not available in demo dataset'}"
            ]
          },
          "metadata": {},
          "execution_count": 11
        }
      ]
    },
    {
      "cell_type": "markdown",
      "source": [
        "Note that, now, our data is structured in a dictionary. So, to transform these values in new columns of our data frame, we can do:"
      ],
      "metadata": {
        "id": "ut1rnXyjM2m5"
      }
    },
    {
      "cell_type": "code",
      "source": [
        "pd.DataFrame([json.loads(line) for line in df.device])"
      ],
      "metadata": {
        "colab": {
          "base_uri": "https://localhost:8080/",
          "height": 1000
        },
        "id": "-_Uy_ifmM1ls",
        "outputId": "ab93ca0b-1970-49cb-8d88-f845092c8a4d"
      },
      "execution_count": 12,
      "outputs": [
        {
          "output_type": "execute_result",
          "data": {
            "text/plain": [
              "               browser                 browserVersion  \\\n",
              "0               Chrome  not available in demo dataset   \n",
              "1               Chrome  not available in demo dataset   \n",
              "2               Chrome  not available in demo dataset   \n",
              "3               Safari  not available in demo dataset   \n",
              "4               Safari  not available in demo dataset   \n",
              "...                ...                            ...   \n",
              "12278           Chrome  not available in demo dataset   \n",
              "12279           Chrome  not available in demo dataset   \n",
              "12280           Chrome  not available in demo dataset   \n",
              "12281           Chrome  not available in demo dataset   \n",
              "12282  Android Webview  not available in demo dataset   \n",
              "\n",
              "                         browserSize operatingSystem  \\\n",
              "0      not available in demo dataset         Windows   \n",
              "1      not available in demo dataset       Macintosh   \n",
              "2      not available in demo dataset       Macintosh   \n",
              "3      not available in demo dataset             iOS   \n",
              "4      not available in demo dataset             iOS   \n",
              "...                              ...             ...   \n",
              "12278  not available in demo dataset         Windows   \n",
              "12279  not available in demo dataset         Android   \n",
              "12280  not available in demo dataset           Linux   \n",
              "12281  not available in demo dataset         Android   \n",
              "12282  not available in demo dataset         Android   \n",
              "\n",
              "              operatingSystemVersion  isMobile           mobileDeviceBranding  \\\n",
              "0      not available in demo dataset     False  not available in demo dataset   \n",
              "1      not available in demo dataset     False  not available in demo dataset   \n",
              "2      not available in demo dataset     False  not available in demo dataset   \n",
              "3      not available in demo dataset      True  not available in demo dataset   \n",
              "4      not available in demo dataset      True  not available in demo dataset   \n",
              "...                              ...       ...                            ...   \n",
              "12278  not available in demo dataset     False  not available in demo dataset   \n",
              "12279  not available in demo dataset      True  not available in demo dataset   \n",
              "12280  not available in demo dataset     False  not available in demo dataset   \n",
              "12281  not available in demo dataset      True  not available in demo dataset   \n",
              "12282  not available in demo dataset      True  not available in demo dataset   \n",
              "\n",
              "                   mobileDeviceModel            mobileInputSelector  \\\n",
              "0      not available in demo dataset  not available in demo dataset   \n",
              "1      not available in demo dataset  not available in demo dataset   \n",
              "2      not available in demo dataset  not available in demo dataset   \n",
              "3      not available in demo dataset  not available in demo dataset   \n",
              "4      not available in demo dataset  not available in demo dataset   \n",
              "...                              ...                            ...   \n",
              "12278  not available in demo dataset  not available in demo dataset   \n",
              "12279  not available in demo dataset  not available in demo dataset   \n",
              "12280  not available in demo dataset  not available in demo dataset   \n",
              "12281  not available in demo dataset  not available in demo dataset   \n",
              "12282  not available in demo dataset  not available in demo dataset   \n",
              "\n",
              "                    mobileDeviceInfo      mobileDeviceMarketingName  \\\n",
              "0      not available in demo dataset  not available in demo dataset   \n",
              "1      not available in demo dataset  not available in demo dataset   \n",
              "2      not available in demo dataset  not available in demo dataset   \n",
              "3      not available in demo dataset  not available in demo dataset   \n",
              "4      not available in demo dataset  not available in demo dataset   \n",
              "...                              ...                            ...   \n",
              "12278  not available in demo dataset  not available in demo dataset   \n",
              "12279  not available in demo dataset  not available in demo dataset   \n",
              "12280  not available in demo dataset  not available in demo dataset   \n",
              "12281  not available in demo dataset  not available in demo dataset   \n",
              "12282  not available in demo dataset  not available in demo dataset   \n",
              "\n",
              "                        flashVersion                       language  \\\n",
              "0      not available in demo dataset  not available in demo dataset   \n",
              "1      not available in demo dataset  not available in demo dataset   \n",
              "2      not available in demo dataset  not available in demo dataset   \n",
              "3      not available in demo dataset  not available in demo dataset   \n",
              "4      not available in demo dataset  not available in demo dataset   \n",
              "...                              ...                            ...   \n",
              "12278  not available in demo dataset  not available in demo dataset   \n",
              "12279  not available in demo dataset  not available in demo dataset   \n",
              "12280  not available in demo dataset  not available in demo dataset   \n",
              "12281  not available in demo dataset  not available in demo dataset   \n",
              "12282  not available in demo dataset  not available in demo dataset   \n",
              "\n",
              "                        screenColors               screenResolution  \\\n",
              "0      not available in demo dataset  not available in demo dataset   \n",
              "1      not available in demo dataset  not available in demo dataset   \n",
              "2      not available in demo dataset  not available in demo dataset   \n",
              "3      not available in demo dataset  not available in demo dataset   \n",
              "4      not available in demo dataset  not available in demo dataset   \n",
              "...                              ...                            ...   \n",
              "12278  not available in demo dataset  not available in demo dataset   \n",
              "12279  not available in demo dataset  not available in demo dataset   \n",
              "12280  not available in demo dataset  not available in demo dataset   \n",
              "12281  not available in demo dataset  not available in demo dataset   \n",
              "12282  not available in demo dataset  not available in demo dataset   \n",
              "\n",
              "      deviceCategory  \n",
              "0            desktop  \n",
              "1            desktop  \n",
              "2            desktop  \n",
              "3             mobile  \n",
              "4             mobile  \n",
              "...              ...  \n",
              "12278        desktop  \n",
              "12279         mobile  \n",
              "12280        desktop  \n",
              "12281         mobile  \n",
              "12282         tablet  \n",
              "\n",
              "[12283 rows x 16 columns]"
            ],
            "text/html": [
              "\n",
              "  <div id=\"df-343b5fdf-bf79-4ec4-9e2b-31f2eb36a398\">\n",
              "    <div class=\"colab-df-container\">\n",
              "      <div>\n",
              "<style scoped>\n",
              "    .dataframe tbody tr th:only-of-type {\n",
              "        vertical-align: middle;\n",
              "    }\n",
              "\n",
              "    .dataframe tbody tr th {\n",
              "        vertical-align: top;\n",
              "    }\n",
              "\n",
              "    .dataframe thead th {\n",
              "        text-align: right;\n",
              "    }\n",
              "</style>\n",
              "<table border=\"1\" class=\"dataframe\">\n",
              "  <thead>\n",
              "    <tr style=\"text-align: right;\">\n",
              "      <th></th>\n",
              "      <th>browser</th>\n",
              "      <th>browserVersion</th>\n",
              "      <th>browserSize</th>\n",
              "      <th>operatingSystem</th>\n",
              "      <th>operatingSystemVersion</th>\n",
              "      <th>isMobile</th>\n",
              "      <th>mobileDeviceBranding</th>\n",
              "      <th>mobileDeviceModel</th>\n",
              "      <th>mobileInputSelector</th>\n",
              "      <th>mobileDeviceInfo</th>\n",
              "      <th>mobileDeviceMarketingName</th>\n",
              "      <th>flashVersion</th>\n",
              "      <th>language</th>\n",
              "      <th>screenColors</th>\n",
              "      <th>screenResolution</th>\n",
              "      <th>deviceCategory</th>\n",
              "    </tr>\n",
              "  </thead>\n",
              "  <tbody>\n",
              "    <tr>\n",
              "      <th>0</th>\n",
              "      <td>Chrome</td>\n",
              "      <td>not available in demo dataset</td>\n",
              "      <td>not available in demo dataset</td>\n",
              "      <td>Windows</td>\n",
              "      <td>not available in demo dataset</td>\n",
              "      <td>False</td>\n",
              "      <td>not available in demo dataset</td>\n",
              "      <td>not available in demo dataset</td>\n",
              "      <td>not available in demo dataset</td>\n",
              "      <td>not available in demo dataset</td>\n",
              "      <td>not available in demo dataset</td>\n",
              "      <td>not available in demo dataset</td>\n",
              "      <td>not available in demo dataset</td>\n",
              "      <td>not available in demo dataset</td>\n",
              "      <td>not available in demo dataset</td>\n",
              "      <td>desktop</td>\n",
              "    </tr>\n",
              "    <tr>\n",
              "      <th>1</th>\n",
              "      <td>Chrome</td>\n",
              "      <td>not available in demo dataset</td>\n",
              "      <td>not available in demo dataset</td>\n",
              "      <td>Macintosh</td>\n",
              "      <td>not available in demo dataset</td>\n",
              "      <td>False</td>\n",
              "      <td>not available in demo dataset</td>\n",
              "      <td>not available in demo dataset</td>\n",
              "      <td>not available in demo dataset</td>\n",
              "      <td>not available in demo dataset</td>\n",
              "      <td>not available in demo dataset</td>\n",
              "      <td>not available in demo dataset</td>\n",
              "      <td>not available in demo dataset</td>\n",
              "      <td>not available in demo dataset</td>\n",
              "      <td>not available in demo dataset</td>\n",
              "      <td>desktop</td>\n",
              "    </tr>\n",
              "    <tr>\n",
              "      <th>2</th>\n",
              "      <td>Chrome</td>\n",
              "      <td>not available in demo dataset</td>\n",
              "      <td>not available in demo dataset</td>\n",
              "      <td>Macintosh</td>\n",
              "      <td>not available in demo dataset</td>\n",
              "      <td>False</td>\n",
              "      <td>not available in demo dataset</td>\n",
              "      <td>not available in demo dataset</td>\n",
              "      <td>not available in demo dataset</td>\n",
              "      <td>not available in demo dataset</td>\n",
              "      <td>not available in demo dataset</td>\n",
              "      <td>not available in demo dataset</td>\n",
              "      <td>not available in demo dataset</td>\n",
              "      <td>not available in demo dataset</td>\n",
              "      <td>not available in demo dataset</td>\n",
              "      <td>desktop</td>\n",
              "    </tr>\n",
              "    <tr>\n",
              "      <th>3</th>\n",
              "      <td>Safari</td>\n",
              "      <td>not available in demo dataset</td>\n",
              "      <td>not available in demo dataset</td>\n",
              "      <td>iOS</td>\n",
              "      <td>not available in demo dataset</td>\n",
              "      <td>True</td>\n",
              "      <td>not available in demo dataset</td>\n",
              "      <td>not available in demo dataset</td>\n",
              "      <td>not available in demo dataset</td>\n",
              "      <td>not available in demo dataset</td>\n",
              "      <td>not available in demo dataset</td>\n",
              "      <td>not available in demo dataset</td>\n",
              "      <td>not available in demo dataset</td>\n",
              "      <td>not available in demo dataset</td>\n",
              "      <td>not available in demo dataset</td>\n",
              "      <td>mobile</td>\n",
              "    </tr>\n",
              "    <tr>\n",
              "      <th>4</th>\n",
              "      <td>Safari</td>\n",
              "      <td>not available in demo dataset</td>\n",
              "      <td>not available in demo dataset</td>\n",
              "      <td>iOS</td>\n",
              "      <td>not available in demo dataset</td>\n",
              "      <td>True</td>\n",
              "      <td>not available in demo dataset</td>\n",
              "      <td>not available in demo dataset</td>\n",
              "      <td>not available in demo dataset</td>\n",
              "      <td>not available in demo dataset</td>\n",
              "      <td>not available in demo dataset</td>\n",
              "      <td>not available in demo dataset</td>\n",
              "      <td>not available in demo dataset</td>\n",
              "      <td>not available in demo dataset</td>\n",
              "      <td>not available in demo dataset</td>\n",
              "      <td>mobile</td>\n",
              "    </tr>\n",
              "    <tr>\n",
              "      <th>...</th>\n",
              "      <td>...</td>\n",
              "      <td>...</td>\n",
              "      <td>...</td>\n",
              "      <td>...</td>\n",
              "      <td>...</td>\n",
              "      <td>...</td>\n",
              "      <td>...</td>\n",
              "      <td>...</td>\n",
              "      <td>...</td>\n",
              "      <td>...</td>\n",
              "      <td>...</td>\n",
              "      <td>...</td>\n",
              "      <td>...</td>\n",
              "      <td>...</td>\n",
              "      <td>...</td>\n",
              "      <td>...</td>\n",
              "    </tr>\n",
              "    <tr>\n",
              "      <th>12278</th>\n",
              "      <td>Chrome</td>\n",
              "      <td>not available in demo dataset</td>\n",
              "      <td>not available in demo dataset</td>\n",
              "      <td>Windows</td>\n",
              "      <td>not available in demo dataset</td>\n",
              "      <td>False</td>\n",
              "      <td>not available in demo dataset</td>\n",
              "      <td>not available in demo dataset</td>\n",
              "      <td>not available in demo dataset</td>\n",
              "      <td>not available in demo dataset</td>\n",
              "      <td>not available in demo dataset</td>\n",
              "      <td>not available in demo dataset</td>\n",
              "      <td>not available in demo dataset</td>\n",
              "      <td>not available in demo dataset</td>\n",
              "      <td>not available in demo dataset</td>\n",
              "      <td>desktop</td>\n",
              "    </tr>\n",
              "    <tr>\n",
              "      <th>12279</th>\n",
              "      <td>Chrome</td>\n",
              "      <td>not available in demo dataset</td>\n",
              "      <td>not available in demo dataset</td>\n",
              "      <td>Android</td>\n",
              "      <td>not available in demo dataset</td>\n",
              "      <td>True</td>\n",
              "      <td>not available in demo dataset</td>\n",
              "      <td>not available in demo dataset</td>\n",
              "      <td>not available in demo dataset</td>\n",
              "      <td>not available in demo dataset</td>\n",
              "      <td>not available in demo dataset</td>\n",
              "      <td>not available in demo dataset</td>\n",
              "      <td>not available in demo dataset</td>\n",
              "      <td>not available in demo dataset</td>\n",
              "      <td>not available in demo dataset</td>\n",
              "      <td>mobile</td>\n",
              "    </tr>\n",
              "    <tr>\n",
              "      <th>12280</th>\n",
              "      <td>Chrome</td>\n",
              "      <td>not available in demo dataset</td>\n",
              "      <td>not available in demo dataset</td>\n",
              "      <td>Linux</td>\n",
              "      <td>not available in demo dataset</td>\n",
              "      <td>False</td>\n",
              "      <td>not available in demo dataset</td>\n",
              "      <td>not available in demo dataset</td>\n",
              "      <td>not available in demo dataset</td>\n",
              "      <td>not available in demo dataset</td>\n",
              "      <td>not available in demo dataset</td>\n",
              "      <td>not available in demo dataset</td>\n",
              "      <td>not available in demo dataset</td>\n",
              "      <td>not available in demo dataset</td>\n",
              "      <td>not available in demo dataset</td>\n",
              "      <td>desktop</td>\n",
              "    </tr>\n",
              "    <tr>\n",
              "      <th>12281</th>\n",
              "      <td>Chrome</td>\n",
              "      <td>not available in demo dataset</td>\n",
              "      <td>not available in demo dataset</td>\n",
              "      <td>Android</td>\n",
              "      <td>not available in demo dataset</td>\n",
              "      <td>True</td>\n",
              "      <td>not available in demo dataset</td>\n",
              "      <td>not available in demo dataset</td>\n",
              "      <td>not available in demo dataset</td>\n",
              "      <td>not available in demo dataset</td>\n",
              "      <td>not available in demo dataset</td>\n",
              "      <td>not available in demo dataset</td>\n",
              "      <td>not available in demo dataset</td>\n",
              "      <td>not available in demo dataset</td>\n",
              "      <td>not available in demo dataset</td>\n",
              "      <td>mobile</td>\n",
              "    </tr>\n",
              "    <tr>\n",
              "      <th>12282</th>\n",
              "      <td>Android Webview</td>\n",
              "      <td>not available in demo dataset</td>\n",
              "      <td>not available in demo dataset</td>\n",
              "      <td>Android</td>\n",
              "      <td>not available in demo dataset</td>\n",
              "      <td>True</td>\n",
              "      <td>not available in demo dataset</td>\n",
              "      <td>not available in demo dataset</td>\n",
              "      <td>not available in demo dataset</td>\n",
              "      <td>not available in demo dataset</td>\n",
              "      <td>not available in demo dataset</td>\n",
              "      <td>not available in demo dataset</td>\n",
              "      <td>not available in demo dataset</td>\n",
              "      <td>not available in demo dataset</td>\n",
              "      <td>not available in demo dataset</td>\n",
              "      <td>tablet</td>\n",
              "    </tr>\n",
              "  </tbody>\n",
              "</table>\n",
              "<p>12283 rows × 16 columns</p>\n",
              "</div>\n",
              "      <button class=\"colab-df-convert\" onclick=\"convertToInteractive('df-343b5fdf-bf79-4ec4-9e2b-31f2eb36a398')\"\n",
              "              title=\"Convert this dataframe to an interactive table.\"\n",
              "              style=\"display:none;\">\n",
              "        \n",
              "  <svg xmlns=\"http://www.w3.org/2000/svg\" height=\"24px\"viewBox=\"0 0 24 24\"\n",
              "       width=\"24px\">\n",
              "    <path d=\"M0 0h24v24H0V0z\" fill=\"none\"/>\n",
              "    <path d=\"M18.56 5.44l.94 2.06.94-2.06 2.06-.94-2.06-.94-.94-2.06-.94 2.06-2.06.94zm-11 1L8.5 8.5l.94-2.06 2.06-.94-2.06-.94L8.5 2.5l-.94 2.06-2.06.94zm10 10l.94 2.06.94-2.06 2.06-.94-2.06-.94-.94-2.06-.94 2.06-2.06.94z\"/><path d=\"M17.41 7.96l-1.37-1.37c-.4-.4-.92-.59-1.43-.59-.52 0-1.04.2-1.43.59L10.3 9.45l-7.72 7.72c-.78.78-.78 2.05 0 2.83L4 21.41c.39.39.9.59 1.41.59.51 0 1.02-.2 1.41-.59l7.78-7.78 2.81-2.81c.8-.78.8-2.07 0-2.86zM5.41 20L4 18.59l7.72-7.72 1.47 1.35L5.41 20z\"/>\n",
              "  </svg>\n",
              "      </button>\n",
              "      \n",
              "  <style>\n",
              "    .colab-df-container {\n",
              "      display:flex;\n",
              "      flex-wrap:wrap;\n",
              "      gap: 12px;\n",
              "    }\n",
              "\n",
              "    .colab-df-convert {\n",
              "      background-color: #E8F0FE;\n",
              "      border: none;\n",
              "      border-radius: 50%;\n",
              "      cursor: pointer;\n",
              "      display: none;\n",
              "      fill: #1967D2;\n",
              "      height: 32px;\n",
              "      padding: 0 0 0 0;\n",
              "      width: 32px;\n",
              "    }\n",
              "\n",
              "    .colab-df-convert:hover {\n",
              "      background-color: #E2EBFA;\n",
              "      box-shadow: 0px 1px 2px rgba(60, 64, 67, 0.3), 0px 1px 3px 1px rgba(60, 64, 67, 0.15);\n",
              "      fill: #174EA6;\n",
              "    }\n",
              "\n",
              "    [theme=dark] .colab-df-convert {\n",
              "      background-color: #3B4455;\n",
              "      fill: #D2E3FC;\n",
              "    }\n",
              "\n",
              "    [theme=dark] .colab-df-convert:hover {\n",
              "      background-color: #434B5C;\n",
              "      box-shadow: 0px 1px 3px 1px rgba(0, 0, 0, 0.15);\n",
              "      filter: drop-shadow(0px 1px 2px rgba(0, 0, 0, 0.3));\n",
              "      fill: #FFFFFF;\n",
              "    }\n",
              "  </style>\n",
              "\n",
              "      <script>\n",
              "        const buttonEl =\n",
              "          document.querySelector('#df-343b5fdf-bf79-4ec4-9e2b-31f2eb36a398 button.colab-df-convert');\n",
              "        buttonEl.style.display =\n",
              "          google.colab.kernel.accessAllowed ? 'block' : 'none';\n",
              "\n",
              "        async function convertToInteractive(key) {\n",
              "          const element = document.querySelector('#df-343b5fdf-bf79-4ec4-9e2b-31f2eb36a398');\n",
              "          const dataTable =\n",
              "            await google.colab.kernel.invokeFunction('convertToInteractive',\n",
              "                                                     [key], {});\n",
              "          if (!dataTable) return;\n",
              "\n",
              "          const docLinkHtml = 'Like what you see? Visit the ' +\n",
              "            '<a target=\"_blank\" href=https://colab.research.google.com/notebooks/data_table.ipynb>data table notebook</a>'\n",
              "            + ' to learn more about interactive tables.';\n",
              "          element.innerHTML = '';\n",
              "          dataTable['output_type'] = 'display_data';\n",
              "          await google.colab.output.renderOutput(dataTable, element);\n",
              "          const docLink = document.createElement('div');\n",
              "          docLink.innerHTML = docLinkHtml;\n",
              "          element.appendChild(docLink);\n",
              "        }\n",
              "      </script>\n",
              "    </div>\n",
              "  </div>\n",
              "  "
            ]
          },
          "metadata": {},
          "execution_count": 12
        }
      ]
    },
    {
      "cell_type": "markdown",
      "source": [
        "Nice! Now, let's do the same for the other columns which store JSON format. We can do that with a simple for loop using:"
      ],
      "metadata": {
        "id": "_iJqBxwYNn3u"
      }
    },
    {
      "cell_type": "code",
      "source": [
        "JSON_col = ['device', 'geoNetwork', 'trafficSource', 'totals']"
      ],
      "metadata": {
        "id": "IfhFmZMbNKuE"
      },
      "execution_count": 13,
      "outputs": []
    },
    {
      "cell_type": "code",
      "source": [
        "for jsonc in JSON_col:\n",
        "  df = df.join(pd.DataFrame([json.loads(line) for line in df[jsonc]]))"
      ],
      "metadata": {
        "id": "Bpsh7_cvN2ao"
      },
      "execution_count": 14,
      "outputs": []
    },
    {
      "cell_type": "markdown",
      "source": [
        "Now, let's drop our JSON columns:"
      ],
      "metadata": {
        "id": "SJqODgGxOOAd"
      }
    },
    {
      "cell_type": "code",
      "source": [
        "df.drop(JSON_col, axis = 1, inplace = True)"
      ],
      "metadata": {
        "id": "0Y2tFDkGOKJH"
      },
      "execution_count": 15,
      "outputs": []
    },
    {
      "cell_type": "code",
      "source": [
        "df"
      ],
      "metadata": {
        "colab": {
          "base_uri": "https://localhost:8080/",
          "height": 661
        },
        "id": "yjFGf7A-OVpD",
        "outputId": "d2c2381f-cf33-4ee2-f7cf-93d9aa3e6f56"
      },
      "execution_count": 16,
      "outputs": [
        {
          "output_type": "execute_result",
          "data": {
            "text/plain": [
              "      channelGrouping       date        fullVisitorId  \\\n",
              "0      Organic Search 2016-09-02  9674781571160116268   \n",
              "1      Organic Search 2016-09-02  8590648239310839049   \n",
              "2          Affiliates 2016-09-02  9772828344252850532   \n",
              "3      Organic Search 2016-09-02  1350700416054916432   \n",
              "4      Organic Search 2016-09-02  1350700416054916432   \n",
              "...               ...        ...                  ...   \n",
              "12278          Social 2016-09-02  7330357551242339916   \n",
              "12279          Social 2016-09-02   696320405243257438   \n",
              "12280          Social 2016-09-02  5437703324867866371   \n",
              "12281          Social 2016-09-02  8869363093179043393   \n",
              "12282          Social 2016-09-02  2905034275926274980   \n",
              "\n",
              "                            sessionId  socialEngagementType     visitId  \\\n",
              "0      9674781571160116268_1472804607  Not Socially Engaged  1472804607   \n",
              "1      8590648239310839049_1472835928  Not Socially Engaged  1472835928   \n",
              "2      9772828344252850532_1472856802  Not Socially Engaged  1472856802   \n",
              "3      1350700416054916432_1472879649  Not Socially Engaged  1472879649   \n",
              "4      1350700416054916432_1472829671  Not Socially Engaged  1472829671   \n",
              "...                               ...                   ...         ...   \n",
              "12278  7330357551242339916_1483540608  Not Socially Engaged  1483540608   \n",
              "12279  0696320405243257438_1483580407  Not Socially Engaged  1483580407   \n",
              "12280  5437703324867866371_1483592122  Not Socially Engaged  1483592122   \n",
              "12281  8869363093179043393_1483601927  Not Socially Engaged  1483601927   \n",
              "12282  2905034275926274980_1483593737  Not Socially Engaged  1483593737   \n",
              "\n",
              "       visitNumber  visitStartTime          browser  \\\n",
              "0                1      1472804607           Chrome   \n",
              "1                1      1472835928           Chrome   \n",
              "2                1      1472856802           Chrome   \n",
              "3                2      1472879649           Safari   \n",
              "4                1      1472829671           Safari   \n",
              "...            ...             ...              ...   \n",
              "12278            1      1483540608           Chrome   \n",
              "12279            1      1483580407           Chrome   \n",
              "12280            1      1483592122           Chrome   \n",
              "12281            2      1483601927           Chrome   \n",
              "12282            1      1483593737  Android Webview   \n",
              "\n",
              "                      browserVersion  ... isTrueDirect   referralPath  \\\n",
              "0      not available in demo dataset  ...          NaN            NaN   \n",
              "1      not available in demo dataset  ...          NaN            NaN   \n",
              "2      not available in demo dataset  ...          NaN            NaN   \n",
              "3      not available in demo dataset  ...         True            NaN   \n",
              "4      not available in demo dataset  ...          NaN            NaN   \n",
              "...                              ...  ...          ...            ...   \n",
              "12278  not available in demo dataset  ...          NaN  /yt/about/pl/   \n",
              "12279  not available in demo dataset  ...          NaN     /yt/about/   \n",
              "12280  not available in demo dataset  ...          NaN     /yt/about/   \n",
              "12281  not available in demo dataset  ...         True  /yt/about/lt/   \n",
              "12282  not available in demo dataset  ...          NaN     /yt/about/   \n",
              "\n",
              "      adContent  campaignCode visits hits pageviews bounces newVisits  \\\n",
              "0           NaN           NaN      1    1         1       1         1   \n",
              "1           NaN           NaN      1    1         1       1         1   \n",
              "2           NaN           NaN      1    1         1       1         1   \n",
              "3           NaN           NaN      1    1         1       1       NaN   \n",
              "4           NaN           NaN      1    5         4     NaN         1   \n",
              "...         ...           ...    ...  ...       ...     ...       ...   \n",
              "12278       NaN           NaN      1    1         1       1         1   \n",
              "12279       NaN           NaN      1    1         1       1         1   \n",
              "12280       NaN           NaN      1    1         1       1         1   \n",
              "12281       NaN           NaN      1    2         2     NaN       NaN   \n",
              "12282       NaN           NaN      1    3         3     NaN         1   \n",
              "\n",
              "      transactionRevenue  \n",
              "0                    NaN  \n",
              "1                    NaN  \n",
              "2                    NaN  \n",
              "3                    NaN  \n",
              "4                    NaN  \n",
              "...                  ...  \n",
              "12278                NaN  \n",
              "12279                NaN  \n",
              "12280                NaN  \n",
              "12281                NaN  \n",
              "12282                NaN  \n",
              "\n",
              "[12283 rows x 50 columns]"
            ],
            "text/html": [
              "\n",
              "  <div id=\"df-cb747267-a168-4acc-92af-51c09686d95d\">\n",
              "    <div class=\"colab-df-container\">\n",
              "      <div>\n",
              "<style scoped>\n",
              "    .dataframe tbody tr th:only-of-type {\n",
              "        vertical-align: middle;\n",
              "    }\n",
              "\n",
              "    .dataframe tbody tr th {\n",
              "        vertical-align: top;\n",
              "    }\n",
              "\n",
              "    .dataframe thead th {\n",
              "        text-align: right;\n",
              "    }\n",
              "</style>\n",
              "<table border=\"1\" class=\"dataframe\">\n",
              "  <thead>\n",
              "    <tr style=\"text-align: right;\">\n",
              "      <th></th>\n",
              "      <th>channelGrouping</th>\n",
              "      <th>date</th>\n",
              "      <th>fullVisitorId</th>\n",
              "      <th>sessionId</th>\n",
              "      <th>socialEngagementType</th>\n",
              "      <th>visitId</th>\n",
              "      <th>visitNumber</th>\n",
              "      <th>visitStartTime</th>\n",
              "      <th>browser</th>\n",
              "      <th>browserVersion</th>\n",
              "      <th>...</th>\n",
              "      <th>isTrueDirect</th>\n",
              "      <th>referralPath</th>\n",
              "      <th>adContent</th>\n",
              "      <th>campaignCode</th>\n",
              "      <th>visits</th>\n",
              "      <th>hits</th>\n",
              "      <th>pageviews</th>\n",
              "      <th>bounces</th>\n",
              "      <th>newVisits</th>\n",
              "      <th>transactionRevenue</th>\n",
              "    </tr>\n",
              "  </thead>\n",
              "  <tbody>\n",
              "    <tr>\n",
              "      <th>0</th>\n",
              "      <td>Organic Search</td>\n",
              "      <td>2016-09-02</td>\n",
              "      <td>9674781571160116268</td>\n",
              "      <td>9674781571160116268_1472804607</td>\n",
              "      <td>Not Socially Engaged</td>\n",
              "      <td>1472804607</td>\n",
              "      <td>1</td>\n",
              "      <td>1472804607</td>\n",
              "      <td>Chrome</td>\n",
              "      <td>not available in demo dataset</td>\n",
              "      <td>...</td>\n",
              "      <td>NaN</td>\n",
              "      <td>NaN</td>\n",
              "      <td>NaN</td>\n",
              "      <td>NaN</td>\n",
              "      <td>1</td>\n",
              "      <td>1</td>\n",
              "      <td>1</td>\n",
              "      <td>1</td>\n",
              "      <td>1</td>\n",
              "      <td>NaN</td>\n",
              "    </tr>\n",
              "    <tr>\n",
              "      <th>1</th>\n",
              "      <td>Organic Search</td>\n",
              "      <td>2016-09-02</td>\n",
              "      <td>8590648239310839049</td>\n",
              "      <td>8590648239310839049_1472835928</td>\n",
              "      <td>Not Socially Engaged</td>\n",
              "      <td>1472835928</td>\n",
              "      <td>1</td>\n",
              "      <td>1472835928</td>\n",
              "      <td>Chrome</td>\n",
              "      <td>not available in demo dataset</td>\n",
              "      <td>...</td>\n",
              "      <td>NaN</td>\n",
              "      <td>NaN</td>\n",
              "      <td>NaN</td>\n",
              "      <td>NaN</td>\n",
              "      <td>1</td>\n",
              "      <td>1</td>\n",
              "      <td>1</td>\n",
              "      <td>1</td>\n",
              "      <td>1</td>\n",
              "      <td>NaN</td>\n",
              "    </tr>\n",
              "    <tr>\n",
              "      <th>2</th>\n",
              "      <td>Affiliates</td>\n",
              "      <td>2016-09-02</td>\n",
              "      <td>9772828344252850532</td>\n",
              "      <td>9772828344252850532_1472856802</td>\n",
              "      <td>Not Socially Engaged</td>\n",
              "      <td>1472856802</td>\n",
              "      <td>1</td>\n",
              "      <td>1472856802</td>\n",
              "      <td>Chrome</td>\n",
              "      <td>not available in demo dataset</td>\n",
              "      <td>...</td>\n",
              "      <td>NaN</td>\n",
              "      <td>NaN</td>\n",
              "      <td>NaN</td>\n",
              "      <td>NaN</td>\n",
              "      <td>1</td>\n",
              "      <td>1</td>\n",
              "      <td>1</td>\n",
              "      <td>1</td>\n",
              "      <td>1</td>\n",
              "      <td>NaN</td>\n",
              "    </tr>\n",
              "    <tr>\n",
              "      <th>3</th>\n",
              "      <td>Organic Search</td>\n",
              "      <td>2016-09-02</td>\n",
              "      <td>1350700416054916432</td>\n",
              "      <td>1350700416054916432_1472879649</td>\n",
              "      <td>Not Socially Engaged</td>\n",
              "      <td>1472879649</td>\n",
              "      <td>2</td>\n",
              "      <td>1472879649</td>\n",
              "      <td>Safari</td>\n",
              "      <td>not available in demo dataset</td>\n",
              "      <td>...</td>\n",
              "      <td>True</td>\n",
              "      <td>NaN</td>\n",
              "      <td>NaN</td>\n",
              "      <td>NaN</td>\n",
              "      <td>1</td>\n",
              "      <td>1</td>\n",
              "      <td>1</td>\n",
              "      <td>1</td>\n",
              "      <td>NaN</td>\n",
              "      <td>NaN</td>\n",
              "    </tr>\n",
              "    <tr>\n",
              "      <th>4</th>\n",
              "      <td>Organic Search</td>\n",
              "      <td>2016-09-02</td>\n",
              "      <td>1350700416054916432</td>\n",
              "      <td>1350700416054916432_1472829671</td>\n",
              "      <td>Not Socially Engaged</td>\n",
              "      <td>1472829671</td>\n",
              "      <td>1</td>\n",
              "      <td>1472829671</td>\n",
              "      <td>Safari</td>\n",
              "      <td>not available in demo dataset</td>\n",
              "      <td>...</td>\n",
              "      <td>NaN</td>\n",
              "      <td>NaN</td>\n",
              "      <td>NaN</td>\n",
              "      <td>NaN</td>\n",
              "      <td>1</td>\n",
              "      <td>5</td>\n",
              "      <td>4</td>\n",
              "      <td>NaN</td>\n",
              "      <td>1</td>\n",
              "      <td>NaN</td>\n",
              "    </tr>\n",
              "    <tr>\n",
              "      <th>...</th>\n",
              "      <td>...</td>\n",
              "      <td>...</td>\n",
              "      <td>...</td>\n",
              "      <td>...</td>\n",
              "      <td>...</td>\n",
              "      <td>...</td>\n",
              "      <td>...</td>\n",
              "      <td>...</td>\n",
              "      <td>...</td>\n",
              "      <td>...</td>\n",
              "      <td>...</td>\n",
              "      <td>...</td>\n",
              "      <td>...</td>\n",
              "      <td>...</td>\n",
              "      <td>...</td>\n",
              "      <td>...</td>\n",
              "      <td>...</td>\n",
              "      <td>...</td>\n",
              "      <td>...</td>\n",
              "      <td>...</td>\n",
              "      <td>...</td>\n",
              "    </tr>\n",
              "    <tr>\n",
              "      <th>12278</th>\n",
              "      <td>Social</td>\n",
              "      <td>2016-09-02</td>\n",
              "      <td>7330357551242339916</td>\n",
              "      <td>7330357551242339916_1483540608</td>\n",
              "      <td>Not Socially Engaged</td>\n",
              "      <td>1483540608</td>\n",
              "      <td>1</td>\n",
              "      <td>1483540608</td>\n",
              "      <td>Chrome</td>\n",
              "      <td>not available in demo dataset</td>\n",
              "      <td>...</td>\n",
              "      <td>NaN</td>\n",
              "      <td>/yt/about/pl/</td>\n",
              "      <td>NaN</td>\n",
              "      <td>NaN</td>\n",
              "      <td>1</td>\n",
              "      <td>1</td>\n",
              "      <td>1</td>\n",
              "      <td>1</td>\n",
              "      <td>1</td>\n",
              "      <td>NaN</td>\n",
              "    </tr>\n",
              "    <tr>\n",
              "      <th>12279</th>\n",
              "      <td>Social</td>\n",
              "      <td>2016-09-02</td>\n",
              "      <td>696320405243257438</td>\n",
              "      <td>0696320405243257438_1483580407</td>\n",
              "      <td>Not Socially Engaged</td>\n",
              "      <td>1483580407</td>\n",
              "      <td>1</td>\n",
              "      <td>1483580407</td>\n",
              "      <td>Chrome</td>\n",
              "      <td>not available in demo dataset</td>\n",
              "      <td>...</td>\n",
              "      <td>NaN</td>\n",
              "      <td>/yt/about/</td>\n",
              "      <td>NaN</td>\n",
              "      <td>NaN</td>\n",
              "      <td>1</td>\n",
              "      <td>1</td>\n",
              "      <td>1</td>\n",
              "      <td>1</td>\n",
              "      <td>1</td>\n",
              "      <td>NaN</td>\n",
              "    </tr>\n",
              "    <tr>\n",
              "      <th>12280</th>\n",
              "      <td>Social</td>\n",
              "      <td>2016-09-02</td>\n",
              "      <td>5437703324867866371</td>\n",
              "      <td>5437703324867866371_1483592122</td>\n",
              "      <td>Not Socially Engaged</td>\n",
              "      <td>1483592122</td>\n",
              "      <td>1</td>\n",
              "      <td>1483592122</td>\n",
              "      <td>Chrome</td>\n",
              "      <td>not available in demo dataset</td>\n",
              "      <td>...</td>\n",
              "      <td>NaN</td>\n",
              "      <td>/yt/about/</td>\n",
              "      <td>NaN</td>\n",
              "      <td>NaN</td>\n",
              "      <td>1</td>\n",
              "      <td>1</td>\n",
              "      <td>1</td>\n",
              "      <td>1</td>\n",
              "      <td>1</td>\n",
              "      <td>NaN</td>\n",
              "    </tr>\n",
              "    <tr>\n",
              "      <th>12281</th>\n",
              "      <td>Social</td>\n",
              "      <td>2016-09-02</td>\n",
              "      <td>8869363093179043393</td>\n",
              "      <td>8869363093179043393_1483601927</td>\n",
              "      <td>Not Socially Engaged</td>\n",
              "      <td>1483601927</td>\n",
              "      <td>2</td>\n",
              "      <td>1483601927</td>\n",
              "      <td>Chrome</td>\n",
              "      <td>not available in demo dataset</td>\n",
              "      <td>...</td>\n",
              "      <td>True</td>\n",
              "      <td>/yt/about/lt/</td>\n",
              "      <td>NaN</td>\n",
              "      <td>NaN</td>\n",
              "      <td>1</td>\n",
              "      <td>2</td>\n",
              "      <td>2</td>\n",
              "      <td>NaN</td>\n",
              "      <td>NaN</td>\n",
              "      <td>NaN</td>\n",
              "    </tr>\n",
              "    <tr>\n",
              "      <th>12282</th>\n",
              "      <td>Social</td>\n",
              "      <td>2016-09-02</td>\n",
              "      <td>2905034275926274980</td>\n",
              "      <td>2905034275926274980_1483593737</td>\n",
              "      <td>Not Socially Engaged</td>\n",
              "      <td>1483593737</td>\n",
              "      <td>1</td>\n",
              "      <td>1483593737</td>\n",
              "      <td>Android Webview</td>\n",
              "      <td>not available in demo dataset</td>\n",
              "      <td>...</td>\n",
              "      <td>NaN</td>\n",
              "      <td>/yt/about/</td>\n",
              "      <td>NaN</td>\n",
              "      <td>NaN</td>\n",
              "      <td>1</td>\n",
              "      <td>3</td>\n",
              "      <td>3</td>\n",
              "      <td>NaN</td>\n",
              "      <td>1</td>\n",
              "      <td>NaN</td>\n",
              "    </tr>\n",
              "  </tbody>\n",
              "</table>\n",
              "<p>12283 rows × 50 columns</p>\n",
              "</div>\n",
              "      <button class=\"colab-df-convert\" onclick=\"convertToInteractive('df-cb747267-a168-4acc-92af-51c09686d95d')\"\n",
              "              title=\"Convert this dataframe to an interactive table.\"\n",
              "              style=\"display:none;\">\n",
              "        \n",
              "  <svg xmlns=\"http://www.w3.org/2000/svg\" height=\"24px\"viewBox=\"0 0 24 24\"\n",
              "       width=\"24px\">\n",
              "    <path d=\"M0 0h24v24H0V0z\" fill=\"none\"/>\n",
              "    <path d=\"M18.56 5.44l.94 2.06.94-2.06 2.06-.94-2.06-.94-.94-2.06-.94 2.06-2.06.94zm-11 1L8.5 8.5l.94-2.06 2.06-.94-2.06-.94L8.5 2.5l-.94 2.06-2.06.94zm10 10l.94 2.06.94-2.06 2.06-.94-2.06-.94-.94-2.06-.94 2.06-2.06.94z\"/><path d=\"M17.41 7.96l-1.37-1.37c-.4-.4-.92-.59-1.43-.59-.52 0-1.04.2-1.43.59L10.3 9.45l-7.72 7.72c-.78.78-.78 2.05 0 2.83L4 21.41c.39.39.9.59 1.41.59.51 0 1.02-.2 1.41-.59l7.78-7.78 2.81-2.81c.8-.78.8-2.07 0-2.86zM5.41 20L4 18.59l7.72-7.72 1.47 1.35L5.41 20z\"/>\n",
              "  </svg>\n",
              "      </button>\n",
              "      \n",
              "  <style>\n",
              "    .colab-df-container {\n",
              "      display:flex;\n",
              "      flex-wrap:wrap;\n",
              "      gap: 12px;\n",
              "    }\n",
              "\n",
              "    .colab-df-convert {\n",
              "      background-color: #E8F0FE;\n",
              "      border: none;\n",
              "      border-radius: 50%;\n",
              "      cursor: pointer;\n",
              "      display: none;\n",
              "      fill: #1967D2;\n",
              "      height: 32px;\n",
              "      padding: 0 0 0 0;\n",
              "      width: 32px;\n",
              "    }\n",
              "\n",
              "    .colab-df-convert:hover {\n",
              "      background-color: #E2EBFA;\n",
              "      box-shadow: 0px 1px 2px rgba(60, 64, 67, 0.3), 0px 1px 3px 1px rgba(60, 64, 67, 0.15);\n",
              "      fill: #174EA6;\n",
              "    }\n",
              "\n",
              "    [theme=dark] .colab-df-convert {\n",
              "      background-color: #3B4455;\n",
              "      fill: #D2E3FC;\n",
              "    }\n",
              "\n",
              "    [theme=dark] .colab-df-convert:hover {\n",
              "      background-color: #434B5C;\n",
              "      box-shadow: 0px 1px 3px 1px rgba(0, 0, 0, 0.15);\n",
              "      filter: drop-shadow(0px 1px 2px rgba(0, 0, 0, 0.3));\n",
              "      fill: #FFFFFF;\n",
              "    }\n",
              "  </style>\n",
              "\n",
              "      <script>\n",
              "        const buttonEl =\n",
              "          document.querySelector('#df-cb747267-a168-4acc-92af-51c09686d95d button.colab-df-convert');\n",
              "        buttonEl.style.display =\n",
              "          google.colab.kernel.accessAllowed ? 'block' : 'none';\n",
              "\n",
              "        async function convertToInteractive(key) {\n",
              "          const element = document.querySelector('#df-cb747267-a168-4acc-92af-51c09686d95d');\n",
              "          const dataTable =\n",
              "            await google.colab.kernel.invokeFunction('convertToInteractive',\n",
              "                                                     [key], {});\n",
              "          if (!dataTable) return;\n",
              "\n",
              "          const docLinkHtml = 'Like what you see? Visit the ' +\n",
              "            '<a target=\"_blank\" href=https://colab.research.google.com/notebooks/data_table.ipynb>data table notebook</a>'\n",
              "            + ' to learn more about interactive tables.';\n",
              "          element.innerHTML = '';\n",
              "          dataTable['output_type'] = 'display_data';\n",
              "          await google.colab.output.renderOutput(dataTable, element);\n",
              "          const docLink = document.createElement('div');\n",
              "          docLink.innerHTML = docLinkHtml;\n",
              "          element.appendChild(docLink);\n",
              "        }\n",
              "      </script>\n",
              "    </div>\n",
              "  </div>\n",
              "  "
            ]
          },
          "metadata": {},
          "execution_count": 16
        }
      ]
    },
    {
      "cell_type": "markdown",
      "source": [
        "Nice! Now, we have 12283 entries (which is the same as before), but we now have 50 features."
      ],
      "metadata": {
        "id": "7ldIZ1OeOYLZ"
      }
    },
    {
      "cell_type": "markdown",
      "source": [
        "## Understanding our features\n",
        "\n",
        "Ok, now, let's understand more about our features. First, let's get how many unique values we have in each column:"
      ],
      "metadata": {
        "id": "JXrDdIPXO2a2"
      }
    },
    {
      "cell_type": "code",
      "source": [
        "for col in df.columns:\n",
        "  print(\"Column |\" + col + \"| - \" + str(len( df[col].unique( ) )) )"
      ],
      "metadata": {
        "colab": {
          "base_uri": "https://localhost:8080/",
          "height": 1000
        },
        "id": "Ss-pOaBBPGXN",
        "outputId": "9e7ad992-1947-4ed3-e501-aebb159d9575"
      },
      "execution_count": 17,
      "outputs": [
        {
          "output_type": "stream",
          "name": "stdout",
          "text": [
            "Column |channelGrouping| - 8\n",
            "Column |date| - 1\n",
            "Column |fullVisitorId| - 9996\n",
            "Column |sessionId| - 12276\n",
            "Column |socialEngagementType| - 1\n",
            "Column |visitId| - 12272\n",
            "Column |visitNumber| - 50\n",
            "Column |visitStartTime| - 12279\n",
            "Column |browser| - 22\n",
            "Column |browserVersion| - 1\n",
            "Column |browserSize| - 1\n",
            "Column |operatingSystem| - 12\n",
            "Column |operatingSystemVersion| - 1\n",
            "Column |isMobile| - 2\n",
            "Column |mobileDeviceBranding| - 1\n",
            "Column |mobileDeviceModel| - 1\n",
            "Column |mobileInputSelector| - 1\n",
            "Column |mobileDeviceInfo| - 1\n",
            "Column |mobileDeviceMarketingName| - 1\n",
            "Column |flashVersion| - 1\n",
            "Column |language| - 1\n",
            "Column |screenColors| - 1\n",
            "Column |screenResolution| - 1\n",
            "Column |deviceCategory| - 3\n",
            "Column |continent| - 6\n",
            "Column |subContinent| - 22\n",
            "Column |country| - 145\n",
            "Column |region| - 212\n",
            "Column |metro| - 53\n",
            "Column |city| - 296\n",
            "Column |cityId| - 1\n",
            "Column |networkDomain| - 1747\n",
            "Column |latitude| - 1\n",
            "Column |longitude| - 1\n",
            "Column |networkLocation| - 1\n",
            "Column |campaign| - 7\n",
            "Column |source| - 76\n",
            "Column |medium| - 7\n",
            "Column |keyword| - 129\n"
          ]
        },
        {
          "output_type": "error",
          "ename": "TypeError",
          "evalue": "ignored",
          "traceback": [
            "\u001b[0;31m---------------------------------------------------------------------------\u001b[0m",
            "\u001b[0;31mTypeError\u001b[0m                                 Traceback (most recent call last)",
            "\u001b[0;32m<ipython-input-17-a069f7693a15>\u001b[0m in \u001b[0;36m<module>\u001b[0;34m()\u001b[0m\n\u001b[1;32m      1\u001b[0m \u001b[0;32mfor\u001b[0m \u001b[0mcol\u001b[0m \u001b[0;32min\u001b[0m \u001b[0mdf\u001b[0m\u001b[0;34m.\u001b[0m\u001b[0mcolumns\u001b[0m\u001b[0;34m:\u001b[0m\u001b[0;34m\u001b[0m\u001b[0;34m\u001b[0m\u001b[0m\n\u001b[0;32m----> 2\u001b[0;31m   \u001b[0mprint\u001b[0m\u001b[0;34m(\u001b[0m\u001b[0;34m\"Column |\"\u001b[0m \u001b[0;34m+\u001b[0m \u001b[0mcol\u001b[0m \u001b[0;34m+\u001b[0m \u001b[0;34m\"| - \"\u001b[0m \u001b[0;34m+\u001b[0m \u001b[0mstr\u001b[0m\u001b[0;34m(\u001b[0m\u001b[0mlen\u001b[0m\u001b[0;34m(\u001b[0m \u001b[0mdf\u001b[0m\u001b[0;34m[\u001b[0m\u001b[0mcol\u001b[0m\u001b[0;34m]\u001b[0m\u001b[0;34m.\u001b[0m\u001b[0munique\u001b[0m\u001b[0;34m(\u001b[0m \u001b[0;34m)\u001b[0m \u001b[0;34m)\u001b[0m\u001b[0;34m)\u001b[0m \u001b[0;34m)\u001b[0m\u001b[0;34m\u001b[0m\u001b[0;34m\u001b[0m\u001b[0m\n\u001b[0m",
            "\u001b[0;32m/usr/local/lib/python3.7/dist-packages/pandas/core/series.py\u001b[0m in \u001b[0;36munique\u001b[0;34m(self)\u001b[0m\n\u001b[1;32m   2037\u001b[0m         \u001b[0mCategories\u001b[0m \u001b[0;34m(\u001b[0m\u001b[0;36m3\u001b[0m\u001b[0;34m,\u001b[0m \u001b[0mobject\u001b[0m\u001b[0;34m)\u001b[0m\u001b[0;34m:\u001b[0m \u001b[0;34m[\u001b[0m\u001b[0;34m'a'\u001b[0m \u001b[0;34m<\u001b[0m \u001b[0;34m'b'\u001b[0m \u001b[0;34m<\u001b[0m \u001b[0;34m'c'\u001b[0m\u001b[0;34m]\u001b[0m\u001b[0;34m\u001b[0m\u001b[0;34m\u001b[0m\u001b[0m\n\u001b[1;32m   2038\u001b[0m         \"\"\"\n\u001b[0;32m-> 2039\u001b[0;31m         \u001b[0;32mreturn\u001b[0m \u001b[0msuper\u001b[0m\u001b[0;34m(\u001b[0m\u001b[0;34m)\u001b[0m\u001b[0;34m.\u001b[0m\u001b[0munique\u001b[0m\u001b[0;34m(\u001b[0m\u001b[0;34m)\u001b[0m\u001b[0;34m\u001b[0m\u001b[0;34m\u001b[0m\u001b[0m\n\u001b[0m\u001b[1;32m   2040\u001b[0m \u001b[0;34m\u001b[0m\u001b[0m\n\u001b[1;32m   2041\u001b[0m     \u001b[0;34m@\u001b[0m\u001b[0moverload\u001b[0m\u001b[0;34m\u001b[0m\u001b[0;34m\u001b[0m\u001b[0m\n",
            "\u001b[0;32m/usr/local/lib/python3.7/dist-packages/pandas/core/base.py\u001b[0m in \u001b[0;36munique\u001b[0;34m(self)\u001b[0m\n\u001b[1;32m    977\u001b[0m                     \u001b[0mresult\u001b[0m \u001b[0;34m=\u001b[0m \u001b[0mnp\u001b[0m\u001b[0;34m.\u001b[0m\u001b[0masarray\u001b[0m\u001b[0;34m(\u001b[0m\u001b[0mresult\u001b[0m\u001b[0;34m)\u001b[0m\u001b[0;34m\u001b[0m\u001b[0;34m\u001b[0m\u001b[0m\n\u001b[1;32m    978\u001b[0m         \u001b[0;32melse\u001b[0m\u001b[0;34m:\u001b[0m\u001b[0;34m\u001b[0m\u001b[0;34m\u001b[0m\u001b[0m\n\u001b[0;32m--> 979\u001b[0;31m             \u001b[0mresult\u001b[0m \u001b[0;34m=\u001b[0m \u001b[0munique1d\u001b[0m\u001b[0;34m(\u001b[0m\u001b[0mvalues\u001b[0m\u001b[0;34m)\u001b[0m\u001b[0;34m\u001b[0m\u001b[0;34m\u001b[0m\u001b[0m\n\u001b[0m\u001b[1;32m    980\u001b[0m \u001b[0;34m\u001b[0m\u001b[0m\n\u001b[1;32m    981\u001b[0m         \u001b[0;32mreturn\u001b[0m \u001b[0mresult\u001b[0m\u001b[0;34m\u001b[0m\u001b[0;34m\u001b[0m\u001b[0m\n",
            "\u001b[0;32m/usr/local/lib/python3.7/dist-packages/pandas/core/algorithms.py\u001b[0m in \u001b[0;36munique\u001b[0;34m(values)\u001b[0m\n\u001b[1;32m    429\u001b[0m \u001b[0;34m\u001b[0m\u001b[0m\n\u001b[1;32m    430\u001b[0m     \u001b[0mtable\u001b[0m \u001b[0;34m=\u001b[0m \u001b[0mhtable\u001b[0m\u001b[0;34m(\u001b[0m\u001b[0mlen\u001b[0m\u001b[0;34m(\u001b[0m\u001b[0mvalues\u001b[0m\u001b[0;34m)\u001b[0m\u001b[0;34m)\u001b[0m\u001b[0;34m\u001b[0m\u001b[0;34m\u001b[0m\u001b[0m\n\u001b[0;32m--> 431\u001b[0;31m     \u001b[0muniques\u001b[0m \u001b[0;34m=\u001b[0m \u001b[0mtable\u001b[0m\u001b[0;34m.\u001b[0m\u001b[0munique\u001b[0m\u001b[0;34m(\u001b[0m\u001b[0mvalues\u001b[0m\u001b[0;34m)\u001b[0m\u001b[0;34m\u001b[0m\u001b[0;34m\u001b[0m\u001b[0m\n\u001b[0m\u001b[1;32m    432\u001b[0m     \u001b[0muniques\u001b[0m \u001b[0;34m=\u001b[0m \u001b[0m_reconstruct_data\u001b[0m\u001b[0;34m(\u001b[0m\u001b[0muniques\u001b[0m\u001b[0;34m,\u001b[0m \u001b[0moriginal\u001b[0m\u001b[0;34m.\u001b[0m\u001b[0mdtype\u001b[0m\u001b[0;34m,\u001b[0m \u001b[0moriginal\u001b[0m\u001b[0;34m)\u001b[0m\u001b[0;34m\u001b[0m\u001b[0;34m\u001b[0m\u001b[0m\n\u001b[1;32m    433\u001b[0m     \u001b[0;32mreturn\u001b[0m \u001b[0muniques\u001b[0m\u001b[0;34m\u001b[0m\u001b[0;34m\u001b[0m\u001b[0m\n",
            "\u001b[0;32mpandas/_libs/hashtable_class_helper.pxi\u001b[0m in \u001b[0;36mpandas._libs.hashtable.PyObjectHashTable.unique\u001b[0;34m()\u001b[0m\n",
            "\u001b[0;32mpandas/_libs/hashtable_class_helper.pxi\u001b[0m in \u001b[0;36mpandas._libs.hashtable.PyObjectHashTable._unique\u001b[0;34m()\u001b[0m\n",
            "\u001b[0;31mTypeError\u001b[0m: unhashable type: 'dict'"
          ]
        }
      ]
    },
    {
      "cell_type": "markdown",
      "source": [
        "Note that we actually got an error, because we still have one dictionary in our dataset:"
      ],
      "metadata": {
        "id": "RAQn4JUCQiIv"
      }
    },
    {
      "cell_type": "code",
      "source": [
        "df.adwordsClickInfo"
      ],
      "metadata": {
        "colab": {
          "base_uri": "https://localhost:8080/"
        },
        "id": "_0dbLZQJQmTe",
        "outputId": "6f68c3ad-4ec8-4bcc-b849-12426b1cdc8a"
      },
      "execution_count": 18,
      "outputs": [
        {
          "output_type": "execute_result",
          "data": {
            "text/plain": [
              "0        {'criteriaParameters': 'not available in demo ...\n",
              "1        {'criteriaParameters': 'not available in demo ...\n",
              "2        {'criteriaParameters': 'not available in demo ...\n",
              "3        {'criteriaParameters': 'not available in demo ...\n",
              "4        {'criteriaParameters': 'not available in demo ...\n",
              "                               ...                        \n",
              "12278    {'criteriaParameters': 'not available in demo ...\n",
              "12279    {'criteriaParameters': 'not available in demo ...\n",
              "12280    {'criteriaParameters': 'not available in demo ...\n",
              "12281    {'criteriaParameters': 'not available in demo ...\n",
              "12282    {'criteriaParameters': 'not available in demo ...\n",
              "Name: adwordsClickInfo, Length: 12283, dtype: object"
            ]
          },
          "metadata": {},
          "execution_count": 18
        }
      ]
    },
    {
      "cell_type": "markdown",
      "source": [
        "Note, however, that this column has no relevant information ('not available in demo'). Let's just drop it from ou dataset:"
      ],
      "metadata": {
        "id": "5Uwz1rdiQoaX"
      }
    },
    {
      "cell_type": "code",
      "source": [
        "df.drop('adwordsClickInfo', axis = 1, inplace = True)"
      ],
      "metadata": {
        "id": "ju44q8ZGQwQA"
      },
      "execution_count": 19,
      "outputs": []
    },
    {
      "cell_type": "markdown",
      "source": [
        "Now, evaluating the number of unique values in each column:"
      ],
      "metadata": {
        "id": "gCVZopHlQ1Lp"
      }
    },
    {
      "cell_type": "code",
      "source": [
        "for col in df.columns:\n",
        "  print(\"Column |\" + col + \"| - \" + str(len( df[col].unique( ) )) )"
      ],
      "metadata": {
        "colab": {
          "base_uri": "https://localhost:8080/"
        },
        "id": "v0IO5i8eQ3-F",
        "outputId": "adf4894d-afba-43ed-d288-26d1aa024d86"
      },
      "execution_count": 20,
      "outputs": [
        {
          "output_type": "stream",
          "name": "stdout",
          "text": [
            "Column |channelGrouping| - 8\n",
            "Column |date| - 1\n",
            "Column |fullVisitorId| - 9996\n",
            "Column |sessionId| - 12276\n",
            "Column |socialEngagementType| - 1\n",
            "Column |visitId| - 12272\n",
            "Column |visitNumber| - 50\n",
            "Column |visitStartTime| - 12279\n",
            "Column |browser| - 22\n",
            "Column |browserVersion| - 1\n",
            "Column |browserSize| - 1\n",
            "Column |operatingSystem| - 12\n",
            "Column |operatingSystemVersion| - 1\n",
            "Column |isMobile| - 2\n",
            "Column |mobileDeviceBranding| - 1\n",
            "Column |mobileDeviceModel| - 1\n",
            "Column |mobileInputSelector| - 1\n",
            "Column |mobileDeviceInfo| - 1\n",
            "Column |mobileDeviceMarketingName| - 1\n",
            "Column |flashVersion| - 1\n",
            "Column |language| - 1\n",
            "Column |screenColors| - 1\n",
            "Column |screenResolution| - 1\n",
            "Column |deviceCategory| - 3\n",
            "Column |continent| - 6\n",
            "Column |subContinent| - 22\n",
            "Column |country| - 145\n",
            "Column |region| - 212\n",
            "Column |metro| - 53\n",
            "Column |city| - 296\n",
            "Column |cityId| - 1\n",
            "Column |networkDomain| - 1747\n",
            "Column |latitude| - 1\n",
            "Column |longitude| - 1\n",
            "Column |networkLocation| - 1\n",
            "Column |campaign| - 7\n",
            "Column |source| - 76\n",
            "Column |medium| - 7\n",
            "Column |keyword| - 129\n",
            "Column |isTrueDirect| - 2\n",
            "Column |referralPath| - 198\n",
            "Column |adContent| - 16\n",
            "Column |campaignCode| - 2\n",
            "Column |visits| - 1\n",
            "Column |hits| - 96\n",
            "Column |pageviews| - 75\n",
            "Column |bounces| - 2\n",
            "Column |newVisits| - 2\n",
            "Column |transactionRevenue| - 147\n"
          ]
        }
      ]
    },
    {
      "cell_type": "markdown",
      "source": [
        "Note that, in many of our columns, there is only one unique value. It does not make sense for our model to keep these features. So, let's drop those:"
      ],
      "metadata": {
        "id": "7BRh9BNtQ5Z-"
      }
    },
    {
      "cell_type": "code",
      "source": [
        "drop_columns = []\n",
        "\n",
        "for col in df.columns:\n",
        "  if (len( df[col].unique( ) ) == 1 and col != 'date':\n",
        "    drop_columns.append(col)\n",
        "\n",
        "df.drop(drop_columns, axis = 1, inplace = True)"
      ],
      "metadata": {
        "colab": {
          "base_uri": "https://localhost:8080/",
          "height": 134
        },
        "id": "U-hGK2mAWfBf",
        "outputId": "be04c413-bb81-4f33-fb9f-12642c2c543f"
      },
      "execution_count": 21,
      "outputs": [
        {
          "output_type": "error",
          "ename": "SyntaxError",
          "evalue": "ignored",
          "traceback": [
            "\u001b[0;36m  File \u001b[0;32m\"<ipython-input-21-c40b1ee08895>\"\u001b[0;36m, line \u001b[0;32m4\u001b[0m\n\u001b[0;31m    if (len( df[col].unique( ) ) == 1 and col != 'date':\u001b[0m\n\u001b[0m                                                       ^\u001b[0m\n\u001b[0;31mSyntaxError\u001b[0m\u001b[0;31m:\u001b[0m invalid syntax\n"
          ]
        }
      ]
    },
    {
      "cell_type": "markdown",
      "source": [
        "Now that we cleaned our dataset, let's see our columns again:"
      ],
      "metadata": {
        "id": "gdQIG_48W8dq"
      }
    },
    {
      "cell_type": "code",
      "source": [
        "df.info( )"
      ],
      "metadata": {
        "id": "TKGcmm04OV5q"
      },
      "execution_count": null,
      "outputs": []
    },
    {
      "cell_type": "markdown",
      "source": [
        "Now, we have only 30 features!"
      ],
      "metadata": {
        "id": "a1aUU9oyXJM_"
      }
    },
    {
      "cell_type": "markdown",
      "source": [
        "# Feature engineering\n",
        "\n",
        "Ok, now, let's understand our features, and try to create interesting features that can translate the consumers behavior. \n",
        "\n",
        "To understand if the user interacted with our page, we can use some quantitative features, such as the number of page views, bounces, and hits. Also, feature newVisits shows a boolean which stores if the visit is new or not."
      ],
      "metadata": {
        "id": "Y1U6gf57YwCB"
      }
    },
    {
      "cell_type": "markdown",
      "source": [
        "Let's try to create a new transformed feature that is the sum of these variables. This new transformed feature will store information about how engaged a given user is."
      ],
      "metadata": {
        "id": "aTdkuk5ji8BX"
      }
    },
    {
      "cell_type": "code",
      "source": [
        "df[['pageviews', 'bounces', 'hits', 'newVisits']]"
      ],
      "metadata": {
        "colab": {
          "base_uri": "https://localhost:8080/",
          "height": 424
        },
        "id": "SPUoiS9Wi48-",
        "outputId": "7c35adff-f610-4b8f-814b-7c27174c6eb2"
      },
      "execution_count": 22,
      "outputs": [
        {
          "output_type": "execute_result",
          "data": {
            "text/plain": [
              "      pageviews bounces hits newVisits\n",
              "0             1       1    1         1\n",
              "1             1       1    1         1\n",
              "2             1       1    1         1\n",
              "3             1       1    1       NaN\n",
              "4             4     NaN    5         1\n",
              "...         ...     ...  ...       ...\n",
              "12278         1       1    1         1\n",
              "12279         1       1    1         1\n",
              "12280         1       1    1         1\n",
              "12281         2     NaN    2       NaN\n",
              "12282         3     NaN    3         1\n",
              "\n",
              "[12283 rows x 4 columns]"
            ],
            "text/html": [
              "\n",
              "  <div id=\"df-99624de3-1beb-44af-b946-cdf60261f0dc\">\n",
              "    <div class=\"colab-df-container\">\n",
              "      <div>\n",
              "<style scoped>\n",
              "    .dataframe tbody tr th:only-of-type {\n",
              "        vertical-align: middle;\n",
              "    }\n",
              "\n",
              "    .dataframe tbody tr th {\n",
              "        vertical-align: top;\n",
              "    }\n",
              "\n",
              "    .dataframe thead th {\n",
              "        text-align: right;\n",
              "    }\n",
              "</style>\n",
              "<table border=\"1\" class=\"dataframe\">\n",
              "  <thead>\n",
              "    <tr style=\"text-align: right;\">\n",
              "      <th></th>\n",
              "      <th>pageviews</th>\n",
              "      <th>bounces</th>\n",
              "      <th>hits</th>\n",
              "      <th>newVisits</th>\n",
              "    </tr>\n",
              "  </thead>\n",
              "  <tbody>\n",
              "    <tr>\n",
              "      <th>0</th>\n",
              "      <td>1</td>\n",
              "      <td>1</td>\n",
              "      <td>1</td>\n",
              "      <td>1</td>\n",
              "    </tr>\n",
              "    <tr>\n",
              "      <th>1</th>\n",
              "      <td>1</td>\n",
              "      <td>1</td>\n",
              "      <td>1</td>\n",
              "      <td>1</td>\n",
              "    </tr>\n",
              "    <tr>\n",
              "      <th>2</th>\n",
              "      <td>1</td>\n",
              "      <td>1</td>\n",
              "      <td>1</td>\n",
              "      <td>1</td>\n",
              "    </tr>\n",
              "    <tr>\n",
              "      <th>3</th>\n",
              "      <td>1</td>\n",
              "      <td>1</td>\n",
              "      <td>1</td>\n",
              "      <td>NaN</td>\n",
              "    </tr>\n",
              "    <tr>\n",
              "      <th>4</th>\n",
              "      <td>4</td>\n",
              "      <td>NaN</td>\n",
              "      <td>5</td>\n",
              "      <td>1</td>\n",
              "    </tr>\n",
              "    <tr>\n",
              "      <th>...</th>\n",
              "      <td>...</td>\n",
              "      <td>...</td>\n",
              "      <td>...</td>\n",
              "      <td>...</td>\n",
              "    </tr>\n",
              "    <tr>\n",
              "      <th>12278</th>\n",
              "      <td>1</td>\n",
              "      <td>1</td>\n",
              "      <td>1</td>\n",
              "      <td>1</td>\n",
              "    </tr>\n",
              "    <tr>\n",
              "      <th>12279</th>\n",
              "      <td>1</td>\n",
              "      <td>1</td>\n",
              "      <td>1</td>\n",
              "      <td>1</td>\n",
              "    </tr>\n",
              "    <tr>\n",
              "      <th>12280</th>\n",
              "      <td>1</td>\n",
              "      <td>1</td>\n",
              "      <td>1</td>\n",
              "      <td>1</td>\n",
              "    </tr>\n",
              "    <tr>\n",
              "      <th>12281</th>\n",
              "      <td>2</td>\n",
              "      <td>NaN</td>\n",
              "      <td>2</td>\n",
              "      <td>NaN</td>\n",
              "    </tr>\n",
              "    <tr>\n",
              "      <th>12282</th>\n",
              "      <td>3</td>\n",
              "      <td>NaN</td>\n",
              "      <td>3</td>\n",
              "      <td>1</td>\n",
              "    </tr>\n",
              "  </tbody>\n",
              "</table>\n",
              "<p>12283 rows × 4 columns</p>\n",
              "</div>\n",
              "      <button class=\"colab-df-convert\" onclick=\"convertToInteractive('df-99624de3-1beb-44af-b946-cdf60261f0dc')\"\n",
              "              title=\"Convert this dataframe to an interactive table.\"\n",
              "              style=\"display:none;\">\n",
              "        \n",
              "  <svg xmlns=\"http://www.w3.org/2000/svg\" height=\"24px\"viewBox=\"0 0 24 24\"\n",
              "       width=\"24px\">\n",
              "    <path d=\"M0 0h24v24H0V0z\" fill=\"none\"/>\n",
              "    <path d=\"M18.56 5.44l.94 2.06.94-2.06 2.06-.94-2.06-.94-.94-2.06-.94 2.06-2.06.94zm-11 1L8.5 8.5l.94-2.06 2.06-.94-2.06-.94L8.5 2.5l-.94 2.06-2.06.94zm10 10l.94 2.06.94-2.06 2.06-.94-2.06-.94-.94-2.06-.94 2.06-2.06.94z\"/><path d=\"M17.41 7.96l-1.37-1.37c-.4-.4-.92-.59-1.43-.59-.52 0-1.04.2-1.43.59L10.3 9.45l-7.72 7.72c-.78.78-.78 2.05 0 2.83L4 21.41c.39.39.9.59 1.41.59.51 0 1.02-.2 1.41-.59l7.78-7.78 2.81-2.81c.8-.78.8-2.07 0-2.86zM5.41 20L4 18.59l7.72-7.72 1.47 1.35L5.41 20z\"/>\n",
              "  </svg>\n",
              "      </button>\n",
              "      \n",
              "  <style>\n",
              "    .colab-df-container {\n",
              "      display:flex;\n",
              "      flex-wrap:wrap;\n",
              "      gap: 12px;\n",
              "    }\n",
              "\n",
              "    .colab-df-convert {\n",
              "      background-color: #E8F0FE;\n",
              "      border: none;\n",
              "      border-radius: 50%;\n",
              "      cursor: pointer;\n",
              "      display: none;\n",
              "      fill: #1967D2;\n",
              "      height: 32px;\n",
              "      padding: 0 0 0 0;\n",
              "      width: 32px;\n",
              "    }\n",
              "\n",
              "    .colab-df-convert:hover {\n",
              "      background-color: #E2EBFA;\n",
              "      box-shadow: 0px 1px 2px rgba(60, 64, 67, 0.3), 0px 1px 3px 1px rgba(60, 64, 67, 0.15);\n",
              "      fill: #174EA6;\n",
              "    }\n",
              "\n",
              "    [theme=dark] .colab-df-convert {\n",
              "      background-color: #3B4455;\n",
              "      fill: #D2E3FC;\n",
              "    }\n",
              "\n",
              "    [theme=dark] .colab-df-convert:hover {\n",
              "      background-color: #434B5C;\n",
              "      box-shadow: 0px 1px 3px 1px rgba(0, 0, 0, 0.15);\n",
              "      filter: drop-shadow(0px 1px 2px rgba(0, 0, 0, 0.3));\n",
              "      fill: #FFFFFF;\n",
              "    }\n",
              "  </style>\n",
              "\n",
              "      <script>\n",
              "        const buttonEl =\n",
              "          document.querySelector('#df-99624de3-1beb-44af-b946-cdf60261f0dc button.colab-df-convert');\n",
              "        buttonEl.style.display =\n",
              "          google.colab.kernel.accessAllowed ? 'block' : 'none';\n",
              "\n",
              "        async function convertToInteractive(key) {\n",
              "          const element = document.querySelector('#df-99624de3-1beb-44af-b946-cdf60261f0dc');\n",
              "          const dataTable =\n",
              "            await google.colab.kernel.invokeFunction('convertToInteractive',\n",
              "                                                     [key], {});\n",
              "          if (!dataTable) return;\n",
              "\n",
              "          const docLinkHtml = 'Like what you see? Visit the ' +\n",
              "            '<a target=\"_blank\" href=https://colab.research.google.com/notebooks/data_table.ipynb>data table notebook</a>'\n",
              "            + ' to learn more about interactive tables.';\n",
              "          element.innerHTML = '';\n",
              "          dataTable['output_type'] = 'display_data';\n",
              "          await google.colab.output.renderOutput(dataTable, element);\n",
              "          const docLink = document.createElement('div');\n",
              "          docLink.innerHTML = docLinkHtml;\n",
              "          element.appendChild(docLink);\n",
              "        }\n",
              "      </script>\n",
              "    </div>\n",
              "  </div>\n",
              "  "
            ]
          },
          "metadata": {},
          "execution_count": 22
        }
      ]
    },
    {
      "cell_type": "markdown",
      "source": [
        "Note that bounces and newVisits are booleans, which can be 1 or NaN. First, let's fill those null values with 0:"
      ],
      "metadata": {
        "id": "6-rE7NQbjVU5"
      }
    },
    {
      "cell_type": "code",
      "source": [
        "df.bounces.fillna(0, inplace = True)\n",
        "df.newVisits.fillna(0, inplace = True)"
      ],
      "metadata": {
        "id": "oBQVilWJjQv3"
      },
      "execution_count": 23,
      "outputs": []
    },
    {
      "cell_type": "markdown",
      "source": [
        "Note that these features are actually being interpreted as objects. So, let's transform them into numeric features:"
      ],
      "metadata": {
        "id": "b_lqRilhjvLZ"
      }
    },
    {
      "cell_type": "code",
      "source": [
        "quant = ['pageviews', 'bounces', 'hits', 'newVisits']\n",
        "\n",
        "for col in quant:\n",
        "  df[col] = pd.to_numeric(df[col])\n",
        "\n",
        "df.info( )"
      ],
      "metadata": {
        "colab": {
          "base_uri": "https://localhost:8080/"
        },
        "id": "zmkXvTBbjfwF",
        "outputId": "392dc736-5d17-4e9b-c847-fde7168afd97"
      },
      "execution_count": 24,
      "outputs": [
        {
          "output_type": "stream",
          "name": "stdout",
          "text": [
            "<class 'pandas.core.frame.DataFrame'>\n",
            "RangeIndex: 12283 entries, 0 to 12282\n",
            "Data columns (total 49 columns):\n",
            " #   Column                     Non-Null Count  Dtype         \n",
            "---  ------                     --------------  -----         \n",
            " 0   channelGrouping            12283 non-null  object        \n",
            " 1   date                       12283 non-null  datetime64[ns]\n",
            " 2   fullVisitorId              12283 non-null  object        \n",
            " 3   sessionId                  12283 non-null  object        \n",
            " 4   socialEngagementType       12283 non-null  object        \n",
            " 5   visitId                    12283 non-null  object        \n",
            " 6   visitNumber                12283 non-null  int64         \n",
            " 7   visitStartTime             12283 non-null  int64         \n",
            " 8   browser                    12283 non-null  object        \n",
            " 9   browserVersion             12283 non-null  object        \n",
            " 10  browserSize                12283 non-null  object        \n",
            " 11  operatingSystem            12283 non-null  object        \n",
            " 12  operatingSystemVersion     12283 non-null  object        \n",
            " 13  isMobile                   12283 non-null  bool          \n",
            " 14  mobileDeviceBranding       12283 non-null  object        \n",
            " 15  mobileDeviceModel          12283 non-null  object        \n",
            " 16  mobileInputSelector        12283 non-null  object        \n",
            " 17  mobileDeviceInfo           12283 non-null  object        \n",
            " 18  mobileDeviceMarketingName  12283 non-null  object        \n",
            " 19  flashVersion               12283 non-null  object        \n",
            " 20  language                   12283 non-null  object        \n",
            " 21  screenColors               12283 non-null  object        \n",
            " 22  screenResolution           12283 non-null  object        \n",
            " 23  deviceCategory             12283 non-null  object        \n",
            " 24  continent                  12283 non-null  object        \n",
            " 25  subContinent               12283 non-null  object        \n",
            " 26  country                    12283 non-null  object        \n",
            " 27  region                     12283 non-null  object        \n",
            " 28  metro                      12283 non-null  object        \n",
            " 29  city                       12283 non-null  object        \n",
            " 30  cityId                     12283 non-null  object        \n",
            " 31  networkDomain              12283 non-null  object        \n",
            " 32  latitude                   12283 non-null  object        \n",
            " 33  longitude                  12283 non-null  object        \n",
            " 34  networkLocation            12283 non-null  object        \n",
            " 35  campaign                   12283 non-null  object        \n",
            " 36  source                     12283 non-null  object        \n",
            " 37  medium                     12283 non-null  object        \n",
            " 38  keyword                    5394 non-null   object        \n",
            " 39  isTrueDirect               3885 non-null   object        \n",
            " 40  referralPath               4490 non-null   object        \n",
            " 41  adContent                  146 non-null    object        \n",
            " 42  campaignCode               1 non-null      object        \n",
            " 43  visits                     12283 non-null  object        \n",
            " 44  hits                       12283 non-null  int64         \n",
            " 45  pageviews                  12283 non-null  int64         \n",
            " 46  bounces                    12283 non-null  int64         \n",
            " 47  newVisits                  12283 non-null  int64         \n",
            " 48  transactionRevenue         164 non-null    object        \n",
            "dtypes: bool(1), datetime64[ns](1), int64(6), object(41)\n",
            "memory usage: 4.5+ MB\n"
          ]
        }
      ]
    },
    {
      "cell_type": "markdown",
      "source": [
        "Now, our features are integers!"
      ],
      "metadata": {
        "id": "h51JJlyakDjt"
      }
    },
    {
      "cell_type": "markdown",
      "source": [
        "## Looking at our target feature\n",
        "\n",
        "Now, in our model, we will try to predict the transaction revenue. This is present in the transactionRevenue column:"
      ],
      "metadata": {
        "id": "QQVWewB6kL-o"
      }
    },
    {
      "cell_type": "code",
      "source": [
        "df.transactionRevenue"
      ],
      "metadata": {
        "colab": {
          "base_uri": "https://localhost:8080/"
        },
        "id": "Rqc_4fjvkASd",
        "outputId": "eaaa2026-7c12-4f9f-fceb-b89f5139bd1d"
      },
      "execution_count": 25,
      "outputs": [
        {
          "output_type": "execute_result",
          "data": {
            "text/plain": [
              "0        NaN\n",
              "1        NaN\n",
              "2        NaN\n",
              "3        NaN\n",
              "4        NaN\n",
              "        ... \n",
              "12278    NaN\n",
              "12279    NaN\n",
              "12280    NaN\n",
              "12281    NaN\n",
              "12282    NaN\n",
              "Name: transactionRevenue, Length: 12283, dtype: object"
            ]
          },
          "metadata": {},
          "execution_count": 25
        }
      ]
    },
    {
      "cell_type": "markdown",
      "source": [
        "Note that it has lots of missing values. This occurs because most of the visits actually have no revenue. In fact, we have 12119 missing entries, and only 164 non-null entries."
      ],
      "metadata": {
        "id": "mTdB1hDIktBz"
      }
    },
    {
      "cell_type": "code",
      "source": [
        "df.transactionRevenue.isna( ).value_counts( )"
      ],
      "metadata": {
        "colab": {
          "base_uri": "https://localhost:8080/"
        },
        "id": "BjszME1IksFV",
        "outputId": "8143cfb8-41e4-41dd-9475-e502f5fa9dce"
      },
      "execution_count": 26,
      "outputs": [
        {
          "output_type": "execute_result",
          "data": {
            "text/plain": [
              "True     12119\n",
              "False      164\n",
              "Name: transactionRevenue, dtype: int64"
            ]
          },
          "metadata": {},
          "execution_count": 26
        }
      ]
    },
    {
      "cell_type": "markdown",
      "source": [
        "Since these missing values are related to visits with no revenue, we can replace the missing values with a zero:"
      ],
      "metadata": {
        "id": "24_K1cOilEj0"
      }
    },
    {
      "cell_type": "code",
      "source": [
        "df.transactionRevenue.fillna(0, inplace = True)"
      ],
      "metadata": {
        "id": "6pHla4hOk8mc"
      },
      "execution_count": 27,
      "outputs": []
    },
    {
      "cell_type": "markdown",
      "source": [
        "Nice! Now, let's understand more about the values in this column. Let's get the value counts:"
      ],
      "metadata": {
        "id": "oOYR36IxlXk1"
      }
    },
    {
      "cell_type": "code",
      "source": [
        "df.transactionRevenue.value_counts( )"
      ],
      "metadata": {
        "colab": {
          "base_uri": "https://localhost:8080/"
        },
        "id": "sQNYDd-SlNcN",
        "outputId": "78df50f9-73c5-4e57-ea74-edfeb59cda4d"
      },
      "execution_count": 28,
      "outputs": [
        {
          "output_type": "execute_result",
          "data": {
            "text/plain": [
              "0           12119\n",
              "13590000        3\n",
              "33590000        3\n",
              "19190000        3\n",
              "27190000        2\n",
              "            ...  \n",
              "24730000        1\n",
              "6990000         1\n",
              "14480000        1\n",
              "95180000        1\n",
              "25240000        1\n",
              "Name: transactionRevenue, Length: 147, dtype: int64"
            ]
          },
          "metadata": {},
          "execution_count": 28
        }
      ]
    },
    {
      "cell_type": "markdown",
      "source": [
        "Note that our revenue seems to be very large. In fact, we have to divide these numbers by 1e6 (to use them in BRL):"
      ],
      "metadata": {
        "id": "O6lHKq8rlhWD"
      }
    },
    {
      "cell_type": "code",
      "source": [
        "df.transactionRevenue = pd.to_numeric(df.transactionRevenue)/1000000"
      ],
      "metadata": {
        "id": "DwEJewRMlgKA"
      },
      "execution_count": 29,
      "outputs": []
    },
    {
      "cell_type": "code",
      "source": [
        "df.transactionRevenue.value_counts( )"
      ],
      "metadata": {
        "colab": {
          "base_uri": "https://localhost:8080/"
        },
        "id": "RgoCr2R4lvdu",
        "outputId": "1794f521-868a-4e4e-cecd-b0b2a3b5c77f"
      },
      "execution_count": 30,
      "outputs": [
        {
          "output_type": "execute_result",
          "data": {
            "text/plain": [
              "0.00     12119\n",
              "13.59        3\n",
              "33.59        3\n",
              "19.19        3\n",
              "27.19        2\n",
              "         ...  \n",
              "24.73        1\n",
              "6.99         1\n",
              "14.48        1\n",
              "95.18        1\n",
              "25.24        1\n",
              "Name: transactionRevenue, Length: 147, dtype: int64"
            ]
          },
          "metadata": {},
          "execution_count": 30
        }
      ]
    },
    {
      "cell_type": "markdown",
      "source": [
        "Nice! Now, our values make a lot more sense."
      ],
      "metadata": {
        "id": "mwP8KppMl_2z"
      }
    },
    {
      "cell_type": "markdown",
      "source": [
        "## Creating our independent variables\n",
        "\n",
        "So, our target will be explained by the independent features. First, we already saw that we have 9997 visitors, but we have 12283 entries. That occurs because some of our visitors visited our site more than once. To get an aggregated result, we can use groupby:"
      ],
      "metadata": {
        "id": "u2phQSKFmEni"
      }
    },
    {
      "cell_type": "code",
      "source": [
        "df_quant = df.groupby('fullVisitorId')[['pageviews', 'bounces', 'hits', 'newVisits', 'transactionRevenue']].sum( ).reset_index( )\n",
        "df_quant"
      ],
      "metadata": {
        "colab": {
          "base_uri": "https://localhost:8080/",
          "height": 424
        },
        "id": "FjOcAg3Ulx5e",
        "outputId": "0aa5daba-3144-4584-a0ad-e24af593686b"
      },
      "execution_count": 31,
      "outputs": [
        {
          "output_type": "execute_result",
          "data": {
            "text/plain": [
              "            fullVisitorId  pageviews  bounces  hits  newVisits  \\\n",
              "0         231955209315461          4        1     4          1   \n",
              "1         266926879733529         12        0    16          1   \n",
              "2         852896709559982          3        0     3          1   \n",
              "3        1676995035957087          1        1     1          1   \n",
              "4        2365800130207040          1        1     1          1   \n",
              "...                   ...        ...      ...   ...        ...   \n",
              "9991  9996691020299725061         10        0    10          0   \n",
              "9992  9996793353803109760          1        1     1          1   \n",
              "9993  9997125062030599880          8        0     8          1   \n",
              "9994  9997464307347866920          1        1     1          1   \n",
              "9995  9999355589118867468          2        2     2          1   \n",
              "\n",
              "      transactionRevenue  \n",
              "0                    0.0  \n",
              "1                    0.0  \n",
              "2                    0.0  \n",
              "3                    0.0  \n",
              "4                    0.0  \n",
              "...                  ...  \n",
              "9991                 0.0  \n",
              "9992                 0.0  \n",
              "9993                 0.0  \n",
              "9994                 0.0  \n",
              "9995                 0.0  \n",
              "\n",
              "[9996 rows x 6 columns]"
            ],
            "text/html": [
              "\n",
              "  <div id=\"df-7aad400a-73a5-4f06-b170-0f150bf9885a\">\n",
              "    <div class=\"colab-df-container\">\n",
              "      <div>\n",
              "<style scoped>\n",
              "    .dataframe tbody tr th:only-of-type {\n",
              "        vertical-align: middle;\n",
              "    }\n",
              "\n",
              "    .dataframe tbody tr th {\n",
              "        vertical-align: top;\n",
              "    }\n",
              "\n",
              "    .dataframe thead th {\n",
              "        text-align: right;\n",
              "    }\n",
              "</style>\n",
              "<table border=\"1\" class=\"dataframe\">\n",
              "  <thead>\n",
              "    <tr style=\"text-align: right;\">\n",
              "      <th></th>\n",
              "      <th>fullVisitorId</th>\n",
              "      <th>pageviews</th>\n",
              "      <th>bounces</th>\n",
              "      <th>hits</th>\n",
              "      <th>newVisits</th>\n",
              "      <th>transactionRevenue</th>\n",
              "    </tr>\n",
              "  </thead>\n",
              "  <tbody>\n",
              "    <tr>\n",
              "      <th>0</th>\n",
              "      <td>231955209315461</td>\n",
              "      <td>4</td>\n",
              "      <td>1</td>\n",
              "      <td>4</td>\n",
              "      <td>1</td>\n",
              "      <td>0.0</td>\n",
              "    </tr>\n",
              "    <tr>\n",
              "      <th>1</th>\n",
              "      <td>266926879733529</td>\n",
              "      <td>12</td>\n",
              "      <td>0</td>\n",
              "      <td>16</td>\n",
              "      <td>1</td>\n",
              "      <td>0.0</td>\n",
              "    </tr>\n",
              "    <tr>\n",
              "      <th>2</th>\n",
              "      <td>852896709559982</td>\n",
              "      <td>3</td>\n",
              "      <td>0</td>\n",
              "      <td>3</td>\n",
              "      <td>1</td>\n",
              "      <td>0.0</td>\n",
              "    </tr>\n",
              "    <tr>\n",
              "      <th>3</th>\n",
              "      <td>1676995035957087</td>\n",
              "      <td>1</td>\n",
              "      <td>1</td>\n",
              "      <td>1</td>\n",
              "      <td>1</td>\n",
              "      <td>0.0</td>\n",
              "    </tr>\n",
              "    <tr>\n",
              "      <th>4</th>\n",
              "      <td>2365800130207040</td>\n",
              "      <td>1</td>\n",
              "      <td>1</td>\n",
              "      <td>1</td>\n",
              "      <td>1</td>\n",
              "      <td>0.0</td>\n",
              "    </tr>\n",
              "    <tr>\n",
              "      <th>...</th>\n",
              "      <td>...</td>\n",
              "      <td>...</td>\n",
              "      <td>...</td>\n",
              "      <td>...</td>\n",
              "      <td>...</td>\n",
              "      <td>...</td>\n",
              "    </tr>\n",
              "    <tr>\n",
              "      <th>9991</th>\n",
              "      <td>9996691020299725061</td>\n",
              "      <td>10</td>\n",
              "      <td>0</td>\n",
              "      <td>10</td>\n",
              "      <td>0</td>\n",
              "      <td>0.0</td>\n",
              "    </tr>\n",
              "    <tr>\n",
              "      <th>9992</th>\n",
              "      <td>9996793353803109760</td>\n",
              "      <td>1</td>\n",
              "      <td>1</td>\n",
              "      <td>1</td>\n",
              "      <td>1</td>\n",
              "      <td>0.0</td>\n",
              "    </tr>\n",
              "    <tr>\n",
              "      <th>9993</th>\n",
              "      <td>9997125062030599880</td>\n",
              "      <td>8</td>\n",
              "      <td>0</td>\n",
              "      <td>8</td>\n",
              "      <td>1</td>\n",
              "      <td>0.0</td>\n",
              "    </tr>\n",
              "    <tr>\n",
              "      <th>9994</th>\n",
              "      <td>9997464307347866920</td>\n",
              "      <td>1</td>\n",
              "      <td>1</td>\n",
              "      <td>1</td>\n",
              "      <td>1</td>\n",
              "      <td>0.0</td>\n",
              "    </tr>\n",
              "    <tr>\n",
              "      <th>9995</th>\n",
              "      <td>9999355589118867468</td>\n",
              "      <td>2</td>\n",
              "      <td>2</td>\n",
              "      <td>2</td>\n",
              "      <td>1</td>\n",
              "      <td>0.0</td>\n",
              "    </tr>\n",
              "  </tbody>\n",
              "</table>\n",
              "<p>9996 rows × 6 columns</p>\n",
              "</div>\n",
              "      <button class=\"colab-df-convert\" onclick=\"convertToInteractive('df-7aad400a-73a5-4f06-b170-0f150bf9885a')\"\n",
              "              title=\"Convert this dataframe to an interactive table.\"\n",
              "              style=\"display:none;\">\n",
              "        \n",
              "  <svg xmlns=\"http://www.w3.org/2000/svg\" height=\"24px\"viewBox=\"0 0 24 24\"\n",
              "       width=\"24px\">\n",
              "    <path d=\"M0 0h24v24H0V0z\" fill=\"none\"/>\n",
              "    <path d=\"M18.56 5.44l.94 2.06.94-2.06 2.06-.94-2.06-.94-.94-2.06-.94 2.06-2.06.94zm-11 1L8.5 8.5l.94-2.06 2.06-.94-2.06-.94L8.5 2.5l-.94 2.06-2.06.94zm10 10l.94 2.06.94-2.06 2.06-.94-2.06-.94-.94-2.06-.94 2.06-2.06.94z\"/><path d=\"M17.41 7.96l-1.37-1.37c-.4-.4-.92-.59-1.43-.59-.52 0-1.04.2-1.43.59L10.3 9.45l-7.72 7.72c-.78.78-.78 2.05 0 2.83L4 21.41c.39.39.9.59 1.41.59.51 0 1.02-.2 1.41-.59l7.78-7.78 2.81-2.81c.8-.78.8-2.07 0-2.86zM5.41 20L4 18.59l7.72-7.72 1.47 1.35L5.41 20z\"/>\n",
              "  </svg>\n",
              "      </button>\n",
              "      \n",
              "  <style>\n",
              "    .colab-df-container {\n",
              "      display:flex;\n",
              "      flex-wrap:wrap;\n",
              "      gap: 12px;\n",
              "    }\n",
              "\n",
              "    .colab-df-convert {\n",
              "      background-color: #E8F0FE;\n",
              "      border: none;\n",
              "      border-radius: 50%;\n",
              "      cursor: pointer;\n",
              "      display: none;\n",
              "      fill: #1967D2;\n",
              "      height: 32px;\n",
              "      padding: 0 0 0 0;\n",
              "      width: 32px;\n",
              "    }\n",
              "\n",
              "    .colab-df-convert:hover {\n",
              "      background-color: #E2EBFA;\n",
              "      box-shadow: 0px 1px 2px rgba(60, 64, 67, 0.3), 0px 1px 3px 1px rgba(60, 64, 67, 0.15);\n",
              "      fill: #174EA6;\n",
              "    }\n",
              "\n",
              "    [theme=dark] .colab-df-convert {\n",
              "      background-color: #3B4455;\n",
              "      fill: #D2E3FC;\n",
              "    }\n",
              "\n",
              "    [theme=dark] .colab-df-convert:hover {\n",
              "      background-color: #434B5C;\n",
              "      box-shadow: 0px 1px 3px 1px rgba(0, 0, 0, 0.15);\n",
              "      filter: drop-shadow(0px 1px 2px rgba(0, 0, 0, 0.3));\n",
              "      fill: #FFFFFF;\n",
              "    }\n",
              "  </style>\n",
              "\n",
              "      <script>\n",
              "        const buttonEl =\n",
              "          document.querySelector('#df-7aad400a-73a5-4f06-b170-0f150bf9885a button.colab-df-convert');\n",
              "        buttonEl.style.display =\n",
              "          google.colab.kernel.accessAllowed ? 'block' : 'none';\n",
              "\n",
              "        async function convertToInteractive(key) {\n",
              "          const element = document.querySelector('#df-7aad400a-73a5-4f06-b170-0f150bf9885a');\n",
              "          const dataTable =\n",
              "            await google.colab.kernel.invokeFunction('convertToInteractive',\n",
              "                                                     [key], {});\n",
              "          if (!dataTable) return;\n",
              "\n",
              "          const docLinkHtml = 'Like what you see? Visit the ' +\n",
              "            '<a target=\"_blank\" href=https://colab.research.google.com/notebooks/data_table.ipynb>data table notebook</a>'\n",
              "            + ' to learn more about interactive tables.';\n",
              "          element.innerHTML = '';\n",
              "          dataTable['output_type'] = 'display_data';\n",
              "          await google.colab.output.renderOutput(dataTable, element);\n",
              "          const docLink = document.createElement('div');\n",
              "          docLink.innerHTML = docLinkHtml;\n",
              "          element.appendChild(docLink);\n",
              "        }\n",
              "      </script>\n",
              "    </div>\n",
              "  </div>\n",
              "  "
            ]
          },
          "metadata": {},
          "execution_count": 31
        }
      ]
    },
    {
      "cell_type": "markdown",
      "source": [
        "Nice. Now we have the sum of pageviews, bounces, hits and new visits for each visitor. Now, owr dataframe only has 9996 entries, which are related to each visitor:"
      ],
      "metadata": {
        "id": "jgTLYoopnA3z"
      }
    },
    {
      "cell_type": "code",
      "source": [
        "df_quant.shape"
      ],
      "metadata": {
        "colab": {
          "base_uri": "https://localhost:8080/"
        },
        "id": "hlQ075Ssm-t9",
        "outputId": "fe145b97-da71-4200-baa8-70c06dfe783e"
      },
      "execution_count": 32,
      "outputs": [
        {
          "output_type": "execute_result",
          "data": {
            "text/plain": [
              "(9996, 6)"
            ]
          },
          "metadata": {},
          "execution_count": 32
        }
      ]
    },
    {
      "cell_type": "markdown",
      "source": [
        "# Implementing our model\n",
        "\n",
        "Ok. Now, let's start implementing our model. First, let's separate our targets and our independent variables:"
      ],
      "metadata": {
        "id": "M7QSgz5kqy-F"
      }
    },
    {
      "cell_type": "code",
      "source": [
        "y = df_quant.transactionRevenue.copy( )\n",
        "X = df_quant[['pageviews', 'bounces', 'hits', 'newVisits']].copy( )"
      ],
      "metadata": {
        "id": "7U-ZVUi4nacA"
      },
      "execution_count": 33,
      "outputs": []
    },
    {
      "cell_type": "markdown",
      "source": [
        "Now, let's perform our train test split:"
      ],
      "metadata": {
        "id": "JjjuklSnr3vg"
      }
    },
    {
      "cell_type": "code",
      "source": [
        "from sklearn.model_selection import train_test_split\n",
        "\n",
        "SEED = 42\n",
        "\n",
        "X_train, X_test, y_train, y_test = train_test_split(X, y, test_size = 0.3, random_state = SEED)"
      ],
      "metadata": {
        "id": "qmEFBOtWrz_t"
      },
      "execution_count": 34,
      "outputs": []
    },
    {
      "cell_type": "markdown",
      "source": [
        "Nice. The train set will be used to fit our model, while the test set will be used to test our model."
      ],
      "metadata": {
        "id": "ycyi-7wzsEMk"
      }
    },
    {
      "cell_type": "markdown",
      "source": [
        "Now, let's train a simple Linear Regression model:"
      ],
      "metadata": {
        "id": "7fRJJv1-sZLc"
      }
    },
    {
      "cell_type": "code",
      "source": [
        "from sklearn.linear_model import LinearRegression\n",
        "\n",
        "model_LinReg = LinearRegression( )\n",
        "model_LinReg.fit(X_train, y_train)"
      ],
      "metadata": {
        "colab": {
          "base_uri": "https://localhost:8080/"
        },
        "id": "LgqdqUcEr2uS",
        "outputId": "ff7fda41-7c96-4f43-8b41-a874fcd8a0a1"
      },
      "execution_count": 35,
      "outputs": [
        {
          "output_type": "execute_result",
          "data": {
            "text/plain": [
              "LinearRegression()"
            ]
          },
          "metadata": {},
          "execution_count": 35
        }
      ]
    },
    {
      "cell_type": "markdown",
      "source": [
        "Now, let's get our model prediction at our test set:"
      ],
      "metadata": {
        "id": "vAOOAKNCsvzk"
      }
    },
    {
      "cell_type": "code",
      "source": [
        "y_pred = model_LinReg.predict(X_test)"
      ],
      "metadata": {
        "id": "4eGuSF4Dsfut"
      },
      "execution_count": 36,
      "outputs": []
    },
    {
      "cell_type": "markdown",
      "source": [
        "Now, let's get some metrics to understand if our model is good enough. First, let's create a dataframe to compare our prediction with our true values, and to get the error from our predictions:"
      ],
      "metadata": {
        "id": "-3KZwdIetEcj"
      }
    },
    {
      "cell_type": "code",
      "source": [
        "results_LinReg = pd.DataFrame( )\n",
        "results_LinReg['y_test'] = y_test\n",
        "results_LinReg['y_pred'] = y_pred\n",
        "results_LinReg['error']  = y_pred - y_test"
      ],
      "metadata": {
        "id": "rdi4Udjrs1t4"
      },
      "execution_count": 37,
      "outputs": []
    },
    {
      "cell_type": "code",
      "source": [
        "results_LinReg.head(5)"
      ],
      "metadata": {
        "colab": {
          "base_uri": "https://localhost:8080/",
          "height": 206
        },
        "id": "F5TheUDJtUyV",
        "outputId": "ad60db36-06c1-42c0-8b1f-519498f0f55d"
      },
      "execution_count": 38,
      "outputs": [
        {
          "output_type": "execute_result",
          "data": {
            "text/plain": [
              "      y_test     y_pred      error\n",
              "1078     0.0  16.410906  16.410906\n",
              "4336     0.0  30.283348  30.283348\n",
              "8966     0.0   0.456503   0.456503\n",
              "5456     0.0  -1.532710  -1.532710\n",
              "2407     0.0  -1.532710  -1.532710"
            ],
            "text/html": [
              "\n",
              "  <div id=\"df-f48e8280-5c19-4c5c-ad34-0d3e6c736374\">\n",
              "    <div class=\"colab-df-container\">\n",
              "      <div>\n",
              "<style scoped>\n",
              "    .dataframe tbody tr th:only-of-type {\n",
              "        vertical-align: middle;\n",
              "    }\n",
              "\n",
              "    .dataframe tbody tr th {\n",
              "        vertical-align: top;\n",
              "    }\n",
              "\n",
              "    .dataframe thead th {\n",
              "        text-align: right;\n",
              "    }\n",
              "</style>\n",
              "<table border=\"1\" class=\"dataframe\">\n",
              "  <thead>\n",
              "    <tr style=\"text-align: right;\">\n",
              "      <th></th>\n",
              "      <th>y_test</th>\n",
              "      <th>y_pred</th>\n",
              "      <th>error</th>\n",
              "    </tr>\n",
              "  </thead>\n",
              "  <tbody>\n",
              "    <tr>\n",
              "      <th>1078</th>\n",
              "      <td>0.0</td>\n",
              "      <td>16.410906</td>\n",
              "      <td>16.410906</td>\n",
              "    </tr>\n",
              "    <tr>\n",
              "      <th>4336</th>\n",
              "      <td>0.0</td>\n",
              "      <td>30.283348</td>\n",
              "      <td>30.283348</td>\n",
              "    </tr>\n",
              "    <tr>\n",
              "      <th>8966</th>\n",
              "      <td>0.0</td>\n",
              "      <td>0.456503</td>\n",
              "      <td>0.456503</td>\n",
              "    </tr>\n",
              "    <tr>\n",
              "      <th>5456</th>\n",
              "      <td>0.0</td>\n",
              "      <td>-1.532710</td>\n",
              "      <td>-1.532710</td>\n",
              "    </tr>\n",
              "    <tr>\n",
              "      <th>2407</th>\n",
              "      <td>0.0</td>\n",
              "      <td>-1.532710</td>\n",
              "      <td>-1.532710</td>\n",
              "    </tr>\n",
              "  </tbody>\n",
              "</table>\n",
              "</div>\n",
              "      <button class=\"colab-df-convert\" onclick=\"convertToInteractive('df-f48e8280-5c19-4c5c-ad34-0d3e6c736374')\"\n",
              "              title=\"Convert this dataframe to an interactive table.\"\n",
              "              style=\"display:none;\">\n",
              "        \n",
              "  <svg xmlns=\"http://www.w3.org/2000/svg\" height=\"24px\"viewBox=\"0 0 24 24\"\n",
              "       width=\"24px\">\n",
              "    <path d=\"M0 0h24v24H0V0z\" fill=\"none\"/>\n",
              "    <path d=\"M18.56 5.44l.94 2.06.94-2.06 2.06-.94-2.06-.94-.94-2.06-.94 2.06-2.06.94zm-11 1L8.5 8.5l.94-2.06 2.06-.94-2.06-.94L8.5 2.5l-.94 2.06-2.06.94zm10 10l.94 2.06.94-2.06 2.06-.94-2.06-.94-.94-2.06-.94 2.06-2.06.94z\"/><path d=\"M17.41 7.96l-1.37-1.37c-.4-.4-.92-.59-1.43-.59-.52 0-1.04.2-1.43.59L10.3 9.45l-7.72 7.72c-.78.78-.78 2.05 0 2.83L4 21.41c.39.39.9.59 1.41.59.51 0 1.02-.2 1.41-.59l7.78-7.78 2.81-2.81c.8-.78.8-2.07 0-2.86zM5.41 20L4 18.59l7.72-7.72 1.47 1.35L5.41 20z\"/>\n",
              "  </svg>\n",
              "      </button>\n",
              "      \n",
              "  <style>\n",
              "    .colab-df-container {\n",
              "      display:flex;\n",
              "      flex-wrap:wrap;\n",
              "      gap: 12px;\n",
              "    }\n",
              "\n",
              "    .colab-df-convert {\n",
              "      background-color: #E8F0FE;\n",
              "      border: none;\n",
              "      border-radius: 50%;\n",
              "      cursor: pointer;\n",
              "      display: none;\n",
              "      fill: #1967D2;\n",
              "      height: 32px;\n",
              "      padding: 0 0 0 0;\n",
              "      width: 32px;\n",
              "    }\n",
              "\n",
              "    .colab-df-convert:hover {\n",
              "      background-color: #E2EBFA;\n",
              "      box-shadow: 0px 1px 2px rgba(60, 64, 67, 0.3), 0px 1px 3px 1px rgba(60, 64, 67, 0.15);\n",
              "      fill: #174EA6;\n",
              "    }\n",
              "\n",
              "    [theme=dark] .colab-df-convert {\n",
              "      background-color: #3B4455;\n",
              "      fill: #D2E3FC;\n",
              "    }\n",
              "\n",
              "    [theme=dark] .colab-df-convert:hover {\n",
              "      background-color: #434B5C;\n",
              "      box-shadow: 0px 1px 3px 1px rgba(0, 0, 0, 0.15);\n",
              "      filter: drop-shadow(0px 1px 2px rgba(0, 0, 0, 0.3));\n",
              "      fill: #FFFFFF;\n",
              "    }\n",
              "  </style>\n",
              "\n",
              "      <script>\n",
              "        const buttonEl =\n",
              "          document.querySelector('#df-f48e8280-5c19-4c5c-ad34-0d3e6c736374 button.colab-df-convert');\n",
              "        buttonEl.style.display =\n",
              "          google.colab.kernel.accessAllowed ? 'block' : 'none';\n",
              "\n",
              "        async function convertToInteractive(key) {\n",
              "          const element = document.querySelector('#df-f48e8280-5c19-4c5c-ad34-0d3e6c736374');\n",
              "          const dataTable =\n",
              "            await google.colab.kernel.invokeFunction('convertToInteractive',\n",
              "                                                     [key], {});\n",
              "          if (!dataTable) return;\n",
              "\n",
              "          const docLinkHtml = 'Like what you see? Visit the ' +\n",
              "            '<a target=\"_blank\" href=https://colab.research.google.com/notebooks/data_table.ipynb>data table notebook</a>'\n",
              "            + ' to learn more about interactive tables.';\n",
              "          element.innerHTML = '';\n",
              "          dataTable['output_type'] = 'display_data';\n",
              "          await google.colab.output.renderOutput(dataTable, element);\n",
              "          const docLink = document.createElement('div');\n",
              "          docLink.innerHTML = docLinkHtml;\n",
              "          element.appendChild(docLink);\n",
              "        }\n",
              "      </script>\n",
              "    </div>\n",
              "  </div>\n",
              "  "
            ]
          },
          "metadata": {},
          "execution_count": 38
        }
      ]
    },
    {
      "cell_type": "markdown",
      "source": [
        "Note that, here, we only got data were our real revenue was 0. Our errors were pretty high. What if we filter our data, getting only those cases were y_test != 0? Let's try:"
      ],
      "metadata": {
        "id": "-MYFazyJtzO3"
      }
    },
    {
      "cell_type": "code",
      "source": [
        "results_LinReg.query('y_test > 0').head(10)"
      ],
      "metadata": {
        "colab": {
          "base_uri": "https://localhost:8080/",
          "height": 363
        },
        "id": "h3wS9KH0tybB",
        "outputId": "31a711a4-c8a7-47ce-fb74-967c869d17fd"
      },
      "execution_count": 39,
      "outputs": [
        {
          "output_type": "execute_result",
          "data": {
            "text/plain": [
              "      y_test     y_pred       error\n",
              "2150   67.19   9.405808  -57.784192\n",
              "88    100.78  20.164305  -80.615695\n",
              "7816   64.78  11.396390  -53.383610\n",
              "1183  112.37  54.261707  -58.108293\n",
              "9679   95.80   8.773197  -87.026803\n",
              "4762  217.44  38.834649 -178.605351\n",
              "2310  702.90  29.054288 -673.845712\n",
              "349   278.03  48.367454 -229.662546\n",
              "9901  362.84  83.363192 -279.476808\n",
              "2823    9.16  33.723279   24.563279"
            ],
            "text/html": [
              "\n",
              "  <div id=\"df-ec55d24c-3267-41f2-8611-9a55128607e8\">\n",
              "    <div class=\"colab-df-container\">\n",
              "      <div>\n",
              "<style scoped>\n",
              "    .dataframe tbody tr th:only-of-type {\n",
              "        vertical-align: middle;\n",
              "    }\n",
              "\n",
              "    .dataframe tbody tr th {\n",
              "        vertical-align: top;\n",
              "    }\n",
              "\n",
              "    .dataframe thead th {\n",
              "        text-align: right;\n",
              "    }\n",
              "</style>\n",
              "<table border=\"1\" class=\"dataframe\">\n",
              "  <thead>\n",
              "    <tr style=\"text-align: right;\">\n",
              "      <th></th>\n",
              "      <th>y_test</th>\n",
              "      <th>y_pred</th>\n",
              "      <th>error</th>\n",
              "    </tr>\n",
              "  </thead>\n",
              "  <tbody>\n",
              "    <tr>\n",
              "      <th>2150</th>\n",
              "      <td>67.19</td>\n",
              "      <td>9.405808</td>\n",
              "      <td>-57.784192</td>\n",
              "    </tr>\n",
              "    <tr>\n",
              "      <th>88</th>\n",
              "      <td>100.78</td>\n",
              "      <td>20.164305</td>\n",
              "      <td>-80.615695</td>\n",
              "    </tr>\n",
              "    <tr>\n",
              "      <th>7816</th>\n",
              "      <td>64.78</td>\n",
              "      <td>11.396390</td>\n",
              "      <td>-53.383610</td>\n",
              "    </tr>\n",
              "    <tr>\n",
              "      <th>1183</th>\n",
              "      <td>112.37</td>\n",
              "      <td>54.261707</td>\n",
              "      <td>-58.108293</td>\n",
              "    </tr>\n",
              "    <tr>\n",
              "      <th>9679</th>\n",
              "      <td>95.80</td>\n",
              "      <td>8.773197</td>\n",
              "      <td>-87.026803</td>\n",
              "    </tr>\n",
              "    <tr>\n",
              "      <th>4762</th>\n",
              "      <td>217.44</td>\n",
              "      <td>38.834649</td>\n",
              "      <td>-178.605351</td>\n",
              "    </tr>\n",
              "    <tr>\n",
              "      <th>2310</th>\n",
              "      <td>702.90</td>\n",
              "      <td>29.054288</td>\n",
              "      <td>-673.845712</td>\n",
              "    </tr>\n",
              "    <tr>\n",
              "      <th>349</th>\n",
              "      <td>278.03</td>\n",
              "      <td>48.367454</td>\n",
              "      <td>-229.662546</td>\n",
              "    </tr>\n",
              "    <tr>\n",
              "      <th>9901</th>\n",
              "      <td>362.84</td>\n",
              "      <td>83.363192</td>\n",
              "      <td>-279.476808</td>\n",
              "    </tr>\n",
              "    <tr>\n",
              "      <th>2823</th>\n",
              "      <td>9.16</td>\n",
              "      <td>33.723279</td>\n",
              "      <td>24.563279</td>\n",
              "    </tr>\n",
              "  </tbody>\n",
              "</table>\n",
              "</div>\n",
              "      <button class=\"colab-df-convert\" onclick=\"convertToInteractive('df-ec55d24c-3267-41f2-8611-9a55128607e8')\"\n",
              "              title=\"Convert this dataframe to an interactive table.\"\n",
              "              style=\"display:none;\">\n",
              "        \n",
              "  <svg xmlns=\"http://www.w3.org/2000/svg\" height=\"24px\"viewBox=\"0 0 24 24\"\n",
              "       width=\"24px\">\n",
              "    <path d=\"M0 0h24v24H0V0z\" fill=\"none\"/>\n",
              "    <path d=\"M18.56 5.44l.94 2.06.94-2.06 2.06-.94-2.06-.94-.94-2.06-.94 2.06-2.06.94zm-11 1L8.5 8.5l.94-2.06 2.06-.94-2.06-.94L8.5 2.5l-.94 2.06-2.06.94zm10 10l.94 2.06.94-2.06 2.06-.94-2.06-.94-.94-2.06-.94 2.06-2.06.94z\"/><path d=\"M17.41 7.96l-1.37-1.37c-.4-.4-.92-.59-1.43-.59-.52 0-1.04.2-1.43.59L10.3 9.45l-7.72 7.72c-.78.78-.78 2.05 0 2.83L4 21.41c.39.39.9.59 1.41.59.51 0 1.02-.2 1.41-.59l7.78-7.78 2.81-2.81c.8-.78.8-2.07 0-2.86zM5.41 20L4 18.59l7.72-7.72 1.47 1.35L5.41 20z\"/>\n",
              "  </svg>\n",
              "      </button>\n",
              "      \n",
              "  <style>\n",
              "    .colab-df-container {\n",
              "      display:flex;\n",
              "      flex-wrap:wrap;\n",
              "      gap: 12px;\n",
              "    }\n",
              "\n",
              "    .colab-df-convert {\n",
              "      background-color: #E8F0FE;\n",
              "      border: none;\n",
              "      border-radius: 50%;\n",
              "      cursor: pointer;\n",
              "      display: none;\n",
              "      fill: #1967D2;\n",
              "      height: 32px;\n",
              "      padding: 0 0 0 0;\n",
              "      width: 32px;\n",
              "    }\n",
              "\n",
              "    .colab-df-convert:hover {\n",
              "      background-color: #E2EBFA;\n",
              "      box-shadow: 0px 1px 2px rgba(60, 64, 67, 0.3), 0px 1px 3px 1px rgba(60, 64, 67, 0.15);\n",
              "      fill: #174EA6;\n",
              "    }\n",
              "\n",
              "    [theme=dark] .colab-df-convert {\n",
              "      background-color: #3B4455;\n",
              "      fill: #D2E3FC;\n",
              "    }\n",
              "\n",
              "    [theme=dark] .colab-df-convert:hover {\n",
              "      background-color: #434B5C;\n",
              "      box-shadow: 0px 1px 3px 1px rgba(0, 0, 0, 0.15);\n",
              "      filter: drop-shadow(0px 1px 2px rgba(0, 0, 0, 0.3));\n",
              "      fill: #FFFFFF;\n",
              "    }\n",
              "  </style>\n",
              "\n",
              "      <script>\n",
              "        const buttonEl =\n",
              "          document.querySelector('#df-ec55d24c-3267-41f2-8611-9a55128607e8 button.colab-df-convert');\n",
              "        buttonEl.style.display =\n",
              "          google.colab.kernel.accessAllowed ? 'block' : 'none';\n",
              "\n",
              "        async function convertToInteractive(key) {\n",
              "          const element = document.querySelector('#df-ec55d24c-3267-41f2-8611-9a55128607e8');\n",
              "          const dataTable =\n",
              "            await google.colab.kernel.invokeFunction('convertToInteractive',\n",
              "                                                     [key], {});\n",
              "          if (!dataTable) return;\n",
              "\n",
              "          const docLinkHtml = 'Like what you see? Visit the ' +\n",
              "            '<a target=\"_blank\" href=https://colab.research.google.com/notebooks/data_table.ipynb>data table notebook</a>'\n",
              "            + ' to learn more about interactive tables.';\n",
              "          element.innerHTML = '';\n",
              "          dataTable['output_type'] = 'display_data';\n",
              "          await google.colab.output.renderOutput(dataTable, element);\n",
              "          const docLink = document.createElement('div');\n",
              "          docLink.innerHTML = docLinkHtml;\n",
              "          element.appendChild(docLink);\n",
              "        }\n",
              "      </script>\n",
              "    </div>\n",
              "  </div>\n",
              "  "
            ]
          },
          "metadata": {},
          "execution_count": 39
        }
      ]
    },
    {
      "cell_type": "markdown",
      "source": [
        "Still, our predictions seem very bad. Note that, in our model, we have lots of zero values in our target (target almost constant). It is very hard for a linear regression model to present a good fit in these cases. \n",
        "\n",
        "Let's get the Mean Squared Error:"
      ],
      "metadata": {
        "id": "SiIn43xWuIWx"
      }
    },
    {
      "cell_type": "code",
      "source": [
        "results_LinReg['error^2'] = (y_pred - y_test)**2"
      ],
      "metadata": {
        "id": "7qN4IlJCuF3a"
      },
      "execution_count": 40,
      "outputs": []
    },
    {
      "cell_type": "code",
      "source": [
        "results_LinReg['error^2'].mean( )"
      ],
      "metadata": {
        "colab": {
          "base_uri": "https://localhost:8080/"
        },
        "id": "TSqbApPjunuc",
        "outputId": "cbd9fa5a-bcb7-446c-9c08-b59e5ab8cb31"
      },
      "execution_count": 41,
      "outputs": [
        {
          "output_type": "execute_result",
          "data": {
            "text/plain": [
              "531.2811449521541"
            ]
          },
          "metadata": {},
          "execution_count": 41
        }
      ]
    },
    {
      "cell_type": "markdown",
      "source": [
        "It is hard to understand what this value means. Let's get the Root Mean Squared Error, where the unit for the error is also in BRL:"
      ],
      "metadata": {
        "id": "uaYcFrrUutcT"
      }
    },
    {
      "cell_type": "code",
      "source": [
        "import numpy as np\n",
        "\n",
        "np.sqrt( results_LinReg['error^2'].mean( ) )"
      ],
      "metadata": {
        "colab": {
          "base_uri": "https://localhost:8080/"
        },
        "id": "IbXmaAQVurVC",
        "outputId": "5e6f12b7-1c8b-495f-b620-5b6eb5b7ec02"
      },
      "execution_count": 42,
      "outputs": [
        {
          "output_type": "execute_result",
          "data": {
            "text/plain": [
              "23.049536762203143"
            ]
          },
          "metadata": {},
          "execution_count": 42
        }
      ]
    },
    {
      "cell_type": "markdown",
      "source": [
        "So, on average, our model is getting an error of BRL 23.04. This is a very high values, especially when we compare it to the average and the standard deviation of our target: "
      ],
      "metadata": {
        "id": "wsC-8auSvKtN"
      }
    },
    {
      "cell_type": "code",
      "source": [
        "df_quant.transactionRevenue.mean( )"
      ],
      "metadata": {
        "colab": {
          "base_uri": "https://localhost:8080/"
        },
        "id": "-u8LJZYJwbgc",
        "outputId": "7cadb771-60c3-4155-944b-b35f1e0fa152"
      },
      "execution_count": 43,
      "outputs": [
        {
          "output_type": "execute_result",
          "data": {
            "text/plain": [
              "1.7791316526610639"
            ]
          },
          "metadata": {},
          "execution_count": 43
        }
      ]
    },
    {
      "cell_type": "code",
      "source": [
        "df_quant.transactionRevenue.std( )"
      ],
      "metadata": {
        "colab": {
          "base_uri": "https://localhost:8080/"
        },
        "id": "H52hjgTpwbze",
        "outputId": "161fcde0-810d-404c-88ff-7898808ed522"
      },
      "execution_count": 44,
      "outputs": [
        {
          "output_type": "execute_result",
          "data": {
            "text/plain": [
              "25.132413530165568"
            ]
          },
          "metadata": {},
          "execution_count": 44
        }
      ]
    },
    {
      "cell_type": "markdown",
      "source": [
        "Our error is much higher than our mean, and is very close to the standard deviation."
      ],
      "metadata": {
        "id": "3yV3RRlMwmH_"
      }
    },
    {
      "cell_type": "markdown",
      "source": [
        "Note that we can also get these values using sklearn:"
      ],
      "metadata": {
        "id": "I495JRSTwDxX"
      }
    },
    {
      "cell_type": "code",
      "source": [
        "from sklearn.metrics import mean_squared_error\n",
        "\n",
        "mean_squared_error(y_test, y_pred)"
      ],
      "metadata": {
        "colab": {
          "base_uri": "https://localhost:8080/"
        },
        "id": "oaNVfux6u8Ar",
        "outputId": "303e8ae2-98ac-4819-eda5-757fcf03380f"
      },
      "execution_count": 45,
      "outputs": [
        {
          "output_type": "execute_result",
          "data": {
            "text/plain": [
              "531.2811449521583"
            ]
          },
          "metadata": {},
          "execution_count": 45
        }
      ]
    },
    {
      "cell_type": "code",
      "source": [
        "mean_squared_error(y_test, y_pred, squared = False)"
      ],
      "metadata": {
        "colab": {
          "base_uri": "https://localhost:8080/"
        },
        "id": "8PiYsVWzwM-N",
        "outputId": "b9176149-21a9-452a-9e94-b92c4e69f175"
      },
      "execution_count": 46,
      "outputs": [
        {
          "output_type": "execute_result",
          "data": {
            "text/plain": [
              "23.049536762203235"
            ]
          },
          "metadata": {},
          "execution_count": 46
        }
      ]
    },
    {
      "cell_type": "markdown",
      "source": [
        "## Visualizing the quality of our model\n",
        "\n",
        "We can also know if our model is good or not by analyzing some graphics related to its quality. First, let's plot a boxplot for our prediction and test:"
      ],
      "metadata": {
        "id": "wpbbM3E6ws-N"
      }
    },
    {
      "cell_type": "code",
      "source": [
        "import seaborn as sns\n",
        "import matplotlib.pyplot as plt\n",
        "\n",
        "fig = plt.figure(figsize = (12, 6))\n",
        "\n",
        "plt.boxplot([y_pred, y_test], labels = ['pred', 'test']);"
      ],
      "metadata": {
        "colab": {
          "base_uri": "https://localhost:8080/",
          "height": 374
        },
        "id": "Kqbj8Fd6wP8G",
        "outputId": "433295fb-a05b-4815-fe46-2a73eb00cb32"
      },
      "execution_count": 47,
      "outputs": [
        {
          "output_type": "display_data",
          "data": {
            "text/plain": [
              "<Figure size 864x432 with 1 Axes>"
            ],
            "image/png": "[encoded data removed]"
          },
          "metadata": {
            "needs_background": "light"
          }
        }
      ]
    },
    {
      "cell_type": "markdown",
      "source": [
        "It seems that our test set has much higher values when compared to our prediction. Let's change the y_limits to understand more about the box itself:"
      ],
      "metadata": {
        "id": "uxYq3qcux7fZ"
      }
    },
    {
      "cell_type": "code",
      "source": [
        "fig = plt.figure(figsize = (12, 6))\n",
        "\n",
        "ax = plt.boxplot([y_pred, y_test], labels = ['pred', 'test']);\n",
        "plt.ylim(-5, 10)"
      ],
      "metadata": {
        "colab": {
          "base_uri": "https://localhost:8080/",
          "height": 396
        },
        "id": "3S2PPzi9xtJB",
        "outputId": "d6f345d8-797d-4ccb-f89b-7a6b3bc03bb3"
      },
      "execution_count": 48,
      "outputs": [
        {
          "output_type": "execute_result",
          "data": {
            "text/plain": [
              "(-5.0, 10.0)"
            ]
          },
          "metadata": {},
          "execution_count": 48
        },
        {
          "output_type": "display_data",
          "data": {
            "text/plain": [
              "<Figure size 864x432 with 1 Axes>"
            ],
            "image/png": "[encoded data removed]"
          },
          "metadata": {
            "needs_background": "light"
          }
        }
      ]
    },
    {
      "cell_type": "markdown",
      "source": [
        "Note that we actually have some negative values in our prediction, which shouldn't happen, since we are predicting revenue! Also, the distribution of our data is very different in the test and prediction sets.\n",
        "\n",
        "Let's get an histogram of our errors:"
      ],
      "metadata": {
        "id": "T-2i9QqRyYOc"
      }
    },
    {
      "cell_type": "code",
      "source": [
        "sns.histplot(results_LinReg.error, bins = 40, kde = True)"
      ],
      "metadata": {
        "colab": {
          "base_uri": "https://localhost:8080/",
          "height": 297
        },
        "id": "Qd8uFJLtyITc",
        "outputId": "f2bbb10c-8420-4424-d719-959e019c1bc3"
      },
      "execution_count": 49,
      "outputs": [
        {
          "output_type": "execute_result",
          "data": {
            "text/plain": [
              "<matplotlib.axes._subplots.AxesSubplot at 0x7f4a5efe8b50>"
            ]
          },
          "metadata": {},
          "execution_count": 49
        },
        {
          "output_type": "display_data",
          "data": {
            "text/plain": [
              "<Figure size 432x288 with 1 Axes>"
            ],
            "image/png": "[encoded data removed]"
          },
          "metadata": {
            "needs_background": "light"
          }
        }
      ]
    },
    {
      "cell_type": "markdown",
      "source": [
        "So, most of our errors are near 0. However, note that the errors can be as high as 700!"
      ],
      "metadata": {
        "id": "KR7MgeRSzCat"
      }
    },
    {
      "cell_type": "markdown",
      "source": [
        "# Returning to feature engineering\n",
        "\n",
        "Ok, so, now that we have built a very bad first model, let's see how can we improve upon its prediction. First, let's add some qualitative features to our dataset. But which features should we add? Let's see our features again:"
      ],
      "metadata": {
        "id": "7kyigIzmzVfe"
      }
    },
    {
      "cell_type": "code",
      "source": [
        "df.info( )"
      ],
      "metadata": {
        "colab": {
          "base_uri": "https://localhost:8080/"
        },
        "id": "FszArTwyyyRc",
        "outputId": "884b3793-98d6-4f5c-a6c2-224f96db175d"
      },
      "execution_count": 50,
      "outputs": [
        {
          "output_type": "stream",
          "name": "stdout",
          "text": [
            "<class 'pandas.core.frame.DataFrame'>\n",
            "RangeIndex: 12283 entries, 0 to 12282\n",
            "Data columns (total 49 columns):\n",
            " #   Column                     Non-Null Count  Dtype         \n",
            "---  ------                     --------------  -----         \n",
            " 0   channelGrouping            12283 non-null  object        \n",
            " 1   date                       12283 non-null  datetime64[ns]\n",
            " 2   fullVisitorId              12283 non-null  object        \n",
            " 3   sessionId                  12283 non-null  object        \n",
            " 4   socialEngagementType       12283 non-null  object        \n",
            " 5   visitId                    12283 non-null  object        \n",
            " 6   visitNumber                12283 non-null  int64         \n",
            " 7   visitStartTime             12283 non-null  int64         \n",
            " 8   browser                    12283 non-null  object        \n",
            " 9   browserVersion             12283 non-null  object        \n",
            " 10  browserSize                12283 non-null  object        \n",
            " 11  operatingSystem            12283 non-null  object        \n",
            " 12  operatingSystemVersion     12283 non-null  object        \n",
            " 13  isMobile                   12283 non-null  bool          \n",
            " 14  mobileDeviceBranding       12283 non-null  object        \n",
            " 15  mobileDeviceModel          12283 non-null  object        \n",
            " 16  mobileInputSelector        12283 non-null  object        \n",
            " 17  mobileDeviceInfo           12283 non-null  object        \n",
            " 18  mobileDeviceMarketingName  12283 non-null  object        \n",
            " 19  flashVersion               12283 non-null  object        \n",
            " 20  language                   12283 non-null  object        \n",
            " 21  screenColors               12283 non-null  object        \n",
            " 22  screenResolution           12283 non-null  object        \n",
            " 23  deviceCategory             12283 non-null  object        \n",
            " 24  continent                  12283 non-null  object        \n",
            " 25  subContinent               12283 non-null  object        \n",
            " 26  country                    12283 non-null  object        \n",
            " 27  region                     12283 non-null  object        \n",
            " 28  metro                      12283 non-null  object        \n",
            " 29  city                       12283 non-null  object        \n",
            " 30  cityId                     12283 non-null  object        \n",
            " 31  networkDomain              12283 non-null  object        \n",
            " 32  latitude                   12283 non-null  object        \n",
            " 33  longitude                  12283 non-null  object        \n",
            " 34  networkLocation            12283 non-null  object        \n",
            " 35  campaign                   12283 non-null  object        \n",
            " 36  source                     12283 non-null  object        \n",
            " 37  medium                     12283 non-null  object        \n",
            " 38  keyword                    5394 non-null   object        \n",
            " 39  isTrueDirect               3885 non-null   object        \n",
            " 40  referralPath               4490 non-null   object        \n",
            " 41  adContent                  146 non-null    object        \n",
            " 42  campaignCode               1 non-null      object        \n",
            " 43  visits                     12283 non-null  object        \n",
            " 44  hits                       12283 non-null  int64         \n",
            " 45  pageviews                  12283 non-null  int64         \n",
            " 46  bounces                    12283 non-null  int64         \n",
            " 47  newVisits                  12283 non-null  int64         \n",
            " 48  transactionRevenue         12283 non-null  float64       \n",
            "dtypes: bool(1), datetime64[ns](1), float64(1), int64(6), object(40)\n",
            "memory usage: 4.5+ MB\n"
          ]
        }
      ]
    },
    {
      "cell_type": "markdown",
      "source": [
        "But how can we deal with such qualitative variables in our model? Before, we summed up all quantitative variables. What should we do for the qualitative features?"
      ],
      "metadata": {
        "id": "RsB8wZuY00SX"
      }
    },
    {
      "cell_type": "markdown",
      "source": [
        "Usually, when there are multiple visits to a website, it is very interesting to consider data from the *first* and *last* visits. Let's try to get the number of the last visit from each user:"
      ],
      "metadata": {
        "id": "cWYynH9o1Iiv"
      }
    },
    {
      "cell_type": "code",
      "source": [
        "last_visits = df.groupby('fullVisitorId', as_index = False)['visitNumber'].max( )\n",
        "last_visits"
      ],
      "metadata": {
        "colab": {
          "base_uri": "https://localhost:8080/",
          "height": 424
        },
        "id": "IOjLZRXazl6u",
        "outputId": "660d9f44-6602-4d43-dde9-2bc1df49c7f1"
      },
      "execution_count": 51,
      "outputs": [
        {
          "output_type": "execute_result",
          "data": {
            "text/plain": [
              "            fullVisitorId  visitNumber\n",
              "0         231955209315461            2\n",
              "1         266926879733529            1\n",
              "2         852896709559982            1\n",
              "3        1676995035957087            1\n",
              "4        2365800130207040            1\n",
              "...                   ...          ...\n",
              "9991  9996691020299725061            3\n",
              "9992  9996793353803109760            1\n",
              "9993  9997125062030599880            1\n",
              "9994  9997464307347866920            1\n",
              "9995  9999355589118867468            2\n",
              "\n",
              "[9996 rows x 2 columns]"
            ],
            "text/html": [
              "\n",
              "  <div id=\"df-42e3ca29-88d9-45e6-ae16-68db95b1681d\">\n",
              "    <div class=\"colab-df-container\">\n",
              "      <div>\n",
              "<style scoped>\n",
              "    .dataframe tbody tr th:only-of-type {\n",
              "        vertical-align: middle;\n",
              "    }\n",
              "\n",
              "    .dataframe tbody tr th {\n",
              "        vertical-align: top;\n",
              "    }\n",
              "\n",
              "    .dataframe thead th {\n",
              "        text-align: right;\n",
              "    }\n",
              "</style>\n",
              "<table border=\"1\" class=\"dataframe\">\n",
              "  <thead>\n",
              "    <tr style=\"text-align: right;\">\n",
              "      <th></th>\n",
              "      <th>fullVisitorId</th>\n",
              "      <th>visitNumber</th>\n",
              "    </tr>\n",
              "  </thead>\n",
              "  <tbody>\n",
              "    <tr>\n",
              "      <th>0</th>\n",
              "      <td>231955209315461</td>\n",
              "      <td>2</td>\n",
              "    </tr>\n",
              "    <tr>\n",
              "      <th>1</th>\n",
              "      <td>266926879733529</td>\n",
              "      <td>1</td>\n",
              "    </tr>\n",
              "    <tr>\n",
              "      <th>2</th>\n",
              "      <td>852896709559982</td>\n",
              "      <td>1</td>\n",
              "    </tr>\n",
              "    <tr>\n",
              "      <th>3</th>\n",
              "      <td>1676995035957087</td>\n",
              "      <td>1</td>\n",
              "    </tr>\n",
              "    <tr>\n",
              "      <th>4</th>\n",
              "      <td>2365800130207040</td>\n",
              "      <td>1</td>\n",
              "    </tr>\n",
              "    <tr>\n",
              "      <th>...</th>\n",
              "      <td>...</td>\n",
              "      <td>...</td>\n",
              "    </tr>\n",
              "    <tr>\n",
              "      <th>9991</th>\n",
              "      <td>9996691020299725061</td>\n",
              "      <td>3</td>\n",
              "    </tr>\n",
              "    <tr>\n",
              "      <th>9992</th>\n",
              "      <td>9996793353803109760</td>\n",
              "      <td>1</td>\n",
              "    </tr>\n",
              "    <tr>\n",
              "      <th>9993</th>\n",
              "      <td>9997125062030599880</td>\n",
              "      <td>1</td>\n",
              "    </tr>\n",
              "    <tr>\n",
              "      <th>9994</th>\n",
              "      <td>9997464307347866920</td>\n",
              "      <td>1</td>\n",
              "    </tr>\n",
              "    <tr>\n",
              "      <th>9995</th>\n",
              "      <td>9999355589118867468</td>\n",
              "      <td>2</td>\n",
              "    </tr>\n",
              "  </tbody>\n",
              "</table>\n",
              "<p>9996 rows × 2 columns</p>\n",
              "</div>\n",
              "      <button class=\"colab-df-convert\" onclick=\"convertToInteractive('df-42e3ca29-88d9-45e6-ae16-68db95b1681d')\"\n",
              "              title=\"Convert this dataframe to an interactive table.\"\n",
              "              style=\"display:none;\">\n",
              "        \n",
              "  <svg xmlns=\"http://www.w3.org/2000/svg\" height=\"24px\"viewBox=\"0 0 24 24\"\n",
              "       width=\"24px\">\n",
              "    <path d=\"M0 0h24v24H0V0z\" fill=\"none\"/>\n",
              "    <path d=\"M18.56 5.44l.94 2.06.94-2.06 2.06-.94-2.06-.94-.94-2.06-.94 2.06-2.06.94zm-11 1L8.5 8.5l.94-2.06 2.06-.94-2.06-.94L8.5 2.5l-.94 2.06-2.06.94zm10 10l.94 2.06.94-2.06 2.06-.94-2.06-.94-.94-2.06-.94 2.06-2.06.94z\"/><path d=\"M17.41 7.96l-1.37-1.37c-.4-.4-.92-.59-1.43-.59-.52 0-1.04.2-1.43.59L10.3 9.45l-7.72 7.72c-.78.78-.78 2.05 0 2.83L4 21.41c.39.39.9.59 1.41.59.51 0 1.02-.2 1.41-.59l7.78-7.78 2.81-2.81c.8-.78.8-2.07 0-2.86zM5.41 20L4 18.59l7.72-7.72 1.47 1.35L5.41 20z\"/>\n",
              "  </svg>\n",
              "      </button>\n",
              "      \n",
              "  <style>\n",
              "    .colab-df-container {\n",
              "      display:flex;\n",
              "      flex-wrap:wrap;\n",
              "      gap: 12px;\n",
              "    }\n",
              "\n",
              "    .colab-df-convert {\n",
              "      background-color: #E8F0FE;\n",
              "      border: none;\n",
              "      border-radius: 50%;\n",
              "      cursor: pointer;\n",
              "      display: none;\n",
              "      fill: #1967D2;\n",
              "      height: 32px;\n",
              "      padding: 0 0 0 0;\n",
              "      width: 32px;\n",
              "    }\n",
              "\n",
              "    .colab-df-convert:hover {\n",
              "      background-color: #E2EBFA;\n",
              "      box-shadow: 0px 1px 2px rgba(60, 64, 67, 0.3), 0px 1px 3px 1px rgba(60, 64, 67, 0.15);\n",
              "      fill: #174EA6;\n",
              "    }\n",
              "\n",
              "    [theme=dark] .colab-df-convert {\n",
              "      background-color: #3B4455;\n",
              "      fill: #D2E3FC;\n",
              "    }\n",
              "\n",
              "    [theme=dark] .colab-df-convert:hover {\n",
              "      background-color: #434B5C;\n",
              "      box-shadow: 0px 1px 3px 1px rgba(0, 0, 0, 0.15);\n",
              "      filter: drop-shadow(0px 1px 2px rgba(0, 0, 0, 0.3));\n",
              "      fill: #FFFFFF;\n",
              "    }\n",
              "  </style>\n",
              "\n",
              "      <script>\n",
              "        const buttonEl =\n",
              "          document.querySelector('#df-42e3ca29-88d9-45e6-ae16-68db95b1681d button.colab-df-convert');\n",
              "        buttonEl.style.display =\n",
              "          google.colab.kernel.accessAllowed ? 'block' : 'none';\n",
              "\n",
              "        async function convertToInteractive(key) {\n",
              "          const element = document.querySelector('#df-42e3ca29-88d9-45e6-ae16-68db95b1681d');\n",
              "          const dataTable =\n",
              "            await google.colab.kernel.invokeFunction('convertToInteractive',\n",
              "                                                     [key], {});\n",
              "          if (!dataTable) return;\n",
              "\n",
              "          const docLinkHtml = 'Like what you see? Visit the ' +\n",
              "            '<a target=\"_blank\" href=https://colab.research.google.com/notebooks/data_table.ipynb>data table notebook</a>'\n",
              "            + ' to learn more about interactive tables.';\n",
              "          element.innerHTML = '';\n",
              "          dataTable['output_type'] = 'display_data';\n",
              "          await google.colab.output.renderOutput(dataTable, element);\n",
              "          const docLink = document.createElement('div');\n",
              "          docLink.innerHTML = docLinkHtml;\n",
              "          element.appendChild(docLink);\n",
              "        }\n",
              "      </script>\n",
              "    </div>\n",
              "  </div>\n",
              "  "
            ]
          },
          "metadata": {},
          "execution_count": 51
        }
      ]
    },
    {
      "cell_type": "markdown",
      "source": [
        "Now, let's get information from the last visit from each user:"
      ],
      "metadata": {
        "id": "dkl7Evca1s9E"
      }
    },
    {
      "cell_type": "code",
      "source": [
        "users_unique_visits = df.drop_duplicates( subset = ['fullVisitorId', 'visitNumber'] )\n",
        "\n",
        "visits = pd.merge( last_visits, users_unique_visits, left_on = ['fullVisitorId', 'visitNumber'], right_on = ['fullVisitorId', 'visitNumber'], how = 'left' )"
      ],
      "metadata": {
        "id": "K3xJ-sQg1hhx"
      },
      "execution_count": 52,
      "outputs": []
    },
    {
      "cell_type": "code",
      "source": [
        "visits"
      ],
      "metadata": {
        "colab": {
          "base_uri": "https://localhost:8080/",
          "height": 661
        },
        "id": "IC6xLACw2wdZ",
        "outputId": "c0a466e2-4fa3-4702-863b-e827ccfe46e6"
      },
      "execution_count": 53,
      "outputs": [
        {
          "output_type": "execute_result",
          "data": {
            "text/plain": [
              "            fullVisitorId  visitNumber channelGrouping       date  \\\n",
              "0         231955209315461            2  Organic Search 2016-09-02   \n",
              "1         266926879733529            1  Organic Search 2016-09-02   \n",
              "2         852896709559982            1  Organic Search 2016-09-02   \n",
              "3        1676995035957087            1  Organic Search 2016-09-02   \n",
              "4        2365800130207040            1          Social 2016-09-02   \n",
              "...                   ...          ...             ...        ...   \n",
              "9991  9996691020299725061            3        Referral 2016-09-02   \n",
              "9992  9996793353803109760            1          Social 2016-09-02   \n",
              "9993  9997125062030599880            1  Organic Search 2016-09-02   \n",
              "9994  9997464307347866920            1  Organic Search 2016-09-02   \n",
              "9995  9999355589118867468            2  Organic Search 2016-09-02   \n",
              "\n",
              "                           sessionId  socialEngagementType     visitId  \\\n",
              "0         231955209315461_1474986933  Not Socially Engaged  1474986933   \n",
              "1         266926879733529_1484803608  Not Socially Engaged  1484803608   \n",
              "2         852896709559982_1501014397  Not Socially Engaged  1501014397   \n",
              "3      001676995035957087_1497299834  Not Socially Engaged  1497299834   \n",
              "4     0002365800130207040_1472974804  Not Socially Engaged  1472974804   \n",
              "...                              ...                   ...         ...   \n",
              "9991  9996691020299725061_1482388264  Not Socially Engaged  1482388264   \n",
              "9992  9996793353803109760_1480566609  Not Socially Engaged  1480566609   \n",
              "9993  9997125062030599880_1484217422  Not Socially Engaged  1484217422   \n",
              "9994  9997464307347866920_1489504370  Not Socially Engaged  1489504370   \n",
              "9995  9999355589118867468_1496052473  Not Socially Engaged  1496052473   \n",
              "\n",
              "      visitStartTime browser                 browserVersion  ... isTrueDirect  \\\n",
              "0         1474986933  Chrome  not available in demo dataset  ...         True   \n",
              "1         1484803608  Chrome  not available in demo dataset  ...          NaN   \n",
              "2         1501014397  Safari  not available in demo dataset  ...          NaN   \n",
              "3         1497299834  Chrome  not available in demo dataset  ...          NaN   \n",
              "4         1472974804    Edge  not available in demo dataset  ...          NaN   \n",
              "...              ...     ...                            ...  ...          ...   \n",
              "9991      1482388264  Chrome  not available in demo dataset  ...         True   \n",
              "9992      1480566609  Chrome  not available in demo dataset  ...          NaN   \n",
              "9993      1484217422  Safari  not available in demo dataset  ...          NaN   \n",
              "9994      1489504370  Chrome  not available in demo dataset  ...          NaN   \n",
              "9995      1496052473  Chrome  not available in demo dataset  ...          NaN   \n",
              "\n",
              "       referralPath adContent  campaignCode visits hits pageviews bounces  \\\n",
              "0               NaN       NaN           NaN      1    3         3       0   \n",
              "1               NaN       NaN           NaN      1   16        12       0   \n",
              "2               NaN       NaN           NaN      1    3         3       0   \n",
              "3               NaN       NaN           NaN      1    1         1       1   \n",
              "4     /yt/about/ru/       NaN           NaN      1    1         1       1   \n",
              "...             ...       ...           ...    ...  ...       ...     ...   \n",
              "9991              /       NaN           NaN      1   10        10       0   \n",
              "9992  /yt/about/th/       NaN           NaN      1    1         1       1   \n",
              "9993            NaN       NaN           NaN      1    8         8       0   \n",
              "9994            NaN       NaN           NaN      1    1         1       1   \n",
              "9995            NaN       NaN           NaN      1    1         1       1   \n",
              "\n",
              "     newVisits transactionRevenue  \n",
              "0            0                0.0  \n",
              "1            1                0.0  \n",
              "2            1                0.0  \n",
              "3            1                0.0  \n",
              "4            1                0.0  \n",
              "...        ...                ...  \n",
              "9991         0                0.0  \n",
              "9992         1                0.0  \n",
              "9993         1                0.0  \n",
              "9994         1                0.0  \n",
              "9995         0                0.0  \n",
              "\n",
              "[9996 rows x 49 columns]"
            ],
            "text/html": [
              "\n",
              "  <div id=\"df-5666d04a-394e-4ce2-8e63-c9079a43da39\">\n",
              "    <div class=\"colab-df-container\">\n",
              "      <div>\n",
              "<style scoped>\n",
              "    .dataframe tbody tr th:only-of-type {\n",
              "        vertical-align: middle;\n",
              "    }\n",
              "\n",
              "    .dataframe tbody tr th {\n",
              "        vertical-align: top;\n",
              "    }\n",
              "\n",
              "    .dataframe thead th {\n",
              "        text-align: right;\n",
              "    }\n",
              "</style>\n",
              "<table border=\"1\" class=\"dataframe\">\n",
              "  <thead>\n",
              "    <tr style=\"text-align: right;\">\n",
              "      <th></th>\n",
              "      <th>fullVisitorId</th>\n",
              "      <th>visitNumber</th>\n",
              "      <th>channelGrouping</th>\n",
              "      <th>date</th>\n",
              "      <th>sessionId</th>\n",
              "      <th>socialEngagementType</th>\n",
              "      <th>visitId</th>\n",
              "      <th>visitStartTime</th>\n",
              "      <th>browser</th>\n",
              "      <th>browserVersion</th>\n",
              "      <th>...</th>\n",
              "      <th>isTrueDirect</th>\n",
              "      <th>referralPath</th>\n",
              "      <th>adContent</th>\n",
              "      <th>campaignCode</th>\n",
              "      <th>visits</th>\n",
              "      <th>hits</th>\n",
              "      <th>pageviews</th>\n",
              "      <th>bounces</th>\n",
              "      <th>newVisits</th>\n",
              "      <th>transactionRevenue</th>\n",
              "    </tr>\n",
              "  </thead>\n",
              "  <tbody>\n",
              "    <tr>\n",
              "      <th>0</th>\n",
              "      <td>231955209315461</td>\n",
              "      <td>2</td>\n",
              "      <td>Organic Search</td>\n",
              "      <td>2016-09-02</td>\n",
              "      <td>231955209315461_1474986933</td>\n",
              "      <td>Not Socially Engaged</td>\n",
              "      <td>1474986933</td>\n",
              "      <td>1474986933</td>\n",
              "      <td>Chrome</td>\n",
              "      <td>not available in demo dataset</td>\n",
              "      <td>...</td>\n",
              "      <td>True</td>\n",
              "      <td>NaN</td>\n",
              "      <td>NaN</td>\n",
              "      <td>NaN</td>\n",
              "      <td>1</td>\n",
              "      <td>3</td>\n",
              "      <td>3</td>\n",
              "      <td>0</td>\n",
              "      <td>0</td>\n",
              "      <td>0.0</td>\n",
              "    </tr>\n",
              "    <tr>\n",
              "      <th>1</th>\n",
              "      <td>266926879733529</td>\n",
              "      <td>1</td>\n",
              "      <td>Organic Search</td>\n",
              "      <td>2016-09-02</td>\n",
              "      <td>266926879733529_1484803608</td>\n",
              "      <td>Not Socially Engaged</td>\n",
              "      <td>1484803608</td>\n",
              "      <td>1484803608</td>\n",
              "      <td>Chrome</td>\n",
              "      <td>not available in demo dataset</td>\n",
              "      <td>...</td>\n",
              "      <td>NaN</td>\n",
              "      <td>NaN</td>\n",
              "      <td>NaN</td>\n",
              "      <td>NaN</td>\n",
              "      <td>1</td>\n",
              "      <td>16</td>\n",
              "      <td>12</td>\n",
              "      <td>0</td>\n",
              "      <td>1</td>\n",
              "      <td>0.0</td>\n",
              "    </tr>\n",
              "    <tr>\n",
              "      <th>2</th>\n",
              "      <td>852896709559982</td>\n",
              "      <td>1</td>\n",
              "      <td>Organic Search</td>\n",
              "      <td>2016-09-02</td>\n",
              "      <td>852896709559982_1501014397</td>\n",
              "      <td>Not Socially Engaged</td>\n",
              "      <td>1501014397</td>\n",
              "      <td>1501014397</td>\n",
              "      <td>Safari</td>\n",
              "      <td>not available in demo dataset</td>\n",
              "      <td>...</td>\n",
              "      <td>NaN</td>\n",
              "      <td>NaN</td>\n",
              "      <td>NaN</td>\n",
              "      <td>NaN</td>\n",
              "      <td>1</td>\n",
              "      <td>3</td>\n",
              "      <td>3</td>\n",
              "      <td>0</td>\n",
              "      <td>1</td>\n",
              "      <td>0.0</td>\n",
              "    </tr>\n",
              "    <tr>\n",
              "      <th>3</th>\n",
              "      <td>1676995035957087</td>\n",
              "      <td>1</td>\n",
              "      <td>Organic Search</td>\n",
              "      <td>2016-09-02</td>\n",
              "      <td>001676995035957087_1497299834</td>\n",
              "      <td>Not Socially Engaged</td>\n",
              "      <td>1497299834</td>\n",
              "      <td>1497299834</td>\n",
              "      <td>Chrome</td>\n",
              "      <td>not available in demo dataset</td>\n",
              "      <td>...</td>\n",
              "      <td>NaN</td>\n",
              "      <td>NaN</td>\n",
              "      <td>NaN</td>\n",
              "      <td>NaN</td>\n",
              "      <td>1</td>\n",
              "      <td>1</td>\n",
              "      <td>1</td>\n",
              "      <td>1</td>\n",
              "      <td>1</td>\n",
              "      <td>0.0</td>\n",
              "    </tr>\n",
              "    <tr>\n",
              "      <th>4</th>\n",
              "      <td>2365800130207040</td>\n",
              "      <td>1</td>\n",
              "      <td>Social</td>\n",
              "      <td>2016-09-02</td>\n",
              "      <td>0002365800130207040_1472974804</td>\n",
              "      <td>Not Socially Engaged</td>\n",
              "      <td>1472974804</td>\n",
              "      <td>1472974804</td>\n",
              "      <td>Edge</td>\n",
              "      <td>not available in demo dataset</td>\n",
              "      <td>...</td>\n",
              "      <td>NaN</td>\n",
              "      <td>/yt/about/ru/</td>\n",
              "      <td>NaN</td>\n",
              "      <td>NaN</td>\n",
              "      <td>1</td>\n",
              "      <td>1</td>\n",
              "      <td>1</td>\n",
              "      <td>1</td>\n",
              "      <td>1</td>\n",
              "      <td>0.0</td>\n",
              "    </tr>\n",
              "    <tr>\n",
              "      <th>...</th>\n",
              "      <td>...</td>\n",
              "      <td>...</td>\n",
              "      <td>...</td>\n",
              "      <td>...</td>\n",
              "      <td>...</td>\n",
              "      <td>...</td>\n",
              "      <td>...</td>\n",
              "      <td>...</td>\n",
              "      <td>...</td>\n",
              "      <td>...</td>\n",
              "      <td>...</td>\n",
              "      <td>...</td>\n",
              "      <td>...</td>\n",
              "      <td>...</td>\n",
              "      <td>...</td>\n",
              "      <td>...</td>\n",
              "      <td>...</td>\n",
              "      <td>...</td>\n",
              "      <td>...</td>\n",
              "      <td>...</td>\n",
              "      <td>...</td>\n",
              "    </tr>\n",
              "    <tr>\n",
              "      <th>9991</th>\n",
              "      <td>9996691020299725061</td>\n",
              "      <td>3</td>\n",
              "      <td>Referral</td>\n",
              "      <td>2016-09-02</td>\n",
              "      <td>9996691020299725061_1482388264</td>\n",
              "      <td>Not Socially Engaged</td>\n",
              "      <td>1482388264</td>\n",
              "      <td>1482388264</td>\n",
              "      <td>Chrome</td>\n",
              "      <td>not available in demo dataset</td>\n",
              "      <td>...</td>\n",
              "      <td>True</td>\n",
              "      <td>/</td>\n",
              "      <td>NaN</td>\n",
              "      <td>NaN</td>\n",
              "      <td>1</td>\n",
              "      <td>10</td>\n",
              "      <td>10</td>\n",
              "      <td>0</td>\n",
              "      <td>0</td>\n",
              "      <td>0.0</td>\n",
              "    </tr>\n",
              "    <tr>\n",
              "      <th>9992</th>\n",
              "      <td>9996793353803109760</td>\n",
              "      <td>1</td>\n",
              "      <td>Social</td>\n",
              "      <td>2016-09-02</td>\n",
              "      <td>9996793353803109760_1480566609</td>\n",
              "      <td>Not Socially Engaged</td>\n",
              "      <td>1480566609</td>\n",
              "      <td>1480566609</td>\n",
              "      <td>Chrome</td>\n",
              "      <td>not available in demo dataset</td>\n",
              "      <td>...</td>\n",
              "      <td>NaN</td>\n",
              "      <td>/yt/about/th/</td>\n",
              "      <td>NaN</td>\n",
              "      <td>NaN</td>\n",
              "      <td>1</td>\n",
              "      <td>1</td>\n",
              "      <td>1</td>\n",
              "      <td>1</td>\n",
              "      <td>1</td>\n",
              "      <td>0.0</td>\n",
              "    </tr>\n",
              "    <tr>\n",
              "      <th>9993</th>\n",
              "      <td>9997125062030599880</td>\n",
              "      <td>1</td>\n",
              "      <td>Organic Search</td>\n",
              "      <td>2016-09-02</td>\n",
              "      <td>9997125062030599880_1484217422</td>\n",
              "      <td>Not Socially Engaged</td>\n",
              "      <td>1484217422</td>\n",
              "      <td>1484217422</td>\n",
              "      <td>Safari</td>\n",
              "      <td>not available in demo dataset</td>\n",
              "      <td>...</td>\n",
              "      <td>NaN</td>\n",
              "      <td>NaN</td>\n",
              "      <td>NaN</td>\n",
              "      <td>NaN</td>\n",
              "      <td>1</td>\n",
              "      <td>8</td>\n",
              "      <td>8</td>\n",
              "      <td>0</td>\n",
              "      <td>1</td>\n",
              "      <td>0.0</td>\n",
              "    </tr>\n",
              "    <tr>\n",
              "      <th>9994</th>\n",
              "      <td>9997464307347866920</td>\n",
              "      <td>1</td>\n",
              "      <td>Organic Search</td>\n",
              "      <td>2016-09-02</td>\n",
              "      <td>9997464307347866920_1489504370</td>\n",
              "      <td>Not Socially Engaged</td>\n",
              "      <td>1489504370</td>\n",
              "      <td>1489504370</td>\n",
              "      <td>Chrome</td>\n",
              "      <td>not available in demo dataset</td>\n",
              "      <td>...</td>\n",
              "      <td>NaN</td>\n",
              "      <td>NaN</td>\n",
              "      <td>NaN</td>\n",
              "      <td>NaN</td>\n",
              "      <td>1</td>\n",
              "      <td>1</td>\n",
              "      <td>1</td>\n",
              "      <td>1</td>\n",
              "      <td>1</td>\n",
              "      <td>0.0</td>\n",
              "    </tr>\n",
              "    <tr>\n",
              "      <th>9995</th>\n",
              "      <td>9999355589118867468</td>\n",
              "      <td>2</td>\n",
              "      <td>Organic Search</td>\n",
              "      <td>2016-09-02</td>\n",
              "      <td>9999355589118867468_1496052473</td>\n",
              "      <td>Not Socially Engaged</td>\n",
              "      <td>1496052473</td>\n",
              "      <td>1496052473</td>\n",
              "      <td>Chrome</td>\n",
              "      <td>not available in demo dataset</td>\n",
              "      <td>...</td>\n",
              "      <td>NaN</td>\n",
              "      <td>NaN</td>\n",
              "      <td>NaN</td>\n",
              "      <td>NaN</td>\n",
              "      <td>1</td>\n",
              "      <td>1</td>\n",
              "      <td>1</td>\n",
              "      <td>1</td>\n",
              "      <td>0</td>\n",
              "      <td>0.0</td>\n",
              "    </tr>\n",
              "  </tbody>\n",
              "</table>\n",
              "<p>9996 rows × 49 columns</p>\n",
              "</div>\n",
              "      <button class=\"colab-df-convert\" onclick=\"convertToInteractive('df-5666d04a-394e-4ce2-8e63-c9079a43da39')\"\n",
              "              title=\"Convert this dataframe to an interactive table.\"\n",
              "              style=\"display:none;\">\n",
              "        \n",
              "  <svg xmlns=\"http://www.w3.org/2000/svg\" height=\"24px\"viewBox=\"0 0 24 24\"\n",
              "       width=\"24px\">\n",
              "    <path d=\"M0 0h24v24H0V0z\" fill=\"none\"/>\n",
              "    <path d=\"M18.56 5.44l.94 2.06.94-2.06 2.06-.94-2.06-.94-.94-2.06-.94 2.06-2.06.94zm-11 1L8.5 8.5l.94-2.06 2.06-.94-2.06-.94L8.5 2.5l-.94 2.06-2.06.94zm10 10l.94 2.06.94-2.06 2.06-.94-2.06-.94-.94-2.06-.94 2.06-2.06.94z\"/><path d=\"M17.41 7.96l-1.37-1.37c-.4-.4-.92-.59-1.43-.59-.52 0-1.04.2-1.43.59L10.3 9.45l-7.72 7.72c-.78.78-.78 2.05 0 2.83L4 21.41c.39.39.9.59 1.41.59.51 0 1.02-.2 1.41-.59l7.78-7.78 2.81-2.81c.8-.78.8-2.07 0-2.86zM5.41 20L4 18.59l7.72-7.72 1.47 1.35L5.41 20z\"/>\n",
              "  </svg>\n",
              "      </button>\n",
              "      \n",
              "  <style>\n",
              "    .colab-df-container {\n",
              "      display:flex;\n",
              "      flex-wrap:wrap;\n",
              "      gap: 12px;\n",
              "    }\n",
              "\n",
              "    .colab-df-convert {\n",
              "      background-color: #E8F0FE;\n",
              "      border: none;\n",
              "      border-radius: 50%;\n",
              "      cursor: pointer;\n",
              "      display: none;\n",
              "      fill: #1967D2;\n",
              "      height: 32px;\n",
              "      padding: 0 0 0 0;\n",
              "      width: 32px;\n",
              "    }\n",
              "\n",
              "    .colab-df-convert:hover {\n",
              "      background-color: #E2EBFA;\n",
              "      box-shadow: 0px 1px 2px rgba(60, 64, 67, 0.3), 0px 1px 3px 1px rgba(60, 64, 67, 0.15);\n",
              "      fill: #174EA6;\n",
              "    }\n",
              "\n",
              "    [theme=dark] .colab-df-convert {\n",
              "      background-color: #3B4455;\n",
              "      fill: #D2E3FC;\n",
              "    }\n",
              "\n",
              "    [theme=dark] .colab-df-convert:hover {\n",
              "      background-color: #434B5C;\n",
              "      box-shadow: 0px 1px 3px 1px rgba(0, 0, 0, 0.15);\n",
              "      filter: drop-shadow(0px 1px 2px rgba(0, 0, 0, 0.3));\n",
              "      fill: #FFFFFF;\n",
              "    }\n",
              "  </style>\n",
              "\n",
              "      <script>\n",
              "        const buttonEl =\n",
              "          document.querySelector('#df-5666d04a-394e-4ce2-8e63-c9079a43da39 button.colab-df-convert');\n",
              "        buttonEl.style.display =\n",
              "          google.colab.kernel.accessAllowed ? 'block' : 'none';\n",
              "\n",
              "        async function convertToInteractive(key) {\n",
              "          const element = document.querySelector('#df-5666d04a-394e-4ce2-8e63-c9079a43da39');\n",
              "          const dataTable =\n",
              "            await google.colab.kernel.invokeFunction('convertToInteractive',\n",
              "                                                     [key], {});\n",
              "          if (!dataTable) return;\n",
              "\n",
              "          const docLinkHtml = 'Like what you see? Visit the ' +\n",
              "            '<a target=\"_blank\" href=https://colab.research.google.com/notebooks/data_table.ipynb>data table notebook</a>'\n",
              "            + ' to learn more about interactive tables.';\n",
              "          element.innerHTML = '';\n",
              "          dataTable['output_type'] = 'display_data';\n",
              "          await google.colab.output.renderOutput(dataTable, element);\n",
              "          const docLink = document.createElement('div');\n",
              "          docLink.innerHTML = docLinkHtml;\n",
              "          element.appendChild(docLink);\n",
              "        }\n",
              "      </script>\n",
              "    </div>\n",
              "  </div>\n",
              "  "
            ]
          },
          "metadata": {},
          "execution_count": 53
        }
      ]
    },
    {
      "cell_type": "markdown",
      "source": [
        "Nice! Now, we have information about the last visit of each user. Let's now get the information about the first visit:"
      ],
      "metadata": {
        "id": "Nypy3laB3Kky"
      }
    },
    {
      "cell_type": "code",
      "source": [
        "first_visits = df.groupby('fullVisitorId')['visitNumber'].min( )\n",
        "visits = visits.join( first_visits, on = 'fullVisitorId', how = 'left', rsuffix = '_first' )"
      ],
      "metadata": {
        "id": "TdVhX9f-3EPK"
      },
      "execution_count": 54,
      "outputs": []
    },
    {
      "cell_type": "code",
      "source": [
        "visits = pd.merge( visits, users_unique_visits, left_on = ['fullVisitorId', 'visitNumber_first'], right_on = ['fullVisitorId', 'visitNumber'], how = 'left', suffixes = ['_last', '_first'] )"
      ],
      "metadata": {
        "id": "rhrlNtfG48oY"
      },
      "execution_count": 55,
      "outputs": []
    },
    {
      "cell_type": "code",
      "source": [
        "visits"
      ],
      "metadata": {
        "colab": {
          "base_uri": "https://localhost:8080/",
          "height": 661
        },
        "id": "28VUf6U35iSF",
        "outputId": "af055e5a-d22b-4432-c2b8-16d5e96218ac"
      },
      "execution_count": 56,
      "outputs": [
        {
          "output_type": "execute_result",
          "data": {
            "text/plain": [
              "            fullVisitorId  visitNumber_last channelGrouping_last  date_last  \\\n",
              "0         231955209315461                 2       Organic Search 2016-09-02   \n",
              "1         266926879733529                 1       Organic Search 2016-09-02   \n",
              "2         852896709559982                 1       Organic Search 2016-09-02   \n",
              "3        1676995035957087                 1       Organic Search 2016-09-02   \n",
              "4        2365800130207040                 1               Social 2016-09-02   \n",
              "...                   ...               ...                  ...        ...   \n",
              "9991  9996691020299725061                 3             Referral 2016-09-02   \n",
              "9992  9996793353803109760                 1               Social 2016-09-02   \n",
              "9993  9997125062030599880                 1       Organic Search 2016-09-02   \n",
              "9994  9997464307347866920                 1       Organic Search 2016-09-02   \n",
              "9995  9999355589118867468                 2       Organic Search 2016-09-02   \n",
              "\n",
              "                      sessionId_last socialEngagementType_last visitId_last  \\\n",
              "0         231955209315461_1474986933      Not Socially Engaged   1474986933   \n",
              "1         266926879733529_1484803608      Not Socially Engaged   1484803608   \n",
              "2         852896709559982_1501014397      Not Socially Engaged   1501014397   \n",
              "3      001676995035957087_1497299834      Not Socially Engaged   1497299834   \n",
              "4     0002365800130207040_1472974804      Not Socially Engaged   1472974804   \n",
              "...                              ...                       ...          ...   \n",
              "9991  9996691020299725061_1482388264      Not Socially Engaged   1482388264   \n",
              "9992  9996793353803109760_1480566609      Not Socially Engaged   1480566609   \n",
              "9993  9997125062030599880_1484217422      Not Socially Engaged   1484217422   \n",
              "9994  9997464307347866920_1489504370      Not Socially Engaged   1489504370   \n",
              "9995  9999355589118867468_1496052473      Not Socially Engaged   1496052473   \n",
              "\n",
              "      visitStartTime_last browser_last            browserVersion_last  ...  \\\n",
              "0              1474986933       Chrome  not available in demo dataset  ...   \n",
              "1              1484803608       Chrome  not available in demo dataset  ...   \n",
              "2              1501014397       Safari  not available in demo dataset  ...   \n",
              "3              1497299834       Chrome  not available in demo dataset  ...   \n",
              "4              1472974804         Edge  not available in demo dataset  ...   \n",
              "...                   ...          ...                            ...  ...   \n",
              "9991           1482388264       Chrome  not available in demo dataset  ...   \n",
              "9992           1480566609       Chrome  not available in demo dataset  ...   \n",
              "9993           1484217422       Safari  not available in demo dataset  ...   \n",
              "9994           1489504370       Chrome  not available in demo dataset  ...   \n",
              "9995           1496052473       Chrome  not available in demo dataset  ...   \n",
              "\n",
              "     isTrueDirect_first referralPath_first adContent_first  \\\n",
              "0                   NaN                NaN             NaN   \n",
              "1                   NaN                NaN             NaN   \n",
              "2                   NaN                NaN             NaN   \n",
              "3                   NaN                NaN             NaN   \n",
              "4                   NaN      /yt/about/ru/             NaN   \n",
              "...                 ...                ...             ...   \n",
              "9991               True                  /             NaN   \n",
              "9992                NaN      /yt/about/th/             NaN   \n",
              "9993                NaN                NaN             NaN   \n",
              "9994                NaN                NaN             NaN   \n",
              "9995                NaN    /analytics/web/             NaN   \n",
              "\n",
              "      campaignCode_first visits_first hits_first pageviews_first  \\\n",
              "0                    NaN            1          1               1   \n",
              "1                    NaN            1         16              12   \n",
              "2                    NaN            1          3               3   \n",
              "3                    NaN            1          1               1   \n",
              "4                    NaN            1          1               1   \n",
              "...                  ...          ...        ...             ...   \n",
              "9991                 NaN            1         10              10   \n",
              "9992                 NaN            1          1               1   \n",
              "9993                 NaN            1          8               8   \n",
              "9994                 NaN            1          1               1   \n",
              "9995                 NaN            1          1               1   \n",
              "\n",
              "     bounces_first newVisits_first transactionRevenue_first  \n",
              "0                1               1                      0.0  \n",
              "1                0               1                      0.0  \n",
              "2                0               1                      0.0  \n",
              "3                1               1                      0.0  \n",
              "4                1               1                      0.0  \n",
              "...            ...             ...                      ...  \n",
              "9991             0               0                      0.0  \n",
              "9992             1               1                      0.0  \n",
              "9993             0               1                      0.0  \n",
              "9994             1               1                      0.0  \n",
              "9995             1               1                      0.0  \n",
              "\n",
              "[9996 rows x 98 columns]"
            ],
            "text/html": [
              "\n",
              "  <div id=\"df-b10fdb53-f28c-40ee-ba86-460ced414be6\">\n",
              "    <div class=\"colab-df-container\">\n",
              "      <div>\n",
              "<style scoped>\n",
              "    .dataframe tbody tr th:only-of-type {\n",
              "        vertical-align: middle;\n",
              "    }\n",
              "\n",
              "    .dataframe tbody tr th {\n",
              "        vertical-align: top;\n",
              "    }\n",
              "\n",
              "    .dataframe thead th {\n",
              "        text-align: right;\n",
              "    }\n",
              "</style>\n",
              "<table border=\"1\" class=\"dataframe\">\n",
              "  <thead>\n",
              "    <tr style=\"text-align: right;\">\n",
              "      <th></th>\n",
              "      <th>fullVisitorId</th>\n",
              "      <th>visitNumber_last</th>\n",
              "      <th>channelGrouping_last</th>\n",
              "      <th>date_last</th>\n",
              "      <th>sessionId_last</th>\n",
              "      <th>socialEngagementType_last</th>\n",
              "      <th>visitId_last</th>\n",
              "      <th>visitStartTime_last</th>\n",
              "      <th>browser_last</th>\n",
              "      <th>browserVersion_last</th>\n",
              "      <th>...</th>\n",
              "      <th>isTrueDirect_first</th>\n",
              "      <th>referralPath_first</th>\n",
              "      <th>adContent_first</th>\n",
              "      <th>campaignCode_first</th>\n",
              "      <th>visits_first</th>\n",
              "      <th>hits_first</th>\n",
              "      <th>pageviews_first</th>\n",
              "      <th>bounces_first</th>\n",
              "      <th>newVisits_first</th>\n",
              "      <th>transactionRevenue_first</th>\n",
              "    </tr>\n",
              "  </thead>\n",
              "  <tbody>\n",
              "    <tr>\n",
              "      <th>0</th>\n",
              "      <td>231955209315461</td>\n",
              "      <td>2</td>\n",
              "      <td>Organic Search</td>\n",
              "      <td>2016-09-02</td>\n",
              "      <td>231955209315461_1474986933</td>\n",
              "      <td>Not Socially Engaged</td>\n",
              "      <td>1474986933</td>\n",
              "      <td>1474986933</td>\n",
              "      <td>Chrome</td>\n",
              "      <td>not available in demo dataset</td>\n",
              "      <td>...</td>\n",
              "      <td>NaN</td>\n",
              "      <td>NaN</td>\n",
              "      <td>NaN</td>\n",
              "      <td>NaN</td>\n",
              "      <td>1</td>\n",
              "      <td>1</td>\n",
              "      <td>1</td>\n",
              "      <td>1</td>\n",
              "      <td>1</td>\n",
              "      <td>0.0</td>\n",
              "    </tr>\n",
              "    <tr>\n",
              "      <th>1</th>\n",
              "      <td>266926879733529</td>\n",
              "      <td>1</td>\n",
              "      <td>Organic Search</td>\n",
              "      <td>2016-09-02</td>\n",
              "      <td>266926879733529_1484803608</td>\n",
              "      <td>Not Socially Engaged</td>\n",
              "      <td>1484803608</td>\n",
              "      <td>1484803608</td>\n",
              "      <td>Chrome</td>\n",
              "      <td>not available in demo dataset</td>\n",
              "      <td>...</td>\n",
              "      <td>NaN</td>\n",
              "      <td>NaN</td>\n",
              "      <td>NaN</td>\n",
              "      <td>NaN</td>\n",
              "      <td>1</td>\n",
              "      <td>16</td>\n",
              "      <td>12</td>\n",
              "      <td>0</td>\n",
              "      <td>1</td>\n",
              "      <td>0.0</td>\n",
              "    </tr>\n",
              "    <tr>\n",
              "      <th>2</th>\n",
              "      <td>852896709559982</td>\n",
              "      <td>1</td>\n",
              "      <td>Organic Search</td>\n",
              "      <td>2016-09-02</td>\n",
              "      <td>852896709559982_1501014397</td>\n",
              "      <td>Not Socially Engaged</td>\n",
              "      <td>1501014397</td>\n",
              "      <td>1501014397</td>\n",
              "      <td>Safari</td>\n",
              "      <td>not available in demo dataset</td>\n",
              "      <td>...</td>\n",
              "      <td>NaN</td>\n",
              "      <td>NaN</td>\n",
              "      <td>NaN</td>\n",
              "      <td>NaN</td>\n",
              "      <td>1</td>\n",
              "      <td>3</td>\n",
              "      <td>3</td>\n",
              "      <td>0</td>\n",
              "      <td>1</td>\n",
              "      <td>0.0</td>\n",
              "    </tr>\n",
              "    <tr>\n",
              "      <th>3</th>\n",
              "      <td>1676995035957087</td>\n",
              "      <td>1</td>\n",
              "      <td>Organic Search</td>\n",
              "      <td>2016-09-02</td>\n",
              "      <td>001676995035957087_1497299834</td>\n",
              "      <td>Not Socially Engaged</td>\n",
              "      <td>1497299834</td>\n",
              "      <td>1497299834</td>\n",
              "      <td>Chrome</td>\n",
              "      <td>not available in demo dataset</td>\n",
              "      <td>...</td>\n",
              "      <td>NaN</td>\n",
              "      <td>NaN</td>\n",
              "      <td>NaN</td>\n",
              "      <td>NaN</td>\n",
              "      <td>1</td>\n",
              "      <td>1</td>\n",
              "      <td>1</td>\n",
              "      <td>1</td>\n",
              "      <td>1</td>\n",
              "      <td>0.0</td>\n",
              "    </tr>\n",
              "    <tr>\n",
              "      <th>4</th>\n",
              "      <td>2365800130207040</td>\n",
              "      <td>1</td>\n",
              "      <td>Social</td>\n",
              "      <td>2016-09-02</td>\n",
              "      <td>0002365800130207040_1472974804</td>\n",
              "      <td>Not Socially Engaged</td>\n",
              "      <td>1472974804</td>\n",
              "      <td>1472974804</td>\n",
              "      <td>Edge</td>\n",
              "      <td>not available in demo dataset</td>\n",
              "      <td>...</td>\n",
              "      <td>NaN</td>\n",
              "      <td>/yt/about/ru/</td>\n",
              "      <td>NaN</td>\n",
              "      <td>NaN</td>\n",
              "      <td>1</td>\n",
              "      <td>1</td>\n",
              "      <td>1</td>\n",
              "      <td>1</td>\n",
              "      <td>1</td>\n",
              "      <td>0.0</td>\n",
              "    </tr>\n",
              "    <tr>\n",
              "      <th>...</th>\n",
              "      <td>...</td>\n",
              "      <td>...</td>\n",
              "      <td>...</td>\n",
              "      <td>...</td>\n",
              "      <td>...</td>\n",
              "      <td>...</td>\n",
              "      <td>...</td>\n",
              "      <td>...</td>\n",
              "      <td>...</td>\n",
              "      <td>...</td>\n",
              "      <td>...</td>\n",
              "      <td>...</td>\n",
              "      <td>...</td>\n",
              "      <td>...</td>\n",
              "      <td>...</td>\n",
              "      <td>...</td>\n",
              "      <td>...</td>\n",
              "      <td>...</td>\n",
              "      <td>...</td>\n",
              "      <td>...</td>\n",
              "      <td>...</td>\n",
              "    </tr>\n",
              "    <tr>\n",
              "      <th>9991</th>\n",
              "      <td>9996691020299725061</td>\n",
              "      <td>3</td>\n",
              "      <td>Referral</td>\n",
              "      <td>2016-09-02</td>\n",
              "      <td>9996691020299725061_1482388264</td>\n",
              "      <td>Not Socially Engaged</td>\n",
              "      <td>1482388264</td>\n",
              "      <td>1482388264</td>\n",
              "      <td>Chrome</td>\n",
              "      <td>not available in demo dataset</td>\n",
              "      <td>...</td>\n",
              "      <td>True</td>\n",
              "      <td>/</td>\n",
              "      <td>NaN</td>\n",
              "      <td>NaN</td>\n",
              "      <td>1</td>\n",
              "      <td>10</td>\n",
              "      <td>10</td>\n",
              "      <td>0</td>\n",
              "      <td>0</td>\n",
              "      <td>0.0</td>\n",
              "    </tr>\n",
              "    <tr>\n",
              "      <th>9992</th>\n",
              "      <td>9996793353803109760</td>\n",
              "      <td>1</td>\n",
              "      <td>Social</td>\n",
              "      <td>2016-09-02</td>\n",
              "      <td>9996793353803109760_1480566609</td>\n",
              "      <td>Not Socially Engaged</td>\n",
              "      <td>1480566609</td>\n",
              "      <td>1480566609</td>\n",
              "      <td>Chrome</td>\n",
              "      <td>not available in demo dataset</td>\n",
              "      <td>...</td>\n",
              "      <td>NaN</td>\n",
              "      <td>/yt/about/th/</td>\n",
              "      <td>NaN</td>\n",
              "      <td>NaN</td>\n",
              "      <td>1</td>\n",
              "      <td>1</td>\n",
              "      <td>1</td>\n",
              "      <td>1</td>\n",
              "      <td>1</td>\n",
              "      <td>0.0</td>\n",
              "    </tr>\n",
              "    <tr>\n",
              "      <th>9993</th>\n",
              "      <td>9997125062030599880</td>\n",
              "      <td>1</td>\n",
              "      <td>Organic Search</td>\n",
              "      <td>2016-09-02</td>\n",
              "      <td>9997125062030599880_1484217422</td>\n",
              "      <td>Not Socially Engaged</td>\n",
              "      <td>1484217422</td>\n",
              "      <td>1484217422</td>\n",
              "      <td>Safari</td>\n",
              "      <td>not available in demo dataset</td>\n",
              "      <td>...</td>\n",
              "      <td>NaN</td>\n",
              "      <td>NaN</td>\n",
              "      <td>NaN</td>\n",
              "      <td>NaN</td>\n",
              "      <td>1</td>\n",
              "      <td>8</td>\n",
              "      <td>8</td>\n",
              "      <td>0</td>\n",
              "      <td>1</td>\n",
              "      <td>0.0</td>\n",
              "    </tr>\n",
              "    <tr>\n",
              "      <th>9994</th>\n",
              "      <td>9997464307347866920</td>\n",
              "      <td>1</td>\n",
              "      <td>Organic Search</td>\n",
              "      <td>2016-09-02</td>\n",
              "      <td>9997464307347866920_1489504370</td>\n",
              "      <td>Not Socially Engaged</td>\n",
              "      <td>1489504370</td>\n",
              "      <td>1489504370</td>\n",
              "      <td>Chrome</td>\n",
              "      <td>not available in demo dataset</td>\n",
              "      <td>...</td>\n",
              "      <td>NaN</td>\n",
              "      <td>NaN</td>\n",
              "      <td>NaN</td>\n",
              "      <td>NaN</td>\n",
              "      <td>1</td>\n",
              "      <td>1</td>\n",
              "      <td>1</td>\n",
              "      <td>1</td>\n",
              "      <td>1</td>\n",
              "      <td>0.0</td>\n",
              "    </tr>\n",
              "    <tr>\n",
              "      <th>9995</th>\n",
              "      <td>9999355589118867468</td>\n",
              "      <td>2</td>\n",
              "      <td>Organic Search</td>\n",
              "      <td>2016-09-02</td>\n",
              "      <td>9999355589118867468_1496052473</td>\n",
              "      <td>Not Socially Engaged</td>\n",
              "      <td>1496052473</td>\n",
              "      <td>1496052473</td>\n",
              "      <td>Chrome</td>\n",
              "      <td>not available in demo dataset</td>\n",
              "      <td>...</td>\n",
              "      <td>NaN</td>\n",
              "      <td>/analytics/web/</td>\n",
              "      <td>NaN</td>\n",
              "      <td>NaN</td>\n",
              "      <td>1</td>\n",
              "      <td>1</td>\n",
              "      <td>1</td>\n",
              "      <td>1</td>\n",
              "      <td>1</td>\n",
              "      <td>0.0</td>\n",
              "    </tr>\n",
              "  </tbody>\n",
              "</table>\n",
              "<p>9996 rows × 98 columns</p>\n",
              "</div>\n",
              "      <button class=\"colab-df-convert\" onclick=\"convertToInteractive('df-b10fdb53-f28c-40ee-ba86-460ced414be6')\"\n",
              "              title=\"Convert this dataframe to an interactive table.\"\n",
              "              style=\"display:none;\">\n",
              "        \n",
              "  <svg xmlns=\"http://www.w3.org/2000/svg\" height=\"24px\"viewBox=\"0 0 24 24\"\n",
              "       width=\"24px\">\n",
              "    <path d=\"M0 0h24v24H0V0z\" fill=\"none\"/>\n",
              "    <path d=\"M18.56 5.44l.94 2.06.94-2.06 2.06-.94-2.06-.94-.94-2.06-.94 2.06-2.06.94zm-11 1L8.5 8.5l.94-2.06 2.06-.94-2.06-.94L8.5 2.5l-.94 2.06-2.06.94zm10 10l.94 2.06.94-2.06 2.06-.94-2.06-.94-.94-2.06-.94 2.06-2.06.94z\"/><path d=\"M17.41 7.96l-1.37-1.37c-.4-.4-.92-.59-1.43-.59-.52 0-1.04.2-1.43.59L10.3 9.45l-7.72 7.72c-.78.78-.78 2.05 0 2.83L4 21.41c.39.39.9.59 1.41.59.51 0 1.02-.2 1.41-.59l7.78-7.78 2.81-2.81c.8-.78.8-2.07 0-2.86zM5.41 20L4 18.59l7.72-7.72 1.47 1.35L5.41 20z\"/>\n",
              "  </svg>\n",
              "      </button>\n",
              "      \n",
              "  <style>\n",
              "    .colab-df-container {\n",
              "      display:flex;\n",
              "      flex-wrap:wrap;\n",
              "      gap: 12px;\n",
              "    }\n",
              "\n",
              "    .colab-df-convert {\n",
              "      background-color: #E8F0FE;\n",
              "      border: none;\n",
              "      border-radius: 50%;\n",
              "      cursor: pointer;\n",
              "      display: none;\n",
              "      fill: #1967D2;\n",
              "      height: 32px;\n",
              "      padding: 0 0 0 0;\n",
              "      width: 32px;\n",
              "    }\n",
              "\n",
              "    .colab-df-convert:hover {\n",
              "      background-color: #E2EBFA;\n",
              "      box-shadow: 0px 1px 2px rgba(60, 64, 67, 0.3), 0px 1px 3px 1px rgba(60, 64, 67, 0.15);\n",
              "      fill: #174EA6;\n",
              "    }\n",
              "\n",
              "    [theme=dark] .colab-df-convert {\n",
              "      background-color: #3B4455;\n",
              "      fill: #D2E3FC;\n",
              "    }\n",
              "\n",
              "    [theme=dark] .colab-df-convert:hover {\n",
              "      background-color: #434B5C;\n",
              "      box-shadow: 0px 1px 3px 1px rgba(0, 0, 0, 0.15);\n",
              "      filter: drop-shadow(0px 1px 2px rgba(0, 0, 0, 0.3));\n",
              "      fill: #FFFFFF;\n",
              "    }\n",
              "  </style>\n",
              "\n",
              "      <script>\n",
              "        const buttonEl =\n",
              "          document.querySelector('#df-b10fdb53-f28c-40ee-ba86-460ced414be6 button.colab-df-convert');\n",
              "        buttonEl.style.display =\n",
              "          google.colab.kernel.accessAllowed ? 'block' : 'none';\n",
              "\n",
              "        async function convertToInteractive(key) {\n",
              "          const element = document.querySelector('#df-b10fdb53-f28c-40ee-ba86-460ced414be6');\n",
              "          const dataTable =\n",
              "            await google.colab.kernel.invokeFunction('convertToInteractive',\n",
              "                                                     [key], {});\n",
              "          if (!dataTable) return;\n",
              "\n",
              "          const docLinkHtml = 'Like what you see? Visit the ' +\n",
              "            '<a target=\"_blank\" href=https://colab.research.google.com/notebooks/data_table.ipynb>data table notebook</a>'\n",
              "            + ' to learn more about interactive tables.';\n",
              "          element.innerHTML = '';\n",
              "          dataTable['output_type'] = 'display_data';\n",
              "          await google.colab.output.renderOutput(dataTable, element);\n",
              "          const docLink = document.createElement('div');\n",
              "          docLink.innerHTML = docLinkHtml;\n",
              "          element.appendChild(docLink);\n",
              "        }\n",
              "      </script>\n",
              "    </div>\n",
              "  </div>\n",
              "  "
            ]
          },
          "metadata": {},
          "execution_count": 56
        }
      ]
    },
    {
      "cell_type": "markdown",
      "source": [
        "Nice! Now, we got information about the first and last visit for each user. Now, let's understand which features should we consider in our model. First, let's drop the quantitative features we considered previously:"
      ],
      "metadata": {
        "id": "7PhPTEXB50kn"
      }
    },
    {
      "cell_type": "code",
      "source": [
        "quant = ['pageviews', 'bounces', 'hits', 'newVisits', 'transactionRevenue']"
      ],
      "metadata": {
        "id": "XXxDq3Xv5xAp"
      },
      "execution_count": 57,
      "outputs": []
    },
    {
      "cell_type": "code",
      "source": [
        "for col in quant:\n",
        "  visits.drop(col + '_last', axis = 1, inplace = True)\n",
        "  visits.drop(col + '_first', axis = 1, inplace = True)"
      ],
      "metadata": {
        "id": "rLr4hcXi6dnZ"
      },
      "execution_count": 58,
      "outputs": []
    },
    {
      "cell_type": "markdown",
      "source": [
        "Also, our Id features should not be considered in our model, as it does not bring any relevant characteristic of our data. So, lets drop them:"
      ],
      "metadata": {
        "id": "tnFx-XHB7Dn7"
      }
    },
    {
      "cell_type": "code",
      "source": [
        "id_cols = ['sessionId', 'visitId']\n",
        "for col in id_cols:\n",
        "  visits.drop(col + '_last', axis = 1, inplace = True)\n",
        "  visits.drop(col + '_first', axis = 1, inplace = True)"
      ],
      "metadata": {
        "id": "_-nQvAPZ6vP3"
      },
      "execution_count": 59,
      "outputs": []
    },
    {
      "cell_type": "markdown",
      "source": [
        "So, now, our dataset has 46 columns."
      ],
      "metadata": {
        "id": "SDVjF7Jv7al3"
      }
    },
    {
      "cell_type": "code",
      "source": [
        "visits.shape"
      ],
      "metadata": {
        "colab": {
          "base_uri": "https://localhost:8080/"
        },
        "id": "dH7lWzJU7S0d",
        "outputId": "355b3e00-b677-491e-a1f4-7affecadffa9"
      },
      "execution_count": 60,
      "outputs": [
        {
          "output_type": "execute_result",
          "data": {
            "text/plain": [
              "(9996, 84)"
            ]
          },
          "metadata": {},
          "execution_count": 60
        }
      ]
    },
    {
      "cell_type": "markdown",
      "source": [
        "Some of our features don't need to exist for the first and last visits simultaneously. Let's drop some of those:"
      ],
      "metadata": {
        "id": "fy1f507C7kG2"
      }
    },
    {
      "cell_type": "code",
      "source": [
        "geo = ['continent_first', 'subContinent_first', 'country_first', 'region_first', 'metro_first', 'city_first', 'networkDomain_first']\n",
        "visits.drop(geo, axis = 1, inplace = True)"
      ],
      "metadata": {
        "id": "7NR1lN2C7wxK"
      },
      "execution_count": 61,
      "outputs": []
    },
    {
      "cell_type": "markdown",
      "source": [
        "Now, let's take a look at our updated dataset:"
      ],
      "metadata": {
        "id": "vbEw6lVW8KkA"
      }
    },
    {
      "cell_type": "code",
      "source": [
        "visits"
      ],
      "metadata": {
        "colab": {
          "base_uri": "https://localhost:8080/",
          "height": 661
        },
        "id": "eCypMVFa8FBd",
        "outputId": "68db8406-7662-4536-99e9-62e8d4906368"
      },
      "execution_count": 62,
      "outputs": [
        {
          "output_type": "execute_result",
          "data": {
            "text/plain": [
              "            fullVisitorId  visitNumber_last channelGrouping_last  date_last  \\\n",
              "0         231955209315461                 2       Organic Search 2016-09-02   \n",
              "1         266926879733529                 1       Organic Search 2016-09-02   \n",
              "2         852896709559982                 1       Organic Search 2016-09-02   \n",
              "3        1676995035957087                 1       Organic Search 2016-09-02   \n",
              "4        2365800130207040                 1               Social 2016-09-02   \n",
              "...                   ...               ...                  ...        ...   \n",
              "9991  9996691020299725061                 3             Referral 2016-09-02   \n",
              "9992  9996793353803109760                 1               Social 2016-09-02   \n",
              "9993  9997125062030599880                 1       Organic Search 2016-09-02   \n",
              "9994  9997464307347866920                 1       Organic Search 2016-09-02   \n",
              "9995  9999355589118867468                 2       Organic Search 2016-09-02   \n",
              "\n",
              "     socialEngagementType_last  visitStartTime_last browser_last  \\\n",
              "0         Not Socially Engaged           1474986933       Chrome   \n",
              "1         Not Socially Engaged           1484803608       Chrome   \n",
              "2         Not Socially Engaged           1501014397       Safari   \n",
              "3         Not Socially Engaged           1497299834       Chrome   \n",
              "4         Not Socially Engaged           1472974804         Edge   \n",
              "...                        ...                  ...          ...   \n",
              "9991      Not Socially Engaged           1482388264       Chrome   \n",
              "9992      Not Socially Engaged           1480566609       Chrome   \n",
              "9993      Not Socially Engaged           1484217422       Safari   \n",
              "9994      Not Socially Engaged           1489504370       Chrome   \n",
              "9995      Not Socially Engaged           1496052473       Chrome   \n",
              "\n",
              "                browserVersion_last               browserSize_last  \\\n",
              "0     not available in demo dataset  not available in demo dataset   \n",
              "1     not available in demo dataset  not available in demo dataset   \n",
              "2     not available in demo dataset  not available in demo dataset   \n",
              "3     not available in demo dataset  not available in demo dataset   \n",
              "4     not available in demo dataset  not available in demo dataset   \n",
              "...                             ...                            ...   \n",
              "9991  not available in demo dataset  not available in demo dataset   \n",
              "9992  not available in demo dataset  not available in demo dataset   \n",
              "9993  not available in demo dataset  not available in demo dataset   \n",
              "9994  not available in demo dataset  not available in demo dataset   \n",
              "9995  not available in demo dataset  not available in demo dataset   \n",
              "\n",
              "     operatingSystem_last  ...          networkLocation_first  campaign_first  \\\n",
              "0                     iOS  ...  not available in demo dataset       (not set)   \n",
              "1                 Windows  ...  not available in demo dataset       (not set)   \n",
              "2                     iOS  ...  not available in demo dataset       (not set)   \n",
              "3                 Android  ...  not available in demo dataset       (not set)   \n",
              "4                 Windows  ...  not available in demo dataset       (not set)   \n",
              "...                   ...  ...                            ...             ...   \n",
              "9991            Macintosh  ...  not available in demo dataset       (not set)   \n",
              "9992              Android  ...  not available in demo dataset       (not set)   \n",
              "9993                  iOS  ...  not available in demo dataset       (not set)   \n",
              "9994              Android  ...  not available in demo dataset       (not set)   \n",
              "9995              Windows  ...  not available in demo dataset       (not set)   \n",
              "\n",
              "              source_first medium_first   keyword_first isTrueDirect_first  \\\n",
              "0                   google      organic  (not provided)                NaN   \n",
              "1                   google      organic  (not provided)                NaN   \n",
              "2                   google      organic  (not provided)                NaN   \n",
              "3                   google      organic  (not provided)                NaN   \n",
              "4              youtube.com     referral             NaN                NaN   \n",
              "...                    ...          ...             ...                ...   \n",
              "9991   mall.googleplex.com     referral             NaN               True   \n",
              "9992           youtube.com     referral             NaN                NaN   \n",
              "9993                google      organic  (not provided)                NaN   \n",
              "9994                google      organic  (not provided)                NaN   \n",
              "9995  analytics.google.com     referral             NaN                NaN   \n",
              "\n",
              "     referralPath_first adContent_first campaignCode_first visits_first  \n",
              "0                   NaN             NaN                NaN            1  \n",
              "1                   NaN             NaN                NaN            1  \n",
              "2                   NaN             NaN                NaN            1  \n",
              "3                   NaN             NaN                NaN            1  \n",
              "4         /yt/about/ru/             NaN                NaN            1  \n",
              "...                 ...             ...                ...          ...  \n",
              "9991                  /             NaN                NaN            1  \n",
              "9992      /yt/about/th/             NaN                NaN            1  \n",
              "9993                NaN             NaN                NaN            1  \n",
              "9994                NaN             NaN                NaN            1  \n",
              "9995    /analytics/web/             NaN                NaN            1  \n",
              "\n",
              "[9996 rows x 77 columns]"
            ],
            "text/html": [
              "\n",
              "  <div id=\"df-5eff1212-de75-42b7-942f-6cadfbb8a28f\">\n",
              "    <div class=\"colab-df-container\">\n",
              "      <div>\n",
              "<style scoped>\n",
              "    .dataframe tbody tr th:only-of-type {\n",
              "        vertical-align: middle;\n",
              "    }\n",
              "\n",
              "    .dataframe tbody tr th {\n",
              "        vertical-align: top;\n",
              "    }\n",
              "\n",
              "    .dataframe thead th {\n",
              "        text-align: right;\n",
              "    }\n",
              "</style>\n",
              "<table border=\"1\" class=\"dataframe\">\n",
              "  <thead>\n",
              "    <tr style=\"text-align: right;\">\n",
              "      <th></th>\n",
              "      <th>fullVisitorId</th>\n",
              "      <th>visitNumber_last</th>\n",
              "      <th>channelGrouping_last</th>\n",
              "      <th>date_last</th>\n",
              "      <th>socialEngagementType_last</th>\n",
              "      <th>visitStartTime_last</th>\n",
              "      <th>browser_last</th>\n",
              "      <th>browserVersion_last</th>\n",
              "      <th>browserSize_last</th>\n",
              "      <th>operatingSystem_last</th>\n",
              "      <th>...</th>\n",
              "      <th>networkLocation_first</th>\n",
              "      <th>campaign_first</th>\n",
              "      <th>source_first</th>\n",
              "      <th>medium_first</th>\n",
              "      <th>keyword_first</th>\n",
              "      <th>isTrueDirect_first</th>\n",
              "      <th>referralPath_first</th>\n",
              "      <th>adContent_first</th>\n",
              "      <th>campaignCode_first</th>\n",
              "      <th>visits_first</th>\n",
              "    </tr>\n",
              "  </thead>\n",
              "  <tbody>\n",
              "    <tr>\n",
              "      <th>0</th>\n",
              "      <td>231955209315461</td>\n",
              "      <td>2</td>\n",
              "      <td>Organic Search</td>\n",
              "      <td>2016-09-02</td>\n",
              "      <td>Not Socially Engaged</td>\n",
              "      <td>1474986933</td>\n",
              "      <td>Chrome</td>\n",
              "      <td>not available in demo dataset</td>\n",
              "      <td>not available in demo dataset</td>\n",
              "      <td>iOS</td>\n",
              "      <td>...</td>\n",
              "      <td>not available in demo dataset</td>\n",
              "      <td>(not set)</td>\n",
              "      <td>google</td>\n",
              "      <td>organic</td>\n",
              "      <td>(not provided)</td>\n",
              "      <td>NaN</td>\n",
              "      <td>NaN</td>\n",
              "      <td>NaN</td>\n",
              "      <td>NaN</td>\n",
              "      <td>1</td>\n",
              "    </tr>\n",
              "    <tr>\n",
              "      <th>1</th>\n",
              "      <td>266926879733529</td>\n",
              "      <td>1</td>\n",
              "      <td>Organic Search</td>\n",
              "      <td>2016-09-02</td>\n",
              "      <td>Not Socially Engaged</td>\n",
              "      <td>1484803608</td>\n",
              "      <td>Chrome</td>\n",
              "      <td>not available in demo dataset</td>\n",
              "      <td>not available in demo dataset</td>\n",
              "      <td>Windows</td>\n",
              "      <td>...</td>\n",
              "      <td>not available in demo dataset</td>\n",
              "      <td>(not set)</td>\n",
              "      <td>google</td>\n",
              "      <td>organic</td>\n",
              "      <td>(not provided)</td>\n",
              "      <td>NaN</td>\n",
              "      <td>NaN</td>\n",
              "      <td>NaN</td>\n",
              "      <td>NaN</td>\n",
              "      <td>1</td>\n",
              "    </tr>\n",
              "    <tr>\n",
              "      <th>2</th>\n",
              "      <td>852896709559982</td>\n",
              "      <td>1</td>\n",
              "      <td>Organic Search</td>\n",
              "      <td>2016-09-02</td>\n",
              "      <td>Not Socially Engaged</td>\n",
              "      <td>1501014397</td>\n",
              "      <td>Safari</td>\n",
              "      <td>not available in demo dataset</td>\n",
              "      <td>not available in demo dataset</td>\n",
              "      <td>iOS</td>\n",
              "      <td>...</td>\n",
              "      <td>not available in demo dataset</td>\n",
              "      <td>(not set)</td>\n",
              "      <td>google</td>\n",
              "      <td>organic</td>\n",
              "      <td>(not provided)</td>\n",
              "      <td>NaN</td>\n",
              "      <td>NaN</td>\n",
              "      <td>NaN</td>\n",
              "      <td>NaN</td>\n",
              "      <td>1</td>\n",
              "    </tr>\n",
              "    <tr>\n",
              "      <th>3</th>\n",
              "      <td>1676995035957087</td>\n",
              "      <td>1</td>\n",
              "      <td>Organic Search</td>\n",
              "      <td>2016-09-02</td>\n",
              "      <td>Not Socially Engaged</td>\n",
              "      <td>1497299834</td>\n",
              "      <td>Chrome</td>\n",
              "      <td>not available in demo dataset</td>\n",
              "      <td>not available in demo dataset</td>\n",
              "      <td>Android</td>\n",
              "      <td>...</td>\n",
              "      <td>not available in demo dataset</td>\n",
              "      <td>(not set)</td>\n",
              "      <td>google</td>\n",
              "      <td>organic</td>\n",
              "      <td>(not provided)</td>\n",
              "      <td>NaN</td>\n",
              "      <td>NaN</td>\n",
              "      <td>NaN</td>\n",
              "      <td>NaN</td>\n",
              "      <td>1</td>\n",
              "    </tr>\n",
              "    <tr>\n",
              "      <th>4</th>\n",
              "      <td>2365800130207040</td>\n",
              "      <td>1</td>\n",
              "      <td>Social</td>\n",
              "      <td>2016-09-02</td>\n",
              "      <td>Not Socially Engaged</td>\n",
              "      <td>1472974804</td>\n",
              "      <td>Edge</td>\n",
              "      <td>not available in demo dataset</td>\n",
              "      <td>not available in demo dataset</td>\n",
              "      <td>Windows</td>\n",
              "      <td>...</td>\n",
              "      <td>not available in demo dataset</td>\n",
              "      <td>(not set)</td>\n",
              "      <td>youtube.com</td>\n",
              "      <td>referral</td>\n",
              "      <td>NaN</td>\n",
              "      <td>NaN</td>\n",
              "      <td>/yt/about/ru/</td>\n",
              "      <td>NaN</td>\n",
              "      <td>NaN</td>\n",
              "      <td>1</td>\n",
              "    </tr>\n",
              "    <tr>\n",
              "      <th>...</th>\n",
              "      <td>...</td>\n",
              "      <td>...</td>\n",
              "      <td>...</td>\n",
              "      <td>...</td>\n",
              "      <td>...</td>\n",
              "      <td>...</td>\n",
              "      <td>...</td>\n",
              "      <td>...</td>\n",
              "      <td>...</td>\n",
              "      <td>...</td>\n",
              "      <td>...</td>\n",
              "      <td>...</td>\n",
              "      <td>...</td>\n",
              "      <td>...</td>\n",
              "      <td>...</td>\n",
              "      <td>...</td>\n",
              "      <td>...</td>\n",
              "      <td>...</td>\n",
              "      <td>...</td>\n",
              "      <td>...</td>\n",
              "      <td>...</td>\n",
              "    </tr>\n",
              "    <tr>\n",
              "      <th>9991</th>\n",
              "      <td>9996691020299725061</td>\n",
              "      <td>3</td>\n",
              "      <td>Referral</td>\n",
              "      <td>2016-09-02</td>\n",
              "      <td>Not Socially Engaged</td>\n",
              "      <td>1482388264</td>\n",
              "      <td>Chrome</td>\n",
              "      <td>not available in demo dataset</td>\n",
              "      <td>not available in demo dataset</td>\n",
              "      <td>Macintosh</td>\n",
              "      <td>...</td>\n",
              "      <td>not available in demo dataset</td>\n",
              "      <td>(not set)</td>\n",
              "      <td>mall.googleplex.com</td>\n",
              "      <td>referral</td>\n",
              "      <td>NaN</td>\n",
              "      <td>True</td>\n",
              "      <td>/</td>\n",
              "      <td>NaN</td>\n",
              "      <td>NaN</td>\n",
              "      <td>1</td>\n",
              "    </tr>\n",
              "    <tr>\n",
              "      <th>9992</th>\n",
              "      <td>9996793353803109760</td>\n",
              "      <td>1</td>\n",
              "      <td>Social</td>\n",
              "      <td>2016-09-02</td>\n",
              "      <td>Not Socially Engaged</td>\n",
              "      <td>1480566609</td>\n",
              "      <td>Chrome</td>\n",
              "      <td>not available in demo dataset</td>\n",
              "      <td>not available in demo dataset</td>\n",
              "      <td>Android</td>\n",
              "      <td>...</td>\n",
              "      <td>not available in demo dataset</td>\n",
              "      <td>(not set)</td>\n",
              "      <td>youtube.com</td>\n",
              "      <td>referral</td>\n",
              "      <td>NaN</td>\n",
              "      <td>NaN</td>\n",
              "      <td>/yt/about/th/</td>\n",
              "      <td>NaN</td>\n",
              "      <td>NaN</td>\n",
              "      <td>1</td>\n",
              "    </tr>\n",
              "    <tr>\n",
              "      <th>9993</th>\n",
              "      <td>9997125062030599880</td>\n",
              "      <td>1</td>\n",
              "      <td>Organic Search</td>\n",
              "      <td>2016-09-02</td>\n",
              "      <td>Not Socially Engaged</td>\n",
              "      <td>1484217422</td>\n",
              "      <td>Safari</td>\n",
              "      <td>not available in demo dataset</td>\n",
              "      <td>not available in demo dataset</td>\n",
              "      <td>iOS</td>\n",
              "      <td>...</td>\n",
              "      <td>not available in demo dataset</td>\n",
              "      <td>(not set)</td>\n",
              "      <td>google</td>\n",
              "      <td>organic</td>\n",
              "      <td>(not provided)</td>\n",
              "      <td>NaN</td>\n",
              "      <td>NaN</td>\n",
              "      <td>NaN</td>\n",
              "      <td>NaN</td>\n",
              "      <td>1</td>\n",
              "    </tr>\n",
              "    <tr>\n",
              "      <th>9994</th>\n",
              "      <td>9997464307347866920</td>\n",
              "      <td>1</td>\n",
              "      <td>Organic Search</td>\n",
              "      <td>2016-09-02</td>\n",
              "      <td>Not Socially Engaged</td>\n",
              "      <td>1489504370</td>\n",
              "      <td>Chrome</td>\n",
              "      <td>not available in demo dataset</td>\n",
              "      <td>not available in demo dataset</td>\n",
              "      <td>Android</td>\n",
              "      <td>...</td>\n",
              "      <td>not available in demo dataset</td>\n",
              "      <td>(not set)</td>\n",
              "      <td>google</td>\n",
              "      <td>organic</td>\n",
              "      <td>(not provided)</td>\n",
              "      <td>NaN</td>\n",
              "      <td>NaN</td>\n",
              "      <td>NaN</td>\n",
              "      <td>NaN</td>\n",
              "      <td>1</td>\n",
              "    </tr>\n",
              "    <tr>\n",
              "      <th>9995</th>\n",
              "      <td>9999355589118867468</td>\n",
              "      <td>2</td>\n",
              "      <td>Organic Search</td>\n",
              "      <td>2016-09-02</td>\n",
              "      <td>Not Socially Engaged</td>\n",
              "      <td>1496052473</td>\n",
              "      <td>Chrome</td>\n",
              "      <td>not available in demo dataset</td>\n",
              "      <td>not available in demo dataset</td>\n",
              "      <td>Windows</td>\n",
              "      <td>...</td>\n",
              "      <td>not available in demo dataset</td>\n",
              "      <td>(not set)</td>\n",
              "      <td>analytics.google.com</td>\n",
              "      <td>referral</td>\n",
              "      <td>NaN</td>\n",
              "      <td>NaN</td>\n",
              "      <td>/analytics/web/</td>\n",
              "      <td>NaN</td>\n",
              "      <td>NaN</td>\n",
              "      <td>1</td>\n",
              "    </tr>\n",
              "  </tbody>\n",
              "</table>\n",
              "<p>9996 rows × 77 columns</p>\n",
              "</div>\n",
              "      <button class=\"colab-df-convert\" onclick=\"convertToInteractive('df-5eff1212-de75-42b7-942f-6cadfbb8a28f')\"\n",
              "              title=\"Convert this dataframe to an interactive table.\"\n",
              "              style=\"display:none;\">\n",
              "        \n",
              "  <svg xmlns=\"http://www.w3.org/2000/svg\" height=\"24px\"viewBox=\"0 0 24 24\"\n",
              "       width=\"24px\">\n",
              "    <path d=\"M0 0h24v24H0V0z\" fill=\"none\"/>\n",
              "    <path d=\"M18.56 5.44l.94 2.06.94-2.06 2.06-.94-2.06-.94-.94-2.06-.94 2.06-2.06.94zm-11 1L8.5 8.5l.94-2.06 2.06-.94-2.06-.94L8.5 2.5l-.94 2.06-2.06.94zm10 10l.94 2.06.94-2.06 2.06-.94-2.06-.94-.94-2.06-.94 2.06-2.06.94z\"/><path d=\"M17.41 7.96l-1.37-1.37c-.4-.4-.92-.59-1.43-.59-.52 0-1.04.2-1.43.59L10.3 9.45l-7.72 7.72c-.78.78-.78 2.05 0 2.83L4 21.41c.39.39.9.59 1.41.59.51 0 1.02-.2 1.41-.59l7.78-7.78 2.81-2.81c.8-.78.8-2.07 0-2.86zM5.41 20L4 18.59l7.72-7.72 1.47 1.35L5.41 20z\"/>\n",
              "  </svg>\n",
              "      </button>\n",
              "      \n",
              "  <style>\n",
              "    .colab-df-container {\n",
              "      display:flex;\n",
              "      flex-wrap:wrap;\n",
              "      gap: 12px;\n",
              "    }\n",
              "\n",
              "    .colab-df-convert {\n",
              "      background-color: #E8F0FE;\n",
              "      border: none;\n",
              "      border-radius: 50%;\n",
              "      cursor: pointer;\n",
              "      display: none;\n",
              "      fill: #1967D2;\n",
              "      height: 32px;\n",
              "      padding: 0 0 0 0;\n",
              "      width: 32px;\n",
              "    }\n",
              "\n",
              "    .colab-df-convert:hover {\n",
              "      background-color: #E2EBFA;\n",
              "      box-shadow: 0px 1px 2px rgba(60, 64, 67, 0.3), 0px 1px 3px 1px rgba(60, 64, 67, 0.15);\n",
              "      fill: #174EA6;\n",
              "    }\n",
              "\n",
              "    [theme=dark] .colab-df-convert {\n",
              "      background-color: #3B4455;\n",
              "      fill: #D2E3FC;\n",
              "    }\n",
              "\n",
              "    [theme=dark] .colab-df-convert:hover {\n",
              "      background-color: #434B5C;\n",
              "      box-shadow: 0px 1px 3px 1px rgba(0, 0, 0, 0.15);\n",
              "      filter: drop-shadow(0px 1px 2px rgba(0, 0, 0, 0.3));\n",
              "      fill: #FFFFFF;\n",
              "    }\n",
              "  </style>\n",
              "\n",
              "      <script>\n",
              "        const buttonEl =\n",
              "          document.querySelector('#df-5eff1212-de75-42b7-942f-6cadfbb8a28f button.colab-df-convert');\n",
              "        buttonEl.style.display =\n",
              "          google.colab.kernel.accessAllowed ? 'block' : 'none';\n",
              "\n",
              "        async function convertToInteractive(key) {\n",
              "          const element = document.querySelector('#df-5eff1212-de75-42b7-942f-6cadfbb8a28f');\n",
              "          const dataTable =\n",
              "            await google.colab.kernel.invokeFunction('convertToInteractive',\n",
              "                                                     [key], {});\n",
              "          if (!dataTable) return;\n",
              "\n",
              "          const docLinkHtml = 'Like what you see? Visit the ' +\n",
              "            '<a target=\"_blank\" href=https://colab.research.google.com/notebooks/data_table.ipynb>data table notebook</a>'\n",
              "            + ' to learn more about interactive tables.';\n",
              "          element.innerHTML = '';\n",
              "          dataTable['output_type'] = 'display_data';\n",
              "          await google.colab.output.renderOutput(dataTable, element);\n",
              "          const docLink = document.createElement('div');\n",
              "          docLink.innerHTML = docLinkHtml;\n",
              "          element.appendChild(docLink);\n",
              "        }\n",
              "      </script>\n",
              "    </div>\n",
              "  </div>\n",
              "  "
            ]
          },
          "metadata": {},
          "execution_count": 62
        }
      ]
    },
    {
      "cell_type": "code",
      "source": [
        "visits.info( )"
      ],
      "metadata": {
        "colab": {
          "base_uri": "https://localhost:8080/"
        },
        "id": "fg7MPAU4DeTA",
        "outputId": "7032f001-bcd6-4bc9-99ee-c95b8ff26a43"
      },
      "execution_count": 63,
      "outputs": [
        {
          "output_type": "stream",
          "name": "stdout",
          "text": [
            "<class 'pandas.core.frame.DataFrame'>\n",
            "Int64Index: 9996 entries, 0 to 9995\n",
            "Data columns (total 77 columns):\n",
            " #   Column                           Non-Null Count  Dtype         \n",
            "---  ------                           --------------  -----         \n",
            " 0   fullVisitorId                    9996 non-null   object        \n",
            " 1   visitNumber_last                 9996 non-null   int64         \n",
            " 2   channelGrouping_last             9996 non-null   object        \n",
            " 3   date_last                        9996 non-null   datetime64[ns]\n",
            " 4   socialEngagementType_last        9996 non-null   object        \n",
            " 5   visitStartTime_last              9996 non-null   int64         \n",
            " 6   browser_last                     9996 non-null   object        \n",
            " 7   browserVersion_last              9996 non-null   object        \n",
            " 8   browserSize_last                 9996 non-null   object        \n",
            " 9   operatingSystem_last             9996 non-null   object        \n",
            " 10  operatingSystemVersion_last      9996 non-null   object        \n",
            " 11  isMobile_last                    9996 non-null   bool          \n",
            " 12  mobileDeviceBranding_last        9996 non-null   object        \n",
            " 13  mobileDeviceModel_last           9996 non-null   object        \n",
            " 14  mobileInputSelector_last         9996 non-null   object        \n",
            " 15  mobileDeviceInfo_last            9996 non-null   object        \n",
            " 16  mobileDeviceMarketingName_last   9996 non-null   object        \n",
            " 17  flashVersion_last                9996 non-null   object        \n",
            " 18  language_last                    9996 non-null   object        \n",
            " 19  screenColors_last                9996 non-null   object        \n",
            " 20  screenResolution_last            9996 non-null   object        \n",
            " 21  deviceCategory_last              9996 non-null   object        \n",
            " 22  continent_last                   9996 non-null   object        \n",
            " 23  subContinent_last                9996 non-null   object        \n",
            " 24  country_last                     9996 non-null   object        \n",
            " 25  region_last                      9996 non-null   object        \n",
            " 26  metro_last                       9996 non-null   object        \n",
            " 27  city_last                        9996 non-null   object        \n",
            " 28  cityId_last                      9996 non-null   object        \n",
            " 29  networkDomain_last               9996 non-null   object        \n",
            " 30  latitude_last                    9996 non-null   object        \n",
            " 31  longitude_last                   9996 non-null   object        \n",
            " 32  networkLocation_last             9996 non-null   object        \n",
            " 33  campaign_last                    9996 non-null   object        \n",
            " 34  source_last                      9996 non-null   object        \n",
            " 35  medium_last                      9996 non-null   object        \n",
            " 36  keyword_last                     4385 non-null   object        \n",
            " 37  isTrueDirect_last                2534 non-null   object        \n",
            " 38  referralPath_last                3803 non-null   object        \n",
            " 39  adContent_last                   100 non-null    object        \n",
            " 40  campaignCode_last                1 non-null      object        \n",
            " 41  visits_last                      9996 non-null   object        \n",
            " 42  visitNumber_first                9996 non-null   int64         \n",
            " 43  channelGrouping_first            9996 non-null   object        \n",
            " 44  date_first                       9996 non-null   datetime64[ns]\n",
            " 45  socialEngagementType_first       9996 non-null   object        \n",
            " 46  visitNumber_first                9996 non-null   int64         \n",
            " 47  visitStartTime_first             9996 non-null   int64         \n",
            " 48  browser_first                    9996 non-null   object        \n",
            " 49  browserVersion_first             9996 non-null   object        \n",
            " 50  browserSize_first                9996 non-null   object        \n",
            " 51  operatingSystem_first            9996 non-null   object        \n",
            " 52  operatingSystemVersion_first     9996 non-null   object        \n",
            " 53  isMobile_first                   9996 non-null   bool          \n",
            " 54  mobileDeviceBranding_first       9996 non-null   object        \n",
            " 55  mobileDeviceModel_first          9996 non-null   object        \n",
            " 56  mobileInputSelector_first        9996 non-null   object        \n",
            " 57  mobileDeviceInfo_first           9996 non-null   object        \n",
            " 58  mobileDeviceMarketingName_first  9996 non-null   object        \n",
            " 59  flashVersion_first               9996 non-null   object        \n",
            " 60  language_first                   9996 non-null   object        \n",
            " 61  screenColors_first               9996 non-null   object        \n",
            " 62  screenResolution_first           9996 non-null   object        \n",
            " 63  deviceCategory_first             9996 non-null   object        \n",
            " 64  cityId_first                     9996 non-null   object        \n",
            " 65  latitude_first                   9996 non-null   object        \n",
            " 66  longitude_first                  9996 non-null   object        \n",
            " 67  networkLocation_first            9996 non-null   object        \n",
            " 68  campaign_first                   9996 non-null   object        \n",
            " 69  source_first                     9996 non-null   object        \n",
            " 70  medium_first                     9996 non-null   object        \n",
            " 71  keyword_first                    4374 non-null   object        \n",
            " 72  isTrueDirect_first               1965 non-null   object        \n",
            " 73  referralPath_first               3750 non-null   object        \n",
            " 74  adContent_first                  90 non-null     object        \n",
            " 75  campaignCode_first               1 non-null      object        \n",
            " 76  visits_first                     9996 non-null   object        \n",
            "dtypes: bool(2), datetime64[ns](2), int64(5), object(68)\n",
            "memory usage: 5.8+ MB\n"
          ]
        }
      ]
    },
    {
      "cell_type": "markdown",
      "source": [
        "## Creating new features\n",
        "\n",
        "When we understand our business, we can also try to create new variables from the ones that we already have in our dataset. First, let's merge our quantitative variables to our new visits dataset:"
      ],
      "metadata": {
        "id": "8zc06Bob8V8u"
      }
    },
    {
      "cell_type": "code",
      "source": [
        "visits = pd.merge(visits, df_quant, left_on = 'fullVisitorId', right_on = 'fullVisitorId', how = 'left')"
      ],
      "metadata": {
        "id": "5dzQhJqG8OKX"
      },
      "execution_count": 64,
      "outputs": []
    },
    {
      "cell_type": "markdown",
      "source": [
        "So, we have a feature for the visitStartTime_last and visitStartTime_first. We can create a new feature to store how long it took from the first to the last visit:\n"
      ],
      "metadata": {
        "id": "AanqAxFt9T0X"
      }
    },
    {
      "cell_type": "code",
      "source": [
        "visits['StartTime_diff'] = visits.visitStartTime_last - visits.visitStartTime_first\n",
        "visits['StartTime_diff'].head(50)"
      ],
      "metadata": {
        "colab": {
          "base_uri": "https://localhost:8080/"
        },
        "id": "t5hVIdZL8hyC",
        "outputId": "074eaf83-bd36-42f4-91fb-b16b046d4d9b"
      },
      "execution_count": 65,
      "outputs": [
        {
          "output_type": "execute_result",
          "data": {
            "text/plain": [
              "0       77157\n",
              "1           0\n",
              "2           0\n",
              "3           0\n",
              "4           0\n",
              "5           0\n",
              "6           0\n",
              "7           0\n",
              "8           0\n",
              "9           0\n",
              "10          0\n",
              "11          0\n",
              "12          0\n",
              "13          0\n",
              "14          0\n",
              "15          0\n",
              "16          0\n",
              "17          0\n",
              "18          0\n",
              "19          0\n",
              "20          0\n",
              "21          0\n",
              "22          0\n",
              "23    2730545\n",
              "24          0\n",
              "25          0\n",
              "26          0\n",
              "27          0\n",
              "28          0\n",
              "29          0\n",
              "30          0\n",
              "31          0\n",
              "32          0\n",
              "33    1242419\n",
              "34          0\n",
              "35          0\n",
              "36          0\n",
              "37          0\n",
              "38          0\n",
              "39          0\n",
              "40          0\n",
              "41          0\n",
              "42          0\n",
              "43          0\n",
              "44          0\n",
              "45          0\n",
              "46          0\n",
              "47      47956\n",
              "48          0\n",
              "49          0\n",
              "Name: StartTime_diff, dtype: int64"
            ]
          },
          "metadata": {},
          "execution_count": 65
        }
      ]
    },
    {
      "cell_type": "markdown",
      "source": [
        "So, most of our entries have a 0 value, because we only have one visit. Let's add another feature, related to the number of visits each visitor did:"
      ],
      "metadata": {
        "id": "owxG1yYR-URw"
      }
    },
    {
      "cell_type": "code",
      "source": [
        "visit_num = df.groupby('fullVisitorId')['visitNumber'].count( )"
      ],
      "metadata": {
        "id": "JkrilFus9qUO"
      },
      "execution_count": 66,
      "outputs": []
    },
    {
      "cell_type": "code",
      "source": [
        "visits['tot_visits'] = visit_num.values"
      ],
      "metadata": {
        "id": "qSH8SRuy-r-K"
      },
      "execution_count": 67,
      "outputs": []
    },
    {
      "cell_type": "markdown",
      "source": [
        "Let's now create some features to store the year, month and day the visit was performed:"
      ],
      "metadata": {
        "id": "xsil3dWTA26Y"
      }
    },
    {
      "cell_type": "code",
      "source": [
        "visits['year_last']   = visits.date_last.dt.year\n",
        "visits['year_first']  = visits.date_first.dt.year\n",
        "visits['month_last']  = visits.date_last.dt.month\n",
        "visits['month_first'] = visits.date_first.dt.month\n",
        "visits['day_last']    = visits.date_last.dt.day\n",
        "visits['day_first']   = visits.date_first.dt.day"
      ],
      "metadata": {
        "id": "4xVlLpqu-3hL"
      },
      "execution_count": 68,
      "outputs": []
    },
    {
      "cell_type": "code",
      "source": [
        "visits.drop(['date_last', 'date_first'], axis = 1, inplace = True)"
      ],
      "metadata": {
        "id": "G98CVVxJDKbi"
      },
      "execution_count": 69,
      "outputs": []
    },
    {
      "cell_type": "markdown",
      "source": [
        "Finally, let's finish by excluding some features that may not help in our model:"
      ],
      "metadata": {
        "id": "-7KWuyXaDxCS"
      }
    },
    {
      "cell_type": "code",
      "source": [
        "remove_feat = ['socialEngagementType', 'browserVersion', 'browserSize', 'operatingSystemVersion', 'mobileDeviceBranding', 'mobileDeviceModel',\n",
        "               'mobileInputSelector', 'mobileDeviceInfo', 'mobileDeviceMarketingName', 'flashVersion', 'language', 'screenColors', 'screenResolution']\n",
        "\n",
        "for col in remove_feat:\n",
        "  visits.drop(col + '_last', axis = 1, inplace = True)\n",
        "  visits.drop(col + '_first', axis = 1, inplace = True)"
      ],
      "metadata": {
        "id": "v6WNcojrD0wC"
      },
      "execution_count": 70,
      "outputs": []
    },
    {
      "cell_type": "markdown",
      "source": [
        "Finally, let's also drop the visitor id:"
      ],
      "metadata": {
        "id": "FzQP0CJKFgIz"
      }
    },
    {
      "cell_type": "code",
      "source": [
        "visits.drop('fullVisitorId', axis = 1, inplace = True)"
      ],
      "metadata": {
        "id": "Ek-5f55EFic4"
      },
      "execution_count": 71,
      "outputs": []
    },
    {
      "cell_type": "markdown",
      "source": [
        "# Rebuilding our model\n",
        "\n",
        "Finally, let's try to use our dataset to build our new model. Let's separe our target and our independent features:"
      ],
      "metadata": {
        "id": "tsyXkxUjFdGA"
      }
    },
    {
      "cell_type": "code",
      "source": [
        "y = visits.transactionRevenue.copy( )\n",
        "X = visits.drop('transactionRevenue', axis = 1)"
      ],
      "metadata": {
        "id": "McGdc1lpFa3C"
      },
      "execution_count": 72,
      "outputs": []
    },
    {
      "cell_type": "markdown",
      "source": [
        "Now, let's use a label encoder to treat our qualitative features:"
      ],
      "metadata": {
        "id": "nRc67J-XGFZu"
      }
    },
    {
      "cell_type": "code",
      "source": [
        "qualit_feat = visits.dtypes[visits.dtypes == object].keys( )\n",
        "qualit_feat"
      ],
      "metadata": {
        "colab": {
          "base_uri": "https://localhost:8080/"
        },
        "id": "g3bYmySzGCXY",
        "outputId": "2c53619a-14b1-483a-983c-473adce58e11"
      },
      "execution_count": 73,
      "outputs": [
        {
          "output_type": "execute_result",
          "data": {
            "text/plain": [
              "Index(['channelGrouping_last', 'browser_last', 'operatingSystem_last',\n",
              "       'deviceCategory_last', 'continent_last', 'subContinent_last',\n",
              "       'country_last', 'region_last', 'metro_last', 'city_last', 'cityId_last',\n",
              "       'networkDomain_last', 'latitude_last', 'longitude_last',\n",
              "       'networkLocation_last', 'campaign_last', 'source_last', 'medium_last',\n",
              "       'keyword_last', 'isTrueDirect_last', 'referralPath_last',\n",
              "       'adContent_last', 'campaignCode_last', 'visits_last',\n",
              "       'channelGrouping_first', 'browser_first', 'operatingSystem_first',\n",
              "       'deviceCategory_first', 'cityId_first', 'latitude_first',\n",
              "       'longitude_first', 'networkLocation_first', 'campaign_first',\n",
              "       'source_first', 'medium_first', 'keyword_first', 'isTrueDirect_first',\n",
              "       'referralPath_first', 'adContent_first', 'campaignCode_first',\n",
              "       'visits_first'],\n",
              "      dtype='object')"
            ]
          },
          "metadata": {},
          "execution_count": 73
        }
      ]
    },
    {
      "cell_type": "code",
      "source": [
        "# Label encoder\n",
        "\n",
        "from sklearn.preprocessing import LabelEncoder\n",
        "\n",
        "for q in qualit_feat:\n",
        "  lbl = LabelEncoder( )\n",
        "  strings = list(X[q].values.astype('str'))\n",
        "  lbl.fit(strings)\n",
        "  X[q] = lbl.transform(strings)"
      ],
      "metadata": {
        "colab": {
          "base_uri": "https://localhost:8080/"
        },
        "id": "58sLFMf1GNI4",
        "outputId": "80db05a9-cdaa-40ae-ac33-aa5bb1c44ce2"
      },
      "execution_count": 74,
      "outputs": [
        {
          "output_type": "stream",
          "name": "stderr",
          "text": [
            "/usr/local/lib/python3.7/dist-packages/ipykernel_launcher.py:9: SettingWithCopyWarning: \n",
            "A value is trying to be set on a copy of a slice from a DataFrame.\n",
            "Try using .loc[row_indexer,col_indexer] = value instead\n",
            "\n",
            "See the caveats in the documentation: https://pandas.pydata.org/pandas-docs/stable/user_guide/indexing.html#returning-a-view-versus-a-copy\n",
            "  if __name__ == '__main__':\n"
          ]
        }
      ]
    },
    {
      "cell_type": "code",
      "source": [
        "X.head( )"
      ],
      "metadata": {
        "colab": {
          "base_uri": "https://localhost:8080/",
          "height": 299
        },
        "id": "8sBfzoleH5kt",
        "outputId": "892d10d9-26a6-4dc9-e8c2-0525fe553154"
      },
      "execution_count": 75,
      "outputs": [
        {
          "output_type": "execute_result",
          "data": {
            "text/plain": [
              "   visitNumber_last  channelGrouping_last  visitStartTime_last  browser_last  \\\n",
              "0                 2                     4           1474986933             5   \n",
              "1                 1                     4           1484803608             5   \n",
              "2                 1                     4           1501014397            18   \n",
              "3                 1                     4           1497299834             5   \n",
              "4                 1                     7           1472974804             7   \n",
              "\n",
              "   operatingSystem_last  isMobile_last  deviceCategory_last  continent_last  \\\n",
              "0                    11           True                    2               2   \n",
              "1                     9          False                    0               3   \n",
              "2                    11           True                    1               2   \n",
              "3                     1           True                    1               4   \n",
              "4                     9          False                    0               4   \n",
              "\n",
              "   subContinent_last  country_last  ...  hits  newVisits  StartTime_diff  \\\n",
              "0                 11           138  ...     4          1           77157   \n",
              "1                 17            55  ...    16          1               0   \n",
              "2                 11           138  ...     3          1               0   \n",
              "3                 21            43  ...     1          1               0   \n",
              "4                  7           135  ...     1          1               0   \n",
              "\n",
              "   tot_visits  year_last  year_first  month_last  month_first  day_last  \\\n",
              "0           2       2016        2016           9            9         2   \n",
              "1           1       2016        2016           9            9         2   \n",
              "2           1       2016        2016           9            9         2   \n",
              "3           1       2016        2016           9            9         2   \n",
              "4           1       2016        2016           9            9         2   \n",
              "\n",
              "   day_first  \n",
              "0          2  \n",
              "1          2  \n",
              "2          2  \n",
              "3          2  \n",
              "4          2  \n",
              "\n",
              "[5 rows x 60 columns]"
            ],
            "text/html": [
              "\n",
              "  <div id=\"df-1c2ceaca-9429-46f0-99a4-618fa73b941a\">\n",
              "    <div class=\"colab-df-container\">\n",
              "      <div>\n",
              "<style scoped>\n",
              "    .dataframe tbody tr th:only-of-type {\n",
              "        vertical-align: middle;\n",
              "    }\n",
              "\n",
              "    .dataframe tbody tr th {\n",
              "        vertical-align: top;\n",
              "    }\n",
              "\n",
              "    .dataframe thead th {\n",
              "        text-align: right;\n",
              "    }\n",
              "</style>\n",
              "<table border=\"1\" class=\"dataframe\">\n",
              "  <thead>\n",
              "    <tr style=\"text-align: right;\">\n",
              "      <th></th>\n",
              "      <th>visitNumber_last</th>\n",
              "      <th>channelGrouping_last</th>\n",
              "      <th>visitStartTime_last</th>\n",
              "      <th>browser_last</th>\n",
              "      <th>operatingSystem_last</th>\n",
              "      <th>isMobile_last</th>\n",
              "      <th>deviceCategory_last</th>\n",
              "      <th>continent_last</th>\n",
              "      <th>subContinent_last</th>\n",
              "      <th>country_last</th>\n",
              "      <th>...</th>\n",
              "      <th>hits</th>\n",
              "      <th>newVisits</th>\n",
              "      <th>StartTime_diff</th>\n",
              "      <th>tot_visits</th>\n",
              "      <th>year_last</th>\n",
              "      <th>year_first</th>\n",
              "      <th>month_last</th>\n",
              "      <th>month_first</th>\n",
              "      <th>day_last</th>\n",
              "      <th>day_first</th>\n",
              "    </tr>\n",
              "  </thead>\n",
              "  <tbody>\n",
              "    <tr>\n",
              "      <th>0</th>\n",
              "      <td>2</td>\n",
              "      <td>4</td>\n",
              "      <td>1474986933</td>\n",
              "      <td>5</td>\n",
              "      <td>11</td>\n",
              "      <td>True</td>\n",
              "      <td>2</td>\n",
              "      <td>2</td>\n",
              "      <td>11</td>\n",
              "      <td>138</td>\n",
              "      <td>...</td>\n",
              "      <td>4</td>\n",
              "      <td>1</td>\n",
              "      <td>77157</td>\n",
              "      <td>2</td>\n",
              "      <td>2016</td>\n",
              "      <td>2016</td>\n",
              "      <td>9</td>\n",
              "      <td>9</td>\n",
              "      <td>2</td>\n",
              "      <td>2</td>\n",
              "    </tr>\n",
              "    <tr>\n",
              "      <th>1</th>\n",
              "      <td>1</td>\n",
              "      <td>4</td>\n",
              "      <td>1484803608</td>\n",
              "      <td>5</td>\n",
              "      <td>9</td>\n",
              "      <td>False</td>\n",
              "      <td>0</td>\n",
              "      <td>3</td>\n",
              "      <td>17</td>\n",
              "      <td>55</td>\n",
              "      <td>...</td>\n",
              "      <td>16</td>\n",
              "      <td>1</td>\n",
              "      <td>0</td>\n",
              "      <td>1</td>\n",
              "      <td>2016</td>\n",
              "      <td>2016</td>\n",
              "      <td>9</td>\n",
              "      <td>9</td>\n",
              "      <td>2</td>\n",
              "      <td>2</td>\n",
              "    </tr>\n",
              "    <tr>\n",
              "      <th>2</th>\n",
              "      <td>1</td>\n",
              "      <td>4</td>\n",
              "      <td>1501014397</td>\n",
              "      <td>18</td>\n",
              "      <td>11</td>\n",
              "      <td>True</td>\n",
              "      <td>1</td>\n",
              "      <td>2</td>\n",
              "      <td>11</td>\n",
              "      <td>138</td>\n",
              "      <td>...</td>\n",
              "      <td>3</td>\n",
              "      <td>1</td>\n",
              "      <td>0</td>\n",
              "      <td>1</td>\n",
              "      <td>2016</td>\n",
              "      <td>2016</td>\n",
              "      <td>9</td>\n",
              "      <td>9</td>\n",
              "      <td>2</td>\n",
              "      <td>2</td>\n",
              "    </tr>\n",
              "    <tr>\n",
              "      <th>3</th>\n",
              "      <td>1</td>\n",
              "      <td>4</td>\n",
              "      <td>1497299834</td>\n",
              "      <td>5</td>\n",
              "      <td>1</td>\n",
              "      <td>True</td>\n",
              "      <td>1</td>\n",
              "      <td>4</td>\n",
              "      <td>21</td>\n",
              "      <td>43</td>\n",
              "      <td>...</td>\n",
              "      <td>1</td>\n",
              "      <td>1</td>\n",
              "      <td>0</td>\n",
              "      <td>1</td>\n",
              "      <td>2016</td>\n",
              "      <td>2016</td>\n",
              "      <td>9</td>\n",
              "      <td>9</td>\n",
              "      <td>2</td>\n",
              "      <td>2</td>\n",
              "    </tr>\n",
              "    <tr>\n",
              "      <th>4</th>\n",
              "      <td>1</td>\n",
              "      <td>7</td>\n",
              "      <td>1472974804</td>\n",
              "      <td>7</td>\n",
              "      <td>9</td>\n",
              "      <td>False</td>\n",
              "      <td>0</td>\n",
              "      <td>4</td>\n",
              "      <td>7</td>\n",
              "      <td>135</td>\n",
              "      <td>...</td>\n",
              "      <td>1</td>\n",
              "      <td>1</td>\n",
              "      <td>0</td>\n",
              "      <td>1</td>\n",
              "      <td>2016</td>\n",
              "      <td>2016</td>\n",
              "      <td>9</td>\n",
              "      <td>9</td>\n",
              "      <td>2</td>\n",
              "      <td>2</td>\n",
              "    </tr>\n",
              "  </tbody>\n",
              "</table>\n",
              "<p>5 rows × 60 columns</p>\n",
              "</div>\n",
              "      <button class=\"colab-df-convert\" onclick=\"convertToInteractive('df-1c2ceaca-9429-46f0-99a4-618fa73b941a')\"\n",
              "              title=\"Convert this dataframe to an interactive table.\"\n",
              "              style=\"display:none;\">\n",
              "        \n",
              "  <svg xmlns=\"http://www.w3.org/2000/svg\" height=\"24px\"viewBox=\"0 0 24 24\"\n",
              "       width=\"24px\">\n",
              "    <path d=\"M0 0h24v24H0V0z\" fill=\"none\"/>\n",
              "    <path d=\"M18.56 5.44l.94 2.06.94-2.06 2.06-.94-2.06-.94-.94-2.06-.94 2.06-2.06.94zm-11 1L8.5 8.5l.94-2.06 2.06-.94-2.06-.94L8.5 2.5l-.94 2.06-2.06.94zm10 10l.94 2.06.94-2.06 2.06-.94-2.06-.94-.94-2.06-.94 2.06-2.06.94z\"/><path d=\"M17.41 7.96l-1.37-1.37c-.4-.4-.92-.59-1.43-.59-.52 0-1.04.2-1.43.59L10.3 9.45l-7.72 7.72c-.78.78-.78 2.05 0 2.83L4 21.41c.39.39.9.59 1.41.59.51 0 1.02-.2 1.41-.59l7.78-7.78 2.81-2.81c.8-.78.8-2.07 0-2.86zM5.41 20L4 18.59l7.72-7.72 1.47 1.35L5.41 20z\"/>\n",
              "  </svg>\n",
              "      </button>\n",
              "      \n",
              "  <style>\n",
              "    .colab-df-container {\n",
              "      display:flex;\n",
              "      flex-wrap:wrap;\n",
              "      gap: 12px;\n",
              "    }\n",
              "\n",
              "    .colab-df-convert {\n",
              "      background-color: #E8F0FE;\n",
              "      border: none;\n",
              "      border-radius: 50%;\n",
              "      cursor: pointer;\n",
              "      display: none;\n",
              "      fill: #1967D2;\n",
              "      height: 32px;\n",
              "      padding: 0 0 0 0;\n",
              "      width: 32px;\n",
              "    }\n",
              "\n",
              "    .colab-df-convert:hover {\n",
              "      background-color: #E2EBFA;\n",
              "      box-shadow: 0px 1px 2px rgba(60, 64, 67, 0.3), 0px 1px 3px 1px rgba(60, 64, 67, 0.15);\n",
              "      fill: #174EA6;\n",
              "    }\n",
              "\n",
              "    [theme=dark] .colab-df-convert {\n",
              "      background-color: #3B4455;\n",
              "      fill: #D2E3FC;\n",
              "    }\n",
              "\n",
              "    [theme=dark] .colab-df-convert:hover {\n",
              "      background-color: #434B5C;\n",
              "      box-shadow: 0px 1px 3px 1px rgba(0, 0, 0, 0.15);\n",
              "      filter: drop-shadow(0px 1px 2px rgba(0, 0, 0, 0.3));\n",
              "      fill: #FFFFFF;\n",
              "    }\n",
              "  </style>\n",
              "\n",
              "      <script>\n",
              "        const buttonEl =\n",
              "          document.querySelector('#df-1c2ceaca-9429-46f0-99a4-618fa73b941a button.colab-df-convert');\n",
              "        buttonEl.style.display =\n",
              "          google.colab.kernel.accessAllowed ? 'block' : 'none';\n",
              "\n",
              "        async function convertToInteractive(key) {\n",
              "          const element = document.querySelector('#df-1c2ceaca-9429-46f0-99a4-618fa73b941a');\n",
              "          const dataTable =\n",
              "            await google.colab.kernel.invokeFunction('convertToInteractive',\n",
              "                                                     [key], {});\n",
              "          if (!dataTable) return;\n",
              "\n",
              "          const docLinkHtml = 'Like what you see? Visit the ' +\n",
              "            '<a target=\"_blank\" href=https://colab.research.google.com/notebooks/data_table.ipynb>data table notebook</a>'\n",
              "            + ' to learn more about interactive tables.';\n",
              "          element.innerHTML = '';\n",
              "          dataTable['output_type'] = 'display_data';\n",
              "          await google.colab.output.renderOutput(dataTable, element);\n",
              "          const docLink = document.createElement('div');\n",
              "          docLink.innerHTML = docLinkHtml;\n",
              "          element.appendChild(docLink);\n",
              "        }\n",
              "      </script>\n",
              "    </div>\n",
              "  </div>\n",
              "  "
            ]
          },
          "metadata": {},
          "execution_count": 75
        }
      ]
    },
    {
      "cell_type": "markdown",
      "source": [
        "Ok, so, finally, let's build our linear mode once again!"
      ],
      "metadata": {
        "id": "Y8ryrf3hCgBB"
      }
    },
    {
      "cell_type": "code",
      "source": [
        "X_train, X_test, y_train, y_test = train_test_split(X, y, test_size = 0.3, random_state = SEED)\n",
        "\n",
        "model_LinReg2 = LinearRegression( )\n",
        "model_LinReg2.fit(X_train, y_train)\n",
        "y_pred = model_LinReg2.predict(X_test)"
      ],
      "metadata": {
        "id": "6KUvqKjxH9za"
      },
      "execution_count": 76,
      "outputs": []
    },
    {
      "cell_type": "markdown",
      "source": [
        "So, let's get our error once again:"
      ],
      "metadata": {
        "id": "iPvVgyJcDYnr"
      }
    },
    {
      "cell_type": "code",
      "source": [
        "results_LinReg2 = pd.DataFrame( )\n",
        "results_LinReg2['y_test'] = y_test\n",
        "results_LinReg2['y_pred'] = y_pred\n",
        "results_LinReg2['error']  = y_pred - y_test"
      ],
      "metadata": {
        "id": "6q-43rxlC7n1"
      },
      "execution_count": 77,
      "outputs": []
    },
    {
      "cell_type": "code",
      "source": [
        "results_LinReg2.head(10)"
      ],
      "metadata": {
        "colab": {
          "base_uri": "https://localhost:8080/",
          "height": 363
        },
        "id": "pV-cksqbDeSJ",
        "outputId": "74363752-a8ef-48d4-910d-6abd81f9e289"
      },
      "execution_count": 78,
      "outputs": [
        {
          "output_type": "execute_result",
          "data": {
            "text/plain": [
              "      y_test     y_pred      error\n",
              "1078     0.0  -5.830011  -5.830011\n",
              "4336     0.0  20.655372  20.655372\n",
              "8966     0.0   2.042050   2.042050\n",
              "5456     0.0  -2.106556  -2.106556\n",
              "2407     0.0  -1.928762  -1.928762\n",
              "8995     0.0  -0.037060  -0.037060\n",
              "576      0.0  -2.660138  -2.660138\n",
              "7441     0.0  19.934431  19.934431\n",
              "5967     0.0   2.318612   2.318612\n",
              "439      0.0  24.425143  24.425143"
            ],
            "text/html": [
              "\n",
              "  <div id=\"df-4883cbd9-5f12-4a22-a2ae-8da36c060c70\">\n",
              "    <div class=\"colab-df-container\">\n",
              "      <div>\n",
              "<style scoped>\n",
              "    .dataframe tbody tr th:only-of-type {\n",
              "        vertical-align: middle;\n",
              "    }\n",
              "\n",
              "    .dataframe tbody tr th {\n",
              "        vertical-align: top;\n",
              "    }\n",
              "\n",
              "    .dataframe thead th {\n",
              "        text-align: right;\n",
              "    }\n",
              "</style>\n",
              "<table border=\"1\" class=\"dataframe\">\n",
              "  <thead>\n",
              "    <tr style=\"text-align: right;\">\n",
              "      <th></th>\n",
              "      <th>y_test</th>\n",
              "      <th>y_pred</th>\n",
              "      <th>error</th>\n",
              "    </tr>\n",
              "  </thead>\n",
              "  <tbody>\n",
              "    <tr>\n",
              "      <th>1078</th>\n",
              "      <td>0.0</td>\n",
              "      <td>-5.830011</td>\n",
              "      <td>-5.830011</td>\n",
              "    </tr>\n",
              "    <tr>\n",
              "      <th>4336</th>\n",
              "      <td>0.0</td>\n",
              "      <td>20.655372</td>\n",
              "      <td>20.655372</td>\n",
              "    </tr>\n",
              "    <tr>\n",
              "      <th>8966</th>\n",
              "      <td>0.0</td>\n",
              "      <td>2.042050</td>\n",
              "      <td>2.042050</td>\n",
              "    </tr>\n",
              "    <tr>\n",
              "      <th>5456</th>\n",
              "      <td>0.0</td>\n",
              "      <td>-2.106556</td>\n",
              "      <td>-2.106556</td>\n",
              "    </tr>\n",
              "    <tr>\n",
              "      <th>2407</th>\n",
              "      <td>0.0</td>\n",
              "      <td>-1.928762</td>\n",
              "      <td>-1.928762</td>\n",
              "    </tr>\n",
              "    <tr>\n",
              "      <th>8995</th>\n",
              "      <td>0.0</td>\n",
              "      <td>-0.037060</td>\n",
              "      <td>-0.037060</td>\n",
              "    </tr>\n",
              "    <tr>\n",
              "      <th>576</th>\n",
              "      <td>0.0</td>\n",
              "      <td>-2.660138</td>\n",
              "      <td>-2.660138</td>\n",
              "    </tr>\n",
              "    <tr>\n",
              "      <th>7441</th>\n",
              "      <td>0.0</td>\n",
              "      <td>19.934431</td>\n",
              "      <td>19.934431</td>\n",
              "    </tr>\n",
              "    <tr>\n",
              "      <th>5967</th>\n",
              "      <td>0.0</td>\n",
              "      <td>2.318612</td>\n",
              "      <td>2.318612</td>\n",
              "    </tr>\n",
              "    <tr>\n",
              "      <th>439</th>\n",
              "      <td>0.0</td>\n",
              "      <td>24.425143</td>\n",
              "      <td>24.425143</td>\n",
              "    </tr>\n",
              "  </tbody>\n",
              "</table>\n",
              "</div>\n",
              "      <button class=\"colab-df-convert\" onclick=\"convertToInteractive('df-4883cbd9-5f12-4a22-a2ae-8da36c060c70')\"\n",
              "              title=\"Convert this dataframe to an interactive table.\"\n",
              "              style=\"display:none;\">\n",
              "        \n",
              "  <svg xmlns=\"http://www.w3.org/2000/svg\" height=\"24px\"viewBox=\"0 0 24 24\"\n",
              "       width=\"24px\">\n",
              "    <path d=\"M0 0h24v24H0V0z\" fill=\"none\"/>\n",
              "    <path d=\"M18.56 5.44l.94 2.06.94-2.06 2.06-.94-2.06-.94-.94-2.06-.94 2.06-2.06.94zm-11 1L8.5 8.5l.94-2.06 2.06-.94-2.06-.94L8.5 2.5l-.94 2.06-2.06.94zm10 10l.94 2.06.94-2.06 2.06-.94-2.06-.94-.94-2.06-.94 2.06-2.06.94z\"/><path d=\"M17.41 7.96l-1.37-1.37c-.4-.4-.92-.59-1.43-.59-.52 0-1.04.2-1.43.59L10.3 9.45l-7.72 7.72c-.78.78-.78 2.05 0 2.83L4 21.41c.39.39.9.59 1.41.59.51 0 1.02-.2 1.41-.59l7.78-7.78 2.81-2.81c.8-.78.8-2.07 0-2.86zM5.41 20L4 18.59l7.72-7.72 1.47 1.35L5.41 20z\"/>\n",
              "  </svg>\n",
              "      </button>\n",
              "      \n",
              "  <style>\n",
              "    .colab-df-container {\n",
              "      display:flex;\n",
              "      flex-wrap:wrap;\n",
              "      gap: 12px;\n",
              "    }\n",
              "\n",
              "    .colab-df-convert {\n",
              "      background-color: #E8F0FE;\n",
              "      border: none;\n",
              "      border-radius: 50%;\n",
              "      cursor: pointer;\n",
              "      display: none;\n",
              "      fill: #1967D2;\n",
              "      height: 32px;\n",
              "      padding: 0 0 0 0;\n",
              "      width: 32px;\n",
              "    }\n",
              "\n",
              "    .colab-df-convert:hover {\n",
              "      background-color: #E2EBFA;\n",
              "      box-shadow: 0px 1px 2px rgba(60, 64, 67, 0.3), 0px 1px 3px 1px rgba(60, 64, 67, 0.15);\n",
              "      fill: #174EA6;\n",
              "    }\n",
              "\n",
              "    [theme=dark] .colab-df-convert {\n",
              "      background-color: #3B4455;\n",
              "      fill: #D2E3FC;\n",
              "    }\n",
              "\n",
              "    [theme=dark] .colab-df-convert:hover {\n",
              "      background-color: #434B5C;\n",
              "      box-shadow: 0px 1px 3px 1px rgba(0, 0, 0, 0.15);\n",
              "      filter: drop-shadow(0px 1px 2px rgba(0, 0, 0, 0.3));\n",
              "      fill: #FFFFFF;\n",
              "    }\n",
              "  </style>\n",
              "\n",
              "      <script>\n",
              "        const buttonEl =\n",
              "          document.querySelector('#df-4883cbd9-5f12-4a22-a2ae-8da36c060c70 button.colab-df-convert');\n",
              "        buttonEl.style.display =\n",
              "          google.colab.kernel.accessAllowed ? 'block' : 'none';\n",
              "\n",
              "        async function convertToInteractive(key) {\n",
              "          const element = document.querySelector('#df-4883cbd9-5f12-4a22-a2ae-8da36c060c70');\n",
              "          const dataTable =\n",
              "            await google.colab.kernel.invokeFunction('convertToInteractive',\n",
              "                                                     [key], {});\n",
              "          if (!dataTable) return;\n",
              "\n",
              "          const docLinkHtml = 'Like what you see? Visit the ' +\n",
              "            '<a target=\"_blank\" href=https://colab.research.google.com/notebooks/data_table.ipynb>data table notebook</a>'\n",
              "            + ' to learn more about interactive tables.';\n",
              "          element.innerHTML = '';\n",
              "          dataTable['output_type'] = 'display_data';\n",
              "          await google.colab.output.renderOutput(dataTable, element);\n",
              "          const docLink = document.createElement('div');\n",
              "          docLink.innerHTML = docLinkHtml;\n",
              "          element.appendChild(docLink);\n",
              "        }\n",
              "      </script>\n",
              "    </div>\n",
              "  </div>\n",
              "  "
            ]
          },
          "metadata": {},
          "execution_count": 78
        }
      ]
    },
    {
      "cell_type": "markdown",
      "source": [
        "Note that, still, we have some negative values. Let's first fix these values, equating them to 0:"
      ],
      "metadata": {
        "id": "yp393MNgDpWQ"
      }
    },
    {
      "cell_type": "code",
      "source": [
        "y_pred[y_pred < 0] = 0\n",
        "results_LinReg2['y_pred'] = y_pred\n",
        "results_LinReg2['error']  = y_pred - y_test"
      ],
      "metadata": {
        "id": "Y8kzGZlHDg9-"
      },
      "execution_count": 79,
      "outputs": []
    },
    {
      "cell_type": "code",
      "source": [
        "results_LinReg2"
      ],
      "metadata": {
        "colab": {
          "base_uri": "https://localhost:8080/",
          "height": 424
        },
        "id": "N1d9qq20D5vB",
        "outputId": "82248b92-d39e-47c9-9dc1-6b5c48164122"
      },
      "execution_count": 80,
      "outputs": [
        {
          "output_type": "execute_result",
          "data": {
            "text/plain": [
              "      y_test     y_pred      error\n",
              "1078     0.0   0.000000   0.000000\n",
              "4336     0.0  20.655372  20.655372\n",
              "8966     0.0   2.042050   2.042050\n",
              "5456     0.0   0.000000   0.000000\n",
              "2407     0.0   0.000000   0.000000\n",
              "...      ...        ...        ...\n",
              "5579     0.0   0.000000   0.000000\n",
              "1074     0.0  15.138188  15.138188\n",
              "9299     0.0   5.499548   5.499548\n",
              "3091     0.0   0.000000   0.000000\n",
              "7822     0.0   0.000000   0.000000\n",
              "\n",
              "[2999 rows x 3 columns]"
            ],
            "text/html": [
              "\n",
              "  <div id=\"df-5cf28061-5365-4a8f-892b-6ee58a9b588f\">\n",
              "    <div class=\"colab-df-container\">\n",
              "      <div>\n",
              "<style scoped>\n",
              "    .dataframe tbody tr th:only-of-type {\n",
              "        vertical-align: middle;\n",
              "    }\n",
              "\n",
              "    .dataframe tbody tr th {\n",
              "        vertical-align: top;\n",
              "    }\n",
              "\n",
              "    .dataframe thead th {\n",
              "        text-align: right;\n",
              "    }\n",
              "</style>\n",
              "<table border=\"1\" class=\"dataframe\">\n",
              "  <thead>\n",
              "    <tr style=\"text-align: right;\">\n",
              "      <th></th>\n",
              "      <th>y_test</th>\n",
              "      <th>y_pred</th>\n",
              "      <th>error</th>\n",
              "    </tr>\n",
              "  </thead>\n",
              "  <tbody>\n",
              "    <tr>\n",
              "      <th>1078</th>\n",
              "      <td>0.0</td>\n",
              "      <td>0.000000</td>\n",
              "      <td>0.000000</td>\n",
              "    </tr>\n",
              "    <tr>\n",
              "      <th>4336</th>\n",
              "      <td>0.0</td>\n",
              "      <td>20.655372</td>\n",
              "      <td>20.655372</td>\n",
              "    </tr>\n",
              "    <tr>\n",
              "      <th>8966</th>\n",
              "      <td>0.0</td>\n",
              "      <td>2.042050</td>\n",
              "      <td>2.042050</td>\n",
              "    </tr>\n",
              "    <tr>\n",
              "      <th>5456</th>\n",
              "      <td>0.0</td>\n",
              "      <td>0.000000</td>\n",
              "      <td>0.000000</td>\n",
              "    </tr>\n",
              "    <tr>\n",
              "      <th>2407</th>\n",
              "      <td>0.0</td>\n",
              "      <td>0.000000</td>\n",
              "      <td>0.000000</td>\n",
              "    </tr>\n",
              "    <tr>\n",
              "      <th>...</th>\n",
              "      <td>...</td>\n",
              "      <td>...</td>\n",
              "      <td>...</td>\n",
              "    </tr>\n",
              "    <tr>\n",
              "      <th>5579</th>\n",
              "      <td>0.0</td>\n",
              "      <td>0.000000</td>\n",
              "      <td>0.000000</td>\n",
              "    </tr>\n",
              "    <tr>\n",
              "      <th>1074</th>\n",
              "      <td>0.0</td>\n",
              "      <td>15.138188</td>\n",
              "      <td>15.138188</td>\n",
              "    </tr>\n",
              "    <tr>\n",
              "      <th>9299</th>\n",
              "      <td>0.0</td>\n",
              "      <td>5.499548</td>\n",
              "      <td>5.499548</td>\n",
              "    </tr>\n",
              "    <tr>\n",
              "      <th>3091</th>\n",
              "      <td>0.0</td>\n",
              "      <td>0.000000</td>\n",
              "      <td>0.000000</td>\n",
              "    </tr>\n",
              "    <tr>\n",
              "      <th>7822</th>\n",
              "      <td>0.0</td>\n",
              "      <td>0.000000</td>\n",
              "      <td>0.000000</td>\n",
              "    </tr>\n",
              "  </tbody>\n",
              "</table>\n",
              "<p>2999 rows × 3 columns</p>\n",
              "</div>\n",
              "      <button class=\"colab-df-convert\" onclick=\"convertToInteractive('df-5cf28061-5365-4a8f-892b-6ee58a9b588f')\"\n",
              "              title=\"Convert this dataframe to an interactive table.\"\n",
              "              style=\"display:none;\">\n",
              "        \n",
              "  <svg xmlns=\"http://www.w3.org/2000/svg\" height=\"24px\"viewBox=\"0 0 24 24\"\n",
              "       width=\"24px\">\n",
              "    <path d=\"M0 0h24v24H0V0z\" fill=\"none\"/>\n",
              "    <path d=\"M18.56 5.44l.94 2.06.94-2.06 2.06-.94-2.06-.94-.94-2.06-.94 2.06-2.06.94zm-11 1L8.5 8.5l.94-2.06 2.06-.94-2.06-.94L8.5 2.5l-.94 2.06-2.06.94zm10 10l.94 2.06.94-2.06 2.06-.94-2.06-.94-.94-2.06-.94 2.06-2.06.94z\"/><path d=\"M17.41 7.96l-1.37-1.37c-.4-.4-.92-.59-1.43-.59-.52 0-1.04.2-1.43.59L10.3 9.45l-7.72 7.72c-.78.78-.78 2.05 0 2.83L4 21.41c.39.39.9.59 1.41.59.51 0 1.02-.2 1.41-.59l7.78-7.78 2.81-2.81c.8-.78.8-2.07 0-2.86zM5.41 20L4 18.59l7.72-7.72 1.47 1.35L5.41 20z\"/>\n",
              "  </svg>\n",
              "      </button>\n",
              "      \n",
              "  <style>\n",
              "    .colab-df-container {\n",
              "      display:flex;\n",
              "      flex-wrap:wrap;\n",
              "      gap: 12px;\n",
              "    }\n",
              "\n",
              "    .colab-df-convert {\n",
              "      background-color: #E8F0FE;\n",
              "      border: none;\n",
              "      border-radius: 50%;\n",
              "      cursor: pointer;\n",
              "      display: none;\n",
              "      fill: #1967D2;\n",
              "      height: 32px;\n",
              "      padding: 0 0 0 0;\n",
              "      width: 32px;\n",
              "    }\n",
              "\n",
              "    .colab-df-convert:hover {\n",
              "      background-color: #E2EBFA;\n",
              "      box-shadow: 0px 1px 2px rgba(60, 64, 67, 0.3), 0px 1px 3px 1px rgba(60, 64, 67, 0.15);\n",
              "      fill: #174EA6;\n",
              "    }\n",
              "\n",
              "    [theme=dark] .colab-df-convert {\n",
              "      background-color: #3B4455;\n",
              "      fill: #D2E3FC;\n",
              "    }\n",
              "\n",
              "    [theme=dark] .colab-df-convert:hover {\n",
              "      background-color: #434B5C;\n",
              "      box-shadow: 0px 1px 3px 1px rgba(0, 0, 0, 0.15);\n",
              "      filter: drop-shadow(0px 1px 2px rgba(0, 0, 0, 0.3));\n",
              "      fill: #FFFFFF;\n",
              "    }\n",
              "  </style>\n",
              "\n",
              "      <script>\n",
              "        const buttonEl =\n",
              "          document.querySelector('#df-5cf28061-5365-4a8f-892b-6ee58a9b588f button.colab-df-convert');\n",
              "        buttonEl.style.display =\n",
              "          google.colab.kernel.accessAllowed ? 'block' : 'none';\n",
              "\n",
              "        async function convertToInteractive(key) {\n",
              "          const element = document.querySelector('#df-5cf28061-5365-4a8f-892b-6ee58a9b588f');\n",
              "          const dataTable =\n",
              "            await google.colab.kernel.invokeFunction('convertToInteractive',\n",
              "                                                     [key], {});\n",
              "          if (!dataTable) return;\n",
              "\n",
              "          const docLinkHtml = 'Like what you see? Visit the ' +\n",
              "            '<a target=\"_blank\" href=https://colab.research.google.com/notebooks/data_table.ipynb>data table notebook</a>'\n",
              "            + ' to learn more about interactive tables.';\n",
              "          element.innerHTML = '';\n",
              "          dataTable['output_type'] = 'display_data';\n",
              "          await google.colab.output.renderOutput(dataTable, element);\n",
              "          const docLink = document.createElement('div');\n",
              "          docLink.innerHTML = docLinkHtml;\n",
              "          element.appendChild(docLink);\n",
              "        }\n",
              "      </script>\n",
              "    </div>\n",
              "  </div>\n",
              "  "
            ]
          },
          "metadata": {},
          "execution_count": 80
        }
      ]
    },
    {
      "cell_type": "markdown",
      "source": [
        "Let's check the revenue for those users who actually spent something:"
      ],
      "metadata": {
        "id": "gRpYV-rED9cs"
      }
    },
    {
      "cell_type": "code",
      "source": [
        "results_LinReg2.query('y_test > 0').head(10)"
      ],
      "metadata": {
        "colab": {
          "base_uri": "https://localhost:8080/",
          "height": 363
        },
        "id": "If2qeovAD7oc",
        "outputId": "7bd6d6df-021b-48ad-93e8-59d8aea2e84d"
      },
      "execution_count": 81,
      "outputs": [
        {
          "output_type": "execute_result",
          "data": {
            "text/plain": [
              "      y_test     y_pred       error\n",
              "2150   67.19  14.039063  -53.150937\n",
              "88    100.78   7.188194  -93.591806\n",
              "7816   64.78   8.573910  -56.206090\n",
              "1183  112.37  46.594398  -65.775602\n",
              "9679   95.80  14.106065  -81.693935\n",
              "4762  217.44  25.978615 -191.461385\n",
              "2310  702.90  29.210337 -673.689663\n",
              "349   278.03  51.485191 -226.544809\n",
              "9901  362.84  98.360054 -264.479946\n",
              "2823    9.16  40.817220   31.657220"
            ],
            "text/html": [
              "\n",
              "  <div id=\"df-d4f36dc5-3f2b-4c74-98a7-c4d417794ea0\">\n",
              "    <div class=\"colab-df-container\">\n",
              "      <div>\n",
              "<style scoped>\n",
              "    .dataframe tbody tr th:only-of-type {\n",
              "        vertical-align: middle;\n",
              "    }\n",
              "\n",
              "    .dataframe tbody tr th {\n",
              "        vertical-align: top;\n",
              "    }\n",
              "\n",
              "    .dataframe thead th {\n",
              "        text-align: right;\n",
              "    }\n",
              "</style>\n",
              "<table border=\"1\" class=\"dataframe\">\n",
              "  <thead>\n",
              "    <tr style=\"text-align: right;\">\n",
              "      <th></th>\n",
              "      <th>y_test</th>\n",
              "      <th>y_pred</th>\n",
              "      <th>error</th>\n",
              "    </tr>\n",
              "  </thead>\n",
              "  <tbody>\n",
              "    <tr>\n",
              "      <th>2150</th>\n",
              "      <td>67.19</td>\n",
              "      <td>14.039063</td>\n",
              "      <td>-53.150937</td>\n",
              "    </tr>\n",
              "    <tr>\n",
              "      <th>88</th>\n",
              "      <td>100.78</td>\n",
              "      <td>7.188194</td>\n",
              "      <td>-93.591806</td>\n",
              "    </tr>\n",
              "    <tr>\n",
              "      <th>7816</th>\n",
              "      <td>64.78</td>\n",
              "      <td>8.573910</td>\n",
              "      <td>-56.206090</td>\n",
              "    </tr>\n",
              "    <tr>\n",
              "      <th>1183</th>\n",
              "      <td>112.37</td>\n",
              "      <td>46.594398</td>\n",
              "      <td>-65.775602</td>\n",
              "    </tr>\n",
              "    <tr>\n",
              "      <th>9679</th>\n",
              "      <td>95.80</td>\n",
              "      <td>14.106065</td>\n",
              "      <td>-81.693935</td>\n",
              "    </tr>\n",
              "    <tr>\n",
              "      <th>4762</th>\n",
              "      <td>217.44</td>\n",
              "      <td>25.978615</td>\n",
              "      <td>-191.461385</td>\n",
              "    </tr>\n",
              "    <tr>\n",
              "      <th>2310</th>\n",
              "      <td>702.90</td>\n",
              "      <td>29.210337</td>\n",
              "      <td>-673.689663</td>\n",
              "    </tr>\n",
              "    <tr>\n",
              "      <th>349</th>\n",
              "      <td>278.03</td>\n",
              "      <td>51.485191</td>\n",
              "      <td>-226.544809</td>\n",
              "    </tr>\n",
              "    <tr>\n",
              "      <th>9901</th>\n",
              "      <td>362.84</td>\n",
              "      <td>98.360054</td>\n",
              "      <td>-264.479946</td>\n",
              "    </tr>\n",
              "    <tr>\n",
              "      <th>2823</th>\n",
              "      <td>9.16</td>\n",
              "      <td>40.817220</td>\n",
              "      <td>31.657220</td>\n",
              "    </tr>\n",
              "  </tbody>\n",
              "</table>\n",
              "</div>\n",
              "      <button class=\"colab-df-convert\" onclick=\"convertToInteractive('df-d4f36dc5-3f2b-4c74-98a7-c4d417794ea0')\"\n",
              "              title=\"Convert this dataframe to an interactive table.\"\n",
              "              style=\"display:none;\">\n",
              "        \n",
              "  <svg xmlns=\"http://www.w3.org/2000/svg\" height=\"24px\"viewBox=\"0 0 24 24\"\n",
              "       width=\"24px\">\n",
              "    <path d=\"M0 0h24v24H0V0z\" fill=\"none\"/>\n",
              "    <path d=\"M18.56 5.44l.94 2.06.94-2.06 2.06-.94-2.06-.94-.94-2.06-.94 2.06-2.06.94zm-11 1L8.5 8.5l.94-2.06 2.06-.94-2.06-.94L8.5 2.5l-.94 2.06-2.06.94zm10 10l.94 2.06.94-2.06 2.06-.94-2.06-.94-.94-2.06-.94 2.06-2.06.94z\"/><path d=\"M17.41 7.96l-1.37-1.37c-.4-.4-.92-.59-1.43-.59-.52 0-1.04.2-1.43.59L10.3 9.45l-7.72 7.72c-.78.78-.78 2.05 0 2.83L4 21.41c.39.39.9.59 1.41.59.51 0 1.02-.2 1.41-.59l7.78-7.78 2.81-2.81c.8-.78.8-2.07 0-2.86zM5.41 20L4 18.59l7.72-7.72 1.47 1.35L5.41 20z\"/>\n",
              "  </svg>\n",
              "      </button>\n",
              "      \n",
              "  <style>\n",
              "    .colab-df-container {\n",
              "      display:flex;\n",
              "      flex-wrap:wrap;\n",
              "      gap: 12px;\n",
              "    }\n",
              "\n",
              "    .colab-df-convert {\n",
              "      background-color: #E8F0FE;\n",
              "      border: none;\n",
              "      border-radius: 50%;\n",
              "      cursor: pointer;\n",
              "      display: none;\n",
              "      fill: #1967D2;\n",
              "      height: 32px;\n",
              "      padding: 0 0 0 0;\n",
              "      width: 32px;\n",
              "    }\n",
              "\n",
              "    .colab-df-convert:hover {\n",
              "      background-color: #E2EBFA;\n",
              "      box-shadow: 0px 1px 2px rgba(60, 64, 67, 0.3), 0px 1px 3px 1px rgba(60, 64, 67, 0.15);\n",
              "      fill: #174EA6;\n",
              "    }\n",
              "\n",
              "    [theme=dark] .colab-df-convert {\n",
              "      background-color: #3B4455;\n",
              "      fill: #D2E3FC;\n",
              "    }\n",
              "\n",
              "    [theme=dark] .colab-df-convert:hover {\n",
              "      background-color: #434B5C;\n",
              "      box-shadow: 0px 1px 3px 1px rgba(0, 0, 0, 0.15);\n",
              "      filter: drop-shadow(0px 1px 2px rgba(0, 0, 0, 0.3));\n",
              "      fill: #FFFFFF;\n",
              "    }\n",
              "  </style>\n",
              "\n",
              "      <script>\n",
              "        const buttonEl =\n",
              "          document.querySelector('#df-d4f36dc5-3f2b-4c74-98a7-c4d417794ea0 button.colab-df-convert');\n",
              "        buttonEl.style.display =\n",
              "          google.colab.kernel.accessAllowed ? 'block' : 'none';\n",
              "\n",
              "        async function convertToInteractive(key) {\n",
              "          const element = document.querySelector('#df-d4f36dc5-3f2b-4c74-98a7-c4d417794ea0');\n",
              "          const dataTable =\n",
              "            await google.colab.kernel.invokeFunction('convertToInteractive',\n",
              "                                                     [key], {});\n",
              "          if (!dataTable) return;\n",
              "\n",
              "          const docLinkHtml = 'Like what you see? Visit the ' +\n",
              "            '<a target=\"_blank\" href=https://colab.research.google.com/notebooks/data_table.ipynb>data table notebook</a>'\n",
              "            + ' to learn more about interactive tables.';\n",
              "          element.innerHTML = '';\n",
              "          dataTable['output_type'] = 'display_data';\n",
              "          await google.colab.output.renderOutput(dataTable, element);\n",
              "          const docLink = document.createElement('div');\n",
              "          docLink.innerHTML = docLinkHtml;\n",
              "          element.appendChild(docLink);\n",
              "        }\n",
              "      </script>\n",
              "    </div>\n",
              "  </div>\n",
              "  "
            ]
          },
          "metadata": {},
          "execution_count": 81
        }
      ]
    },
    {
      "cell_type": "markdown",
      "source": [
        "Still, we got high errors. If we evaluate the RMSE, we also have a pretty high value still:"
      ],
      "metadata": {
        "id": "X1nJy2KaEVwx"
      }
    },
    {
      "cell_type": "code",
      "source": [
        "mean_squared_error(y_test, y_pred, squared = False)"
      ],
      "metadata": {
        "colab": {
          "base_uri": "https://localhost:8080/"
        },
        "id": "vBD2r8HaENb1",
        "outputId": "532c7ff6-9e1b-47b0-bfe8-c9eb3f2b56e0"
      },
      "execution_count": 82,
      "outputs": [
        {
          "output_type": "execute_result",
          "data": {
            "text/plain": [
              "25.04357342924439"
            ]
          },
          "metadata": {},
          "execution_count": 82
        }
      ]
    },
    {
      "cell_type": "markdown",
      "source": [
        "## Gradient Boosting"
      ],
      "metadata": {
        "id": "WgxtpSFJE_MQ"
      }
    },
    {
      "cell_type": "markdown",
      "source": [
        "So, let's try to improve our model once again, now using a Gradient Boosting algorithm:"
      ],
      "metadata": {
        "id": "6DxCmo1xEupp"
      }
    },
    {
      "cell_type": "code",
      "source": [
        "from sklearn.ensemble import GradientBoostingRegressor\n",
        "\n",
        "model_GradBoost = GradientBoostingRegressor( random_state = SEED )\n",
        "model_GradBoost.fit(X_train, y_train)\n",
        "y_pred = model_GradBoost.predict(X_test)"
      ],
      "metadata": {
        "id": "zyV0GWXeEe8V"
      },
      "execution_count": 83,
      "outputs": []
    },
    {
      "cell_type": "markdown",
      "source": [
        "Ok. Now, let's get the errors:"
      ],
      "metadata": {
        "id": "zrbOdjIcFYee"
      }
    },
    {
      "cell_type": "code",
      "source": [
        "y_pred[y_pred < 0] = 0\n",
        "\n",
        "results_GradBoost = pd.DataFrame( )\n",
        "results_GradBoost['y_test'] = y_test\n",
        "results_GradBoost['y_pred'] = y_pred\n",
        "results_GradBoost['error']  = y_pred - y_test"
      ],
      "metadata": {
        "id": "4N3BQZo3FXCu"
      },
      "execution_count": 84,
      "outputs": []
    },
    {
      "cell_type": "code",
      "source": [
        "results_GradBoost.head(10)"
      ],
      "metadata": {
        "colab": {
          "base_uri": "https://localhost:8080/",
          "height": 363
        },
        "id": "r8FMssbPFikz",
        "outputId": "aca115f6-bc99-465c-978f-e9c84b053d05"
      },
      "execution_count": 85,
      "outputs": [
        {
          "output_type": "execute_result",
          "data": {
            "text/plain": [
              "      y_test     y_pred      error\n",
              "1078     0.0   0.977901   0.977901\n",
              "4336     0.0  13.376232  13.376232\n",
              "8966     0.0   0.000000   0.000000\n",
              "5456     0.0   0.031798   0.031798\n",
              "2407     0.0   0.031798   0.031798\n",
              "8995     0.0   0.031798   0.031798\n",
              "576      0.0   0.031798   0.031798\n",
              "7441     0.0  28.762071  28.762071\n",
              "5967     0.0   0.031798   0.031798\n",
              "439      0.0   4.339894   4.339894"
            ],
            "text/html": [
              "\n",
              "  <div id=\"df-832756b1-4ca9-49e1-8b39-904ee9a5d2ae\">\n",
              "    <div class=\"colab-df-container\">\n",
              "      <div>\n",
              "<style scoped>\n",
              "    .dataframe tbody tr th:only-of-type {\n",
              "        vertical-align: middle;\n",
              "    }\n",
              "\n",
              "    .dataframe tbody tr th {\n",
              "        vertical-align: top;\n",
              "    }\n",
              "\n",
              "    .dataframe thead th {\n",
              "        text-align: right;\n",
              "    }\n",
              "</style>\n",
              "<table border=\"1\" class=\"dataframe\">\n",
              "  <thead>\n",
              "    <tr style=\"text-align: right;\">\n",
              "      <th></th>\n",
              "      <th>y_test</th>\n",
              "      <th>y_pred</th>\n",
              "      <th>error</th>\n",
              "    </tr>\n",
              "  </thead>\n",
              "  <tbody>\n",
              "    <tr>\n",
              "      <th>1078</th>\n",
              "      <td>0.0</td>\n",
              "      <td>0.977901</td>\n",
              "      <td>0.977901</td>\n",
              "    </tr>\n",
              "    <tr>\n",
              "      <th>4336</th>\n",
              "      <td>0.0</td>\n",
              "      <td>13.376232</td>\n",
              "      <td>13.376232</td>\n",
              "    </tr>\n",
              "    <tr>\n",
              "      <th>8966</th>\n",
              "      <td>0.0</td>\n",
              "      <td>0.000000</td>\n",
              "      <td>0.000000</td>\n",
              "    </tr>\n",
              "    <tr>\n",
              "      <th>5456</th>\n",
              "      <td>0.0</td>\n",
              "      <td>0.031798</td>\n",
              "      <td>0.031798</td>\n",
              "    </tr>\n",
              "    <tr>\n",
              "      <th>2407</th>\n",
              "      <td>0.0</td>\n",
              "      <td>0.031798</td>\n",
              "      <td>0.031798</td>\n",
              "    </tr>\n",
              "    <tr>\n",
              "      <th>8995</th>\n",
              "      <td>0.0</td>\n",
              "      <td>0.031798</td>\n",
              "      <td>0.031798</td>\n",
              "    </tr>\n",
              "    <tr>\n",
              "      <th>576</th>\n",
              "      <td>0.0</td>\n",
              "      <td>0.031798</td>\n",
              "      <td>0.031798</td>\n",
              "    </tr>\n",
              "    <tr>\n",
              "      <th>7441</th>\n",
              "      <td>0.0</td>\n",
              "      <td>28.762071</td>\n",
              "      <td>28.762071</td>\n",
              "    </tr>\n",
              "    <tr>\n",
              "      <th>5967</th>\n",
              "      <td>0.0</td>\n",
              "      <td>0.031798</td>\n",
              "      <td>0.031798</td>\n",
              "    </tr>\n",
              "    <tr>\n",
              "      <th>439</th>\n",
              "      <td>0.0</td>\n",
              "      <td>4.339894</td>\n",
              "      <td>4.339894</td>\n",
              "    </tr>\n",
              "  </tbody>\n",
              "</table>\n",
              "</div>\n",
              "      <button class=\"colab-df-convert\" onclick=\"convertToInteractive('df-832756b1-4ca9-49e1-8b39-904ee9a5d2ae')\"\n",
              "              title=\"Convert this dataframe to an interactive table.\"\n",
              "              style=\"display:none;\">\n",
              "        \n",
              "  <svg xmlns=\"http://www.w3.org/2000/svg\" height=\"24px\"viewBox=\"0 0 24 24\"\n",
              "       width=\"24px\">\n",
              "    <path d=\"M0 0h24v24H0V0z\" fill=\"none\"/>\n",
              "    <path d=\"M18.56 5.44l.94 2.06.94-2.06 2.06-.94-2.06-.94-.94-2.06-.94 2.06-2.06.94zm-11 1L8.5 8.5l.94-2.06 2.06-.94-2.06-.94L8.5 2.5l-.94 2.06-2.06.94zm10 10l.94 2.06.94-2.06 2.06-.94-2.06-.94-.94-2.06-.94 2.06-2.06.94z\"/><path d=\"M17.41 7.96l-1.37-1.37c-.4-.4-.92-.59-1.43-.59-.52 0-1.04.2-1.43.59L10.3 9.45l-7.72 7.72c-.78.78-.78 2.05 0 2.83L4 21.41c.39.39.9.59 1.41.59.51 0 1.02-.2 1.41-.59l7.78-7.78 2.81-2.81c.8-.78.8-2.07 0-2.86zM5.41 20L4 18.59l7.72-7.72 1.47 1.35L5.41 20z\"/>\n",
              "  </svg>\n",
              "      </button>\n",
              "      \n",
              "  <style>\n",
              "    .colab-df-container {\n",
              "      display:flex;\n",
              "      flex-wrap:wrap;\n",
              "      gap: 12px;\n",
              "    }\n",
              "\n",
              "    .colab-df-convert {\n",
              "      background-color: #E8F0FE;\n",
              "      border: none;\n",
              "      border-radius: 50%;\n",
              "      cursor: pointer;\n",
              "      display: none;\n",
              "      fill: #1967D2;\n",
              "      height: 32px;\n",
              "      padding: 0 0 0 0;\n",
              "      width: 32px;\n",
              "    }\n",
              "\n",
              "    .colab-df-convert:hover {\n",
              "      background-color: #E2EBFA;\n",
              "      box-shadow: 0px 1px 2px rgba(60, 64, 67, 0.3), 0px 1px 3px 1px rgba(60, 64, 67, 0.15);\n",
              "      fill: #174EA6;\n",
              "    }\n",
              "\n",
              "    [theme=dark] .colab-df-convert {\n",
              "      background-color: #3B4455;\n",
              "      fill: #D2E3FC;\n",
              "    }\n",
              "\n",
              "    [theme=dark] .colab-df-convert:hover {\n",
              "      background-color: #434B5C;\n",
              "      box-shadow: 0px 1px 3px 1px rgba(0, 0, 0, 0.15);\n",
              "      filter: drop-shadow(0px 1px 2px rgba(0, 0, 0, 0.3));\n",
              "      fill: #FFFFFF;\n",
              "    }\n",
              "  </style>\n",
              "\n",
              "      <script>\n",
              "        const buttonEl =\n",
              "          document.querySelector('#df-832756b1-4ca9-49e1-8b39-904ee9a5d2ae button.colab-df-convert');\n",
              "        buttonEl.style.display =\n",
              "          google.colab.kernel.accessAllowed ? 'block' : 'none';\n",
              "\n",
              "        async function convertToInteractive(key) {\n",
              "          const element = document.querySelector('#df-832756b1-4ca9-49e1-8b39-904ee9a5d2ae');\n",
              "          const dataTable =\n",
              "            await google.colab.kernel.invokeFunction('convertToInteractive',\n",
              "                                                     [key], {});\n",
              "          if (!dataTable) return;\n",
              "\n",
              "          const docLinkHtml = 'Like what you see? Visit the ' +\n",
              "            '<a target=\"_blank\" href=https://colab.research.google.com/notebooks/data_table.ipynb>data table notebook</a>'\n",
              "            + ' to learn more about interactive tables.';\n",
              "          element.innerHTML = '';\n",
              "          dataTable['output_type'] = 'display_data';\n",
              "          await google.colab.output.renderOutput(dataTable, element);\n",
              "          const docLink = document.createElement('div');\n",
              "          docLink.innerHTML = docLinkHtml;\n",
              "          element.appendChild(docLink);\n",
              "        }\n",
              "      </script>\n",
              "    </div>\n",
              "  </div>\n",
              "  "
            ]
          },
          "metadata": {},
          "execution_count": 85
        }
      ]
    },
    {
      "cell_type": "markdown",
      "source": [
        "By a first look, it indeed seems that our errors are lower. Let's get the MSE:"
      ],
      "metadata": {
        "id": "pREqb6Z_FnKS"
      }
    },
    {
      "cell_type": "code",
      "source": [
        "mean_squared_error(y_pred, y_test, squared = False)"
      ],
      "metadata": {
        "colab": {
          "base_uri": "https://localhost:8080/"
        },
        "id": "4mzPw1WTFkdo",
        "outputId": "68201bbe-4931-40be-d6f8-1e8a78657ba6"
      },
      "execution_count": 86,
      "outputs": [
        {
          "output_type": "execute_result",
          "data": {
            "text/plain": [
              "23.087104044847077"
            ]
          },
          "metadata": {},
          "execution_count": 86
        }
      ]
    },
    {
      "cell_type": "markdown",
      "source": [
        "Again, our errors were pretty high. Let's look at the distribution of results:"
      ],
      "metadata": {
        "id": "QMmQCKNpGEpa"
      }
    },
    {
      "cell_type": "code",
      "source": [
        "fig = plt.figure(figsize = (12, 6))\n",
        "\n",
        "plt.boxplot([y_pred, y_test], labels = ['pred', 'test']);"
      ],
      "metadata": {
        "colab": {
          "base_uri": "https://localhost:8080/",
          "height": 374
        },
        "id": "C278oFwDF9z5",
        "outputId": "7b18cd71-e654-4b99-ca6c-ee426e3bb279"
      },
      "execution_count": 87,
      "outputs": [
        {
          "output_type": "display_data",
          "data": {
            "text/plain": [
              "<Figure size 864x432 with 1 Axes>"
            ],
            "image/png": "[encoded data removed]"
          },
          "metadata": {
            "needs_background": "light"
          }
        }
      ]
    },
    {
      "cell_type": "code",
      "source": [
        "fig = plt.figure(figsize = (12, 6))\n",
        "\n",
        "plt.boxplot([y_pred, y_test], labels = ['pred', 'test']);\n",
        "\n",
        "plt.ylim(-1, 10)"
      ],
      "metadata": {
        "colab": {
          "base_uri": "https://localhost:8080/",
          "height": 396
        },
        "id": "BgG8x8TlGMDe",
        "outputId": "25c85fd2-8daf-43e2-84c2-c6284ad109f3"
      },
      "execution_count": 88,
      "outputs": [
        {
          "output_type": "execute_result",
          "data": {
            "text/plain": [
              "(-1.0, 10.0)"
            ]
          },
          "metadata": {},
          "execution_count": 88
        },
        {
          "output_type": "display_data",
          "data": {
            "text/plain": [
              "<Figure size 864x432 with 1 Axes>"
            ],
            "image/png": "[encoded data removed]"
          },
          "metadata": {
            "needs_background": "light"
          }
        }
      ]
    },
    {
      "cell_type": "markdown",
      "source": [
        "Even though we have still a lot of predictions with lower values, it seems that the gradient boosting algorithm was able to improve our distribution. The median and the quartiles seem to be the same as the test set."
      ],
      "metadata": {
        "id": "Yyun_1WHGRqJ"
      }
    },
    {
      "cell_type": "markdown",
      "source": [
        "# Classification - Trying to predict when someone will spend\n",
        "\n",
        "We saw that it is very hard to identify how much someone will spend. What if we try to predict WHEN someone will spend? \n",
        "\n",
        "Our problem is now a classification problem. First, let's create a new feature to identify if someone spent or not:"
      ],
      "metadata": {
        "id": "Xmt9IpBjV5OX"
      }
    },
    {
      "cell_type": "code",
      "source": [
        "visits['ifSpent'] = visits.transactionRevenue.apply(lambda x : 1 if x > 0 else 0)"
      ],
      "metadata": {
        "id": "WPnd-KAoWaMR"
      },
      "execution_count": 122,
      "outputs": []
    },
    {
      "cell_type": "markdown",
      "source": [
        "Now, let's get the value counts:"
      ],
      "metadata": {
        "id": "imVYXgjKWrHX"
      }
    },
    {
      "cell_type": "code",
      "source": [
        "visits.ifSpent.value_counts( )"
      ],
      "metadata": {
        "colab": {
          "base_uri": "https://localhost:8080/"
        },
        "id": "yNQn-cA3WqPS",
        "outputId": "39f4eeaf-cb17-4585-dfc6-33c63cfcdbb1"
      },
      "execution_count": 123,
      "outputs": [
        {
          "output_type": "execute_result",
          "data": {
            "text/plain": [
              "0    9850\n",
              "1     146\n",
              "Name: ifSpent, dtype: int64"
            ]
          },
          "metadata": {},
          "execution_count": 123
        }
      ]
    },
    {
      "cell_type": "markdown",
      "source": [
        "So, we have a very unbalanced dataset. Let's try to balance it using a downsample algorithm:"
      ],
      "metadata": {
        "id": "edJqi1FkWzkP"
      }
    },
    {
      "cell_type": "code",
      "source": [
        "spent_0 = visits.query('ifSpent == 0')\n",
        "spent_1 = visits.query('ifSpent == 1')"
      ],
      "metadata": {
        "id": "sl5nD9kHW-C2"
      },
      "execution_count": 124,
      "outputs": []
    },
    {
      "cell_type": "code",
      "source": [
        "from sklearn.utils import resample\n",
        "\n",
        "spent_0_new = resample(spent_0, replace = False, n_samples = 1500)"
      ],
      "metadata": {
        "id": "NdY6Xbw3WxyA"
      },
      "execution_count": 125,
      "outputs": []
    },
    {
      "cell_type": "markdown",
      "source": [
        "Now, let's define our dataset again:"
      ],
      "metadata": {
        "id": "gxB6sWn3XTCl"
      }
    },
    {
      "cell_type": "code",
      "source": [
        "visits_resampled = pd.concat([spent_0_new, spent_1])"
      ],
      "metadata": {
        "id": "L0gtna2AXFcJ"
      },
      "execution_count": 126,
      "outputs": []
    },
    {
      "cell_type": "code",
      "source": [
        "visits_resampled.drop('transactionRevenue', axis = 1, inplace = True)\n",
        "visits_resampled"
      ],
      "metadata": {
        "colab": {
          "base_uri": "https://localhost:8080/",
          "height": 488
        },
        "id": "7rsmsNfAhAAp",
        "outputId": "6fee5775-10dd-45cc-b15b-15920398f620"
      },
      "execution_count": 135,
      "outputs": [
        {
          "output_type": "execute_result",
          "data": {
            "text/plain": [
              "      visitNumber_last channelGrouping_last  visitStartTime_last browser_last  \\\n",
              "7177                 1               Social           1477679542       Safari   \n",
              "8140                 1               Social           1489651579       Chrome   \n",
              "4973                 6               Social           1476394269       Chrome   \n",
              "6190                 1               Social           1477298063       Safari   \n",
              "5184                 1       Organic Search           1494338763       Chrome   \n",
              "...                ...                  ...                  ...          ...   \n",
              "9780                 4             Referral           1482298425       Chrome   \n",
              "9841                 2             Referral           1487806191       Chrome   \n",
              "9901                 9             Referral           1500155697       Chrome   \n",
              "9933                 1             Referral           1498889138       Chrome   \n",
              "9945                 1               Direct           1472561033       Chrome   \n",
              "\n",
              "     operatingSystem_last  isMobile_last deviceCategory_last continent_last  \\\n",
              "7177            Macintosh          False             desktop           Asia   \n",
              "8140              Android           True              mobile       Americas   \n",
              "4973              Windows          False             desktop           Asia   \n",
              "6190            Macintosh          False             desktop           Asia   \n",
              "5184                Linux          False             desktop         Europe   \n",
              "...                   ...            ...                 ...            ...   \n",
              "9780            Macintosh          False             desktop       Americas   \n",
              "9841            Macintosh          False             desktop       Americas   \n",
              "9901            Chrome OS          False             desktop       Americas   \n",
              "9933            Macintosh          False             desktop       Americas   \n",
              "9945            Chrome OS          False             desktop       Americas   \n",
              "\n",
              "     subContinent_last   country_last  ... newVisits StartTime_diff  \\\n",
              "7177    Southeast Asia        Vietnam  ...         1              0   \n",
              "8140  Northern America  United States  ...         1              0   \n",
              "4973      Western Asia         Turkey  ...         0              0   \n",
              "6190      Western Asia         Turkey  ...         1              0   \n",
              "5184   Northern Europe        Ireland  ...         1              0   \n",
              "...                ...            ...  ...       ...            ...   \n",
              "9780  Northern America  United States  ...         0         285062   \n",
              "9841  Northern America  United States  ...         0              0   \n",
              "9901  Northern America  United States  ...         1        8012989   \n",
              "9933  Northern America  United States  ...         1              0   \n",
              "9945  Northern America  United States  ...         1              0   \n",
              "\n",
              "     tot_visits year_last year_first month_last month_first day_last  \\\n",
              "7177          1      2016       2016          9           9        2   \n",
              "8140          1      2016       2016          9           9        2   \n",
              "4973          1      2016       2016          9           9        2   \n",
              "6190          1      2016       2016          9           9        2   \n",
              "5184          1      2016       2016          9           9        2   \n",
              "...         ...       ...        ...        ...         ...      ...   \n",
              "9780          3      2016       2016          9           9        2   \n",
              "9841          1      2016       2016          9           9        2   \n",
              "9901          8      2016       2016          9           9        2   \n",
              "9933          1      2016       2016          9           9        2   \n",
              "9945          1      2016       2016          9           9        2   \n",
              "\n",
              "     day_first ifSpent  \n",
              "7177         2       0  \n",
              "8140         2       0  \n",
              "4973         2       0  \n",
              "6190         2       0  \n",
              "5184         2       0  \n",
              "...        ...     ...  \n",
              "9780         2       1  \n",
              "9841         2       1  \n",
              "9901         2       1  \n",
              "9933         2       1  \n",
              "9945         2       1  \n",
              "\n",
              "[1646 rows x 61 columns]"
            ],
            "text/html": [
              "\n",
              "  <div id=\"df-2eca6ddc-37b0-4e04-a6f9-675c0d5f5e41\">\n",
              "    <div class=\"colab-df-container\">\n",
              "      <div>\n",
              "<style scoped>\n",
              "    .dataframe tbody tr th:only-of-type {\n",
              "        vertical-align: middle;\n",
              "    }\n",
              "\n",
              "    .dataframe tbody tr th {\n",
              "        vertical-align: top;\n",
              "    }\n",
              "\n",
              "    .dataframe thead th {\n",
              "        text-align: right;\n",
              "    }\n",
              "</style>\n",
              "<table border=\"1\" class=\"dataframe\">\n",
              "  <thead>\n",
              "    <tr style=\"text-align: right;\">\n",
              "      <th></th>\n",
              "      <th>visitNumber_last</th>\n",
              "      <th>channelGrouping_last</th>\n",
              "      <th>visitStartTime_last</th>\n",
              "      <th>browser_last</th>\n",
              "      <th>operatingSystem_last</th>\n",
              "      <th>isMobile_last</th>\n",
              "      <th>deviceCategory_last</th>\n",
              "      <th>continent_last</th>\n",
              "      <th>subContinent_last</th>\n",
              "      <th>country_last</th>\n",
              "      <th>...</th>\n",
              "      <th>newVisits</th>\n",
              "      <th>StartTime_diff</th>\n",
              "      <th>tot_visits</th>\n",
              "      <th>year_last</th>\n",
              "      <th>year_first</th>\n",
              "      <th>month_last</th>\n",
              "      <th>month_first</th>\n",
              "      <th>day_last</th>\n",
              "      <th>day_first</th>\n",
              "      <th>ifSpent</th>\n",
              "    </tr>\n",
              "  </thead>\n",
              "  <tbody>\n",
              "    <tr>\n",
              "      <th>7177</th>\n",
              "      <td>1</td>\n",
              "      <td>Social</td>\n",
              "      <td>1477679542</td>\n",
              "      <td>Safari</td>\n",
              "      <td>Macintosh</td>\n",
              "      <td>False</td>\n",
              "      <td>desktop</td>\n",
              "      <td>Asia</td>\n",
              "      <td>Southeast Asia</td>\n",
              "      <td>Vietnam</td>\n",
              "      <td>...</td>\n",
              "      <td>1</td>\n",
              "      <td>0</td>\n",
              "      <td>1</td>\n",
              "      <td>2016</td>\n",
              "      <td>2016</td>\n",
              "      <td>9</td>\n",
              "      <td>9</td>\n",
              "      <td>2</td>\n",
              "      <td>2</td>\n",
              "      <td>0</td>\n",
              "    </tr>\n",
              "    <tr>\n",
              "      <th>8140</th>\n",
              "      <td>1</td>\n",
              "      <td>Social</td>\n",
              "      <td>1489651579</td>\n",
              "      <td>Chrome</td>\n",
              "      <td>Android</td>\n",
              "      <td>True</td>\n",
              "      <td>mobile</td>\n",
              "      <td>Americas</td>\n",
              "      <td>Northern America</td>\n",
              "      <td>United States</td>\n",
              "      <td>...</td>\n",
              "      <td>1</td>\n",
              "      <td>0</td>\n",
              "      <td>1</td>\n",
              "      <td>2016</td>\n",
              "      <td>2016</td>\n",
              "      <td>9</td>\n",
              "      <td>9</td>\n",
              "      <td>2</td>\n",
              "      <td>2</td>\n",
              "      <td>0</td>\n",
              "    </tr>\n",
              "    <tr>\n",
              "      <th>4973</th>\n",
              "      <td>6</td>\n",
              "      <td>Social</td>\n",
              "      <td>1476394269</td>\n",
              "      <td>Chrome</td>\n",
              "      <td>Windows</td>\n",
              "      <td>False</td>\n",
              "      <td>desktop</td>\n",
              "      <td>Asia</td>\n",
              "      <td>Western Asia</td>\n",
              "      <td>Turkey</td>\n",
              "      <td>...</td>\n",
              "      <td>0</td>\n",
              "      <td>0</td>\n",
              "      <td>1</td>\n",
              "      <td>2016</td>\n",
              "      <td>2016</td>\n",
              "      <td>9</td>\n",
              "      <td>9</td>\n",
              "      <td>2</td>\n",
              "      <td>2</td>\n",
              "      <td>0</td>\n",
              "    </tr>\n",
              "    <tr>\n",
              "      <th>6190</th>\n",
              "      <td>1</td>\n",
              "      <td>Social</td>\n",
              "      <td>1477298063</td>\n",
              "      <td>Safari</td>\n",
              "      <td>Macintosh</td>\n",
              "      <td>False</td>\n",
              "      <td>desktop</td>\n",
              "      <td>Asia</td>\n",
              "      <td>Western Asia</td>\n",
              "      <td>Turkey</td>\n",
              "      <td>...</td>\n",
              "      <td>1</td>\n",
              "      <td>0</td>\n",
              "      <td>1</td>\n",
              "      <td>2016</td>\n",
              "      <td>2016</td>\n",
              "      <td>9</td>\n",
              "      <td>9</td>\n",
              "      <td>2</td>\n",
              "      <td>2</td>\n",
              "      <td>0</td>\n",
              "    </tr>\n",
              "    <tr>\n",
              "      <th>5184</th>\n",
              "      <td>1</td>\n",
              "      <td>Organic Search</td>\n",
              "      <td>1494338763</td>\n",
              "      <td>Chrome</td>\n",
              "      <td>Linux</td>\n",
              "      <td>False</td>\n",
              "      <td>desktop</td>\n",
              "      <td>Europe</td>\n",
              "      <td>Northern Europe</td>\n",
              "      <td>Ireland</td>\n",
              "      <td>...</td>\n",
              "      <td>1</td>\n",
              "      <td>0</td>\n",
              "      <td>1</td>\n",
              "      <td>2016</td>\n",
              "      <td>2016</td>\n",
              "      <td>9</td>\n",
              "      <td>9</td>\n",
              "      <td>2</td>\n",
              "      <td>2</td>\n",
              "      <td>0</td>\n",
              "    </tr>\n",
              "    <tr>\n",
              "      <th>...</th>\n",
              "      <td>...</td>\n",
              "      <td>...</td>\n",
              "      <td>...</td>\n",
              "      <td>...</td>\n",
              "      <td>...</td>\n",
              "      <td>...</td>\n",
              "      <td>...</td>\n",
              "      <td>...</td>\n",
              "      <td>...</td>\n",
              "      <td>...</td>\n",
              "      <td>...</td>\n",
              "      <td>...</td>\n",
              "      <td>...</td>\n",
              "      <td>...</td>\n",
              "      <td>...</td>\n",
              "      <td>...</td>\n",
              "      <td>...</td>\n",
              "      <td>...</td>\n",
              "      <td>...</td>\n",
              "      <td>...</td>\n",
              "      <td>...</td>\n",
              "    </tr>\n",
              "    <tr>\n",
              "      <th>9780</th>\n",
              "      <td>4</td>\n",
              "      <td>Referral</td>\n",
              "      <td>1482298425</td>\n",
              "      <td>Chrome</td>\n",
              "      <td>Macintosh</td>\n",
              "      <td>False</td>\n",
              "      <td>desktop</td>\n",
              "      <td>Americas</td>\n",
              "      <td>Northern America</td>\n",
              "      <td>United States</td>\n",
              "      <td>...</td>\n",
              "      <td>0</td>\n",
              "      <td>285062</td>\n",
              "      <td>3</td>\n",
              "      <td>2016</td>\n",
              "      <td>2016</td>\n",
              "      <td>9</td>\n",
              "      <td>9</td>\n",
              "      <td>2</td>\n",
              "      <td>2</td>\n",
              "      <td>1</td>\n",
              "    </tr>\n",
              "    <tr>\n",
              "      <th>9841</th>\n",
              "      <td>2</td>\n",
              "      <td>Referral</td>\n",
              "      <td>1487806191</td>\n",
              "      <td>Chrome</td>\n",
              "      <td>Macintosh</td>\n",
              "      <td>False</td>\n",
              "      <td>desktop</td>\n",
              "      <td>Americas</td>\n",
              "      <td>Northern America</td>\n",
              "      <td>United States</td>\n",
              "      <td>...</td>\n",
              "      <td>0</td>\n",
              "      <td>0</td>\n",
              "      <td>1</td>\n",
              "      <td>2016</td>\n",
              "      <td>2016</td>\n",
              "      <td>9</td>\n",
              "      <td>9</td>\n",
              "      <td>2</td>\n",
              "      <td>2</td>\n",
              "      <td>1</td>\n",
              "    </tr>\n",
              "    <tr>\n",
              "      <th>9901</th>\n",
              "      <td>9</td>\n",
              "      <td>Referral</td>\n",
              "      <td>1500155697</td>\n",
              "      <td>Chrome</td>\n",
              "      <td>Chrome OS</td>\n",
              "      <td>False</td>\n",
              "      <td>desktop</td>\n",
              "      <td>Americas</td>\n",
              "      <td>Northern America</td>\n",
              "      <td>United States</td>\n",
              "      <td>...</td>\n",
              "      <td>1</td>\n",
              "      <td>8012989</td>\n",
              "      <td>8</td>\n",
              "      <td>2016</td>\n",
              "      <td>2016</td>\n",
              "      <td>9</td>\n",
              "      <td>9</td>\n",
              "      <td>2</td>\n",
              "      <td>2</td>\n",
              "      <td>1</td>\n",
              "    </tr>\n",
              "    <tr>\n",
              "      <th>9933</th>\n",
              "      <td>1</td>\n",
              "      <td>Referral</td>\n",
              "      <td>1498889138</td>\n",
              "      <td>Chrome</td>\n",
              "      <td>Macintosh</td>\n",
              "      <td>False</td>\n",
              "      <td>desktop</td>\n",
              "      <td>Americas</td>\n",
              "      <td>Northern America</td>\n",
              "      <td>United States</td>\n",
              "      <td>...</td>\n",
              "      <td>1</td>\n",
              "      <td>0</td>\n",
              "      <td>1</td>\n",
              "      <td>2016</td>\n",
              "      <td>2016</td>\n",
              "      <td>9</td>\n",
              "      <td>9</td>\n",
              "      <td>2</td>\n",
              "      <td>2</td>\n",
              "      <td>1</td>\n",
              "    </tr>\n",
              "    <tr>\n",
              "      <th>9945</th>\n",
              "      <td>1</td>\n",
              "      <td>Direct</td>\n",
              "      <td>1472561033</td>\n",
              "      <td>Chrome</td>\n",
              "      <td>Chrome OS</td>\n",
              "      <td>False</td>\n",
              "      <td>desktop</td>\n",
              "      <td>Americas</td>\n",
              "      <td>Northern America</td>\n",
              "      <td>United States</td>\n",
              "      <td>...</td>\n",
              "      <td>1</td>\n",
              "      <td>0</td>\n",
              "      <td>1</td>\n",
              "      <td>2016</td>\n",
              "      <td>2016</td>\n",
              "      <td>9</td>\n",
              "      <td>9</td>\n",
              "      <td>2</td>\n",
              "      <td>2</td>\n",
              "      <td>1</td>\n",
              "    </tr>\n",
              "  </tbody>\n",
              "</table>\n",
              "<p>1646 rows × 61 columns</p>\n",
              "</div>\n",
              "      <button class=\"colab-df-convert\" onclick=\"convertToInteractive('df-2eca6ddc-37b0-4e04-a6f9-675c0d5f5e41')\"\n",
              "              title=\"Convert this dataframe to an interactive table.\"\n",
              "              style=\"display:none;\">\n",
              "        \n",
              "  <svg xmlns=\"http://www.w3.org/2000/svg\" height=\"24px\"viewBox=\"0 0 24 24\"\n",
              "       width=\"24px\">\n",
              "    <path d=\"M0 0h24v24H0V0z\" fill=\"none\"/>\n",
              "    <path d=\"M18.56 5.44l.94 2.06.94-2.06 2.06-.94-2.06-.94-.94-2.06-.94 2.06-2.06.94zm-11 1L8.5 8.5l.94-2.06 2.06-.94-2.06-.94L8.5 2.5l-.94 2.06-2.06.94zm10 10l.94 2.06.94-2.06 2.06-.94-2.06-.94-.94-2.06-.94 2.06-2.06.94z\"/><path d=\"M17.41 7.96l-1.37-1.37c-.4-.4-.92-.59-1.43-.59-.52 0-1.04.2-1.43.59L10.3 9.45l-7.72 7.72c-.78.78-.78 2.05 0 2.83L4 21.41c.39.39.9.59 1.41.59.51 0 1.02-.2 1.41-.59l7.78-7.78 2.81-2.81c.8-.78.8-2.07 0-2.86zM5.41 20L4 18.59l7.72-7.72 1.47 1.35L5.41 20z\"/>\n",
              "  </svg>\n",
              "      </button>\n",
              "      \n",
              "  <style>\n",
              "    .colab-df-container {\n",
              "      display:flex;\n",
              "      flex-wrap:wrap;\n",
              "      gap: 12px;\n",
              "    }\n",
              "\n",
              "    .colab-df-convert {\n",
              "      background-color: #E8F0FE;\n",
              "      border: none;\n",
              "      border-radius: 50%;\n",
              "      cursor: pointer;\n",
              "      display: none;\n",
              "      fill: #1967D2;\n",
              "      height: 32px;\n",
              "      padding: 0 0 0 0;\n",
              "      width: 32px;\n",
              "    }\n",
              "\n",
              "    .colab-df-convert:hover {\n",
              "      background-color: #E2EBFA;\n",
              "      box-shadow: 0px 1px 2px rgba(60, 64, 67, 0.3), 0px 1px 3px 1px rgba(60, 64, 67, 0.15);\n",
              "      fill: #174EA6;\n",
              "    }\n",
              "\n",
              "    [theme=dark] .colab-df-convert {\n",
              "      background-color: #3B4455;\n",
              "      fill: #D2E3FC;\n",
              "    }\n",
              "\n",
              "    [theme=dark] .colab-df-convert:hover {\n",
              "      background-color: #434B5C;\n",
              "      box-shadow: 0px 1px 3px 1px rgba(0, 0, 0, 0.15);\n",
              "      filter: drop-shadow(0px 1px 2px rgba(0, 0, 0, 0.3));\n",
              "      fill: #FFFFFF;\n",
              "    }\n",
              "  </style>\n",
              "\n",
              "      <script>\n",
              "        const buttonEl =\n",
              "          document.querySelector('#df-2eca6ddc-37b0-4e04-a6f9-675c0d5f5e41 button.colab-df-convert');\n",
              "        buttonEl.style.display =\n",
              "          google.colab.kernel.accessAllowed ? 'block' : 'none';\n",
              "\n",
              "        async function convertToInteractive(key) {\n",
              "          const element = document.querySelector('#df-2eca6ddc-37b0-4e04-a6f9-675c0d5f5e41');\n",
              "          const dataTable =\n",
              "            await google.colab.kernel.invokeFunction('convertToInteractive',\n",
              "                                                     [key], {});\n",
              "          if (!dataTable) return;\n",
              "\n",
              "          const docLinkHtml = 'Like what you see? Visit the ' +\n",
              "            '<a target=\"_blank\" href=https://colab.research.google.com/notebooks/data_table.ipynb>data table notebook</a>'\n",
              "            + ' to learn more about interactive tables.';\n",
              "          element.innerHTML = '';\n",
              "          dataTable['output_type'] = 'display_data';\n",
              "          await google.colab.output.renderOutput(dataTable, element);\n",
              "          const docLink = document.createElement('div');\n",
              "          docLink.innerHTML = docLinkHtml;\n",
              "          element.appendChild(docLink);\n",
              "        }\n",
              "      </script>\n",
              "    </div>\n",
              "  </div>\n",
              "  "
            ]
          },
          "metadata": {},
          "execution_count": 135
        }
      ]
    },
    {
      "cell_type": "markdown",
      "source": [
        "Great! Now, performing the train-test-split:"
      ],
      "metadata": {
        "id": "WBVoyvtMhDSj"
      }
    },
    {
      "cell_type": "code",
      "source": [
        "y = visits_resampled.ifSpent.copy( ).astype(int)\n",
        "X = visits_resampled.drop('ifSpent', axis = 1)\n",
        "\n",
        "for q in qualit_feat:\n",
        "  lbl = LabelEncoder( )\n",
        "  strings = list(X[q].values.astype('str'))\n",
        "  lbl.fit(strings)\n",
        "  X[q] = lbl.transform(strings)\n",
        "\n",
        "X_train, X_test, y_train, y_test = train_test_split(X, y, test_size = 0.3, random_state = SEED)"
      ],
      "metadata": {
        "colab": {
          "base_uri": "https://localhost:8080/"
        },
        "id": "YSPM-LkthBN6",
        "outputId": "481fe4cb-dfa9-420e-bc3f-1dd5eced3695"
      },
      "execution_count": 142,
      "outputs": [
        {
          "output_type": "stream",
          "name": "stderr",
          "text": [
            "/usr/local/lib/python3.7/dist-packages/ipykernel_launcher.py:8: SettingWithCopyWarning: \n",
            "A value is trying to be set on a copy of a slice from a DataFrame.\n",
            "Try using .loc[row_indexer,col_indexer] = value instead\n",
            "\n",
            "See the caveats in the documentation: https://pandas.pydata.org/pandas-docs/stable/user_guide/indexing.html#returning-a-view-versus-a-copy\n",
            "  \n"
          ]
        }
      ]
    },
    {
      "cell_type": "markdown",
      "source": [
        "Now, let's retrain our model, now using a Gradient Boost Classifier model."
      ],
      "metadata": {
        "id": "_3nLqnWahRMJ"
      }
    },
    {
      "cell_type": "code",
      "source": [
        "from sklearn.ensemble import GradientBoostingClassifier\n",
        "\n",
        "model_GBClass = GradientBoostingClassifier( )\n",
        "model_GBClass.fit(X_train, y_train)"
      ],
      "metadata": {
        "colab": {
          "base_uri": "https://localhost:8080/"
        },
        "id": "uQ-OCuakhRg-",
        "outputId": "fd4bebf9-784a-487c-bd20-2a594e260339"
      },
      "execution_count": 143,
      "outputs": [
        {
          "output_type": "execute_result",
          "data": {
            "text/plain": [
              "GradientBoostingClassifier()"
            ]
          },
          "metadata": {},
          "execution_count": 143
        }
      ]
    },
    {
      "cell_type": "markdown",
      "source": [
        "Now, let's look at our metrics for classification and our confusion matrix:"
      ],
      "metadata": {
        "id": "vgw56GKXjH3d"
      }
    },
    {
      "cell_type": "code",
      "source": [
        "y_pred_gb = model_GBClass.predict(X_test)\n",
        "\n",
        "import matplotlib.pyplot as plt\n",
        "from sklearn.metrics import confusion_matrix\n",
        "from sklearn.datasets import make_classification\n",
        "from sklearn.metrics import ConfusionMatrixDisplay\n",
        "%matplotlib inline\n",
        "\n",
        "cm = confusion_matrix(y_test, y_pred_gb)\n",
        "disp = ConfusionMatrixDisplay(confusion_matrix = cm)\n",
        "disp.plot( )"
      ],
      "metadata": {
        "colab": {
          "base_uri": "https://localhost:8080/",
          "height": 297
        },
        "id": "mGwcFYruhr6I",
        "outputId": "20c79668-7613-4049-e275-d4aca96ef142"
      },
      "execution_count": 144,
      "outputs": [
        {
          "output_type": "execute_result",
          "data": {
            "text/plain": [
              "<sklearn.metrics._plot.confusion_matrix.ConfusionMatrixDisplay at 0x7f4a456bfbd0>"
            ]
          },
          "metadata": {},
          "execution_count": 144
        },
        {
          "output_type": "display_data",
          "data": {
            "text/plain": [
              "<Figure size 432x288 with 2 Axes>"
            ],
            "image/png": "[encoded data removed]"
          },
          "metadata": {
            "needs_background": "light"
          }
        }
      ]
    },
    {
      "cell_type": "code",
      "source": [
        "from sklearn.metrics import classification_report\n",
        "\n",
        "print(classification_report(y_test, y_pred_gb))"
      ],
      "metadata": {
        "colab": {
          "base_uri": "https://localhost:8080/"
        },
        "id": "fFF3MsnXjTJy",
        "outputId": "04c0c8eb-d3ba-45e7-e17c-0bbc243f1c70"
      },
      "execution_count": 145,
      "outputs": [
        {
          "output_type": "stream",
          "name": "stdout",
          "text": [
            "              precision    recall  f1-score   support\n",
            "\n",
            "           0       0.98      0.98      0.98       451\n",
            "           1       0.76      0.79      0.77        43\n",
            "\n",
            "    accuracy                           0.96       494\n",
            "   macro avg       0.87      0.88      0.88       494\n",
            "weighted avg       0.96      0.96      0.96       494\n",
            "\n"
          ]
        }
      ]
    },
    {
      "cell_type": "markdown",
      "source": [
        "Nice! Our model seems to be much better. We have a 76% and a 79% precision and recall, and we are able to predict almost all of the times someone will or will not spent!\n",
        "\n",
        "Now, let's try to use an XGBoost algorithm:"
      ],
      "metadata": {
        "id": "CmiBg0jxkZdp"
      }
    },
    {
      "cell_type": "code",
      "source": [
        "!pip install --upgrade xgboost"
      ],
      "metadata": {
        "colab": {
          "base_uri": "https://localhost:8080/"
        },
        "id": "KUGTC_81jl90",
        "outputId": "e227e78c-fa73-48e1-b2e7-6e48873c4898"
      },
      "execution_count": 146,
      "outputs": [
        {
          "output_type": "stream",
          "name": "stdout",
          "text": [
            "Looking in indexes: https://pypi.org/simple, https://us-python.pkg.dev/colab-wheels/public/simple/\n",
            "Requirement already satisfied: xgboost in /usr/local/lib/python3.7/dist-packages (0.90)\n",
            "Collecting xgboost\n",
            "  Downloading xgboost-1.6.1-py3-none-manylinux2014_x86_64.whl (192.9 MB)\n",
            "\u001b[K     |████████████████████████████████| 192.9 MB 81 kB/s \n",
            "\u001b[?25hRequirement already satisfied: numpy in /usr/local/lib/python3.7/dist-packages (from xgboost) (1.21.6)\n",
            "Requirement already satisfied: scipy in /usr/local/lib/python3.7/dist-packages (from xgboost) (1.4.1)\n",
            "Installing collected packages: xgboost\n",
            "  Attempting uninstall: xgboost\n",
            "    Found existing installation: xgboost 0.90\n",
            "    Uninstalling xgboost-0.90:\n",
            "      Successfully uninstalled xgboost-0.90\n",
            "Successfully installed xgboost-1.6.1\n"
          ]
        }
      ]
    },
    {
      "cell_type": "code",
      "source": [
        "X_train = X_train.loc[:, ~X_train.columns.duplicated( )] # This line of code removes the duplicated columns\n",
        "X_test  = X_test.loc[:, ~X_test.columns.duplicated( )] # This line of code removes the duplicated columns"
      ],
      "metadata": {
        "id": "f3G3-929lCEj"
      },
      "execution_count": 156,
      "outputs": []
    },
    {
      "cell_type": "code",
      "source": [
        "from xgboost import XGBClassifier\n",
        "\n",
        "model_xgb = XGBClassifier(seed = 42, n_estimators = 300)\n",
        "model_xgb.fit(X_train, y_train)"
      ],
      "metadata": {
        "colab": {
          "base_uri": "https://localhost:8080/"
        },
        "id": "ujqY8aRUkFRf",
        "outputId": "e4c51e49-9af0-41cd-b2e7-1baeb643507b"
      },
      "execution_count": 153,
      "outputs": [
        {
          "output_type": "execute_result",
          "data": {
            "text/plain": [
              "XGBClassifier(base_score=0.5, booster='gbtree', callbacks=None,\n",
              "              colsample_bylevel=1, colsample_bynode=1, colsample_bytree=1,\n",
              "              early_stopping_rounds=None, enable_categorical=False,\n",
              "              eval_metric=None, gamma=0, gpu_id=-1, grow_policy='depthwise',\n",
              "              importance_type=None, interaction_constraints='',\n",
              "              learning_rate=0.300000012, max_bin=256, max_cat_to_onehot=4,\n",
              "              max_delta_step=0, max_depth=6, max_leaves=0, min_child_weight=1,\n",
              "              missing=nan, monotone_constraints='()', n_estimators=300,\n",
              "              n_jobs=0, num_parallel_tree=1, predictor='auto', random_state=42,\n",
              "              reg_alpha=0, reg_lambda=1, ...)"
            ]
          },
          "metadata": {},
          "execution_count": 153
        }
      ]
    },
    {
      "cell_type": "markdown",
      "source": [
        "Now, let's plot the confusion matrix and the metrics:"
      ],
      "metadata": {
        "id": "yB5o-0Pml7UQ"
      }
    },
    {
      "cell_type": "code",
      "source": [
        "y_pred_xgb = model_xgb.predict(X_test)\n",
        "\n",
        "cm = confusion_matrix(y_test, y_pred_xgb)\n",
        "disp = ConfusionMatrixDisplay(confusion_matrix = cm)\n",
        "disp.plot( )"
      ],
      "metadata": {
        "colab": {
          "base_uri": "https://localhost:8080/",
          "height": 297
        },
        "id": "EOe9wpJalAh1",
        "outputId": "80c5f950-df35-4254-cf04-e51301bae939"
      },
      "execution_count": 158,
      "outputs": [
        {
          "output_type": "execute_result",
          "data": {
            "text/plain": [
              "<sklearn.metrics._plot.confusion_matrix.ConfusionMatrixDisplay at 0x7f4a45417250>"
            ]
          },
          "metadata": {},
          "execution_count": 158
        },
        {
          "output_type": "display_data",
          "data": {
            "text/plain": [
              "<Figure size 432x288 with 2 Axes>"
            ],
            "image/png": "[encoded data removed]"
          },
          "metadata": {
            "needs_background": "light"
          }
        }
      ]
    },
    {
      "cell_type": "code",
      "source": [
        "print(classification_report(y_test, y_pred_xgb))"
      ],
      "metadata": {
        "colab": {
          "base_uri": "https://localhost:8080/"
        },
        "id": "F49OtLpblyOf",
        "outputId": "6119e476-76ee-417a-f0c3-550770d6cc05"
      },
      "execution_count": 160,
      "outputs": [
        {
          "output_type": "stream",
          "name": "stdout",
          "text": [
            "              precision    recall  f1-score   support\n",
            "\n",
            "           0       0.97      0.98      0.97       451\n",
            "           1       0.74      0.72      0.73        43\n",
            "\n",
            "    accuracy                           0.95       494\n",
            "   macro avg       0.86      0.85      0.85       494\n",
            "weighted avg       0.95      0.95      0.95       494\n",
            "\n"
          ]
        }
      ]
    },
    {
      "cell_type": "markdown",
      "source": [
        "Note that the XGBoost algorithm actually got a lower recall!"
      ],
      "metadata": {
        "id": "rLAbg1IemFQg"
      }
    }
  ]
}