{
  "nbformat": 4,
  "nbformat_minor": 0,
  "metadata": {
    "colab": {
      "name": "07_MLOps_API.ipynb",
      "provenance": [],
      "collapsed_sections": [],
      "authorship_tag": "ABX9TyM5vUe9ANtkxSGyjDX63SS5",
      "include_colab_link": true
    },
    "kernelspec": {
      "name": "python3",
      "display_name": "Python 3"
    },
    "language_info": {
      "name": "python"
    }
  },
  "cells": [
    {
      "cell_type": "markdown",
      "metadata": {
        "id": "view-in-github",
        "colab_type": "text"
      },
      "source": [
        "<a href=\"https://colab.research.google.com/github/LeonardoGoncRibeiro/05_AppliedMachineLearning/blob/main/07_MLOps_API.ipynb\" target=\"_parent\"><img src=\"https://colab.research.google.com/assets/colab-badge.svg\" alt=\"Open In Colab\"/></a>"
      ]
    },
    {
      "cell_type": "markdown",
      "source": [
        "# MLOps: Machine Learning and APIs\n",
        "\n",
        "In this course, we will learn what is MLOps and how to create APIs using Flask. Then, we will learn how to serve ML models using APIs. We will see how we can better administrate the dependencies of our model, and how to serialize an ML model.\n",
        "\n",
        "In this course, we will basically learn what to do after we have build a model. How can other people use our model for their advantage? This is a basic course to learn how to create a first API, and, for futher understanding over web development, the reader is referred to other courses. "
      ],
      "metadata": {
        "id": "Q7QuC9PGYwmd"
      }
    },
    {
      "cell_type": "markdown",
      "source": [
        "## MLOps, or Machine Learning Operations\n",
        "\n",
        "MLOps says respect to what we should do after our model is built. For instance, let's say we built a classification model, which takes some information as input, and outputs the most likely event. We want to make it so that any person can use this model, and in an easy manner.\n",
        "\n",
        "Thus, MLOps is the set of actions we should do to make sure that our model is able to be used in our business, and be relevant for our final customer. After building our model, through continuous feedback, we should iteratly deploy, operate, integrate, and even rebuild our model, so that it keeps being able to represent and model reality."
      ],
      "metadata": {
        "id": "wVlTTi91Z2l0"
      }
    },
    {
      "cell_type": "markdown",
      "source": [
        "## API, or Application Programming Interface\n",
        "\n",
        "An API is an interface that will be used for the final user to access our model in a simplified way. For instance, if we want to know the fastest way to reach a certain point, we can use the Google Maps API. Basically, the user sends a *request* to the API, and the API sends a *response*. \n",
        "\n",
        "The API allows for the communication between services, and allow the use of our complex model by an user who do not necessarily knows how our model works. \n",
        "\n",
        "To develop our APIs, we will use the flask package:"
      ],
      "metadata": {
        "id": "DV1UsGg2dJlJ"
      }
    },
    {
      "cell_type": "code",
      "execution_count": null,
      "metadata": {
        "colab": {
          "base_uri": "https://localhost:8080/"
        },
        "id": "3TgqVyTOYpFr",
        "outputId": "8c49ab77-ce20-437b-df02-88c0468e7de9"
      },
      "outputs": [
        {
          "output_type": "stream",
          "name": "stdout",
          "text": [
            "Looking in indexes: https://pypi.org/simple, https://us-python.pkg.dev/colab-wheels/public/simple/\n",
            "Collecting flask-ngrok\n",
            "  Downloading flask_ngrok-0.0.25-py3-none-any.whl (3.1 kB)\n",
            "Requirement already satisfied: requests in /usr/local/lib/python3.7/dist-packages (from flask-ngrok) (2.23.0)\n",
            "Requirement already satisfied: Flask>=0.8 in /usr/local/lib/python3.7/dist-packages (from flask-ngrok) (1.1.4)\n",
            "Requirement already satisfied: click<8.0,>=5.1 in /usr/local/lib/python3.7/dist-packages (from Flask>=0.8->flask-ngrok) (7.1.2)\n",
            "Requirement already satisfied: Jinja2<3.0,>=2.10.1 in /usr/local/lib/python3.7/dist-packages (from Flask>=0.8->flask-ngrok) (2.11.3)\n",
            "Requirement already satisfied: itsdangerous<2.0,>=0.24 in /usr/local/lib/python3.7/dist-packages (from Flask>=0.8->flask-ngrok) (1.1.0)\n",
            "Requirement already satisfied: Werkzeug<2.0,>=0.15 in /usr/local/lib/python3.7/dist-packages (from Flask>=0.8->flask-ngrok) (1.0.1)\n",
            "Requirement already satisfied: MarkupSafe>=0.23 in /usr/local/lib/python3.7/dist-packages (from Jinja2<3.0,>=2.10.1->Flask>=0.8->flask-ngrok) (2.0.1)\n",
            "Requirement already satisfied: urllib3!=1.25.0,!=1.25.1,<1.26,>=1.21.1 in /usr/local/lib/python3.7/dist-packages (from requests->flask-ngrok) (1.24.3)\n",
            "Requirement already satisfied: chardet<4,>=3.0.2 in /usr/local/lib/python3.7/dist-packages (from requests->flask-ngrok) (3.0.4)\n",
            "Requirement already satisfied: idna<3,>=2.5 in /usr/local/lib/python3.7/dist-packages (from requests->flask-ngrok) (2.10)\n",
            "Requirement already satisfied: certifi>=2017.4.17 in /usr/local/lib/python3.7/dist-packages (from requests->flask-ngrok) (2022.5.18.1)\n",
            "Installing collected packages: flask-ngrok\n",
            "Successfully installed flask-ngrok-0.0.25\n"
          ]
        }
      ],
      "source": [
        "!pip install flask-ngrok"
      ]
    },
    {
      "cell_type": "code",
      "source": [
        "!pip install pyngrok"
      ],
      "metadata": {
        "colab": {
          "base_uri": "https://localhost:8080/"
        },
        "id": "CFMuoLLFjnNQ",
        "outputId": "18048b3d-5dbb-4812-9a01-34a3d1ce5b3b"
      },
      "execution_count": null,
      "outputs": [
        {
          "output_type": "stream",
          "name": "stdout",
          "text": [
            "Looking in indexes: https://pypi.org/simple, https://us-python.pkg.dev/colab-wheels/public/simple/\n",
            "Collecting pyngrok\n",
            "  Downloading pyngrok-5.1.0.tar.gz (745 kB)\n",
            "\u001b[K     |████████████████████████████████| 745 kB 25.5 MB/s \n",
            "\u001b[?25hRequirement already satisfied: PyYAML in /usr/local/lib/python3.7/dist-packages (from pyngrok) (3.13)\n",
            "Building wheels for collected packages: pyngrok\n",
            "  Building wheel for pyngrok (setup.py) ... \u001b[?25l\u001b[?25hdone\n",
            "  Created wheel for pyngrok: filename=pyngrok-5.1.0-py3-none-any.whl size=19007 sha256=62eaa13e173c9df2c5be795faac941cd44514ee634796df5feebba1ec21b3a6b\n",
            "  Stored in directory: /root/.cache/pip/wheels/bf/e6/af/ccf6598ecefecd44104069371795cb9b3afbcd16987f6ccfb3\n",
            "Successfully built pyngrok\n",
            "Installing collected packages: pyngrok\n",
            "Successfully installed pyngrok-5.1.0\n"
          ]
        }
      ]
    },
    {
      "cell_type": "code",
      "source": [
        "from flask import Flask\n",
        "from flask_ngrok import run_with_ngrok\n",
        "from pyngrok import ngrok"
      ],
      "metadata": {
        "id": "PkPKexaVeBFx"
      },
      "execution_count": null,
      "outputs": []
    },
    {
      "cell_type": "markdown",
      "source": [
        "Nice! Now, to create our first API, we need to instance a Flask object:"
      ],
      "metadata": {
        "id": "gxXbVZAUeMv4"
      }
    },
    {
      "cell_type": "code",
      "source": [
        "my_first_app = Flask('first_app')\n",
        "run_with_ngrok(my_first_app)"
      ],
      "metadata": {
        "id": "58WGpLizeLLy"
      },
      "execution_count": null,
      "outputs": []
    },
    {
      "cell_type": "code",
      "source": [
        "port = 5000\n",
        "auth_token = '2ATxMOi0B3lpLciSMzBb9eOAejh_7uTTU7DVWwQH18eA3RnkQ'\n",
        "ngrok.set_auth_token(auth_token)\n",
        "public_url = ngrok.connect(port).public_url"
      ],
      "metadata": {
        "colab": {
          "base_uri": "https://localhost:8080/"
        },
        "id": "N2d_NqjWjQhH",
        "outputId": "32572d3d-a578-4d53-d9f7-f4fb34bcef51"
      },
      "execution_count": null,
      "outputs": [
        {
          "output_type": "stream",
          "name": "stdout",
          "text": [
            ""
          ]
        }
      ]
    },
    {
      "cell_type": "markdown",
      "source": [
        "We should then define the routes of our API. "
      ],
      "metadata": {
        "id": "1Sjs8lDdeYoY"
      }
    },
    {
      "cell_type": "code",
      "source": [
        "@my_first_app.route('/')\n",
        "def home( ):\n",
        "  return \"My first API.\""
      ],
      "metadata": {
        "id": "qlHj-7DUeWZa"
      },
      "execution_count": null,
      "outputs": []
    },
    {
      "cell_type": "markdown",
      "source": [
        "Now, to run our app, we can do:"
      ],
      "metadata": {
        "id": "DsZzTEUcem6D"
      }
    },
    {
      "cell_type": "code",
      "source": [
        "my_first_app.run( )"
      ],
      "metadata": {
        "colab": {
          "base_uri": "https://localhost:8080/"
        },
        "id": "WojLxapMekBb",
        "outputId": "67d4d4f2-4e66-41f2-b652-a86ea34188fd"
      },
      "execution_count": null,
      "outputs": [
        {
          "output_type": "stream",
          "name": "stdout",
          "text": [
            " * Serving Flask app \"first_app\" (lazy loading)\n",
            " * Environment: production\n",
            "\u001b[31m   WARNING: This is a development server. Do not use it in a production deployment.\u001b[0m\n",
            "\u001b[2m   Use a production WSGI server instead.\u001b[0m\n",
            " * Debug mode: off\n"
          ]
        },
        {
          "output_type": "stream",
          "name": "stderr",
          "text": [
            " * Running on http://127.0.0.1:5000/ (Press CTRL+C to quit)\n"
          ]
        },
        {
          "output_type": "stream",
          "name": "stdout",
          "text": [
            " * Running on http://407a-35-186-174-7.ngrok.io\n",
            " * Traffic stats available on http://127.0.0.1:4040\n"
          ]
        },
        {
          "output_type": "stream",
          "name": "stderr",
          "text": [
            "127.0.0.1 - - [12/Jun/2022 21:01:20] \"\u001b[37mGET / HTTP/1.1\u001b[0m\" 200 -\n",
            "127.0.0.1 - - [12/Jun/2022 21:01:21] \"\u001b[33mGET /favicon.ico HTTP/1.1\u001b[0m\" 404 -\n",
            "127.0.0.1 - - [12/Jun/2022 21:01:22] \"\u001b[37mGET / HTTP/1.1\u001b[0m\" 200 -\n"
          ]
        }
      ]
    },
    {
      "cell_type": "markdown",
      "source": [
        "Nice! So, we have been able to create our first API (which can be run from google colab from the ngrok link). This API simply prints a text \"My First API\" in our screen.\n",
        "\n",
        "Note that there are other great frameworks for web development using Python, such as Django or Pyramid.\n",
        "\n",
        "https://www.djangoproject.com/\n",
        "\n",
        "https://trypyramid.com/"
      ],
      "metadata": {
        "id": "Iu3Al2d-kG_t"
      }
    },
    {
      "cell_type": "markdown",
      "source": [
        "# Creating an API for a simple sentiment analysis model\n",
        "\n",
        "So, just for example purposes, we will develop here a Sentiment Analysis model. Sentiment Analysis tests if a given mention (or post) was positive, negative, or neutral. \n",
        "\n",
        "Let's create our model:"
      ],
      "metadata": {
        "id": "3UG0XbxYrcLU"
      }
    },
    {
      "cell_type": "code",
      "source": [
        "from textblob import TextBlob\n",
        "\n",
        "text = \"Python is great for Machine Learning.\"\n",
        "\n",
        "tb = TextBlob(text)"
      ],
      "metadata": {
        "id": "hi37ZdbRkOP6"
      },
      "execution_count": null,
      "outputs": []
    },
    {
      "cell_type": "code",
      "source": [
        "tb.sentiment.polarity"
      ],
      "metadata": {
        "colab": {
          "base_uri": "https://localhost:8080/"
        },
        "id": "0tje6DAyr6wq",
        "outputId": "59f01f06-d602-417d-9a9c-90ebbde1d126"
      },
      "execution_count": null,
      "outputs": [
        {
          "output_type": "execute_result",
          "data": {
            "text/plain": [
              "0.8"
            ]
          },
          "metadata": {},
          "execution_count": 9
        }
      ]
    },
    {
      "cell_type": "markdown",
      "source": [
        "Note that textblob can also be used for translating text (polarity analysis should be used only on english text):"
      ],
      "metadata": {
        "id": "ucoque_8sKsy"
      }
    },
    {
      "cell_type": "code",
      "source": [
        "text_pt = \"Python é ótimo para Aprendizado de Máquina\"\n",
        "\n",
        "tb_pt = TextBlob(text_pt)\n",
        "\n",
        "tb_en = tb_pt.translate(from_lang = 'pt', to = 'en')"
      ],
      "metadata": {
        "id": "fEnz-XEPr9l_"
      },
      "execution_count": null,
      "outputs": []
    },
    {
      "cell_type": "code",
      "source": [
        "tb_en"
      ],
      "metadata": {
        "colab": {
          "base_uri": "https://localhost:8080/"
        },
        "id": "OywUspDUsd3X",
        "outputId": "4d5bacb4-52ad-4358-9ebb-966a4cd6de0a"
      },
      "execution_count": null,
      "outputs": [
        {
          "output_type": "execute_result",
          "data": {
            "text/plain": [
              "TextBlob(\"Python is great for machine learning\")"
            ]
          },
          "metadata": {},
          "execution_count": 11
        }
      ]
    },
    {
      "cell_type": "code",
      "source": [
        "tb_en.polarity"
      ],
      "metadata": {
        "colab": {
          "base_uri": "https://localhost:8080/"
        },
        "id": "QQ1jaH0Zs2gj",
        "outputId": "83edeca1-7965-4750-96fd-f8d0e64f3f79"
      },
      "execution_count": null,
      "outputs": [
        {
          "output_type": "execute_result",
          "data": {
            "text/plain": [
              "0.8"
            ]
          },
          "metadata": {},
          "execution_count": 12
        }
      ]
    },
    {
      "cell_type": "markdown",
      "source": [
        "Nice! So, we can create a sentiment analysis model using the TextBlob library. So, let's try to use it in our API:"
      ],
      "metadata": {
        "id": "wJMqoLHOs6Zp"
      }
    },
    {
      "cell_type": "code",
      "source": [
        "my_first_app = Flask(__name__)\n",
        "run_with_ngrok(my_first_app)\n",
        "\n",
        "port = 5000\n",
        "auth_token = '2ATxMOi0B3lpLciSMzBb9eOAejh_7uTTU7DVWwQH18eA3RnkQ'\n",
        "ngrok.set_auth_token(auth_token)\n",
        "public_url = ngrok.connect(port).public_url\n",
        "\n",
        "@my_first_app.route('/')\n",
        "def home( ):\n",
        "  return \"My first API.\"\n",
        "\n",
        "@my_first_app.route('/sentiment/<text>')\n",
        "def sentiment(text):\n",
        "  tb_pt = TextBlob(text)\n",
        "  tb_en = tb_pt.translate(from_lang = 'pt', to = 'en')\n",
        "  pol = tb_en.polarity\n",
        "  return \"polarity: {}\".format(pol)\n",
        "\n",
        "my_first_app.run( )"
      ],
      "metadata": {
        "colab": {
          "base_uri": "https://localhost:8080/"
        },
        "id": "KPEX7I7Us5qh",
        "outputId": "d31d1eef-e9ef-401a-caae-8fc0551b00b0"
      },
      "execution_count": null,
      "outputs": [
        {
          "output_type": "stream",
          "name": "stdout",
          "text": [
            " * Serving Flask app \"__main__\" (lazy loading)\n",
            " * Environment: production\n",
            "\u001b[31m   WARNING: This is a development server. Do not use it in a production deployment.\u001b[0m\n",
            "\u001b[2m   Use a production WSGI server instead.\u001b[0m\n",
            " * Debug mode: off\n"
          ]
        },
        {
          "output_type": "stream",
          "name": "stderr",
          "text": [
            " * Running on http://127.0.0.1:5000/ (Press CTRL+C to quit)\n"
          ]
        },
        {
          "output_type": "stream",
          "name": "stdout",
          "text": [
            " * Running on http://61a8-35-186-174-7.ngrok.io\n",
            " * Traffic stats available on http://127.0.0.1:4040\n"
          ]
        },
        {
          "output_type": "stream",
          "name": "stderr",
          "text": [
            "127.0.0.1 - - [12/Jun/2022 21:04:02] \"\u001b[37mGET / HTTP/1.1\u001b[0m\" 200 -\n",
            "127.0.0.1 - - [12/Jun/2022 21:04:02] \"\u001b[33mGET /favicon.ico HTTP/1.1\u001b[0m\" 404 -\n",
            "127.0.0.1 - - [12/Jun/2022 21:04:03] \"\u001b[37mGET / HTTP/1.1\u001b[0m\" 200 -\n",
            "127.0.0.1 - - [12/Jun/2022 21:04:12] \"\u001b[37mGET /sentiment/Python%20é%20ótimo HTTP/1.1\u001b[0m\" 200 -\n",
            "127.0.0.1 - - [12/Jun/2022 21:04:12] \"\u001b[33mGET /favicon.ico HTTP/1.1\u001b[0m\" 404 -\n",
            "127.0.0.1 - - [12/Jun/2022 21:04:13] \"\u001b[37mGET /sentiment/Python%20é%20ótimo HTTP/1.1\u001b[0m\" 200 -\n"
          ]
        }
      ]
    },
    {
      "cell_type": "markdown",
      "source": [
        "Nice! This way, we create a branche for our API, where we can pass a text in portuguese and get its polarity. For instance, going to:\n",
        "\n",
        "https://61a8-35-186-174-7.ngrok.io/sentiment/Python%20%C3%A9%20%C3%B3timo\n",
        "\n",
        "we get the polarity for \"Python é ótimo\" (or \"Python is great\", in english), which is 0.8."
      ],
      "metadata": {
        "id": "-LaEcmScu2Pp"
      }
    },
    {
      "cell_type": "markdown",
      "source": [
        "Note that, here, the text is passed directly in the url. "
      ],
      "metadata": {
        "id": "pI5KpUD3vUxt"
      }
    },
    {
      "cell_type": "markdown",
      "source": [
        "# Creating an API for a regression model\n",
        "\n",
        "Ok, we have shown how to create an API from a simple model using TextBlob. However, usually, we need to train and fit our model. Let's see how we can train a model and use it in our API.\n",
        "\n",
        "Here, we will use the housing prices datasets from Kaggle:"
      ],
      "metadata": {
        "id": "smwo-m25wi14"
      }
    },
    {
      "cell_type": "code",
      "source": [
        "from google.colab import files\n",
        "uploaded = files.upload( )"
      ],
      "metadata": {
        "colab": {
          "resources": {
            "http://localhost:8080/nbextensions/google.colab/files.js": {
              "data": "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",
              "ok": true,
              "headers": [
                [
                  "content-type",
                  "application/javascript"
                ]
              ],
              "status": 200,
              "status_text": ""
            }
          },
          "base_uri": "https://localhost:8080/",
          "height": 74
        },
        "id": "bXxHpTruxgEZ",
        "outputId": "deaeee3c-1feb-44e1-f238-2f91a3da9682"
      },
      "execution_count": null,
      "outputs": [
        {
          "output_type": "display_data",
          "data": {
            "text/plain": [
              "<IPython.core.display.HTML object>"
            ],
            "text/html": [
              "\n",
              "     <input type=\"file\" id=\"files-b102a301-4ab1-4222-b6a3-ffb30b271641\" name=\"files[]\" multiple disabled\n",
              "        style=\"border:none\" />\n",
              "     <output id=\"result-b102a301-4ab1-4222-b6a3-ffb30b271641\">\n",
              "      Upload widget is only available when the cell has been executed in the\n",
              "      current browser session. Please rerun this cell to enable.\n",
              "      </output>\n",
              "      <script src=\"/nbextensions/google.colab/files.js\"></script> "
            ]
          },
          "metadata": {}
        },
        {
          "output_type": "stream",
          "name": "stdout",
          "text": [
            "Saving casas.csv to casas.csv\n"
          ]
        }
      ]
    },
    {
      "cell_type": "code",
      "source": [
        "import pandas as pd\n",
        "import io\n",
        "\n",
        "prices = pd.read_csv(io.BytesIO(uploaded['casas.csv']))"
      ],
      "metadata": {
        "id": "W6wGftgEt-9r"
      },
      "execution_count": null,
      "outputs": []
    },
    {
      "cell_type": "code",
      "source": [
        "prices.head( )"
      ],
      "metadata": {
        "colab": {
          "base_uri": "https://localhost:8080/",
          "height": 206
        },
        "id": "V4ZcjCRJxCLl",
        "outputId": "1452655f-3a57-45a4-e968-aefd88d79598"
      },
      "execution_count": null,
      "outputs": [
        {
          "output_type": "execute_result",
          "data": {
            "text/plain": [
              "   tamanho   ano  garagem   preco\n",
              "0    159.0  2003        2  208500\n",
              "1    117.0  1976        2  181500\n",
              "2    166.0  2001        2  223500\n",
              "3    160.0  1915        3  140000\n",
              "4    204.0  2000        3  250000"
            ],
            "text/html": [
              "\n",
              "  <div id=\"df-d4ee3e8c-114f-4fc1-8e76-83477f84b700\">\n",
              "    <div class=\"colab-df-container\">\n",
              "      <div>\n",
              "<style scoped>\n",
              "    .dataframe tbody tr th:only-of-type {\n",
              "        vertical-align: middle;\n",
              "    }\n",
              "\n",
              "    .dataframe tbody tr th {\n",
              "        vertical-align: top;\n",
              "    }\n",
              "\n",
              "    .dataframe thead th {\n",
              "        text-align: right;\n",
              "    }\n",
              "</style>\n",
              "<table border=\"1\" class=\"dataframe\">\n",
              "  <thead>\n",
              "    <tr style=\"text-align: right;\">\n",
              "      <th></th>\n",
              "      <th>tamanho</th>\n",
              "      <th>ano</th>\n",
              "      <th>garagem</th>\n",
              "      <th>preco</th>\n",
              "    </tr>\n",
              "  </thead>\n",
              "  <tbody>\n",
              "    <tr>\n",
              "      <th>0</th>\n",
              "      <td>159.0</td>\n",
              "      <td>2003</td>\n",
              "      <td>2</td>\n",
              "      <td>208500</td>\n",
              "    </tr>\n",
              "    <tr>\n",
              "      <th>1</th>\n",
              "      <td>117.0</td>\n",
              "      <td>1976</td>\n",
              "      <td>2</td>\n",
              "      <td>181500</td>\n",
              "    </tr>\n",
              "    <tr>\n",
              "      <th>2</th>\n",
              "      <td>166.0</td>\n",
              "      <td>2001</td>\n",
              "      <td>2</td>\n",
              "      <td>223500</td>\n",
              "    </tr>\n",
              "    <tr>\n",
              "      <th>3</th>\n",
              "      <td>160.0</td>\n",
              "      <td>1915</td>\n",
              "      <td>3</td>\n",
              "      <td>140000</td>\n",
              "    </tr>\n",
              "    <tr>\n",
              "      <th>4</th>\n",
              "      <td>204.0</td>\n",
              "      <td>2000</td>\n",
              "      <td>3</td>\n",
              "      <td>250000</td>\n",
              "    </tr>\n",
              "  </tbody>\n",
              "</table>\n",
              "</div>\n",
              "      <button class=\"colab-df-convert\" onclick=\"convertToInteractive('df-d4ee3e8c-114f-4fc1-8e76-83477f84b700')\"\n",
              "              title=\"Convert this dataframe to an interactive table.\"\n",
              "              style=\"display:none;\">\n",
              "        \n",
              "  <svg xmlns=\"http://www.w3.org/2000/svg\" height=\"24px\"viewBox=\"0 0 24 24\"\n",
              "       width=\"24px\">\n",
              "    <path d=\"M0 0h24v24H0V0z\" fill=\"none\"/>\n",
              "    <path d=\"M18.56 5.44l.94 2.06.94-2.06 2.06-.94-2.06-.94-.94-2.06-.94 2.06-2.06.94zm-11 1L8.5 8.5l.94-2.06 2.06-.94-2.06-.94L8.5 2.5l-.94 2.06-2.06.94zm10 10l.94 2.06.94-2.06 2.06-.94-2.06-.94-.94-2.06-.94 2.06-2.06.94z\"/><path d=\"M17.41 7.96l-1.37-1.37c-.4-.4-.92-.59-1.43-.59-.52 0-1.04.2-1.43.59L10.3 9.45l-7.72 7.72c-.78.78-.78 2.05 0 2.83L4 21.41c.39.39.9.59 1.41.59.51 0 1.02-.2 1.41-.59l7.78-7.78 2.81-2.81c.8-.78.8-2.07 0-2.86zM5.41 20L4 18.59l7.72-7.72 1.47 1.35L5.41 20z\"/>\n",
              "  </svg>\n",
              "      </button>\n",
              "      \n",
              "  <style>\n",
              "    .colab-df-container {\n",
              "      display:flex;\n",
              "      flex-wrap:wrap;\n",
              "      gap: 12px;\n",
              "    }\n",
              "\n",
              "    .colab-df-convert {\n",
              "      background-color: #E8F0FE;\n",
              "      border: none;\n",
              "      border-radius: 50%;\n",
              "      cursor: pointer;\n",
              "      display: none;\n",
              "      fill: #1967D2;\n",
              "      height: 32px;\n",
              "      padding: 0 0 0 0;\n",
              "      width: 32px;\n",
              "    }\n",
              "\n",
              "    .colab-df-convert:hover {\n",
              "      background-color: #E2EBFA;\n",
              "      box-shadow: 0px 1px 2px rgba(60, 64, 67, 0.3), 0px 1px 3px 1px rgba(60, 64, 67, 0.15);\n",
              "      fill: #174EA6;\n",
              "    }\n",
              "\n",
              "    [theme=dark] .colab-df-convert {\n",
              "      background-color: #3B4455;\n",
              "      fill: #D2E3FC;\n",
              "    }\n",
              "\n",
              "    [theme=dark] .colab-df-convert:hover {\n",
              "      background-color: #434B5C;\n",
              "      box-shadow: 0px 1px 3px 1px rgba(0, 0, 0, 0.15);\n",
              "      filter: drop-shadow(0px 1px 2px rgba(0, 0, 0, 0.3));\n",
              "      fill: #FFFFFF;\n",
              "    }\n",
              "  </style>\n",
              "\n",
              "      <script>\n",
              "        const buttonEl =\n",
              "          document.querySelector('#df-d4ee3e8c-114f-4fc1-8e76-83477f84b700 button.colab-df-convert');\n",
              "        buttonEl.style.display =\n",
              "          google.colab.kernel.accessAllowed ? 'block' : 'none';\n",
              "\n",
              "        async function convertToInteractive(key) {\n",
              "          const element = document.querySelector('#df-d4ee3e8c-114f-4fc1-8e76-83477f84b700');\n",
              "          const dataTable =\n",
              "            await google.colab.kernel.invokeFunction('convertToInteractive',\n",
              "                                                     [key], {});\n",
              "          if (!dataTable) return;\n",
              "\n",
              "          const docLinkHtml = 'Like what you see? Visit the ' +\n",
              "            '<a target=\"_blank\" href=https://colab.research.google.com/notebooks/data_table.ipynb>data table notebook</a>'\n",
              "            + ' to learn more about interactive tables.';\n",
              "          element.innerHTML = '';\n",
              "          dataTable['output_type'] = 'display_data';\n",
              "          await google.colab.output.renderOutput(dataTable, element);\n",
              "          const docLink = document.createElement('div');\n",
              "          docLink.innerHTML = docLinkHtml;\n",
              "          element.appendChild(docLink);\n",
              "        }\n",
              "      </script>\n",
              "    </div>\n",
              "  </div>\n",
              "  "
            ]
          },
          "metadata": {},
          "execution_count": 21
        }
      ]
    },
    {
      "cell_type": "markdown",
      "source": [
        "Ok, so we have information about the size, year, and size of garage, and the housing prices. Here, we will build a very simple model using only one variable:"
      ],
      "metadata": {
        "id": "V_UDYilbxP-6"
      }
    },
    {
      "cell_type": "code",
      "source": [
        "prices_tmp = prices[['tamanho', 'preco']].copy( )"
      ],
      "metadata": {
        "id": "z7v_ibVRxO_0"
      },
      "execution_count": null,
      "outputs": []
    },
    {
      "cell_type": "markdown",
      "source": [
        "Now, let's separe our independent and target variable:"
      ],
      "metadata": {
        "id": "WnrWbFuKyGnS"
      }
    },
    {
      "cell_type": "code",
      "source": [
        "X = prices_tmp.drop('preco', axis = 1)\n",
        "y = prices_tmp.preco.copy( )"
      ],
      "metadata": {
        "id": "29T6xOr0yFNj"
      },
      "execution_count": null,
      "outputs": []
    },
    {
      "cell_type": "markdown",
      "source": [
        "Now, let's make our train_test split:"
      ],
      "metadata": {
        "id": "FSAcuo2UyVqq"
      }
    },
    {
      "cell_type": "code",
      "source": [
        "from sklearn.model_selection import train_test_split\n",
        "\n",
        "SEED = 42\n",
        "\n",
        "X_train, X_test, y_train, y_test = train_test_split(X, y, test_size = 0.3, random_state = SEED)"
      ],
      "metadata": {
        "id": "ml-XrMfDyUR5"
      },
      "execution_count": null,
      "outputs": []
    },
    {
      "cell_type": "markdown",
      "source": [
        "Finally, let's fit a simple linear regression model:"
      ],
      "metadata": {
        "id": "4jiO-uaeynAi"
      }
    },
    {
      "cell_type": "code",
      "source": [
        "from sklearn.linear_model import LinearRegression\n",
        "\n",
        "model_LinReg = LinearRegression( )\n",
        "model_LinReg.fit( X_train, y_train )"
      ],
      "metadata": {
        "colab": {
          "base_uri": "https://localhost:8080/"
        },
        "id": "WZumuWo-yiMd",
        "outputId": "44c260f3-c160-4890-bf65-daee7ee44852"
      },
      "execution_count": null,
      "outputs": [
        {
          "output_type": "execute_result",
          "data": {
            "text/plain": [
              "LinearRegression()"
            ]
          },
          "metadata": {},
          "execution_count": 26
        }
      ]
    },
    {
      "cell_type": "markdown",
      "source": [
        "Nice! Now, let's try to do the deploy of this model using an API. We basically have to reproduce the code for model fitting to the API code. Note that the model fitting should be performed before, since we do not want to be repeating model training everytime someone tries to predict a value. We could leave the endpoint with just the prediction result:"
      ],
      "metadata": {
        "id": "lPc-Ji47zCm8"
      }
    },
    {
      "cell_type": "code",
      "source": [
        "my_first_app = Flask(__name__)\n",
        "run_with_ngrok(my_first_app)\n",
        "\n",
        "prices = pd.read_csv('casas.csv')\n",
        "prices_tmp = prices[['tamanho', 'preco']].copy( )\n",
        "X = prices_tmp.drop('preco', axis = 1)\n",
        "y = prices_tmp.preco.copy( )\n",
        "X_train, X_test, y_train, y_test = train_test_split(X, y, test_size = 0.3, random_state = SEED)\n",
        "model_LinReg = LinearRegression( )\n",
        "model_LinReg.fit( X_train, y_train )\n",
        "\n",
        "port = 5000\n",
        "auth_token = '2ATxMOi0B3lpLciSMzBb9eOAejh_7uTTU7DVWwQH18eA3RnkQ'\n",
        "ngrok.set_auth_token(auth_token)\n",
        "public_url = ngrok.connect(port).public_url\n",
        "\n",
        "@my_first_app.route('/')\n",
        "def home( ):\n",
        "  return \"My first API.\"\n",
        "\n",
        "@my_first_app.route('/sentiment/<text>')\n",
        "def sentiment(text):\n",
        "  tb_pt = TextBlob(text)\n",
        "  tb_en = tb_pt.translate(from_lang = 'pt', to = 'en')\n",
        "  pol = tb_en.polarity\n",
        "  return \"polarity: {}\".format(pol)\n",
        "\n",
        "@my_first_app.route('/linreg/<int:size>')\n",
        "def get_price(size):\n",
        "  x_pred = size\n",
        "  y_pred = model_LinReg.predict([[x_pred]])[0]\n",
        "  return \"prediction: {}\".format(y_pred)\n",
        "\n",
        "my_first_app.run( )"
      ],
      "metadata": {
        "colab": {
          "base_uri": "https://localhost:8080/"
        },
        "id": "w9qhWLtDyxkd",
        "outputId": "94754c12-69b2-4246-dbab-f162372c9c82"
      },
      "execution_count": null,
      "outputs": [
        {
          "output_type": "stream",
          "name": "stdout",
          "text": [
            " * Serving Flask app \"__main__\" (lazy loading)\n",
            " * Environment: production\n",
            "\u001b[31m   WARNING: This is a development server. Do not use it in a production deployment.\u001b[0m\n",
            "\u001b[2m   Use a production WSGI server instead.\u001b[0m\n",
            " * Debug mode: off\n"
          ]
        },
        {
          "output_type": "stream",
          "name": "stderr",
          "text": [
            " * Running on http://127.0.0.1:5000/ (Press CTRL+C to quit)\n"
          ]
        },
        {
          "output_type": "stream",
          "name": "stdout",
          "text": [
            " * Running on http://88e7-35-186-174-7.ngrok.io\n",
            " * Traffic stats available on http://127.0.0.1:4040\n"
          ]
        },
        {
          "output_type": "stream",
          "name": "stderr",
          "text": [
            "127.0.0.1 - - [12/Jun/2022 21:31:00] \"\u001b[37mGET / HTTP/1.1\u001b[0m\" 200 -\n",
            "127.0.0.1 - - [12/Jun/2022 21:31:01] \"\u001b[33mGET /favicon.ico HTTP/1.1\u001b[0m\" 404 -\n",
            "/usr/local/lib/python3.7/dist-packages/sklearn/base.py:451: UserWarning: X does not have valid feature names, but LinearRegression was fitted with feature names\n",
            "  \"X does not have valid feature names, but\"\n",
            "127.0.0.1 - - [12/Jun/2022 21:31:09] \"\u001b[37mGET /linreg/120 HTTP/1.1\u001b[0m\" 200 -\n",
            "127.0.0.1 - - [12/Jun/2022 21:31:10] \"\u001b[33mGET /favicon.ico HTTP/1.1\u001b[0m\" 404 -\n",
            "/usr/local/lib/python3.7/dist-packages/sklearn/base.py:451: UserWarning: X does not have valid feature names, but LinearRegression was fitted with feature names\n",
            "  \"X does not have valid feature names, but\"\n",
            "127.0.0.1 - - [12/Jun/2022 21:31:12] \"\u001b[37mGET /linreg/120 HTTP/1.1\u001b[0m\" 200 -\n"
          ]
        }
      ]
    },
    {
      "cell_type": "markdown",
      "source": [
        "Nice! Our model works fine, returning that, if we have a house with 120 m2, we get a price of 157377.06185641736. This is the same value we find when we try to predict using our model:"
      ],
      "metadata": {
        "id": "rNu78N0e0yX0"
      }
    },
    {
      "cell_type": "code",
      "source": [
        "model_LinReg.predict([[120]])[0]"
      ],
      "metadata": {
        "colab": {
          "base_uri": "https://localhost:8080/"
        },
        "id": "iSYPHCwn0re2",
        "outputId": "8fd74491-11ed-4384-8376-4f02d4bf219d"
      },
      "execution_count": null,
      "outputs": [
        {
          "output_type": "stream",
          "name": "stderr",
          "text": [
            "/usr/local/lib/python3.7/dist-packages/sklearn/base.py:451: UserWarning: X does not have valid feature names, but LinearRegression was fitted with feature names\n",
            "  \"X does not have valid feature names, but\"\n"
          ]
        },
        {
          "output_type": "execute_result",
          "data": {
            "text/plain": [
              "157377.06185641736"
            ]
          },
          "metadata": {},
          "execution_count": 29
        }
      ]
    },
    {
      "cell_type": "markdown",
      "source": [
        "Nice!"
      ],
      "metadata": {
        "id": "h1fbTOMm1PWK"
      }
    },
    {
      "cell_type": "markdown",
      "source": [
        "## Using multiple inputs\n",
        "\n",
        "We can still try to improve our model a little. Let's try to implement a model with more than one variable. Thus, we have to send a request with more than one value to our server. Basically, we will send a JSON, with all our features. This JSON will have the format:"
      ],
      "metadata": {
        "id": "O7T8m0AGAo52"
      }
    },
    {
      "cell_type": "code",
      "source": [
        "features = {\n",
        "    \"tamanho\" : 120,\n",
        "    \"ano\" : 2001,\n",
        "    \"garagem\" : 2\n",
        "}"
      ],
      "metadata": {
        "id": "_tZcZMEW2Xns"
      },
      "execution_count": null,
      "outputs": []
    },
    {
      "cell_type": "markdown",
      "source": [
        "So, let's update our endpoint:"
      ],
      "metadata": {
        "id": "h-U4wYmo2g0N"
      }
    },
    {
      "cell_type": "code",
      "source": [
        "from flask import request, jsonify      # We are using a new library named request to get the JSON\n",
        "\n",
        "my_first_app = Flask(__name__)\n",
        "run_with_ngrok(my_first_app)\n",
        "\n",
        "prices = pd.read_csv('casas.csv')\n",
        "X = prices.drop('preco', axis = 1)\n",
        "y = prices.preco.copy( )\n",
        "X_train, X_test, y_train, y_test = train_test_split(X, y, test_size = 0.3, random_state = SEED)\n",
        "model_LinReg = LinearRegression( )\n",
        "model_LinReg.fit( X_train, y_train )\n",
        "\n",
        "X_cols = ['tamanho', 'ano', 'garagem']\n",
        "\n",
        "port = 5000\n",
        "auth_token = '2ATxMOi0B3lpLciSMzBb9eOAejh_7uTTU7DVWwQH18eA3RnkQ'\n",
        "ngrok.set_auth_token(auth_token)\n",
        "public_url = ngrok.connect(port).public_url\n",
        "\n",
        "@my_first_app.route('/')\n",
        "def home( ):\n",
        "  return \"My first API.\"\n",
        "\n",
        "@my_first_app.route('/sentiment/<text>')\n",
        "def sentiment(text):\n",
        "  tb_pt = TextBlob(text)\n",
        "  tb_en = tb_pt.translate(from_lang = 'pt', to = 'en')\n",
        "  pol = tb_en.polarity\n",
        "  return \"polarity: {}\".format(pol)\n",
        "\n",
        "@my_first_app.route('/linreg/', methods  = ['POST'])    # Now, we are using the method POST to receive new entries\n",
        "def linreg( ):\n",
        "  x_pred = request.get_json( )\n",
        "  input = [x_pred[col] for col in X_cols]\n",
        "  y_pred = model_LinReg.predict([input])[0]\n",
        "  return jsonify(price = y_pred)\n",
        "\n",
        "my_first_app.run( )"
      ],
      "metadata": {
        "colab": {
          "base_uri": "https://localhost:8080/"
        },
        "id": "lYxKKwti1KTo",
        "outputId": "ba443e4c-6e99-454d-8a30-22b1e8670850"
      },
      "execution_count": null,
      "outputs": [
        {
          "output_type": "stream",
          "name": "stdout",
          "text": [
            " * Serving Flask app \"__main__\" (lazy loading)\n",
            " * Environment: production\n",
            "\u001b[31m   WARNING: This is a development server. Do not use it in a production deployment.\u001b[0m\n",
            "\u001b[2m   Use a production WSGI server instead.\u001b[0m\n",
            " * Debug mode: off\n"
          ]
        },
        {
          "output_type": "stream",
          "name": "stderr",
          "text": [
            " * Running on http://127.0.0.1:5000/ (Press CTRL+C to quit)\n"
          ]
        },
        {
          "output_type": "stream",
          "name": "stdout",
          "text": [
            " * Running on http://5857-35-186-174-7.ngrok.io\n",
            " * Traffic stats available on http://127.0.0.1:4040\n"
          ]
        },
        {
          "output_type": "stream",
          "name": "stderr",
          "text": [
            "/usr/local/lib/python3.7/dist-packages/sklearn/base.py:451: UserWarning: X does not have valid feature names, but LinearRegression was fitted with feature names\n",
            "  \"X does not have valid feature names, but\"\n",
            "127.0.0.1 - - [12/Jun/2022 21:54:37] \"\u001b[37mPOST //linreg/ HTTP/1.1\u001b[0m\" 200 -\n"
          ]
        }
      ]
    },
    {
      "cell_type": "markdown",
      "source": [
        "Now that we used the POST method, we can't run it directly in the URL. Now, to test our API, we have to use another interface, such as postman:\n",
        "\n",
        "https://web.postman.co/"
      ],
      "metadata": {
        "id": "c9wMGOrY4OJ7"
      }
    },
    {
      "cell_type": "markdown",
      "source": [
        "## Using a pre-built model\n",
        "\n",
        "Note that, here, we have built our model in the same code as we developed the API. However, if our model fitting is too expensive, it might make us unable to develop a functioning API. \n",
        "\n",
        "We can actually create a model in a separate file, and then we *serialize* the model so we can later import it in other instance of our code. To serialize our model, we can use the pickle library."
      ],
      "metadata": {
        "id": "fUGOQ_7xAtjV"
      }
    },
    {
      "cell_type": "code",
      "source": [
        "import pickle"
      ],
      "metadata": {
        "id": "a8XNjjry3xn4"
      },
      "execution_count": null,
      "outputs": []
    },
    {
      "cell_type": "markdown",
      "source": [
        "Now, let's create our model again:"
      ],
      "metadata": {
        "id": "E2X9lHblBqgc"
      }
    },
    {
      "cell_type": "code",
      "source": [
        "prices = pd.read_csv('casas.csv')\n",
        "X = prices.drop('preco', axis = 1)\n",
        "y = prices.preco.copy( )\n",
        "X_train, X_test, y_train, y_test = train_test_split(X, y, test_size = 0.3, random_state = SEED)\n",
        "model_LinReg = LinearRegression( )\n",
        "model_LinReg.fit( X_train, y_train )"
      ],
      "metadata": {
        "colab": {
          "base_uri": "https://localhost:8080/"
        },
        "id": "vg4Z4VMiBp7f",
        "outputId": "58b6283a-50ac-44cd-cc49-b518a06ebcf3"
      },
      "execution_count": null,
      "outputs": [
        {
          "output_type": "execute_result",
          "data": {
            "text/plain": [
              "LinearRegression()"
            ]
          },
          "metadata": {},
          "execution_count": 38
        }
      ]
    },
    {
      "cell_type": "markdown",
      "source": [
        "Now, we can serialize our model using the dump( ) method:"
      ],
      "metadata": {
        "id": "kk6Pi-r-BuU1"
      }
    },
    {
      "cell_type": "code",
      "source": [
        "pickle.dump(model_LinReg, open('model_LinReg.sav', 'wb'))"
      ],
      "metadata": {
        "id": "IlP0rJmjBtQb"
      },
      "execution_count": null,
      "outputs": []
    },
    {
      "cell_type": "markdown",
      "source": [
        "Nice! Now, we can just read our serialized model in our API:"
      ],
      "metadata": {
        "id": "K0XnWhTQCBwO"
      }
    },
    {
      "cell_type": "code",
      "source": [
        "my_first_app = Flask(__name__)\n",
        "run_with_ngrok(my_first_app)\n",
        "\n",
        "model_LinReg = pickle.load(open('model_LinReg.sav', 'rb'))\n",
        "\n",
        "X_cols = ['tamanho', 'ano', 'garagem']\n",
        "\n",
        "port = 5000\n",
        "auth_token = '2ATxMOi0B3lpLciSMzBb9eOAejh_7uTTU7DVWwQH18eA3RnkQ'\n",
        "ngrok.set_auth_token(auth_token)\n",
        "public_url = ngrok.connect(port).public_url\n",
        "\n",
        "@my_first_app.route('/')\n",
        "def home( ):\n",
        "  return \"My first API.\"\n",
        "\n",
        "@my_first_app.route('/sentiment/<text>')\n",
        "def sentiment(text):\n",
        "  tb_pt = TextBlob(text)\n",
        "  tb_en = tb_pt.translate(from_lang = 'pt', to = 'en')\n",
        "  pol = tb_en.polarity\n",
        "  return \"polarity: {}\".format(pol)\n",
        "\n",
        "@my_first_app.route('/linreg/', methods  = ['POST'])    # Now, we are using the method POST to receive new entries\n",
        "def linreg( ):\n",
        "  x_pred = request.get_json( )\n",
        "  input = [x_pred[col] for col in X_cols]\n",
        "  y_pred = model_LinReg.predict([input])[0]\n",
        "  return jsonify(price = y_pred)\n",
        "\n",
        "my_first_app.run( )"
      ],
      "metadata": {
        "colab": {
          "base_uri": "https://localhost:8080/"
        },
        "id": "XEzumJlLB1pI",
        "outputId": "a7914737-68c0-40e7-b2b4-7385fa8c8cc6"
      },
      "execution_count": null,
      "outputs": [
        {
          "output_type": "stream",
          "name": "stdout",
          "text": [
            " * Serving Flask app \"__main__\" (lazy loading)\n",
            " * Environment: production\n",
            "\u001b[31m   WARNING: This is a development server. Do not use it in a production deployment.\u001b[0m\n",
            "\u001b[2m   Use a production WSGI server instead.\u001b[0m\n",
            " * Debug mode: off\n"
          ]
        },
        {
          "output_type": "stream",
          "name": "stderr",
          "text": [
            " * Running on http://127.0.0.1:5000/ (Press CTRL+C to quit)\n"
          ]
        },
        {
          "output_type": "stream",
          "name": "stdout",
          "text": [
            " * Running on http://c82d-35-186-174-7.ngrok.io\n",
            " * Traffic stats available on http://127.0.0.1:4040\n"
          ]
        },
        {
          "output_type": "stream",
          "name": "stderr",
          "text": [
            "127.0.0.1 - - [12/Jun/2022 22:29:33] \"\u001b[37mGET / HTTP/1.1\u001b[0m\" 200 -\n",
            "127.0.0.1 - - [12/Jun/2022 22:29:34] \"\u001b[33mGET /favicon.ico HTTP/1.1\u001b[0m\" 404 -\n",
            "127.0.0.1 - - [12/Jun/2022 22:29:35] \"\u001b[37mGET / HTTP/1.1\u001b[0m\" 200 -\n",
            "/usr/local/lib/python3.7/dist-packages/sklearn/base.py:451: UserWarning: X does not have valid feature names, but LinearRegression was fitted with feature names\n",
            "  \"X does not have valid feature names, but\"\n",
            "127.0.0.1 - - [12/Jun/2022 22:29:43] \"\u001b[37mPOST /linreg/ HTTP/1.1\u001b[0m\" 200 -\n"
          ]
        }
      ]
    },
    {
      "cell_type": "markdown",
      "source": [
        "Nice! Everything worked out, even though we now just imported the serialized model instead of building it from scratch!\n",
        "\n",
        "Now, just for learning purposes, let's introduce a basic authentication procedure:"
      ],
      "metadata": {
        "id": "uBUPXYdwCZcV"
      }
    },
    {
      "cell_type": "code",
      "source": [
        "!pip install flask-basicauth"
      ],
      "metadata": {
        "colab": {
          "base_uri": "https://localhost:8080/"
        },
        "id": "8CWWphJkCSfu",
        "outputId": "e5a4de48-46fa-4f8c-9fd4-5b752d429919"
      },
      "execution_count": null,
      "outputs": [
        {
          "output_type": "stream",
          "name": "stdout",
          "text": [
            "Looking in indexes: https://pypi.org/simple, https://us-python.pkg.dev/colab-wheels/public/simple/\n",
            "Collecting flask-basicauth\n",
            "  Downloading Flask-BasicAuth-0.2.0.tar.gz (16 kB)\n",
            "Requirement already satisfied: Flask in /usr/local/lib/python3.7/dist-packages (from flask-basicauth) (1.1.4)\n",
            "Requirement already satisfied: itsdangerous<2.0,>=0.24 in /usr/local/lib/python3.7/dist-packages (from Flask->flask-basicauth) (1.1.0)\n",
            "Requirement already satisfied: Werkzeug<2.0,>=0.15 in /usr/local/lib/python3.7/dist-packages (from Flask->flask-basicauth) (1.0.1)\n",
            "Requirement already satisfied: click<8.0,>=5.1 in /usr/local/lib/python3.7/dist-packages (from Flask->flask-basicauth) (7.1.2)\n",
            "Requirement already satisfied: Jinja2<3.0,>=2.10.1 in /usr/local/lib/python3.7/dist-packages (from Flask->flask-basicauth) (2.11.3)\n",
            "Requirement already satisfied: MarkupSafe>=0.23 in /usr/local/lib/python3.7/dist-packages (from Jinja2<3.0,>=2.10.1->Flask->flask-basicauth) (2.0.1)\n",
            "Building wheels for collected packages: flask-basicauth\n",
            "  Building wheel for flask-basicauth (setup.py) ... \u001b[?25l\u001b[?25hdone\n",
            "  Created wheel for flask-basicauth: filename=Flask_BasicAuth-0.2.0-py3-none-any.whl size=4243 sha256=97cb3c2b779008318bfcc9399672a815fdd65a28e6d9db31fd392cdb5c818592\n",
            "  Stored in directory: /root/.cache/pip/wheels/d5/08/a3/19638d90fdf01258ede772449bcbde424839459749acb977b6\n",
            "Successfully built flask-basicauth\n",
            "Installing collected packages: flask-basicauth\n",
            "Successfully installed flask-basicauth-0.2.0\n"
          ]
        }
      ]
    },
    {
      "cell_type": "markdown",
      "source": [
        "Now, we can just introduce some lines of code to make a basic authentication:"
      ],
      "metadata": {
        "id": "G9eq9sI_EJ4t"
      }
    },
    {
      "cell_type": "code",
      "source": [
        "from flask_basicauth import BasicAuth\n",
        "\n",
        "my_first_app = Flask(__name__)\n",
        "run_with_ngrok(my_first_app)\n",
        "my_first_app.config['BASIC_AUTH_USERNAME'] = 'Leo'\n",
        "my_first_app.config['BASIC_AUTH_PASSWORD'] = 'pswd'\n",
        "\n",
        "model_LinReg = pickle.load(open('model_LinReg.sav', 'rb'))\n",
        "\n",
        "X_cols = ['tamanho', 'ano', 'garagem']\n",
        "\n",
        "basic_auth = BasicAuth(my_first_app)\n",
        "\n",
        "port = 5000\n",
        "auth_token = '2ATxMOi0B3lpLciSMzBb9eOAejh_7uTTU7DVWwQH18eA3RnkQ'\n",
        "ngrok.set_auth_token(auth_token)\n",
        "public_url = ngrok.connect(port).public_url\n",
        "\n",
        "@my_first_app.route('/')\n",
        "def home( ):\n",
        "  return \"My first API.\"\n",
        "\n",
        "@my_first_app.route('/sentiment/<text>')\n",
        "@basic_auth.required\n",
        "def sentiment(text):\n",
        "  tb_pt = TextBlob(text)\n",
        "  tb_en = tb_pt.translate(from_lang = 'pt', to = 'en')\n",
        "  pol = tb_en.polarity\n",
        "  return \"polarity: {}\".format(pol)\n",
        "\n",
        "@my_first_app.route('/linreg/', methods  = ['POST'])    # Now, we are using the method POST to receive new entries\n",
        "def linreg( ):\n",
        "  x_pred = request.get_json( )\n",
        "  input = [x_pred[col] for col in X_cols]\n",
        "  y_pred = model_LinReg.predict([input])[0]\n",
        "  return jsonify(price = y_pred)\n",
        "\n",
        "my_first_app.run( )"
      ],
      "metadata": {
        "colab": {
          "base_uri": "https://localhost:8080/"
        },
        "id": "hk-mqXRtEHWu",
        "outputId": "d97d5436-35fc-40fe-ed42-8671eb7946b7"
      },
      "execution_count": null,
      "outputs": [
        {
          "output_type": "stream",
          "name": "stdout",
          "text": [
            " * Serving Flask app \"__main__\" (lazy loading)\n",
            " * Environment: production\n",
            "\u001b[31m   WARNING: This is a development server. Do not use it in a production deployment.\u001b[0m\n",
            "\u001b[2m   Use a production WSGI server instead.\u001b[0m\n",
            " * Debug mode: off\n"
          ]
        },
        {
          "output_type": "stream",
          "name": "stderr",
          "text": [
            " * Running on http://127.0.0.1:5000/ (Press CTRL+C to quit)\n"
          ]
        },
        {
          "output_type": "stream",
          "name": "stdout",
          "text": [
            " * Running on http://1e92-35-186-174-7.ngrok.io\n",
            " * Traffic stats available on http://127.0.0.1:4040\n"
          ]
        },
        {
          "output_type": "stream",
          "name": "stderr",
          "text": [
            "127.0.0.1 - - [12/Jun/2022 22:39:57] \"\u001b[37mGET / HTTP/1.1\u001b[0m\" 200 -\n",
            "127.0.0.1 - - [12/Jun/2022 22:39:58] \"\u001b[33mGET /favicon.ico HTTP/1.1\u001b[0m\" 404 -\n",
            "127.0.0.1 - - [12/Jun/2022 22:39:59] \"\u001b[37mGET / HTTP/1.1\u001b[0m\" 200 -\n",
            "127.0.0.1 - - [12/Jun/2022 22:40:08] \"\u001b[31m\u001b[1mGET /sentiment/Python%20é%20ótimo HTTP/1.1\u001b[0m\" 401 -\n",
            "127.0.0.1 - - [12/Jun/2022 22:40:15] \"\u001b[31m\u001b[1mGET /sentiment/Python%20é%20ótimo HTTP/1.1\u001b[0m\" 401 -\n",
            "127.0.0.1 - - [12/Jun/2022 22:40:17] \"\u001b[37mGET /sentiment/Python%20é%20ótimo HTTP/1.1\u001b[0m\" 200 -\n",
            "127.0.0.1 - - [12/Jun/2022 22:40:18] \"\u001b[33mGET /favicon.ico HTTP/1.1\u001b[0m\" 404 -\n"
          ]
        }
      ]
    },
    {
      "cell_type": "markdown",
      "source": [
        "Now, our sentiment analysis requires a basic authentication before being run!"
      ],
      "metadata": {
        "id": "m6NQ5LsGE1Pg"
      }
    },
    {
      "cell_type": "markdown",
      "source": [
        "# Testing requests using Python\n",
        "\n",
        "We can use requests to test our APIs using Python. For instance, we can do:"
      ],
      "metadata": {
        "id": "Yj7WBxAYJXue"
      }
    },
    {
      "cell_type": "code",
      "source": [
        "import requests\n",
        "\n",
        "url = 'http://c82d-35-186-174-7.ngrok.io/linreg/'\n",
        "json_request = {\"tamanho\" : 120, \"ano\" : 2001, \"garagem\" : 2}\n",
        "\n",
        "response = requests.post(url, json = json_request)"
      ],
      "metadata": {
        "id": "0ktxxlHnEtW7"
      },
      "execution_count": null,
      "outputs": []
    },
    {
      "cell_type": "markdown",
      "source": [
        "Then, we can get the result from this response using:"
      ],
      "metadata": {
        "id": "3XawTQdXKENn"
      }
    },
    {
      "cell_type": "code",
      "source": [
        "response.json( )"
      ],
      "metadata": {
        "id": "52WUPisiKHKs"
      },
      "execution_count": null,
      "outputs": []
    },
    {
      "cell_type": "markdown",
      "source": [
        "If we have a basic authentication, we can use:"
      ],
      "metadata": {
        "id": "VvDmND7HKN0Y"
      }
    },
    {
      "cell_type": "code",
      "source": [
        "url = 'http://c82d-35-186-174-7.ngrok.io/sentiment/Python é ótimo'\n",
        "\n",
        "auth = requests.auth.HTTPBasicAuth('Leo', 'pswd')\n",
        "\n",
        "response = requests.get(url, auth = auth)"
      ],
      "metadata": {
        "id": "kItQptioKP93"
      },
      "execution_count": null,
      "outputs": []
    }
  ]
}