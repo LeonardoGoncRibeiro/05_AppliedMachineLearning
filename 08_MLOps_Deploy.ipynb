{
  "cells": [
    {
      "cell_type": "markdown",
      "metadata": {
        "id": "view-in-github",
        "colab_type": "text"
      },
      "source": [
        "<a href=\"https://colab.research.google.com/github/LeonardoGoncRibeiro/05_AppliedMachineLearning/blob/main/08_MLOps_Deploy.ipynb\" target=\"_parent\"><img src=\"https://colab.research.google.com/assets/colab-badge.svg\" alt=\"Open In Colab\"/></a>"
      ]
    },
    {
      "cell_type": "markdown",
      "metadata": {
        "id": "z8ZA-P7Lq2kL"
      },
      "source": [
        "# MLOps: Model deploy\n",
        "\n",
        "In this course, we will learn how to deploy our model in a way that other people can have easy access to its predictions. We will understand how to create a server for our model, and how to use App Engine. Also, we will see how to combine our app with Docker, and how to do automatic deploy with GitHub Actions.\n",
        "\n",
        "Note that, in this course, this notebook serves more as a \"class notes\" than a Python console, since very few things we be run in Python. Also, this is a continuation of the previous course, which showed how to develop a local API for our model. \n",
        "\n",
        "So, let's get the API we built in the previous course:"
      ]
    },
    {
      "cell_type": "code",
      "execution_count": null,
      "metadata": {
        "colab": {
          "base_uri": "https://localhost:8080/"
        },
        "id": "LV5esYKcrymO",
        "outputId": "9713ab58-73d8-4aa8-c232-99dbc4596c6d"
      },
      "outputs": [
        {
          "name": "stdout",
          "output_type": "stream",
          "text": [
            "Looking in indexes: https://pypi.org/simple, https://us-python.pkg.dev/colab-wheels/public/simple/\n",
            "Collecting flask-ngrok\n",
            "  Downloading flask_ngrok-0.0.25-py3-none-any.whl (3.1 kB)\n",
            "Requirement already satisfied: Flask>=0.8 in /usr/local/lib/python3.7/dist-packages (from flask-ngrok) (1.1.4)\n",
            "Requirement already satisfied: requests in /usr/local/lib/python3.7/dist-packages (from flask-ngrok) (2.23.0)\n",
            "Requirement already satisfied: itsdangerous<2.0,>=0.24 in /usr/local/lib/python3.7/dist-packages (from Flask>=0.8->flask-ngrok) (1.1.0)\n",
            "Requirement already satisfied: Jinja2<3.0,>=2.10.1 in /usr/local/lib/python3.7/dist-packages (from Flask>=0.8->flask-ngrok) (2.11.3)\n",
            "Requirement already satisfied: Werkzeug<2.0,>=0.15 in /usr/local/lib/python3.7/dist-packages (from Flask>=0.8->flask-ngrok) (1.0.1)\n",
            "Requirement already satisfied: click<8.0,>=5.1 in /usr/local/lib/python3.7/dist-packages (from Flask>=0.8->flask-ngrok) (7.1.2)\n",
            "Requirement already satisfied: MarkupSafe>=0.23 in /usr/local/lib/python3.7/dist-packages (from Jinja2<3.0,>=2.10.1->Flask>=0.8->flask-ngrok) (2.0.1)\n",
            "Requirement already satisfied: urllib3!=1.25.0,!=1.25.1,<1.26,>=1.21.1 in /usr/local/lib/python3.7/dist-packages (from requests->flask-ngrok) (1.24.3)\n",
            "Requirement already satisfied: idna<3,>=2.5 in /usr/local/lib/python3.7/dist-packages (from requests->flask-ngrok) (2.10)\n",
            "Requirement already satisfied: certifi>=2017.4.17 in /usr/local/lib/python3.7/dist-packages (from requests->flask-ngrok) (2022.5.18.1)\n",
            "Requirement already satisfied: chardet<4,>=3.0.2 in /usr/local/lib/python3.7/dist-packages (from requests->flask-ngrok) (3.0.4)\n",
            "Installing collected packages: flask-ngrok\n",
            "Successfully installed flask-ngrok-0.0.25\n"
          ]
        }
      ],
      "source": [
        "!pip install flask-ngrok"
      ]
    },
    {
      "cell_type": "code",
      "execution_count": null,
      "metadata": {
        "colab": {
          "base_uri": "https://localhost:8080/"
        },
        "id": "Nxspm3IzsG80",
        "outputId": "e8e73c01-0462-4dc5-f97d-49bbd096761a"
      },
      "outputs": [
        {
          "name": "stdout",
          "output_type": "stream",
          "text": [
            "Looking in indexes: https://pypi.org/simple, https://us-python.pkg.dev/colab-wheels/public/simple/\n",
            "Collecting pyngrok\n",
            "  Downloading pyngrok-5.1.0.tar.gz (745 kB)\n",
            "\u001b[K     |████████████████████████████████| 745 kB 14.4 MB/s \n",
            "\u001b[?25hRequirement already satisfied: PyYAML in /usr/local/lib/python3.7/dist-packages (from pyngrok) (3.13)\n",
            "Building wheels for collected packages: pyngrok\n",
            "  Building wheel for pyngrok (setup.py) ... \u001b[?25l\u001b[?25hdone\n",
            "  Created wheel for pyngrok: filename=pyngrok-5.1.0-py3-none-any.whl size=19007 sha256=d99666bcfdced67d190bc25e2fc71699f927b05a05697a792b34eb07c1bb0109\n",
            "  Stored in directory: /root/.cache/pip/wheels/bf/e6/af/ccf6598ecefecd44104069371795cb9b3afbcd16987f6ccfb3\n",
            "Successfully built pyngrok\n",
            "Installing collected packages: pyngrok\n",
            "Successfully installed pyngrok-5.1.0\n"
          ]
        }
      ],
      "source": [
        "!pip install pyngrok"
      ]
    },
    {
      "cell_type": "code",
      "source": [
        "!pip install flask-basicauth"
      ],
      "metadata": {
        "colab": {
          "base_uri": "https://localhost:8080/"
        },
        "id": "m4XsFCx4IxIV",
        "outputId": "5f9a4854-c012-494c-da72-ca054ba3e7c3"
      },
      "execution_count": 2,
      "outputs": [
        {
          "output_type": "stream",
          "name": "stdout",
          "text": [
            "Looking in indexes: https://pypi.org/simple, https://us-python.pkg.dev/colab-wheels/public/simple/\n",
            "Collecting flask-basicauth\n",
            "  Downloading Flask-BasicAuth-0.2.0.tar.gz (16 kB)\n",
            "Requirement already satisfied: Flask in /usr/local/lib/python3.7/dist-packages (from flask-basicauth) (1.1.4)\n",
            "Requirement already satisfied: Werkzeug<2.0,>=0.15 in /usr/local/lib/python3.7/dist-packages (from Flask->flask-basicauth) (1.0.1)\n",
            "Requirement already satisfied: itsdangerous<2.0,>=0.24 in /usr/local/lib/python3.7/dist-packages (from Flask->flask-basicauth) (1.1.0)\n",
            "Requirement already satisfied: click<8.0,>=5.1 in /usr/local/lib/python3.7/dist-packages (from Flask->flask-basicauth) (7.1.2)\n",
            "Requirement already satisfied: Jinja2<3.0,>=2.10.1 in /usr/local/lib/python3.7/dist-packages (from Flask->flask-basicauth) (2.11.3)\n",
            "Requirement already satisfied: MarkupSafe>=0.23 in /usr/local/lib/python3.7/dist-packages (from Jinja2<3.0,>=2.10.1->Flask->flask-basicauth) (2.0.1)\n",
            "Building wheels for collected packages: flask-basicauth\n",
            "  Building wheel for flask-basicauth (setup.py) ... \u001b[?25l\u001b[?25hdone\n",
            "  Created wheel for flask-basicauth: filename=Flask_BasicAuth-0.2.0-py3-none-any.whl size=4243 sha256=374ae329f8b15685abfe3ac5bf702e796b620d312be3476f2ea0ac116a59e020\n",
            "  Stored in directory: /root/.cache/pip/wheels/d5/08/a3/19638d90fdf01258ede772449bcbde424839459749acb977b6\n",
            "Successfully built flask-basicauth\n",
            "Installing collected packages: flask-basicauth\n",
            "Successfully installed flask-basicauth-0.2.0\n"
          ]
        }
      ]
    },
    {
      "cell_type": "code",
      "source": [
        "import pandas as pd\n",
        "\n",
        "from flask import Flask\n",
        "from flask_ngrok import run_with_ngrok\n",
        "from pyngrok import ngrok\n",
        "from flask_basicauth import BasicAuth\n",
        "\n",
        "import pickle\n",
        "\n",
        "my_first_app = Flask(__name__)\n",
        "run_with_ngrok(my_first_app)\n",
        "\n",
        "model_LinReg = pickle.load(open('model_LinReg.sav', 'rb'))\n",
        "\n",
        "X_cols = ['tamanho', 'ano', 'garagem']\n",
        "\n",
        "port = 5000\n",
        "auth_token = '2ATxMOi0B3lpLciSMzBb9eOAejh_7uTTU7DVWwQH18eA3RnkQ'\n",
        "ngrok.set_auth_token(auth_token)\n",
        "public_url = ngrok.connect(port).public_url\n",
        "\n",
        "my_first_app.config['BASIC_AUTH_USERNAME'] = 'Leo'\n",
        "my_first_app.config['BASIC_AUTH_PASSWORD'] = 'pswd'\n",
        "basic_auth = BasicAuth(my_first_app)\n",
        "\n",
        "@my_first_app.route('/')\n",
        "def home( ):\n",
        "  return \"My first API.\"\n",
        "\n",
        "@my_first_app.route('/sentiment/<text>')\n",
        "@basic_auth.required\n",
        "def sentiment(text):\n",
        "  tb_pt = TextBlob(text)\n",
        "  tb_en = tb_pt.translate(from_lang = 'pt', to = 'en')\n",
        "  pol = tb_en.polarity\n",
        "  return \"polarity: {}\".format(pol)\n",
        "\n",
        "@my_first_app.route('/linreg/', methods  = ['POST'])    # Now, we are using the method POST to receive new entries\n",
        "def linreg( ):\n",
        "  x_pred = request.get_json( )\n",
        "  input = [x_pred[col] for col in X_cols]\n",
        "  y_pred = model_LinReg.predict([input])[0]\n",
        "  return jsonify(price = y_pred)\n",
        "\n",
        "my_first_app.run( )"
      ],
      "metadata": {
        "id": "3Hm_iTsvJfpN"
      },
      "execution_count": null,
      "outputs": []
    },
    {
      "cell_type": "markdown",
      "source": [
        "## Project templates\n",
        "\n",
        "To create our project, we can use a template created by other people. For that end, we can use the cookie cutter package:\n",
        "\n",
        "https://cookiecutter.readthedocs.io/en/stable/"
      ],
      "metadata": {
        "id": "tn6Lh52PCzpd"
      }
    },
    {
      "cell_type": "code",
      "execution_count": 1,
      "metadata": {
        "id": "zZu6NKh_CebU",
        "colab": {
          "base_uri": "https://localhost:8080/"
        },
        "outputId": "4c37ee08-6a40-4a45-cd09-5bcd2b995fd0"
      },
      "outputs": [
        {
          "output_type": "stream",
          "name": "stdout",
          "text": [
            "Looking in indexes: https://pypi.org/simple, https://us-python.pkg.dev/colab-wheels/public/simple/\n",
            "Collecting cookiecutter\n",
            "  Downloading cookiecutter-2.1.1-py2.py3-none-any.whl (36 kB)\n",
            "Requirement already satisfied: requests>=2.23.0 in /usr/local/lib/python3.7/dist-packages (from cookiecutter) (2.23.0)\n",
            "Requirement already satisfied: Jinja2<4.0.0,>=2.7 in /usr/local/lib/python3.7/dist-packages (from cookiecutter) (2.11.3)\n",
            "Requirement already satisfied: python-slugify>=4.0.0 in /usr/local/lib/python3.7/dist-packages (from cookiecutter) (6.1.2)\n",
            "Collecting pyyaml>=5.3.1\n",
            "  Downloading PyYAML-6.0-cp37-cp37m-manylinux_2_5_x86_64.manylinux1_x86_64.manylinux_2_12_x86_64.manylinux2010_x86_64.whl (596 kB)\n",
            "\u001b[K     |████████████████████████████████| 596 kB 20.3 MB/s \n",
            "\u001b[?25hCollecting jinja2-time>=0.2.0\n",
            "  Downloading jinja2_time-0.2.0-py2.py3-none-any.whl (6.4 kB)\n",
            "Collecting binaryornot>=0.4.4\n",
            "  Downloading binaryornot-0.4.4-py2.py3-none-any.whl (9.0 kB)\n",
            "Requirement already satisfied: click<9.0.0,>=7.0 in /usr/local/lib/python3.7/dist-packages (from cookiecutter) (7.1.2)\n",
            "Requirement already satisfied: chardet>=3.0.2 in /usr/local/lib/python3.7/dist-packages (from binaryornot>=0.4.4->cookiecutter) (3.0.4)\n",
            "Requirement already satisfied: MarkupSafe>=0.23 in /usr/local/lib/python3.7/dist-packages (from Jinja2<4.0.0,>=2.7->cookiecutter) (2.0.1)\n",
            "Collecting arrow\n",
            "  Downloading arrow-1.2.2-py3-none-any.whl (64 kB)\n",
            "\u001b[K     |████████████████████████████████| 64 kB 2.0 MB/s \n",
            "\u001b[?25hRequirement already satisfied: text-unidecode>=1.3 in /usr/local/lib/python3.7/dist-packages (from python-slugify>=4.0.0->cookiecutter) (1.3)\n",
            "Requirement already satisfied: certifi>=2017.4.17 in /usr/local/lib/python3.7/dist-packages (from requests>=2.23.0->cookiecutter) (2022.5.18.1)\n",
            "Requirement already satisfied: idna<3,>=2.5 in /usr/local/lib/python3.7/dist-packages (from requests>=2.23.0->cookiecutter) (2.10)\n",
            "Requirement already satisfied: urllib3!=1.25.0,!=1.25.1,<1.26,>=1.21.1 in /usr/local/lib/python3.7/dist-packages (from requests>=2.23.0->cookiecutter) (1.24.3)\n",
            "Requirement already satisfied: python-dateutil>=2.7.0 in /usr/local/lib/python3.7/dist-packages (from arrow->jinja2-time>=0.2.0->cookiecutter) (2.8.2)\n",
            "Requirement already satisfied: typing-extensions in /usr/local/lib/python3.7/dist-packages (from arrow->jinja2-time>=0.2.0->cookiecutter) (4.2.0)\n",
            "Requirement already satisfied: six>=1.5 in /usr/local/lib/python3.7/dist-packages (from python-dateutil>=2.7.0->arrow->jinja2-time>=0.2.0->cookiecutter) (1.15.0)\n",
            "Installing collected packages: arrow, pyyaml, jinja2-time, binaryornot, cookiecutter\n",
            "  Attempting uninstall: pyyaml\n",
            "    Found existing installation: PyYAML 3.13\n",
            "    Uninstalling PyYAML-3.13:\n",
            "      Successfully uninstalled PyYAML-3.13\n",
            "Successfully installed arrow-1.2.2 binaryornot-0.4.4 cookiecutter-2.1.1 jinja2-time-0.2.0 pyyaml-6.0\n"
          ]
        }
      ],
      "source": [
        "!pip install cookiecutter"
      ]
    },
    {
      "cell_type": "markdown",
      "source": [
        "A very well-known template from the community comes from the driven data github:\n",
        "\n",
        "https://drivendata.github.io/cookiecutter-data-science/\n",
        "\n",
        "To start a new project via command line, we can do:\n",
        "\n",
        "``` cookiecutter https://github.com/drivendata/cookiecutter-data-science ```\n",
        "\n",
        "After we run this command in the command line, we will get asked:\n",
        "\n",
        "*   The project name.\n",
        "*   The project repository.\n",
        "*   The author's name.\n",
        "*   A description of the project.\n",
        "*   And others.\n",
        "\n",
        "This will create a template project for us, where we can start to work inside. Then, we can do some modifications to include our API in the template. Some modifications we may need to do:\n",
        "\n",
        "*   Copy the .py files to the *notebooks* folder.\n",
        "*   Copy the data files to the *data* folder, and include it in the adequate folder.\n",
        "*   Copy the API to the *src* folder, in a new folder named *app*.\n",
        "*   Copy your serialized model to the *models* folder.\n",
        "*   Copy the requirements.txt file (which can be created using ```pip freeze > requirements.txt```\n",
        "\n",
        "After we make the modifications to our template, we can create a GitHub repository.\n",
        "\n",
        "\n",
        "\n",
        "\n",
        "\n",
        "\n"
      ],
      "metadata": {
        "id": "5v0js3NYDOjm"
      }
    },
    {
      "cell_type": "markdown",
      "source": [
        "## Making small modifications on our code\n",
        "\n",
        "So, before uploading our API in the GitHub repository, it is important that we make some small modifications:\n",
        "\n",
        "*   The authentication user and password should not show in the code. Instead, we should use environmental variables to handle these.\n",
        "*   We should get our serialized model from the correct folder.\n",
        "\n"
      ],
      "metadata": {
        "id": "EgobY8olGDVu"
      }
    },
    {
      "cell_type": "code",
      "source": [
        "my_first_app = Flask(__name__)\n",
        "run_with_ngrok(my_first_app)\n",
        "\n",
        "model_LinReg = pickle.load(open('../../models/model_LinReg.sav', 'rb'))            # Changing the folder for the model file\n",
        "\n",
        "X_cols = ['tamanho', 'ano', 'garagem']\n",
        "\n",
        "port = 5000\n",
        "auth_token = '2ATxMOi0B3lpLciSMzBb9eOAejh_7uTTU7DVWwQH18eA3RnkQ'\n",
        "ngrok.set_auth_token(auth_token)\n",
        "public_url = ngrok.connect(port).public_url\n",
        "\n",
        "my_first_app.config['BASIC_AUTH_USERNAME'] = os.environ.get('BASIC_AUTH_USERNAME') # Getting the authentication via environmental variables\n",
        "my_first_app.config['BASIC_AUTH_PASSWORD'] = os.environ.get('BASIC_AUTH_PASSWORD') # Getting the authentication via environmental variables\n",
        "basic_auth = BasicAuth(my_first_app)\n",
        "\n",
        "@my_first_app.route('/')\n",
        "def home( ):\n",
        "  return \"My first API.\"\n",
        "\n",
        "@my_first_app.route('/sentiment/<text>')\n",
        "@basic_auth.required\n",
        "def sentiment(text):\n",
        "  tb_pt = TextBlob(text)\n",
        "  tb_en = tb_pt.translate(from_lang = 'pt', to = 'en')\n",
        "  pol = tb_en.polarity\n",
        "  return \"polarity: {}\".format(pol)\n",
        "\n",
        "@my_first_app.route('/linreg/', methods  = ['POST'])    \n",
        "def linreg( ):\n",
        "  x_pred = request.get_json( )\n",
        "  input = [x_pred[col] for col in X_cols]\n",
        "  y_pred = model_LinReg.predict([input])[0]\n",
        "  return jsonify(price = y_pred)\n",
        "\n",
        "my_first_app.run( host = '0.0.0.0' )                                               # Changing the host"
      ],
      "metadata": {
        "id": "5PQb4zcDDDiA"
      },
      "execution_count": null,
      "outputs": []
    },
    {
      "cell_type": "markdown",
      "source": [
        "## Creating a virtual environment and running our API\n",
        "\n",
        "To make sure that the libraries employed in the model deployment are the same as the ones used by the end-user, we should always use virtual environments to deploy applications. We can do this using virtualenv. From the command line, we can create a virtual environment using:"
      ],
      "metadata": {
        "id": "inLST7g1KNlA"
      }
    },
    {
      "cell_type": "markdown",
      "source": [
        "``` virtualenv new_environment```\n",
        "\n",
        "where we create a new virtual environment named *new_environment*. To activate our virtual environment:\n",
        "\n",
        "``` source venv/bin/activate ```\n",
        "\n",
        "Now, we should install our requirements on the virtual environment:\n",
        "\n",
        "``` pip install -r requirements.txt ```"
      ],
      "metadata": {
        "id": "dVlGUaFWKg61"
      }
    },
    {
      "cell_type": "markdown",
      "source": [
        "Then, we can create our environmental variables:\n",
        "\n",
        "``` export BASIC_AUTH_USERNAME = Leo ```\n",
        "\n",
        "``` export BASIC_AUTH_PASSWORD = pswd ```"
      ],
      "metadata": {
        "id": "cU7Zn7ZPK_Cl"
      }
    },
    {
      "cell_type": "markdown",
      "source": [
        "Nice! Now, we can run our application from our virtual environment doing:\n",
        "\n",
        "``` cd src/app/ ```\n",
        "\n",
        "``` python main.py ```"
      ],
      "metadata": {
        "id": "M8r9eL1iLbIm"
      }
    },
    {
      "cell_type": "markdown",
      "source": [
        "## Uploading our repository to GitHub\n",
        "\n",
        "So, to upload our repository to GitHub, we can do:\n",
        "\n",
        "``` git init ```\n",
        "\n",
        "``` git add . ```\n",
        "\n",
        "``` git commit -m \"first commit\"```\n",
        "\n",
        "``` git remote add origin (GIT_HUB REPOSITORY LINK) ```\n",
        "\n",
        "``` git push -u origin master ```"
      ],
      "metadata": {
        "id": "Ipg7erS9L_OP"
      }
    },
    {
      "cell_type": "markdown",
      "source": [
        "# Using Google Cloud Platform\n",
        "\n",
        "To be able to use other servers (instead of the local server), we can use the Google Cloud Platform. Using the Google Cloud Platform, we can create a server to rent a machine to keep our application running. \n",
        "\n",
        "To that end, we can go to:\n",
        "\n",
        "> Google Compute Engine - VM Instances - Create\n",
        "\n",
        "Here, we will create a virtual machine to run our API. We can even change the type of machine we are using. The better the machine, the higher the price. We should allow for HTTP and HTTPS traffic, and create our machine."
      ],
      "metadata": {
        "id": "bCywkx7BNaSe"
      }
    },
    {
      "cell_type": "markdown",
      "source": [
        "## Unlocking the port from the virtual machine\n",
        "\n",
        "After we create our VM, we can go to the settings, see network details, network default, and change the firewall rules. We should change the TCP Port to the Port 5000, which is used by our API."
      ],
      "metadata": {
        "id": "2xef-n_YPL54"
      }
    },
    {
      "cell_type": "markdown",
      "source": [
        "## Deploying our application on Compute Engine\n",
        "\n",
        "Now, we just connect to the machine using the SSH button. Now, we should install our app code and our softwares inside our virtual environment. So, we can do:\n",
        "\n",
        "``` sudo apt-get update ```\n",
        "\n",
        "``` sudo apt-get install git-all ```\n",
        "\n",
        "``` git clone (GIT REPOSITORY LINK) ```\n",
        "\n",
        "``` sudo apt-get python3 ```\n",
        "\n",
        "``` pip3 install virtualenv --user ```\n",
        "\n",
        "``` virtualenv venv ```\n",
        "\n",
        "```venv/bin/activate ```\n",
        "\n",
        "``` pip3 install -r requirements.txt ```\n",
        "\n",
        "``` export BASIC_AUTH_USERNAME = Leo ```\n",
        "\n",
        "``` export BASIC_AUTH_PASSWORD = pswd ```\n",
        "\n",
        "And, to run our API, we should just call for the URL:\n",
        "\n",
        "> (Virtual Machine IP):5000\n",
        "\n",
        "Nice! Now, our API can be assessed from any machine, while we keep our virtual machine running (and paying for it)"
      ],
      "metadata": {
        "id": "lpGuaFVpPPr_"
      }
    },
    {
      "cell_type": "markdown",
      "source": [
        "# Serverless application using App Engine\n",
        "\n",
        "We can also create a serverless application using App Engine, where we do not have to worry about managing our server. \n",
        "\n",
        "First, we should creae an App Engine configuration file:\n",
        "\n",
        "```\n",
        "runtime: python\n",
        "env: flex\n",
        "entrypoint: gunicorn -b :$PORT main:app\n",
        "runtime_config:\n",
        "  python_version: 3\n",
        "\n",
        "includes: \n",
        "- env_vars.yaml\n",
        "```\n",
        "\n",
        "The environmental variables can be stated in another file, and this file can be included in the .gitignore file:\n",
        "\n",
        "```\n",
        "env-variables:\n",
        "  BASIC_AUTH_USERNAME: Leo\n",
        "  BASIC_AUTH_PASSWORD: pswd\n",
        "```\n"
      ],
      "metadata": {
        "id": "m-kQokRpQumf"
      }
    },
    {
      "cell_type": "markdown",
      "source": [
        "We should also update our API:"
      ],
      "metadata": {
        "id": "0Y52dWqISv3k"
      }
    },
    {
      "cell_type": "code",
      "source": [
        "my_first_app = Flask(__name__)\n",
        "run_with_ngrok(my_first_app)\n",
        "\n",
        "model_LinReg = pickle.load(open('../../models/model_LinReg.sav', 'rb'))            \n",
        "\n",
        "X_cols = ['tamanho', 'ano', 'garagem']\n",
        "\n",
        "port = 5000\n",
        "auth_token = '2ATxMOi0B3lpLciSMzBb9eOAejh_7uTTU7DVWwQH18eA3RnkQ'\n",
        "ngrok.set_auth_token(auth_token)\n",
        "public_url = ngrok.connect(port).public_url\n",
        "\n",
        "my_first_app.config['BASIC_AUTH_USERNAME'] = os.environ.get('BASIC_AUTH_USERNAME') \n",
        "my_first_app.config['BASIC_AUTH_PASSWORD'] = os.environ.get('BASIC_AUTH_PASSWORD') \n",
        "basic_auth = BasicAuth(my_first_app)\n",
        "\n",
        "@my_first_app.route('/')\n",
        "def home( ):\n",
        "  return \"My first API.\"\n",
        "\n",
        "@my_first_app.route('/sentiment/<text>')\n",
        "@basic_auth.required\n",
        "def sentiment(text):\n",
        "  tb_pt = TextBlob(text)\n",
        "  tb_en = tb_pt.translate(from_lang = 'pt', to = 'en')\n",
        "  pol = tb_en.polarity\n",
        "  return \"polarity: {}\".format(pol)\n",
        "\n",
        "@my_first_app.route('/linreg/', methods  = ['POST'])    \n",
        "def linreg( ):\n",
        "  x_pred = request.get_json( )\n",
        "  input = [x_pred[col] for col in X_cols]\n",
        "  y_pred = model_LinReg.predict([input])[0]\n",
        "  return jsonify(price = y_pred)\n",
        "\n",
        "if __name__ == '__main__':    # Adding this condition to not allow multiple unnecessary runs\n",
        "  my_first_app.run( host = '0.0.0.0' )    "
      ],
      "metadata": {
        "id": "h39wuU4HKggf"
      },
      "execution_count": null,
      "outputs": []
    },
    {
      "cell_type": "markdown",
      "source": [
        "Now, to deploy our API, we can run in the terminal:\n",
        "\n",
        "``` gcloud app deploy ```"
      ],
      "metadata": {
        "id": "aMgwbeAJUWAA"
      }
    },
    {
      "cell_type": "markdown",
      "source": [
        "# Docker containers\n",
        "\n",
        "A container Docker can be downloaded from:\n",
        "\n",
        "> docker.com\n",
        "\n",
        "Basically, we have to install docker and create a file on our template named DockerFile. So, in this DockerFile, we can deploy our application:\n",
        "\n",
        "```\n",
        "FROM python:3.7-slim\n",
        "\n",
        "ARG BASIC_AUTH_USERNAME_ARG\n",
        "ARG BASIC_AUTH_PASSWORD_ARG\n",
        "\n",
        "ENV BASIC_AUTH_USERNAME = $BASIC_AUTH_USERNAME_ARG\n",
        "ENV BASIC_AUTH_PASSWORD = $BASIC_AUTH_PASSWORD_ARG\n",
        "\n",
        "COPY ./requirements.txt /usr/requirements.txt\n",
        "\n",
        "WORKDIR /usr\n",
        "\n",
        "RUN pip3 install -r requirements.txt\n",
        "\n",
        "COPY ./src /usr/src\n",
        "COPY ./models /usr/models\n",
        "\n",
        "ENTRYPOINT [\"python3\"]\n",
        "\n",
        "CMD [\"src/app/main.py\"]\n",
        "```"
      ],
      "metadata": {
        "id": "Tl-_TusTVWap"
      }
    },
    {
      "cell_type": "markdown",
      "source": [
        "Now, to create our docker image, we can run:\n",
        "\n",
        "``` \n",
        "docker build -t ml-api --build-arg BASIC_AUTH_USERNAME_ARG = Leo --build-arg BASIC_AUTH_PASSWORD_ARG = pswd\n",
        "\n",
        "docker run -p 5000:5000 ml-apli\n",
        "```"
      ],
      "metadata": {
        "id": "oz5QMAyvbEVm"
      }
    },
    {
      "cell_type": "markdown",
      "source": [
        "To use a Serverless Docker container, we can use the Cloud Run API on Google Cloud Platform. We should user the Container Registry API. Then, we run in the command line:\n",
        "\n",
        "``` gcloud auth configure-docker ```\n",
        "\n",
        "Then, we can do:\n",
        "\n",
        "``` docker tag (app-name) gcr.io/(project-name)/(docker-image-name) ```"
      ],
      "metadata": {
        "id": "3CCBymdYbqPR"
      }
    },
    {
      "cell_type": "markdown",
      "source": [
        "Now, we can access Cloud Run from GCP, use our service (project-name) and create."
      ],
      "metadata": {
        "id": "ATkQhMkjcjQ1"
      }
    }
  ],
  "metadata": {
    "colab": {
      "name": "08_MLOps_Deploy.ipynb",
      "provenance": [],
      "collapsed_sections": [],
      "authorship_tag": "ABX9TyMVDpbEWrlBFzbM2/5GxLvY",
      "include_colab_link": true
    },
    "kernelspec": {
      "display_name": "Python 3",
      "name": "python3"
    },
    "language_info": {
      "name": "python"
    }
  },
  "nbformat": 4,
  "nbformat_minor": 0
}